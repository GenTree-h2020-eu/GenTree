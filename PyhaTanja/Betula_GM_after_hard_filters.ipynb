{
 "cells": [
  {
   "cell_type": "code",
   "execution_count": 1,
   "metadata": {},
   "outputs": [
    {
     "name": "stdout",
     "output_type": "stream",
     "text": [
      "scikit-allel 1.2.1\n"
     ]
    }
   ],
   "source": [
    "import numpy as np\n",
    "import scipy\n",
    "import pandas\n",
    "import matplotlib as mpl\n",
    "import matplotlib.pyplot as plt\n",
    "%matplotlib inline\n",
    "import seaborn as sns\n",
    "sns.set_style('white')\n",
    "sns.set_style('ticks')\n",
    "sns.set_context('notebook')\n",
    "import h5py\n",
    "import allel; print('scikit-allel', allel.__version__)"
   ]
  },
  {
   "cell_type": "code",
   "execution_count": 3,
   "metadata": {},
   "outputs": [],
   "source": [
    "#allel.vcf_to_hdf5('/wrk/Gen_Tree/GenTree_Genome_mapping/Betula_pendula/Bpendula_GM_Oulu_filtered_v2.vcf', '/wrk/Gen_Tree/GenTree_Genome_mapping/Betula_pendula/Bpendula_GM_Oulu_filtered_v2.h5', fields='*', overwrite=True)"
   ]
  },
  {
   "cell_type": "code",
   "execution_count": 4,
   "metadata": {},
   "outputs": [
    {
     "data": {
      "text/plain": [
       "<HDF5 file \"Bpendula_GM_Oulu_filtered_v2.h5\" (mode r)>"
      ]
     },
     "execution_count": 4,
     "metadata": {},
     "output_type": "execute_result"
    }
   ],
   "source": [
    "callset_fn = '/wrk/Gen_Tree/GenTree_Genome_mapping/Betula_pendula/Bpendula_GM_Oulu_filtered_v2.h5'\n",
    "callset = h5py.File(callset_fn, mode='r')\n",
    "callset"
   ]
  },
  {
   "cell_type": "code",
   "execution_count": 5,
   "metadata": {},
   "outputs": [
    {
     "data": {
      "text/plain": [
       "['calldata', 'samples', 'variants']"
      ]
     },
     "execution_count": 5,
     "metadata": {},
     "output_type": "execute_result"
    }
   ],
   "source": [
    "sorted(callset.keys())"
   ]
  },
  {
   "cell_type": "code",
   "execution_count": 6,
   "metadata": {},
   "outputs": [],
   "source": [
    "calldata = callset['calldata']"
   ]
  },
  {
   "cell_type": "code",
   "execution_count": 7,
   "metadata": {},
   "outputs": [
    {
     "data": {
      "text/plain": [
       "<HDF5 group \"/calldata\" (10 members)>"
      ]
     },
     "execution_count": 7,
     "metadata": {},
     "output_type": "execute_result"
    }
   ],
   "source": [
    "calldata"
   ]
  },
  {
   "cell_type": "code",
   "execution_count": 8,
   "metadata": {},
   "outputs": [
    {
     "data": {
      "text/plain": [
       "['AD', 'DP', 'GQ', 'GT', 'MIN_DP', 'PGT', 'PID', 'PL', 'RGQ', 'SB']"
      ]
     },
     "execution_count": 8,
     "metadata": {},
     "output_type": "execute_result"
    }
   ],
   "source": [
    "list(calldata)"
   ]
  },
  {
   "cell_type": "code",
   "execution_count": 9,
   "metadata": {},
   "outputs": [
    {
     "data": {
      "text/plain": [
       "<HDF5 group \"/variants\" (36 members)>"
      ]
     },
     "execution_count": 9,
     "metadata": {},
     "output_type": "execute_result"
    }
   ],
   "source": [
    "variants = callset['variants']\n",
    "variants"
   ]
  },
  {
   "cell_type": "code",
   "execution_count": 10,
   "metadata": {},
   "outputs": [
    {
     "data": {
      "text/html": [
       "<div class=\"allel allel-DisplayAsTable\"><span>&lt;VariantChunkedTable shape=(355405,) dtype=[('POS', '&lt;i4'), ('REF', 'O'), ('ALT', 'O', (3,)), ('DP', '&lt;i4'), ('QUAL', '&lt;f4'), ('AN', '&lt;i4'), ('MQ', '&lt;f4'), ('QD', '&lt;f4'), ('SOR', '&lt;f4'), ('MQRankSum', '&lt;f4'), ('ReadPosRankSum', '&lt;f4'), ('numalt', '&lt;i4')]\n",
       "   nbytes=24.4M cbytes=8.6M cratio=2.8\n",
       "   values=h5py._hl.group.Group&gt;</span><table><thead><tr><th></th><th style=\"text-align: center\">POS</th><th style=\"text-align: center\">REF</th><th style=\"text-align: center\">ALT</th><th style=\"text-align: center\">DP</th><th style=\"text-align: center\">QUAL</th><th style=\"text-align: center\">AN</th><th style=\"text-align: center\">MQ</th><th style=\"text-align: center\">QD</th><th style=\"text-align: center\">SOR</th><th style=\"text-align: center\">MQRankSum</th><th style=\"text-align: center\">ReadPosRankSum</th><th style=\"text-align: center\">numalt</th></tr></thead><tbody><tr><th style=\"text-align: center; background-color: white; border-right: 1px solid black; \">0</th><td style=\"text-align: center\">163919</td><td style=\"text-align: center\">A</td><td style=\"text-align: center\">['T' '' '']</td><td style=\"text-align: center\">3637</td><td style=\"text-align: center\">3279.97</td><td style=\"text-align: center\">946</td><td style=\"text-align: center\">59.42</td><td style=\"text-align: center\">13.17</td><td style=\"text-align: center\">0.666</td><td style=\"text-align: center\">0.0</td><td style=\"text-align: center\">0.0</td><td style=\"text-align: center\">1</td></tr><tr><th style=\"text-align: center; background-color: white; border-right: 1px solid black; \">1</th><td style=\"text-align: center\">165458</td><td style=\"text-align: center\">C</td><td style=\"text-align: center\">['T' '' '']</td><td style=\"text-align: center\">2683</td><td style=\"text-align: center\">47.07</td><td style=\"text-align: center\">920</td><td style=\"text-align: center\">45.36</td><td style=\"text-align: center\">11.77</td><td style=\"text-align: center\">2.303</td><td style=\"text-align: center\">0.0</td><td style=\"text-align: center\">1.38</td><td style=\"text-align: center\">1</td></tr><tr><th style=\"text-align: center; background-color: white; border-right: 1px solid black; \">2</th><td style=\"text-align: center\">165459</td><td style=\"text-align: center\">G</td><td style=\"text-align: center\">['A' '' '']</td><td style=\"text-align: center\">2682</td><td style=\"text-align: center\">635.09</td><td style=\"text-align: center\">922</td><td style=\"text-align: center\">64.41</td><td style=\"text-align: center\">11.34</td><td style=\"text-align: center\">0.6</td><td style=\"text-align: center\">0.0</td><td style=\"text-align: center\">0.0</td><td style=\"text-align: center\">1</td></tr><tr><th style=\"text-align: center; background-color: white; border-right: 1px solid black; \">...</th><td style=\"text-align: center\" colspan=\"13\">...</td></tr><tr><th style=\"text-align: center; background-color: white; border-right: 1px solid black; \">355402</th><td style=\"text-align: center\">521638</td><td style=\"text-align: center\">T</td><td style=\"text-align: center\">['C' '' '']</td><td style=\"text-align: center\">2529</td><td style=\"text-align: center\">46.01</td><td style=\"text-align: center\">854</td><td style=\"text-align: center\">37.25</td><td style=\"text-align: center\">15.34</td><td style=\"text-align: center\">0.223</td><td style=\"text-align: center\">0.967</td><td style=\"text-align: center\">0.0</td><td style=\"text-align: center\">1</td></tr><tr><th style=\"text-align: center; background-color: white; border-right: 1px solid black; \">355403</th><td style=\"text-align: center\">526967</td><td style=\"text-align: center\">C</td><td style=\"text-align: center\">['A' '' '']</td><td style=\"text-align: center\">3252</td><td style=\"text-align: center\">20.66</td><td style=\"text-align: center\">858</td><td style=\"text-align: center\">55.86</td><td style=\"text-align: center\">6.89</td><td style=\"text-align: center\">0.223</td><td style=\"text-align: center\">0.0</td><td style=\"text-align: center\">0.0</td><td style=\"text-align: center\">1</td></tr><tr><th style=\"text-align: center; background-color: white; border-right: 1px solid black; \">355404</th><td style=\"text-align: center\">526977</td><td style=\"text-align: center\">A</td><td style=\"text-align: center\">['T' '' '']</td><td style=\"text-align: center\">2968</td><td style=\"text-align: center\">21.19</td><td style=\"text-align: center\">854</td><td style=\"text-align: center\">54.41</td><td style=\"text-align: center\">10.59</td><td style=\"text-align: center\">0.693</td><td style=\"text-align: center\">0.0</td><td style=\"text-align: center\">0.674</td><td style=\"text-align: center\">1</td></tr></tbody></table></div>"
      ],
      "text/plain": [
       "<VariantChunkedTable shape=(355405,) dtype=[('POS', '<i4'), ('REF', 'O'), ('ALT', 'O', (3,)), ('DP', '<i4'), ('QUAL', '<f4'), ('AN', '<i4'), ('MQ', '<f4'), ('QD', '<f4'), ('SOR', '<f4'), ('MQRankSum', '<f4'), ('ReadPosRankSum', '<f4'), ('numalt', '<i4')]\n",
       "   nbytes=24.4M cbytes=8.6M cratio=2.8\n",
       "   values=h5py._hl.group.Group>"
      ]
     },
     "execution_count": 10,
     "metadata": {},
     "output_type": "execute_result"
    }
   ],
   "source": [
    "variants = allel.VariantChunkedTable(callset['variants'], \n",
    "                                     names=['POS', 'REF', 'ALT', 'DP', 'QUAL', 'AN', 'MQ', 'QD', 'SOR', 'MQRankSum', 'ReadPosRankSum', 'numalt'])\n",
    "variants"
   ]
  },
  {
   "cell_type": "code",
   "execution_count": 11,
   "metadata": {},
   "outputs": [
    {
     "data": {
      "text/html": [
       "<div class=\"allel allel-DisplayAs2D\"><span>&lt;GenotypeChunkedArray shape=(355405, 507, 2) dtype=int8 chunks=(65536, 64, 2)\n",
       "   nbytes=343.7M cbytes=25.4M cratio=13.5\n",
       "   compression=gzip compression_opts=1\n",
       "   values=h5py._hl.dataset.Dataset&gt;</span><table><thead><tr><th></th><th style=\"text-align: center\">0</th><th style=\"text-align: center\">1</th><th style=\"text-align: center\">2</th><th style=\"text-align: center\">3</th><th style=\"text-align: center\">4</th><th style=\"text-align: center\">...</th><th style=\"text-align: center\">502</th><th style=\"text-align: center\">503</th><th style=\"text-align: center\">504</th><th style=\"text-align: center\">505</th><th style=\"text-align: center\">506</th></tr></thead><tbody><tr><th style=\"text-align: center; background-color: white; border-right: 1px solid black; \">0</th><td style=\"text-align: center\">0/0</td><td style=\"text-align: center\">0/0</td><td style=\"text-align: center\">0/0</td><td style=\"text-align: center\">0/0</td><td style=\"text-align: center\">0/0</td><td style=\"text-align: center\">...</td><td style=\"text-align: center\">./.</td><td style=\"text-align: center\">0/0</td><td style=\"text-align: center\">0/0</td><td style=\"text-align: center\">./.</td><td style=\"text-align: center\">0/0</td></tr><tr><th style=\"text-align: center; background-color: white; border-right: 1px solid black; \">1</th><td style=\"text-align: center\">0/0</td><td style=\"text-align: center\">0/0</td><td style=\"text-align: center\">0/0</td><td style=\"text-align: center\">0/0</td><td style=\"text-align: center\">0/0</td><td style=\"text-align: center\">...</td><td style=\"text-align: center\">0/0</td><td style=\"text-align: center\">0/0</td><td style=\"text-align: center\">0/0</td><td style=\"text-align: center\">./.</td><td style=\"text-align: center\">0/0</td></tr><tr><th style=\"text-align: center; background-color: white; border-right: 1px solid black; \">2</th><td style=\"text-align: center\">0/0</td><td style=\"text-align: center\">0/0</td><td style=\"text-align: center\">0/0</td><td style=\"text-align: center\">0/0</td><td style=\"text-align: center\">0/0</td><td style=\"text-align: center\">...</td><td style=\"text-align: center\">0/0</td><td style=\"text-align: center\">0/0</td><td style=\"text-align: center\">0/0</td><td style=\"text-align: center\">./.</td><td style=\"text-align: center\">0/0</td></tr><tr><th style=\"text-align: center; background-color: white; border-right: 1px solid black; \">...</th><td style=\"text-align: center\" colspan=\"12\">...</td></tr><tr><th style=\"text-align: center; background-color: white; border-right: 1px solid black; \">355402</th><td style=\"text-align: center\">0/0</td><td style=\"text-align: center\">0/0</td><td style=\"text-align: center\">0/0</td><td style=\"text-align: center\">0/0</td><td style=\"text-align: center\">0/0</td><td style=\"text-align: center\">...</td><td style=\"text-align: center\">0/0</td><td style=\"text-align: center\">0/0</td><td style=\"text-align: center\">0/0</td><td style=\"text-align: center\">0/0</td><td style=\"text-align: center\">./.</td></tr><tr><th style=\"text-align: center; background-color: white; border-right: 1px solid black; \">355403</th><td style=\"text-align: center\">0/0</td><td style=\"text-align: center\">0/0</td><td style=\"text-align: center\">0/0</td><td style=\"text-align: center\">0/0</td><td style=\"text-align: center\">0/0</td><td style=\"text-align: center\">...</td><td style=\"text-align: center\">0/0</td><td style=\"text-align: center\">0/0</td><td style=\"text-align: center\">0/0</td><td style=\"text-align: center\">0/0</td><td style=\"text-align: center\">0/0</td></tr><tr><th style=\"text-align: center; background-color: white; border-right: 1px solid black; \">355404</th><td style=\"text-align: center\">0/0</td><td style=\"text-align: center\">0/0</td><td style=\"text-align: center\">0/0</td><td style=\"text-align: center\">0/0</td><td style=\"text-align: center\">0/0</td><td style=\"text-align: center\">...</td><td style=\"text-align: center\">0/0</td><td style=\"text-align: center\">0/0</td><td style=\"text-align: center\">0/0</td><td style=\"text-align: center\">0/0</td><td style=\"text-align: center\">0/0</td></tr></tbody></table></div>"
      ],
      "text/plain": [
       "<GenotypeChunkedArray shape=(355405, 507, 2) dtype=int8 chunks=(65536, 64, 2)\n",
       "   nbytes=343.7M cbytes=25.4M cratio=13.5\n",
       "   compression=gzip compression_opts=1\n",
       "   values=h5py._hl.dataset.Dataset>"
      ]
     },
     "execution_count": 11,
     "metadata": {},
     "output_type": "execute_result"
    }
   ],
   "source": [
    "genotypes = allel.GenotypeChunkedArray(calldata['GT'])\n",
    "genotypes"
   ]
  },
  {
   "cell_type": "code",
   "execution_count": 12,
   "metadata": {},
   "outputs": [
    {
     "data": {
      "text/html": [
       "<div class=\"allel allel-DisplayAs2D\"><span>&lt;AlleleCountsChunkedArray shape=(355405, 2) dtype=int32 chunks=(44426, 2)\n",
       "   nbytes=2.7M cbytes=786.5K cratio=3.5\n",
       "   compression=blosc compression_opts={'cname': 'lz4', 'clevel': 5, 'shuffle': 1, 'blocksize': 0}\n",
       "   values=zarr.core.Array&gt;</span><table><thead><tr><th></th><th style=\"text-align: center\">0</th><th style=\"text-align: center\">1</th></tr></thead><tbody><tr><th style=\"text-align: center; background-color: white; border-right: 1px solid black; \">0</th><td style=\"text-align: center\">917</td><td style=\"text-align: center\"> 29</td></tr><tr><th style=\"text-align: center; background-color: white; border-right: 1px solid black; \">1</th><td style=\"text-align: center\">919</td><td style=\"text-align: center\">  1</td></tr><tr><th style=\"text-align: center; background-color: white; border-right: 1px solid black; \">2</th><td style=\"text-align: center\">916</td><td style=\"text-align: center\">  6</td></tr><tr><th style=\"text-align: center; background-color: white; border-right: 1px solid black; \">...</th><td style=\"text-align: center\" colspan=\"3\">...</td></tr><tr><th style=\"text-align: center; background-color: white; border-right: 1px solid black; \">355402</th><td style=\"text-align: center\">853</td><td style=\"text-align: center\">  1</td></tr><tr><th style=\"text-align: center; background-color: white; border-right: 1px solid black; \">355403</th><td style=\"text-align: center\">857</td><td style=\"text-align: center\">  1</td></tr><tr><th style=\"text-align: center; background-color: white; border-right: 1px solid black; \">355404</th><td style=\"text-align: center\">853</td><td style=\"text-align: center\">  1</td></tr></tbody></table></div>"
      ],
      "text/plain": [
       "<AlleleCountsChunkedArray shape=(355405, 2) dtype=int32 chunks=(44426, 2)\n",
       "   nbytes=2.7M cbytes=786.5K cratio=3.5\n",
       "   compression=blosc compression_opts={'cname': 'lz4', 'clevel': 5, 'shuffle': 1, 'blocksize': 0}\n",
       "   values=zarr.core.Array>"
      ]
     },
     "execution_count": 12,
     "metadata": {},
     "output_type": "execute_result"
    }
   ],
   "source": [
    "ac = genotypes.count_alleles()\n",
    "ac"
   ]
  },
  {
   "cell_type": "code",
   "execution_count": 13,
   "metadata": {},
   "outputs": [
    {
     "data": {
      "text/plain": [
       "array([   75, 84049, 37575, 21968, 15672, 12427,  9851,  8266,  6856,\n",
       "        5971,  5275,  4654,  4111,  3878,  3666,  3407,  3173,  2844,\n",
       "        2661,  2578,  2470,  2259,  2155,  2005,  1987,  1895,  1903,\n",
       "        1735,  1619,  1661,  1548,  1471,  1370,  1409,  1279,  1248,\n",
       "        1254,  1234,  1149,  1206,  1115,  1033,  1030,   971,   943,\n",
       "         901,   830,   864,   916,   801,   809,   792,   785,   750,\n",
       "         764,   761,   752,   673,   614,   632,   599,   642,   593,\n",
       "         596,   585,   652,   659,   624,   584,   572,   618,   504,\n",
       "         522,   480,   484,   450,   496,   437,   454,   461,   456,\n",
       "         490,   516,   444,   416,   417,   431,   393,   370,   382,\n",
       "         356,   344,   380,   377,   373,   361,   368,   364,   342,\n",
       "         342,   328,   332,   276,   285,   329,   283,   288,   285,\n",
       "         268,   284,   282,   296,   321,   267,   291,   296,   263,\n",
       "         268,   272,   292,   256,   291,   256,   267,   236,   239,\n",
       "         218,   239,   219,   224,   214,   223,   218,   216,   206,\n",
       "         199,   228,   226,   205,   186,   221,   208,   196,   197,\n",
       "         208,   222,   215,   208,   216,   217,   216,   197,   213,\n",
       "         193,   199,   193,   168,   192,   187,   198,   171,   173,\n",
       "         166,   171,   193,   169,   172,   191,   170,   167,   147,\n",
       "         147,   168,   164,   184,   166,   181,   193,   166,   184,\n",
       "         171,   171,   158,   157,   153,   161,   155,   152,   141,\n",
       "         146,   151,   127,   151,   144,   141,   148,   137,   133,\n",
       "         147,   151,   138,   159,   133,   133,   139,   125,   121,\n",
       "         124,   123,   154,   142,   124,   144,   136,   165,   143,\n",
       "         122,   131,   135,   136,   149,   125,   138,   134,   125,\n",
       "         120,   132,   123,   122,   128,   136,   122,   124,   135,\n",
       "         133,   103,   112,   133,   110,   103,   128,   117,   129,\n",
       "         114,   138,   129,   126,   122,   107,   132,   127,   103,\n",
       "         108,   118,   113,   115,   112,    99,   107,    95,    97,\n",
       "          83,   112,    94,    81,    81,   115,   118,    91,   115,\n",
       "         112,    95,   100,    85,   114,    90,    96,    89,   106,\n",
       "         111,    99,   103,    94,   120,   134,    97,   121,   119,\n",
       "          83,   106,    94,   104,    93,    99,    97,    82,    90,\n",
       "          95,    97,    97,   118,    98,    96,    87,    98,    87,\n",
       "          91,    77,    92,   105,    98,   104,    78,   101,    92,\n",
       "          81,    92,    89,    92,    89,   104,    80,    84,    92,\n",
       "          80,    87,    88,    95,    93,    90,   102,    83,    90,\n",
       "          86,    80,    76,    95,    86,    95,    86,    82,   102,\n",
       "         100,   102,    90,    85,    79,   103,    87,    92,    95,\n",
       "          91,    92,    88,    82,    72,   107,    82,    92,    89,\n",
       "          80,    78,    69,    84,    78,    67,    71,    80,    64,\n",
       "          84,    92,    82,    77,    82,    88,    86,    83,    79,\n",
       "          75,    85,    84,    82,    84,    91,    77,    95,    79,\n",
       "          81,    87,    75,    76,    84,    76,    77,    70,    84,\n",
       "          73,    70,    82,    83,    72,    81,    83,    66,    94,\n",
       "          76,    78,    76,    75,    93,    83,    79,    79,    95,\n",
       "          86,    79,    85,    74,    73,    77,    77,    64,    69,\n",
       "          83,    66,    70,    84,    80,    75,    67,    86,    66,\n",
       "          74,    77,    66,    72,    74,    60,    60,    52,    57,\n",
       "          87,    63,    54,    55,    62,    80,    79,    66,    63,\n",
       "          79,    60,    76,    56,    53,    63,    70,    58,    73,\n",
       "          49,    62,    58,    56,    66,    54,    68,    62,    51,\n",
       "          63,    49,    44,    69,    44,    81,    43,    50,    62,\n",
       "          48,    56,    51,    49,    50,    50,    63,    42,    51,\n",
       "          55,    36,    60,    47,    43,    51,    44,    42,    51,\n",
       "          64,    38,    53,    52,    58,    43,    52,    43,    57,\n",
       "          48,    48,    45,    21])"
      ]
     },
     "execution_count": 13,
     "metadata": {},
     "output_type": "execute_result"
    }
   ],
   "source": [
    "s = allel.sfs_folded(ac)\n",
    "s"
   ]
  },
  {
   "cell_type": "code",
   "execution_count": null,
   "metadata": {},
   "outputs": [],
   "source": []
  },
  {
   "cell_type": "code",
   "execution_count": null,
   "metadata": {},
   "outputs": [],
   "source": []
  },
  {
   "cell_type": "code",
   "execution_count": null,
   "metadata": {},
   "outputs": [],
   "source": []
  },
  {
   "cell_type": "code",
   "execution_count": null,
   "metadata": {},
   "outputs": [],
   "source": []
  },
  {
   "cell_type": "code",
   "execution_count": null,
   "metadata": {},
   "outputs": [],
   "source": []
  },
  {
   "cell_type": "code",
   "execution_count": 11,
   "metadata": {},
   "outputs": [
    {
     "data": {
      "text/plain": [
       "['CH-BP-05-01',\n",
       " 'CH-BP-05-02',\n",
       " 'CH-BP-05-03',\n",
       " 'CH-BP-05-04',\n",
       " 'CH-BP-05-05',\n",
       " 'CH-BP-05-06',\n",
       " 'CH-BP-05-07',\n",
       " 'CH-BP-05-08',\n",
       " 'CH-BP-05-09',\n",
       " 'CH-BP-05-10',\n",
       " 'CH-BP-05-11',\n",
       " 'CH-BP-05-12',\n",
       " 'CH-BP-05-13',\n",
       " 'CH-BP-05-14',\n",
       " 'CH-BP-05-15',\n",
       " 'CH-BP-05-16',\n",
       " 'CH-BP-05-17',\n",
       " 'CH-BP-05-18',\n",
       " 'CH-BP-05-19',\n",
       " 'CH-BP-05-20',\n",
       " 'CH-BP-05-21',\n",
       " 'CH-BP-05-22',\n",
       " 'CH-BP-05-23',\n",
       " 'CH-BP-05-24',\n",
       " 'CH-BP-05-25',\n",
       " 'CH-BP-06-01',\n",
       " 'CH-BP-06-02',\n",
       " 'CH-BP-06-03',\n",
       " 'CH-BP-06-04',\n",
       " 'CH-BP-06-05',\n",
       " 'CH-BP-06-06',\n",
       " 'CH-BP-06-07',\n",
       " 'CH-BP-06-08',\n",
       " 'CH-BP-06-09',\n",
       " 'CH-BP-06-10',\n",
       " 'CH-BP-06-11',\n",
       " 'CH-BP-06-12',\n",
       " 'CH-BP-06-13',\n",
       " 'CH-BP-06-14',\n",
       " 'CH-BP-06-15',\n",
       " 'CH-BP-06-16',\n",
       " 'CH-BP-06-17',\n",
       " 'CH-BP-06-18',\n",
       " 'CH-BP-06-19',\n",
       " 'CH-BP-06-20',\n",
       " 'CH-BP-06-21',\n",
       " 'CH-BP-06-22',\n",
       " 'CH-BP-06-23',\n",
       " 'CH-BP-06-24',\n",
       " 'CH-BP-06-25',\n",
       " 'DE-BP-09-01',\n",
       " 'DE-BP-09-02',\n",
       " 'DE-BP-09-03',\n",
       " 'DE-BP-09-04',\n",
       " 'DE-BP-09-05',\n",
       " 'DE-BP-09-06',\n",
       " 'DE-BP-09-07',\n",
       " 'DE-BP-09-08',\n",
       " 'DE-BP-09-09',\n",
       " 'DE-BP-09-11',\n",
       " 'DE-BP-09-12',\n",
       " 'DE-BP-09-13',\n",
       " 'DE-BP-09-14',\n",
       " 'DE-BP-09-15',\n",
       " 'DE-BP-09-16',\n",
       " 'DE-BP-09-17',\n",
       " 'DE-BP-09-18',\n",
       " 'DE-BP-09-19',\n",
       " 'DE-BP-09-20',\n",
       " 'DE-BP-09-21',\n",
       " 'DE-BP-09-22',\n",
       " 'DE-BP-09-23',\n",
       " 'DE-BP-09-24',\n",
       " 'DE-BP-09-25',\n",
       " 'DE-BP-10-01',\n",
       " 'DE-BP-10-02',\n",
       " 'DE-BP-10-03',\n",
       " 'DE-BP-10-04',\n",
       " 'DE-BP-10-05',\n",
       " 'DE-BP-10-06',\n",
       " 'DE-BP-10-07',\n",
       " 'DE-BP-10-08',\n",
       " 'DE-BP-10-09',\n",
       " 'DE-BP-10-10',\n",
       " 'DE-BP-10-11',\n",
       " 'DE-BP-10-12',\n",
       " 'DE-BP-10-13',\n",
       " 'DE-BP-10-14',\n",
       " 'DE-BP-10-15',\n",
       " 'DE-BP-10-16',\n",
       " 'DE-BP-10-17',\n",
       " 'DE-BP-10-18',\n",
       " 'DE-BP-10-19',\n",
       " 'DE-BP-10-20',\n",
       " 'DE-BP-10-21',\n",
       " 'DE-BP-10-22',\n",
       " 'DE-BP-10-23',\n",
       " 'DE-BP-10-24',\n",
       " 'DE-BP-10-25',\n",
       " 'ES-BP-02-01',\n",
       " 'ES-BP-02-02',\n",
       " 'ES-BP-02-03',\n",
       " 'ES-BP-02-04',\n",
       " 'ES-BP-02-05',\n",
       " 'ES-BP-02-06',\n",
       " 'ES-BP-02-07',\n",
       " 'ES-BP-02-08',\n",
       " 'ES-BP-02-09',\n",
       " 'ES-BP-02-10',\n",
       " 'ES-BP-02-12',\n",
       " 'ES-BP-02-13',\n",
       " 'ES-BP-02-14',\n",
       " 'ES-BP-02-15',\n",
       " 'ES-BP-02-16',\n",
       " 'ES-BP-02-17',\n",
       " 'ES-BP-02-18',\n",
       " 'ES-BP-02-19',\n",
       " 'ES-BP-02-20',\n",
       " 'ES-BP-02-21',\n",
       " 'ES-BP-02-22',\n",
       " 'ES-BP-02-23',\n",
       " 'ES-BP-02-24',\n",
       " 'ES-BP-02-25',\n",
       " 'FI-BP-19-01',\n",
       " 'FI-BP-19-03',\n",
       " 'FI-BP-19-05',\n",
       " 'FI-BP-19-07',\n",
       " 'FI-BP-19-08',\n",
       " 'FI-BP-19-09',\n",
       " 'FI-BP-19-10',\n",
       " 'FI-BP-19-11',\n",
       " 'FI-BP-19-12',\n",
       " 'FI-BP-19-13',\n",
       " 'FI-BP-19-14',\n",
       " 'FI-BP-19-15',\n",
       " 'FI-BP-19-16',\n",
       " 'FI-BP-19-17',\n",
       " 'FI-BP-19-18',\n",
       " 'FI-BP-19-19',\n",
       " 'FI-BP-19-20',\n",
       " 'FI-BP-19-21',\n",
       " 'FI-BP-19-22',\n",
       " 'FI-BP-19-23',\n",
       " 'FI-BP-19-24',\n",
       " 'FI-BP-19-25',\n",
       " 'FI-BP-20-02',\n",
       " 'FI-BP-20-03',\n",
       " 'FI-BP-20-04',\n",
       " 'FI-BP-20-06',\n",
       " 'FI-BP-20-07',\n",
       " 'FI-BP-20-08',\n",
       " 'FI-BP-20-09',\n",
       " 'FI-BP-20-11',\n",
       " 'FI-BP-20-12',\n",
       " 'FI-BP-20-13',\n",
       " 'FI-BP-20-14',\n",
       " 'FI-BP-20-15',\n",
       " 'FI-BP-20-16',\n",
       " 'FI-BP-20-17',\n",
       " 'FI-BP-20-18',\n",
       " 'FI-BP-20-19',\n",
       " 'FI-BP-20-20',\n",
       " 'FI-BP-20-21',\n",
       " 'FI-BP-20-22',\n",
       " 'FI-BP-20-23',\n",
       " 'FI-BP-20-24',\n",
       " 'FI-BP-20-25',\n",
       " 'FR-BP-03-01',\n",
       " 'FR-BP-03-02',\n",
       " 'FR-BP-03-03',\n",
       " 'FR-BP-03-04',\n",
       " 'FR-BP-03-05',\n",
       " 'FR-BP-03-06',\n",
       " 'FR-BP-03-07',\n",
       " 'FR-BP-03-08',\n",
       " 'FR-BP-03-09',\n",
       " 'FR-BP-03-10',\n",
       " 'FR-BP-03-12',\n",
       " 'FR-BP-03-13',\n",
       " 'FR-BP-03-14',\n",
       " 'FR-BP-03-15',\n",
       " 'FR-BP-03-16',\n",
       " 'FR-BP-03-17',\n",
       " 'FR-BP-03-18',\n",
       " 'FR-BP-03-19',\n",
       " 'FR-BP-03-20',\n",
       " 'FR-BP-03-21',\n",
       " 'FR-BP-03-22',\n",
       " 'FR-BP-03-23',\n",
       " 'FR-BP-03-24',\n",
       " 'FR-BP-03-25',\n",
       " 'FR-BP-04-01',\n",
       " 'FR-BP-04-02',\n",
       " 'FR-BP-04-03',\n",
       " 'FR-BP-04-04',\n",
       " 'FR-BP-04-06',\n",
       " 'FR-BP-04-07',\n",
       " 'FR-BP-04-08',\n",
       " 'FR-BP-04-09',\n",
       " 'FR-BP-04-10',\n",
       " 'FR-BP-04-11',\n",
       " 'FR-BP-04-12',\n",
       " 'FR-BP-04-13',\n",
       " 'FR-BP-04-14',\n",
       " 'FR-BP-04-15',\n",
       " 'FR-BP-04-16',\n",
       " 'FR-BP-04-17',\n",
       " 'FR-BP-04-18',\n",
       " 'FR-BP-04-19',\n",
       " 'FR-BP-04-20',\n",
       " 'FR-BP-04-21',\n",
       " 'FR-BP-04-22',\n",
       " 'FR-BP-04-23',\n",
       " 'FR-BP-04-24',\n",
       " 'FR-BP-04-25',\n",
       " 'FR-BP-21-01',\n",
       " 'FR-BP-21-02',\n",
       " 'FR-BP-21-03',\n",
       " 'FR-BP-21-04',\n",
       " 'FR-BP-21-05',\n",
       " 'FR-BP-21-07',\n",
       " 'FR-BP-21-08',\n",
       " 'FR-BP-21-09',\n",
       " 'FR-BP-21-10',\n",
       " 'FR-BP-21-11',\n",
       " 'FR-BP-21-12',\n",
       " 'FR-BP-21-13',\n",
       " 'FR-BP-21-14',\n",
       " 'FR-BP-21-15',\n",
       " 'FR-BP-21-16',\n",
       " 'FR-BP-21-17',\n",
       " 'FR-BP-21-18',\n",
       " 'FR-BP-21-19',\n",
       " 'FR-BP-21-20',\n",
       " 'FR-BP-21-21',\n",
       " 'FR-BP-21-22',\n",
       " 'FR-BP-21-23',\n",
       " 'FR-BP-21-24',\n",
       " 'FR-BP-21-25',\n",
       " 'GB-BP-13-01',\n",
       " 'GB-BP-13-02',\n",
       " 'GB-BP-13-03',\n",
       " 'GB-BP-13-04',\n",
       " 'GB-BP-13-05',\n",
       " 'GB-BP-13-06',\n",
       " 'GB-BP-13-07',\n",
       " 'GB-BP-13-08',\n",
       " 'GB-BP-13-09',\n",
       " 'GB-BP-13-10',\n",
       " 'GB-BP-13-11',\n",
       " 'GB-BP-13-12',\n",
       " 'GB-BP-13-13',\n",
       " 'GB-BP-13-14',\n",
       " 'GB-BP-13-15',\n",
       " 'GB-BP-13-16',\n",
       " 'GB-BP-13-17',\n",
       " 'GB-BP-13-18',\n",
       " 'GB-BP-13-19',\n",
       " 'GB-BP-13-20',\n",
       " 'GB-BP-13-21',\n",
       " 'GB-BP-13-22',\n",
       " 'GB-BP-13-23',\n",
       " 'GB-BP-13-24',\n",
       " 'GB-BP-14-01',\n",
       " 'GB-BP-14-02',\n",
       " 'GB-BP-14-03',\n",
       " 'GB-BP-14-04',\n",
       " 'GB-BP-14-05',\n",
       " 'GB-BP-14-06',\n",
       " 'GB-BP-14-07',\n",
       " 'GB-BP-14-08',\n",
       " 'GB-BP-14-09',\n",
       " 'GB-BP-14-10',\n",
       " 'GB-BP-14-13',\n",
       " 'GB-BP-14-14',\n",
       " 'GB-BP-14-15',\n",
       " 'GB-BP-14-16',\n",
       " 'GB-BP-14-17',\n",
       " 'GB-BP-14-18',\n",
       " 'GB-BP-14-19',\n",
       " 'GB-BP-14-20',\n",
       " 'GB-BP-14-21',\n",
       " 'GB-BP-14-22',\n",
       " 'GB-BP-14-23',\n",
       " 'GB-BP-14-24',\n",
       " 'GB-BP-14-25',\n",
       " 'GB-BP-14-26',\n",
       " 'GB-BP-14-27',\n",
       " 'IT-BP-07-01',\n",
       " 'IT-BP-07-02',\n",
       " 'IT-BP-07-03',\n",
       " 'IT-BP-07-04',\n",
       " 'IT-BP-07-05',\n",
       " 'IT-BP-07-06',\n",
       " 'IT-BP-07-08',\n",
       " 'IT-BP-07-09',\n",
       " 'IT-BP-07-10',\n",
       " 'IT-BP-07-11',\n",
       " 'IT-BP-07-12',\n",
       " 'IT-BP-07-13',\n",
       " 'IT-BP-07-14',\n",
       " 'IT-BP-07-15',\n",
       " 'IT-BP-07-16',\n",
       " 'IT-BP-07-17',\n",
       " 'IT-BP-07-18',\n",
       " 'IT-BP-07-19',\n",
       " 'IT-BP-07-20',\n",
       " 'IT-BP-07-21',\n",
       " 'IT-BP-07-22',\n",
       " 'IT-BP-07-23',\n",
       " 'IT-BP-07-24',\n",
       " 'IT-BP-07-25',\n",
       " 'IT-BP-08-01',\n",
       " 'IT-BP-08-02',\n",
       " 'IT-BP-08-03',\n",
       " 'IT-BP-08-04',\n",
       " 'IT-BP-08-05',\n",
       " 'IT-BP-08-06',\n",
       " 'IT-BP-08-07',\n",
       " 'IT-BP-08-08',\n",
       " 'IT-BP-08-09',\n",
       " 'IT-BP-08-10',\n",
       " 'IT-BP-08-11',\n",
       " 'IT-BP-08-12',\n",
       " 'IT-BP-08-13',\n",
       " 'IT-BP-08-14',\n",
       " 'IT-BP-08-15',\n",
       " 'IT-BP-08-16',\n",
       " 'IT-BP-08-17',\n",
       " 'IT-BP-08-18',\n",
       " 'IT-BP-08-19',\n",
       " 'IT-BP-08-20',\n",
       " 'IT-BP-08-21',\n",
       " 'IT-BP-08-22',\n",
       " 'IT-BP-08-23',\n",
       " 'IT-BP-08-24',\n",
       " 'IT-BP-08-25',\n",
       " 'LT-BP-11-01',\n",
       " 'LT-BP-11-02',\n",
       " 'LT-BP-11-03',\n",
       " 'LT-BP-11-04',\n",
       " 'LT-BP-11-05',\n",
       " 'LT-BP-11-06',\n",
       " 'LT-BP-11-07',\n",
       " 'LT-BP-11-09',\n",
       " 'LT-BP-11-10',\n",
       " 'LT-BP-11-11',\n",
       " 'LT-BP-11-12',\n",
       " 'LT-BP-11-13',\n",
       " 'LT-BP-11-14',\n",
       " 'LT-BP-11-15',\n",
       " 'LT-BP-11-16',\n",
       " 'LT-BP-11-17',\n",
       " 'LT-BP-11-18',\n",
       " 'LT-BP-11-20',\n",
       " 'LT-BP-11-21',\n",
       " 'LT-BP-11-22',\n",
       " 'LT-BP-11-23',\n",
       " 'LT-BP-11-25',\n",
       " 'LT-BP-12-01',\n",
       " 'LT-BP-12-02',\n",
       " 'LT-BP-12-03',\n",
       " 'LT-BP-12-04',\n",
       " 'LT-BP-12-05',\n",
       " 'LT-BP-12-07',\n",
       " 'LT-BP-12-08',\n",
       " 'LT-BP-12-09',\n",
       " 'LT-BP-12-10',\n",
       " 'LT-BP-12-11',\n",
       " 'LT-BP-12-12',\n",
       " 'LT-BP-12-13',\n",
       " 'LT-BP-12-14',\n",
       " 'LT-BP-12-15',\n",
       " 'LT-BP-12-17',\n",
       " 'LT-BP-12-19',\n",
       " 'LT-BP-12-20',\n",
       " 'LT-BP-12-21',\n",
       " 'LT-BP-12-22',\n",
       " 'LT-BP-12-23',\n",
       " 'LT-BP-12-24',\n",
       " 'LT-BP-12-25',\n",
       " 'NO-BP-15-01',\n",
       " 'NO-BP-15-02',\n",
       " 'NO-BP-15-03',\n",
       " 'NO-BP-15-04',\n",
       " 'NO-BP-15-05',\n",
       " 'NO-BP-15-06',\n",
       " 'NO-BP-15-07',\n",
       " 'NO-BP-15-08',\n",
       " 'NO-BP-15-09',\n",
       " 'NO-BP-15-10',\n",
       " 'NO-BP-15-12',\n",
       " 'NO-BP-15-13',\n",
       " 'NO-BP-15-14',\n",
       " 'NO-BP-15-15',\n",
       " 'NO-BP-15-16',\n",
       " 'NO-BP-15-19',\n",
       " 'NO-BP-15-21',\n",
       " 'NO-BP-15-22',\n",
       " 'NO-BP-15-23',\n",
       " 'NO-BP-15-24',\n",
       " 'NO-BP-16-01',\n",
       " 'NO-BP-16-02',\n",
       " 'NO-BP-16-03',\n",
       " 'NO-BP-16-04',\n",
       " 'NO-BP-16-05',\n",
       " 'NO-BP-16-06',\n",
       " 'NO-BP-16-07',\n",
       " 'NO-BP-16-08',\n",
       " 'NO-BP-16-09',\n",
       " 'NO-BP-16-10',\n",
       " 'NO-BP-16-11',\n",
       " 'NO-BP-16-12',\n",
       " 'NO-BP-16-13',\n",
       " 'NO-BP-16-14',\n",
       " 'NO-BP-16-15',\n",
       " 'NO-BP-16-16',\n",
       " 'NO-BP-16-17',\n",
       " 'NO-BP-16-18',\n",
       " 'NO-BP-16-19',\n",
       " 'NO-BP-16-20',\n",
       " 'NO-BP-16-21',\n",
       " 'NO-BP-16-22',\n",
       " 'NO-BP-16-23',\n",
       " 'NO-BP-16-24',\n",
       " 'NO-BP-16-25',\n",
       " 'SE-BP-17-01',\n",
       " 'SE-BP-17-02',\n",
       " 'SE-BP-17-03',\n",
       " 'SE-BP-17-04',\n",
       " 'SE-BP-17-05',\n",
       " 'SE-BP-17-06',\n",
       " 'SE-BP-17-07',\n",
       " 'SE-BP-17-08',\n",
       " 'SE-BP-17-09',\n",
       " 'SE-BP-17-10',\n",
       " 'SE-BP-17-11',\n",
       " 'SE-BP-17-12',\n",
       " 'SE-BP-17-13',\n",
       " 'SE-BP-17-14',\n",
       " 'SE-BP-17-15',\n",
       " 'SE-BP-17-16',\n",
       " 'SE-BP-17-17',\n",
       " 'SE-BP-17-18',\n",
       " 'SE-BP-17-19',\n",
       " 'SE-BP-17-20',\n",
       " 'SE-BP-17-21',\n",
       " 'SE-BP-17-22',\n",
       " 'SE-BP-17-23',\n",
       " 'SE-BP-17-24',\n",
       " 'SE-BP-17-25',\n",
       " 'SE-BP-18-01',\n",
       " 'SE-BP-18-02',\n",
       " 'SE-BP-18-03',\n",
       " 'SE-BP-18-04',\n",
       " 'SE-BP-18-05',\n",
       " 'SE-BP-18-06',\n",
       " 'SE-BP-18-07',\n",
       " 'SE-BP-18-08',\n",
       " 'SE-BP-18-09',\n",
       " 'SE-BP-18-10',\n",
       " 'SE-BP-18-11',\n",
       " 'SE-BP-18-13',\n",
       " 'SE-BP-18-14',\n",
       " 'SE-BP-18-15',\n",
       " 'SE-BP-18-17',\n",
       " 'SE-BP-18-18',\n",
       " 'SE-BP-18-19',\n",
       " 'SE-BP-18-20',\n",
       " 'SE-BP-18-21',\n",
       " 'SE-BP-18-22',\n",
       " 'SE-BP-18-23',\n",
       " 'SE-BP-18-24',\n",
       " 'SE-BP-18-25',\n",
       " 'YT-1037',\n",
       " 'YT-1046',\n",
       " 'YT-235',\n",
       " 'YT-236',\n",
       " 'YT-237',\n",
       " 'YT-240',\n",
       " 'YT-241',\n",
       " 'YT-242',\n",
       " 'YT-243',\n",
       " 'YT-244',\n",
       " 'YT-246',\n",
       " 'YT-247',\n",
       " 'YT-248',\n",
       " 'YT-273',\n",
       " 'YT-274',\n",
       " 'YT-277',\n",
       " 'YT-278',\n",
       " 'YT-279',\n",
       " 'YT-280',\n",
       " 'YT-281',\n",
       " 'YT-282',\n",
       " 'YT-283',\n",
       " 'YT-284',\n",
       " 'YT-285',\n",
       " 'YT-286',\n",
       " 'YT-862',\n",
       " 'YT-863',\n",
       " 'YT-865',\n",
       " 'YT-866',\n",
       " 'YT-867',\n",
       " 'YT-868',\n",
       " 'YT-869',\n",
       " 'YT-871']"
      ]
     },
     "execution_count": 11,
     "metadata": {},
     "output_type": "execute_result"
    }
   ],
   "source": [
    "samples = callset['samples']\n",
    "samples = list(samples)\n",
    "samples"
   ]
  },
  {
   "cell_type": "code",
   "execution_count": 12,
   "metadata": {},
   "outputs": [],
   "source": [
    "def plot_variant_hist(f, bins=30):\n",
    "    x = variants[f][:]\n",
    "    fig, ax = plt.subplots(figsize=(7, 5))\n",
    "    sns.despine(ax=ax, offset=10)\n",
    "    ax.hist(x, bins=bins)\n",
    "    ax.set_xlabel(f)\n",
    "    ax.set_ylabel('No. variants')\n",
    "    ax.set_title('Variant %s distribution' % f)"
   ]
  },
  {
   "cell_type": "code",
   "execution_count": 13,
   "metadata": {},
   "outputs": [
    {
     "data": {
      "text/plain": [
       "[<matplotlib.axis.XTick at 0x7fee178e2f90>,\n",
       " <matplotlib.axis.XTick at 0x7fee1790f7d0>,\n",
       " <matplotlib.axis.XTick at 0x7fee178ea1d0>]"
      ]
     },
     "execution_count": 13,
     "metadata": {},
     "output_type": "execute_result"
    },
    {
     "data": {
      "image/png": "[encoded data removed]",
      "text/plain": [
       "<Figure size 504x360 with 1 Axes>"
      ]
     },
     "metadata": {},
     "output_type": "display_data"
    }
   ],
   "source": [
    "plot_variant_hist('numalt', bins=np.arange(0.5, 5.5, 1))\n",
    "plt.gca().set_xticks([1,2,3])"
   ]
  },
  {
   "cell_type": "code",
   "execution_count": 14,
   "metadata": {},
   "outputs": [
    {
     "name": "stderr",
     "output_type": "stream",
     "text": [
      "/wrk/Programs/miniconda3/lib/python3.7/site-packages/numpy/lib/histograms.py:829: RuntimeWarning: invalid value encountered in greater_equal\n",
      "  keep = (tmp_a >= first_edge)\n",
      "/wrk/Programs/miniconda3/lib/python3.7/site-packages/numpy/lib/histograms.py:830: RuntimeWarning: invalid value encountered in less_equal\n",
      "  keep &= (tmp_a <= last_edge)\n"
     ]
    },
    {
     "data": {
      "image/png": "[encoded data removed]",
      "text/plain": [
       "<Figure size 504x360 with 1 Axes>"
      ]
     },
     "metadata": {},
     "output_type": "display_data"
    }
   ],
   "source": [
    "plot_variant_hist('QD')"
   ]
  },
  {
   "cell_type": "code",
   "execution_count": 14,
   "metadata": {},
   "outputs": [
    {
     "data": {
      "image/png": "[encoded data removed]",
      "text/plain": [
       "<Figure size 504x360 with 1 Axes>"
      ]
     },
     "metadata": {},
     "output_type": "display_data"
    }
   ],
   "source": [
    "plot_variant_hist('MQ')"
   ]
  },
  {
   "cell_type": "code",
   "execution_count": 16,
   "metadata": {},
   "outputs": [
    {
     "data": {
      "image/png": "[encoded data removed]",
      "text/plain": [
       "<Figure size 504x360 with 1 Axes>"
      ]
     },
     "metadata": {},
     "output_type": "display_data"
    }
   ],
   "source": [
    "plot_variant_hist('SOR')"
   ]
  },
  {
   "cell_type": "code",
   "execution_count": 15,
   "metadata": {},
   "outputs": [
    {
     "data": {
      "image/png": "[encoded data removed]",
      "text/plain": [
       "<Figure size 504x360 with 1 Axes>"
      ]
     },
     "metadata": {},
     "output_type": "display_data"
    }
   ],
   "source": [
    "plot_variant_hist('AN')"
   ]
  },
  {
   "cell_type": "code",
   "execution_count": 30,
   "metadata": {},
   "outputs": [
    {
     "data": {
      "text/html": [
       "<div>\n",
       "<style scoped>\n",
       "    .dataframe tbody tr th:only-of-type {\n",
       "        vertical-align: middle;\n",
       "    }\n",
       "\n",
       "    .dataframe tbody tr th {\n",
       "        vertical-align: top;\n",
       "    }\n",
       "\n",
       "    .dataframe thead th {\n",
       "        text-align: right;\n",
       "    }\n",
       "</style>\n",
       "<table border=\"1\" class=\"dataframe\">\n",
       "  <thead>\n",
       "    <tr style=\"text-align: right;\">\n",
       "      <th></th>\n",
       "      <th>ID</th>\n",
       "      <th>Population</th>\n",
       "    </tr>\n",
       "  </thead>\n",
       "  <tbody>\n",
       "    <tr>\n",
       "      <th>0</th>\n",
       "      <td>CH-BP-05-01</td>\n",
       "      <td>CH-BP-05</td>\n",
       "    </tr>\n",
       "    <tr>\n",
       "      <th>1</th>\n",
       "      <td>CH-BP-05-02</td>\n",
       "      <td>CH-BP-05</td>\n",
       "    </tr>\n",
       "    <tr>\n",
       "      <th>2</th>\n",
       "      <td>CH-BP-05-03</td>\n",
       "      <td>CH-BP-05</td>\n",
       "    </tr>\n",
       "    <tr>\n",
       "      <th>3</th>\n",
       "      <td>CH-BP-05-04</td>\n",
       "      <td>CH-BP-05</td>\n",
       "    </tr>\n",
       "    <tr>\n",
       "      <th>4</th>\n",
       "      <td>CH-BP-05-05</td>\n",
       "      <td>CH-BP-05</td>\n",
       "    </tr>\n",
       "  </tbody>\n",
       "</table>\n",
       "</div>"
      ],
      "text/plain": [
       "            ID Population\n",
       "0  CH-BP-05-01   CH-BP-05\n",
       "1  CH-BP-05-02   CH-BP-05\n",
       "2  CH-BP-05-03   CH-BP-05\n",
       "3  CH-BP-05-04   CH-BP-05\n",
       "4  CH-BP-05-05   CH-BP-05"
      ]
     },
     "execution_count": 30,
     "metadata": {},
     "output_type": "execute_result"
    }
   ],
   "source": [
    "samples_fn = '/wrk/Gen_Tree/GenTree_Genome_mapping/Betula_pendula/Bpendula_SAMPLES_kept.txt'\n",
    "samples = pandas.read_csv(samples_fn, sep='\\t')\n",
    "samples.head()"
   ]
  },
  {
   "cell_type": "code",
   "execution_count": 32,
   "metadata": {},
   "outputs": [
    {
     "data": {
      "text/plain": [
       "YT          33\n",
       "CH-BP-05    25\n",
       "SE-BP-17    25\n",
       "DE-BP-10    25\n",
       "NO-BP-16    25\n",
       "GB-BP-14    25\n",
       "CH-BP-06    25\n",
       "IT-BP-08    25\n",
       "FR-BP-04    24\n",
       "FR-BP-21    24\n",
       "GB-BP-13    24\n",
       "FR-BP-03    24\n",
       "IT-BP-07    24\n",
       "DE-BP-09    24\n",
       "ES-BP-02    24\n",
       "SE-BP-18    23\n",
       "FI-BP-20    22\n",
       "LT-BP-11    22\n",
       "FI-BP-19    22\n",
       "LT-BP-12    22\n",
       "NO-BP-15    20\n",
       "Name: Population, dtype: int64"
      ]
     },
     "execution_count": 32,
     "metadata": {},
     "output_type": "execute_result"
    }
   ],
   "source": [
    "samples.Population.value_counts()"
   ]
  },
  {
   "cell_type": "code",
   "execution_count": 20,
   "metadata": {},
   "outputs": [],
   "source": [
    "#sample_selection = samples.Population.isin({'SE-BP-18', 'FR-BP-04', 'IT-BP-07', 'GB-BP-14', 'FI-BP-19', 'CH-BP-06', 'ES-BP-02', 'SE-BP-17', 'NO-BP-15', 'FR-BP-03', 'DE-BP-10', 'FI-BP-20', 'LT-BP-11', 'FR-BP-21', 'NO-BP-16', 'IT-BP-08', 'CH-BP-05', 'LT-BP-12', 'DE-BP-09', 'GB-BP-13'}).values\n",
    "#sample_selection[:5]"
   ]
  },
  {
   "cell_type": "code",
   "execution_count": 17,
   "metadata": {},
   "outputs": [
    {
     "data": {
      "text/html": [
       "<div class=\"allel allel-DisplayAs2D\"><span>&lt;AlleleCountsChunkedArray shape=(330937, 2) dtype=int32 chunks=(41368, 2)\n",
       "   nbytes=2.5M cbytes=735.5K cratio=3.5\n",
       "   compression=blosc compression_opts={'cname': 'lz4', 'clevel': 5, 'shuffle': 1, 'blocksize': 0}\n",
       "   values=zarr.core.Array&gt;</span><table><thead><tr><th></th><th style=\"text-align: center\">0</th><th style=\"text-align: center\">1</th></tr></thead><tbody><tr><th style=\"text-align: center; background-color: white; border-right: 1px solid black; \">0</th><td style=\"text-align: center\">917</td><td style=\"text-align: center\"> 29</td></tr><tr><th style=\"text-align: center; background-color: white; border-right: 1px solid black; \">1</th><td style=\"text-align: center\">919</td><td style=\"text-align: center\">  1</td></tr><tr><th style=\"text-align: center; background-color: white; border-right: 1px solid black; \">2</th><td style=\"text-align: center\">916</td><td style=\"text-align: center\">  6</td></tr><tr><th style=\"text-align: center; background-color: white; border-right: 1px solid black; \">...</th><td style=\"text-align: center\" colspan=\"3\">...</td></tr><tr><th style=\"text-align: center; background-color: white; border-right: 1px solid black; \">330934</th><td style=\"text-align: center\">971</td><td style=\"text-align: center\">  1</td></tr><tr><th style=\"text-align: center; background-color: white; border-right: 1px solid black; \">330935</th><td style=\"text-align: center\">857</td><td style=\"text-align: center\">  1</td></tr><tr><th style=\"text-align: center; background-color: white; border-right: 1px solid black; \">330936</th><td style=\"text-align: center\">853</td><td style=\"text-align: center\">  1</td></tr></tbody></table></div>"
      ],
      "text/plain": [
       "<AlleleCountsChunkedArray shape=(330937, 2) dtype=int32 chunks=(41368, 2)\n",
       "   nbytes=2.5M cbytes=735.5K cratio=3.5\n",
       "   compression=blosc compression_opts={'cname': 'lz4', 'clevel': 5, 'shuffle': 1, 'blocksize': 0}\n",
       "   values=zarr.core.Array>"
      ]
     },
     "execution_count": 17,
     "metadata": {},
     "output_type": "execute_result"
    }
   ],
   "source": [
    "ac = genotypes.count_alleles()\n",
    "ac"
   ]
  },
  {
   "cell_type": "code",
   "execution_count": 18,
   "metadata": {},
   "outputs": [],
   "source": [
    "biallelic = (ac.max_allele() == 1)\n",
    "###This is the filter expression for biallelic sites"
   ]
  },
  {
   "cell_type": "code",
   "execution_count": 19,
   "metadata": {},
   "outputs": [
    {
     "data": {
      "text/html": [
       "<div class=\"allel allel-DisplayAs2D\"><span>&lt;GenotypeChunkedArray shape=(330937, 507, 2) dtype=int8 chunks=(1293, 507, 2)\n",
       "   nbytes=320.0M cbytes=46.6M cratio=6.9\n",
       "   compression=blosc compression_opts={'cname': 'lz4', 'clevel': 5, 'shuffle': 1, 'blocksize': 0}\n",
       "   values=zarr.core.Array&gt;</span><table><thead><tr><th></th><th style=\"text-align: center\">0</th><th style=\"text-align: center\">1</th><th style=\"text-align: center\">2</th><th style=\"text-align: center\">3</th><th style=\"text-align: center\">4</th><th style=\"text-align: center\">...</th><th style=\"text-align: center\">502</th><th style=\"text-align: center\">503</th><th style=\"text-align: center\">504</th><th style=\"text-align: center\">505</th><th style=\"text-align: center\">506</th></tr></thead><tbody><tr><th style=\"text-align: center; background-color: white; border-right: 1px solid black; \">0</th><td style=\"text-align: center\">0/0</td><td style=\"text-align: center\">0/0</td><td style=\"text-align: center\">0/0</td><td style=\"text-align: center\">0/0</td><td style=\"text-align: center\">0/0</td><td style=\"text-align: center\">...</td><td style=\"text-align: center\">./.</td><td style=\"text-align: center\">0/0</td><td style=\"text-align: center\">0/0</td><td style=\"text-align: center\">./.</td><td style=\"text-align: center\">0/0</td></tr><tr><th style=\"text-align: center; background-color: white; border-right: 1px solid black; \">1</th><td style=\"text-align: center\">0/0</td><td style=\"text-align: center\">0/0</td><td style=\"text-align: center\">0/0</td><td style=\"text-align: center\">0/0</td><td style=\"text-align: center\">0/0</td><td style=\"text-align: center\">...</td><td style=\"text-align: center\">0/0</td><td style=\"text-align: center\">0/0</td><td style=\"text-align: center\">0/0</td><td style=\"text-align: center\">./.</td><td style=\"text-align: center\">0/0</td></tr><tr><th style=\"text-align: center; background-color: white; border-right: 1px solid black; \">2</th><td style=\"text-align: center\">0/0</td><td style=\"text-align: center\">0/0</td><td style=\"text-align: center\">0/0</td><td style=\"text-align: center\">0/0</td><td style=\"text-align: center\">0/0</td><td style=\"text-align: center\">...</td><td style=\"text-align: center\">0/0</td><td style=\"text-align: center\">0/0</td><td style=\"text-align: center\">0/0</td><td style=\"text-align: center\">./.</td><td style=\"text-align: center\">0/0</td></tr><tr><th style=\"text-align: center; background-color: white; border-right: 1px solid black; \">...</th><td style=\"text-align: center\" colspan=\"12\">...</td></tr><tr><th style=\"text-align: center; background-color: white; border-right: 1px solid black; \">330934</th><td style=\"text-align: center\">0/0</td><td style=\"text-align: center\">0/0</td><td style=\"text-align: center\">0/0</td><td style=\"text-align: center\">0/0</td><td style=\"text-align: center\">0/0</td><td style=\"text-align: center\">...</td><td style=\"text-align: center\">./.</td><td style=\"text-align: center\">0/0</td><td style=\"text-align: center\">0/0</td><td style=\"text-align: center\">0/0</td><td style=\"text-align: center\">0/0</td></tr><tr><th style=\"text-align: center; background-color: white; border-right: 1px solid black; \">330935</th><td style=\"text-align: center\">0/0</td><td style=\"text-align: center\">0/0</td><td style=\"text-align: center\">0/0</td><td style=\"text-align: center\">0/0</td><td style=\"text-align: center\">0/0</td><td style=\"text-align: center\">...</td><td style=\"text-align: center\">0/0</td><td style=\"text-align: center\">0/0</td><td style=\"text-align: center\">0/0</td><td style=\"text-align: center\">0/0</td><td style=\"text-align: center\">0/0</td></tr><tr><th style=\"text-align: center; background-color: white; border-right: 1px solid black; \">330936</th><td style=\"text-align: center\">0/0</td><td style=\"text-align: center\">0/0</td><td style=\"text-align: center\">0/0</td><td style=\"text-align: center\">0/0</td><td style=\"text-align: center\">0/0</td><td style=\"text-align: center\">...</td><td style=\"text-align: center\">0/0</td><td style=\"text-align: center\">0/0</td><td style=\"text-align: center\">0/0</td><td style=\"text-align: center\">0/0</td><td style=\"text-align: center\">0/0</td></tr></tbody></table></div>"
      ],
      "text/plain": [
       "<GenotypeChunkedArray shape=(330937, 507, 2) dtype=int8 chunks=(1293, 507, 2)\n",
       "   nbytes=320.0M cbytes=46.6M cratio=6.9\n",
       "   compression=blosc compression_opts={'cname': 'lz4', 'clevel': 5, 'shuffle': 1, 'blocksize': 0}\n",
       "   values=zarr.core.Array>"
      ]
     },
     "execution_count": 19,
     "metadata": {},
     "output_type": "execute_result"
    }
   ],
   "source": [
    "genotypes_subset_1 = genotypes.compress(biallelic)\n",
    "genotypes_subset_1\n",
    "###subset the array genotypes_subset by keeping only biallelic sites. "
   ]
  },
  {
   "cell_type": "code",
   "execution_count": 20,
   "metadata": {},
   "outputs": [
    {
     "data": {
      "text/html": [
       "<div class=\"allel allel-DisplayAs2D\"><span>&lt;AlleleCountsChunkedArray shape=(330937, 2) dtype=int32 chunks=(41368, 2)\n",
       "   nbytes=2.5M cbytes=735.5K cratio=3.5\n",
       "   compression=blosc compression_opts={'cname': 'lz4', 'clevel': 5, 'shuffle': 1, 'blocksize': 0}\n",
       "   values=zarr.core.Array&gt;</span><table><thead><tr><th></th><th style=\"text-align: center\">0</th><th style=\"text-align: center\">1</th></tr></thead><tbody><tr><th style=\"text-align: center; background-color: white; border-right: 1px solid black; \">0</th><td style=\"text-align: center\">917</td><td style=\"text-align: center\"> 29</td></tr><tr><th style=\"text-align: center; background-color: white; border-right: 1px solid black; \">1</th><td style=\"text-align: center\">919</td><td style=\"text-align: center\">  1</td></tr><tr><th style=\"text-align: center; background-color: white; border-right: 1px solid black; \">2</th><td style=\"text-align: center\">916</td><td style=\"text-align: center\">  6</td></tr><tr><th style=\"text-align: center; background-color: white; border-right: 1px solid black; \">...</th><td style=\"text-align: center\" colspan=\"3\">...</td></tr><tr><th style=\"text-align: center; background-color: white; border-right: 1px solid black; \">330934</th><td style=\"text-align: center\">971</td><td style=\"text-align: center\">  1</td></tr><tr><th style=\"text-align: center; background-color: white; border-right: 1px solid black; \">330935</th><td style=\"text-align: center\">857</td><td style=\"text-align: center\">  1</td></tr><tr><th style=\"text-align: center; background-color: white; border-right: 1px solid black; \">330936</th><td style=\"text-align: center\">853</td><td style=\"text-align: center\">  1</td></tr></tbody></table></div>"
      ],
      "text/plain": [
       "<AlleleCountsChunkedArray shape=(330937, 2) dtype=int32 chunks=(41368, 2)\n",
       "   nbytes=2.5M cbytes=735.5K cratio=3.5\n",
       "   compression=blosc compression_opts={'cname': 'lz4', 'clevel': 5, 'shuffle': 1, 'blocksize': 0}\n",
       "   values=zarr.core.Array>"
      ]
     },
     "execution_count": 20,
     "metadata": {},
     "output_type": "execute_result"
    }
   ],
   "source": [
    "ac = genotypes_subset_1.count_alleles()\n",
    "ac"
   ]
  },
  {
   "cell_type": "code",
   "execution_count": 33,
   "metadata": {},
   "outputs": [
    {
     "data": {
      "text/plain": [
       "array([ True,  True,  True,  True,  True,  True,  True,  True,  True,\n",
       "        True,  True,  True,  True,  True,  True,  True,  True,  True,\n",
       "        True,  True,  True,  True,  True, False,  True,  True,  True,\n",
       "        True,  True,  True])"
      ]
     },
     "execution_count": 33,
     "metadata": {},
     "output_type": "execute_result"
    }
   ],
   "source": [
    "biallelic[:30]"
   ]
  },
  {
   "cell_type": "code",
   "execution_count": 34,
   "metadata": {},
   "outputs": [
    {
     "data": {
      "text/html": [
       "<div class=\"allel allel-DisplayAsTable\"><span>&lt;VariantTable shape=(24,) dtype=(numpy.record, [('POS', '&lt;i4'), ('REF', 'O'), ('ALT', 'O', (3,)), ('DP', '&lt;i4'), ('QUAL', '&lt;f4'), ('AN', '&lt;i4'), ('MQ', '&lt;f4'), ('QD', '&lt;f4'), ('SOR', '&lt;f4'), ('MQRankSum', '&lt;f4'), ('ReadPosRankSum', '&lt;f4'), ('numalt', '&lt;i4')])&gt;</span><table><thead><tr><th></th><th style=\"text-align: center\">POS</th><th style=\"text-align: center\">REF</th><th style=\"text-align: center\">ALT</th><th style=\"text-align: center\">DP</th><th style=\"text-align: center\">QUAL</th><th style=\"text-align: center\">AN</th><th style=\"text-align: center\">MQ</th><th style=\"text-align: center\">QD</th><th style=\"text-align: center\">SOR</th><th style=\"text-align: center\">MQRankSum</th><th style=\"text-align: center\">ReadPosRankSum</th><th style=\"text-align: center\">numalt</th></tr></thead><tbody><tr><th style=\"text-align: center; background-color: white; border-right: 1px solid black; \">0</th><td style=\"text-align: center\">12</td><td style=\"text-align: center\">T</td><td style=\"text-align: center\">['C' '' '']</td><td style=\"text-align: center\">730</td><td style=\"text-align: center\">480.31</td><td style=\"text-align: center\">588</td><td style=\"text-align: center\">42.94</td><td style=\"text-align: center\">22.87</td><td style=\"text-align: center\">2.636</td><td style=\"text-align: center\">0.0</td><td style=\"text-align: center\">-1.036</td><td style=\"text-align: center\">1</td></tr><tr><th style=\"text-align: center; background-color: white; border-right: 1px solid black; \">1</th><td style=\"text-align: center\">55</td><td style=\"text-align: center\">A</td><td style=\"text-align: center\">['T' '' '']</td><td style=\"text-align: center\">1414</td><td style=\"text-align: center\">203.29</td><td style=\"text-align: center\">776</td><td style=\"text-align: center\">57.55</td><td style=\"text-align: center\">10.7</td><td style=\"text-align: center\">0.072</td><td style=\"text-align: center\">0.0</td><td style=\"text-align: center\">0.0</td><td style=\"text-align: center\">1</td></tr><tr><th style=\"text-align: center; background-color: white; border-right: 1px solid black; \">2</th><td style=\"text-align: center\">58</td><td style=\"text-align: center\">A</td><td style=\"text-align: center\">['T' '' '']</td><td style=\"text-align: center\">1479</td><td style=\"text-align: center\">199.35</td><td style=\"text-align: center\">784</td><td style=\"text-align: center\">55.95</td><td style=\"text-align: center\">18.12</td><td style=\"text-align: center\">1.609</td><td style=\"text-align: center\">0.0</td><td style=\"text-align: center\">-0.21</td><td style=\"text-align: center\">1</td></tr><tr><th style=\"text-align: center; background-color: white; border-right: 1px solid black; \">...</th><td style=\"text-align: center\" colspan=\"13\">...</td></tr><tr><th style=\"text-align: center; background-color: white; border-right: 1px solid black; \">21</th><td style=\"text-align: center\">300</td><td style=\"text-align: center\">C</td><td style=\"text-align: center\">['G' '' '']</td><td style=\"text-align: center\">12285</td><td style=\"text-align: center\">386.31</td><td style=\"text-align: center\">944</td><td style=\"text-align: center\">60.0</td><td style=\"text-align: center\">21.46</td><td style=\"text-align: center\">0.195</td><td style=\"text-align: center\">0.0</td><td style=\"text-align: center\">-0.375</td><td style=\"text-align: center\">1</td></tr><tr><th style=\"text-align: center; background-color: white; border-right: 1px solid black; \">22</th><td style=\"text-align: center\">312</td><td style=\"text-align: center\">A</td><td style=\"text-align: center\">['G' '' '']</td><td style=\"text-align: center\">13216</td><td style=\"text-align: center\">501.05</td><td style=\"text-align: center\">944</td><td style=\"text-align: center\">59.02</td><td style=\"text-align: center\">16.7</td><td style=\"text-align: center\">0.155</td><td style=\"text-align: center\">0.0</td><td style=\"text-align: center\">0.476</td><td style=\"text-align: center\">1</td></tr><tr><th style=\"text-align: center; background-color: white; border-right: 1px solid black; \">23</th><td style=\"text-align: center\">343</td><td style=\"text-align: center\">A</td><td style=\"text-align: center\">['G' 'T' '']</td><td style=\"text-align: center\">17140</td><td style=\"text-align: center\">2108.23</td><td style=\"text-align: center\">944</td><td style=\"text-align: center\">60.0</td><td style=\"text-align: center\">7.12</td><td style=\"text-align: center\">0.216</td><td style=\"text-align: center\">0.0</td><td style=\"text-align: center\">0.391</td><td style=\"text-align: center\">2</td></tr></tbody></table></div>"
      ],
      "text/plain": [
       "<VariantTable shape=(24,) dtype=(numpy.record, [('POS', '<i4'), ('REF', 'O'), ('ALT', 'O', (3,)), ('DP', '<i4'), ('QUAL', '<f4'), ('AN', '<i4'), ('MQ', '<f4'), ('QD', '<f4'), ('SOR', '<f4'), ('MQRankSum', '<f4'), ('ReadPosRankSum', '<f4'), ('numalt', '<i4')])>\n",
       "[( 12, 'T', ['C', '', ''],   730, 4.80310e+02, 588,  42.94, 22.87, 2.636, 0., -1.036, 1)\n",
       " ( 55, 'A', ['T', '', ''],  1414, 2.03290e+02, 776,  57.55, 10.7 , 0.072, 0.,  0.   , 1)\n",
       " ( 58, 'A', ['T', '', ''],  1479, 1.99350e+02, 784,  55.95, 18.12, 1.609, 0., -0.21 , 1)\n",
       " ( 80, 'G', ['A', '', ''],  1841, 3.86544e+04, 730,  58.59, 26.49, 0.288, 0.,  0.   , 1)\n",
       " ( 88, 'T', ['A', '', ''],  1955, 3.14200e+02, 854,  53.98, 18.48, 0.481, 0.,  0.135, 1)\n",
       " (103, 'A', ['G', '', ''],  2255, 1.98040e+02, 884,  61.64, 13.2 , 0.693, 0.,  1.8  , 1)\n",
       " (122, 'C', ['A', '', ''],  2715, 6.27028e+04, 836,  59.23, 27.26, 0.878, 0.,  0.   , 1)\n",
       " (124, 'C', ['A', '', ''],  2798, 3.39800e+01, 914, 161.55, 33.98, 0.014, 0.,  1.46 , 1)\n",
       " (131, 'T', ['C', 'G', ''],  2920, 1.19605e+04, 902,  59.29, 19.87, 1.136, 0., -0.135, 2)\n",
       " (133, 'T', ['C', '', ''],  3005, 3.06704e+03, 912,  59.08, 13.39, 0.81 , 0.,  0.385, 1)\n",
       " (134, 'G', ['A', '', ''],  3066, 7.08230e+02, 918,  65.92, 14.45, 0.269, 0., -0.431, 1)\n",
       " (150, 'C', ['T', '', ''],  3487, 6.78300e+01, 928,  60.  , 11.3 , 1.329, 0.,  0.   , 1)\n",
       " (176, 'T', ['C', '', ''],  4440, 1.27881e+03, 930,  60.  , 14.87, 0.446, 0.,  0.   , 1)\n",
       " (182, 'C', ['T', '', ''],  4612, 1.53300e+01, 930,  60.  ,  2.19, 0.223, 0., -1.068, 1)\n",
       " (222, 'A', ['G', '', ''],  6159, 9.01620e+04, 928,  60.1 , 21.65, 0.622, 0.,  0.   , 1)\n",
       " (230, 'A', ['T', '', ''],  6475, 1.92802e+04, 934,  60.19, 15.49, 0.378, 0.,  0.135, 1)\n",
       " (232, 'T', ['C', '', ''],  6520, 1.71707e+03, 936,  68.16, 12.01, 1.073, 0., -0.319, 1)\n",
       " (269, 'T', ['A', '', ''],  9234, 1.35794e+03, 942,  62.78, 14.6 , 1.523, 0.,  0.   , 1)\n",
       " (271, 'G', ['A', '', ''],  9346, 2.36510e+02, 942,  60.  , 16.89, 0.283, 0., -0.063, 1)\n",
       " (279, 'A', ['T', '', ''], 10984, 3.68536e+03, 944,  60.  , 14.28, 1.535, 0.,  0.319, 1)\n",
       " (296, 'T', ['G', '', ''], 11879, 2.80485e+03, 944,  60.  , 14.61, 0.439, 0., -0.365, 1)\n",
       " (300, 'C', ['G', '', ''], 12285, 3.86310e+02, 944,  60.  , 21.46, 0.195, 0., -0.375, 1)\n",
       " (312, 'A', ['G', '', ''], 13216, 5.01050e+02, 944,  59.02, 16.7 , 0.155, 0.,  0.476, 1)\n",
       " (343, 'A', ['G', 'T', ''], 17140, 2.10823e+03, 944,  60.  ,  7.12, 0.216, 0.,  0.391, 2)]"
      ]
     },
     "execution_count": 34,
     "metadata": {},
     "output_type": "execute_result"
    }
   ],
   "source": [
    "variants[:24]\n",
    "#non-biallelic also give False, POS 343 (23 on array biallelic[:30]) has two alternative alleles hence is not biallelic."
   ]
  },
  {
   "cell_type": "code",
   "execution_count": 21,
   "metadata": {},
   "outputs": [
    {
     "data": {
      "text/plain": [
       "330937"
      ]
     },
     "execution_count": 21,
     "metadata": {},
     "output_type": "execute_result"
    }
   ],
   "source": [
    "n_variants = len(genotypes_subset_1)\n",
    "n_variants"
   ]
  },
  {
   "cell_type": "code",
   "execution_count": 22,
   "metadata": {},
   "outputs": [],
   "source": [
    "pc_missing = genotypes_subset_1.count_missing(axis=0)[:] * 100 / n_variants\n",
    "pc_het = genotypes_subset_1.count_het(axis=0)[:] * 100 / n_variants"
   ]
  },
  {
   "cell_type": "code",
   "execution_count": 33,
   "metadata": {},
   "outputs": [
    {
     "data": {
      "text/plain": [
       "array(['CH-BP-05', 'CH-BP-06', 'DE-BP-09', 'DE-BP-10', 'ES-BP-02',\n",
       "       'FI-BP-19', 'FI-BP-20', 'FR-BP-03', 'FR-BP-04', 'FR-BP-21',\n",
       "       'GB-BP-13', 'GB-BP-14', 'IT-BP-07', 'IT-BP-08', 'LT-BP-11',\n",
       "       'LT-BP-12', 'NO-BP-15', 'NO-BP-16', 'SE-BP-17', 'SE-BP-18', 'YT'],\n",
       "      dtype=object)"
      ]
     },
     "execution_count": 33,
     "metadata": {},
     "output_type": "execute_result"
    }
   ],
   "source": [
    "samples.Population.unique()\n",
    "###This identifiers come from the metadata file"
   ]
  },
  {
   "cell_type": "code",
   "execution_count": 26,
   "metadata": {},
   "outputs": [],
   "source": [
    "def plot_genotype_frequency(pc, title):\n",
    "    fig, ax = plt.subplots(figsize=(24, 5))\n",
    "    sns.despine(ax=ax, offset=24)\n",
    "    left = np.arange(len(pc))\n",
    "    palette = sns.color_palette(\"hls\", 28)\n",
    "    pop2color = {'LT-BP-12': palette[7],\n",
    "                 'CH-BP-06': palette[1],\n",
    "                 'NO-BP-15': palette[2],\n",
    "                 'FR-BP-03': palette[3],\n",
    "                 'FI-BP-19': palette[4],\n",
    "                 'FR-BP-04': palette[5],\n",
    "                 'FI-BP-20': palette[6],\n",
    "                 'IT-BP-07': palette[0],\n",
    "                 'GB-BP-14': palette[8],\n",
    "                 'GB-BP-13': palette[9],\n",
    "                 'SE-BP-18': palette[10],\n",
    "                 'IT-BP-08': palette[11],\n",
    "                 'LT-BP-11': palette[12],\n",
    "                 'ES-BP-02': palette[13],\n",
    "                 'DE-BP-10': palette[14],\n",
    "                 'FR-BP-21': palette[16],\n",
    "                 'NO-BP-16': palette[17],\n",
    "                 'CH-BP-05': palette[18],\n",
    "                 'DE-BP-09': palette[19],\n",
    "                 'YT': palette[27],\n",
    "                 'SE-BP-17': palette[23]}\n",
    "    colors = [pop2color[p] for p in samples.Population]\n",
    "    ax.bar(left, pc, color=colors)\n",
    "    ax.set_xlim(0, len(pc))\n",
    "    ax.set_xlabel('Sample index')\n",
    "    ax.set_ylabel('Percent calls')\n",
    "    ax.set_title(title)\n",
    "    handles = [mpl.patches.Patch(color=palette[7]),\n",
    "               mpl.patches.Patch(color=palette[1]),\n",
    "               mpl.patches.Patch(color=palette[2]),\n",
    "               mpl.patches.Patch(color=palette[3]),\n",
    "               mpl.patches.Patch(color=palette[4]),\n",
    "               mpl.patches.Patch(color=palette[5]),\n",
    "               mpl.patches.Patch(color=palette[6]),\n",
    "               mpl.patches.Patch(color=palette[0]),\n",
    "               mpl.patches.Patch(color=palette[8]),\n",
    "               mpl.patches.Patch(color=palette[9]),\n",
    "               mpl.patches.Patch(color=palette[10]),\n",
    "               mpl.patches.Patch(color=palette[11]),\n",
    "               mpl.patches.Patch(color=palette[12]),\n",
    "               mpl.patches.Patch(color=palette[13]),\n",
    "               mpl.patches.Patch(color=palette[14]),\n",
    "               mpl.patches.Patch(color=palette[16]),\n",
    "               mpl.patches.Patch(color=palette[17]),\n",
    "               mpl.patches.Patch(color=palette[18]),\n",
    "               mpl.patches.Patch(color=palette[19]),\n",
    "               mpl.patches.Patch(color=palette[27]),\n",
    "               mpl.patches.Patch(color=palette[23])]\n",
    "    ax.legend(handles=handles, labels=['LT-BP-12', 'CH-BP-06', 'NO-BP-15', 'FR-BP-03', 'FI-BP-19',\n",
    "       'FR-BP-04', 'FI-BP-20', 'IT-BP-07', 'GB-BP-14', 'GB-BP-13',\n",
    "       'SE-BP-18', 'IT-BP-08', 'LT-BP-11', 'ES-BP-02', 'DE-BP-10',\n",
    "       'ES-BP-01', 'FR-BP-21', 'NO-BP-16', 'CH-BP-05',\n",
    "       'DE-BP-09', 'FI-BBU', 'FI-BN','YT','SE-BP-17'], title='Population',\n",
    "              bbox_to_anchor=(1, 1), loc='upper left')"
   ]
  },
  {
   "cell_type": "code",
   "execution_count": 31,
   "metadata": {},
   "outputs": [
    {
     "data": {
      "image/png": "[encoded data removed]",
      "text/plain": [
       "<Figure size 1728x360 with 1 Axes>"
      ]
     },
     "metadata": {},
     "output_type": "display_data"
    }
   ],
   "source": [
    "plot_genotype_frequency(pc_missing, 'Missing')"
   ]
  },
  {
   "cell_type": "code",
   "execution_count": 34,
   "metadata": {},
   "outputs": [
    {
     "data": {
      "image/png": "[encoded data removed]",
      "text/plain": [
       "<Figure size 1728x360 with 1 Axes>"
      ]
     },
     "metadata": {},
     "output_type": "display_data"
    }
   ],
   "source": [
    "plot_genotype_frequency(pc_het, 'Heterozygosity')"
   ]
  },
  {
   "cell_type": "code",
   "execution_count": 35,
   "metadata": {},
   "outputs": [
    {
     "data": {
      "text/html": [
       "<div>\n",
       "<style scoped>\n",
       "    .dataframe tbody tr th:only-of-type {\n",
       "        vertical-align: middle;\n",
       "    }\n",
       "\n",
       "    .dataframe tbody tr th {\n",
       "        vertical-align: top;\n",
       "    }\n",
       "\n",
       "    .dataframe thead th {\n",
       "        text-align: right;\n",
       "    }\n",
       "</style>\n",
       "<table border=\"1\" class=\"dataframe\">\n",
       "  <thead>\n",
       "    <tr style=\"text-align: right;\">\n",
       "      <th></th>\n",
       "      <th>ID</th>\n",
       "      <th>Population</th>\n",
       "    </tr>\n",
       "  </thead>\n",
       "  <tbody>\n",
       "    <tr>\n",
       "      <th>0</th>\n",
       "      <td>CH-BP-05-01</td>\n",
       "      <td>CH-BP-05</td>\n",
       "    </tr>\n",
       "    <tr>\n",
       "      <th>1</th>\n",
       "      <td>CH-BP-05-02</td>\n",
       "      <td>CH-BP-05</td>\n",
       "    </tr>\n",
       "    <tr>\n",
       "      <th>2</th>\n",
       "      <td>CH-BP-05-03</td>\n",
       "      <td>CH-BP-05</td>\n",
       "    </tr>\n",
       "    <tr>\n",
       "      <th>3</th>\n",
       "      <td>CH-BP-05-04</td>\n",
       "      <td>CH-BP-05</td>\n",
       "    </tr>\n",
       "    <tr>\n",
       "      <th>4</th>\n",
       "      <td>CH-BP-05-05</td>\n",
       "      <td>CH-BP-05</td>\n",
       "    </tr>\n",
       "    <tr>\n",
       "      <th>...</th>\n",
       "      <td>...</td>\n",
       "      <td>...</td>\n",
       "    </tr>\n",
       "    <tr>\n",
       "      <th>502</th>\n",
       "      <td>YT-866</td>\n",
       "      <td>YT</td>\n",
       "    </tr>\n",
       "    <tr>\n",
       "      <th>503</th>\n",
       "      <td>YT-867</td>\n",
       "      <td>YT</td>\n",
       "    </tr>\n",
       "    <tr>\n",
       "      <th>504</th>\n",
       "      <td>YT-868</td>\n",
       "      <td>YT</td>\n",
       "    </tr>\n",
       "    <tr>\n",
       "      <th>505</th>\n",
       "      <td>YT-869</td>\n",
       "      <td>YT</td>\n",
       "    </tr>\n",
       "    <tr>\n",
       "      <th>506</th>\n",
       "      <td>YT-871</td>\n",
       "      <td>YT</td>\n",
       "    </tr>\n",
       "  </tbody>\n",
       "</table>\n",
       "<p>507 rows × 2 columns</p>\n",
       "</div>"
      ],
      "text/plain": [
       "              ID Population\n",
       "0    CH-BP-05-01   CH-BP-05\n",
       "1    CH-BP-05-02   CH-BP-05\n",
       "2    CH-BP-05-03   CH-BP-05\n",
       "3    CH-BP-05-04   CH-BP-05\n",
       "4    CH-BP-05-05   CH-BP-05\n",
       "..           ...        ...\n",
       "502       YT-866         YT\n",
       "503       YT-867         YT\n",
       "504       YT-868         YT\n",
       "505       YT-869         YT\n",
       "506       YT-871         YT\n",
       "\n",
       "[507 rows x 2 columns]"
      ]
     },
     "execution_count": 35,
     "metadata": {},
     "output_type": "execute_result"
    }
   ],
   "source": [
    "samples"
   ]
  },
  {
   "cell_type": "code",
   "execution_count": 36,
   "metadata": {},
   "outputs": [],
   "source": [
    "populations = samples.Population.unique()"
   ]
  },
  {
   "cell_type": "code",
   "execution_count": 37,
   "metadata": {},
   "outputs": [
    {
     "data": {
      "text/plain": [
       "array(['CH-BP-05', 'CH-BP-06', 'DE-BP-09', 'DE-BP-10', 'ES-BP-02',\n",
       "       'FI-BP-19', 'FI-BP-20', 'FR-BP-03', 'FR-BP-04', 'FR-BP-21',\n",
       "       'GB-BP-13', 'GB-BP-14', 'IT-BP-07', 'IT-BP-08', 'LT-BP-11',\n",
       "       'LT-BP-12', 'NO-BP-15', 'NO-BP-16', 'SE-BP-17', 'SE-BP-18', 'YT'],\n",
       "      dtype=object)"
      ]
     },
     "execution_count": 37,
     "metadata": {},
     "output_type": "execute_result"
    }
   ],
   "source": [
    "populations"
   ]
  },
  {
   "cell_type": "code",
   "execution_count": 38,
   "metadata": {},
   "outputs": [
    {
     "data": {
      "text/html": [
       "<div class=\"allel allel-DisplayAs2D\"><span>&lt;AlleleCountsChunkedArray shape=(330937, 2) dtype=int32 chunks=(41368, 2)\n",
       "   nbytes=2.5M cbytes=735.5K cratio=3.5\n",
       "   compression=blosc compression_opts={'cname': 'lz4', 'clevel': 5, 'shuffle': 1, 'blocksize': 0}\n",
       "   values=zarr.core.Array&gt;</span><table><thead><tr><th></th><th style=\"text-align: center\">0</th><th style=\"text-align: center\">1</th></tr></thead><tbody><tr><th style=\"text-align: center; background-color: white; border-right: 1px solid black; \">0</th><td style=\"text-align: center\">917</td><td style=\"text-align: center\"> 29</td></tr><tr><th style=\"text-align: center; background-color: white; border-right: 1px solid black; \">1</th><td style=\"text-align: center\">919</td><td style=\"text-align: center\">  1</td></tr><tr><th style=\"text-align: center; background-color: white; border-right: 1px solid black; \">2</th><td style=\"text-align: center\">916</td><td style=\"text-align: center\">  6</td></tr><tr><th style=\"text-align: center; background-color: white; border-right: 1px solid black; \">...</th><td style=\"text-align: center\" colspan=\"3\">...</td></tr><tr><th style=\"text-align: center; background-color: white; border-right: 1px solid black; \">330934</th><td style=\"text-align: center\">971</td><td style=\"text-align: center\">  1</td></tr><tr><th style=\"text-align: center; background-color: white; border-right: 1px solid black; \">330935</th><td style=\"text-align: center\">857</td><td style=\"text-align: center\">  1</td></tr><tr><th style=\"text-align: center; background-color: white; border-right: 1px solid black; \">330936</th><td style=\"text-align: center\">853</td><td style=\"text-align: center\">  1</td></tr></tbody></table></div>"
      ],
      "text/plain": [
       "<AlleleCountsChunkedArray shape=(330937, 2) dtype=int32 chunks=(41368, 2)\n",
       "   nbytes=2.5M cbytes=735.5K cratio=3.5\n",
       "   compression=blosc compression_opts={'cname': 'lz4', 'clevel': 5, 'shuffle': 1, 'blocksize': 0}\n",
       "   values=zarr.core.Array>"
      ]
     },
     "execution_count": 38,
     "metadata": {},
     "output_type": "execute_result"
    }
   ],
   "source": [
    "ac = genotypes_subset_1.count_alleles()\n",
    "ac"
   ]
  },
  {
   "cell_type": "code",
   "execution_count": 47,
   "metadata": {},
   "outputs": [],
   "source": [
    "palette = sns.color_palette(\"hls\",30)\n",
    "pop_colours = {        \n",
    "    'CH-BP-05': palette[15], \n",
    "    'CH-BP-06': palette[1],\n",
    "    'DE-BP-09': palette[2], \n",
    "    'DE-BP-10': palette[3], \n",
    "    'ES-BP-02': palette[5],\n",
    "    'FI-BP-19': palette[8], \n",
    "    'FI-BP-20': palette[17],\n",
    "    'FR-BP-03': palette[10],\n",
    "    'FR-BP-04': palette[11],\n",
    "    'FR-BP-21': palette[12],\n",
    "    'GB-BP-13': palette[13],\n",
    "    'GB-BP-14': palette[14],\n",
    "    'IT-BP-07': palette[0],\n",
    "    'IT-BP-08': palette[16],\n",
    "    'LT-BP-11': palette[27],\n",
    "    'LT-BP-12': palette[18],\n",
    "    'NO-BP-15': palette[19],\n",
    "    'NO-BP-16': palette[20],\n",
    "    'SE-BP-17': palette[21],\n",
    "    'YT': palette[23],\n",
    "    'SE-BP-18': palette[22],\n",
    "         }"
   ]
  },
  {
   "cell_type": "code",
   "execution_count": 41,
   "metadata": {},
   "outputs": [],
   "source": [
    "def plot_pca_coords(coords, model, pc1, pc2, ax, sample_population):\n",
    "    sns.despine(ax=ax, offset=5)\n",
    "    x = coords[:, pc1]\n",
    "    y = coords[:, pc2]\n",
    "    for pop in populations:\n",
    "        flt = (sample_population == pop)\n",
    "        ax.plot(x[flt], y[flt], marker='o', linestyle=' ', color=pop_colours[pop], \n",
    "                label=pop, markersize=6, mec='k', mew=.5)\n",
    "    ax.set_xlabel('PC%s (%.1f%%)' % (pc1+1, model.explained_variance_ratio_[pc1]*100))\n",
    "    ax.set_ylabel('PC%s (%.1f%%)' % (pc2+1, model.explained_variance_ratio_[pc2]*100))\n",
    "    \n",
    "\n",
    "def fig_pca(coords, model, title, sample_population=None):\n",
    "    if sample_population is None:\n",
    "        sample_population = samples.Population.values\n",
    "    # plot coords for PCs 1 vs 2, 3 vs 4\n",
    "    fig = plt.figure(figsize=(10, 5))\n",
    "    ax = fig.add_subplot(1, 2, 1)\n",
    "    plot_pca_coords(coords, model, 0, 1, ax, sample_population)\n",
    "    ax = fig.add_subplot(1, 2, 2)\n",
    "    plot_pca_coords(coords, model, 2, 3, ax, sample_population)\n",
    "    ax.legend(bbox_to_anchor=(1, 1), loc='upper left')\n",
    "    fig.suptitle(title, y=1.02)\n",
    "    fig.tight_layout()"
   ]
  },
  {
   "cell_type": "code",
   "execution_count": 42,
   "metadata": {},
   "outputs": [
    {
     "data": {
      "text/plain": [
       "<ChunkedArrayWrapper shape=(253920, 507) dtype=int8 chunks=(1984, 507)\n",
       "   nbytes=122.8M cbytes=24.5M cratio=5.0\n",
       "   compression=blosc compression_opts={'cname': 'lz4', 'clevel': 5, 'shuffle': 1, 'blocksize': 0}\n",
       "   values=zarr.core.Array>"
      ]
     },
     "execution_count": 42,
     "metadata": {},
     "output_type": "execute_result"
    }
   ],
   "source": [
    "flt = (ac[:, :2].min(axis=1) > 1)\n",
    "gf = genotypes_subset_1.compress(flt, axis=0)\n",
    "gn = gf.to_n_alt()\n",
    "gn"
   ]
  },
  {
   "cell_type": "code",
   "execution_count": 43,
   "metadata": {},
   "outputs": [],
   "source": [
    "coords1, model1 = allel.pca(gn, n_components=10, scaler='patterson')"
   ]
  },
  {
   "cell_type": "code",
   "execution_count": 48,
   "metadata": {},
   "outputs": [
    {
     "data": {
      "image/png": "[encoded data removed]",
      "text/plain": [
       "<Figure size 720x360 with 2 Axes>"
      ]
     },
     "metadata": {},
     "output_type": "display_data"
    }
   ],
   "source": [
    "fig_pca(coords1, model1, 'Figure 1. Conventional PCA.')"
   ]
  },
  {
   "cell_type": "code",
   "execution_count": null,
   "metadata": {},
   "outputs": [],
   "source": []
  }
 ],
 "metadata": {
  "kernelspec": {
   "display_name": "Python 3",
   "language": "python",
   "name": "python3"
  },
  "language_info": {
   "codemirror_mode": {
    "name": "ipython",
    "version": 3
   },
   "file_extension": ".py",
   "mimetype": "text/x-python",
   "name": "python",
   "nbconvert_exporter": "python",
   "pygments_lexer": "ipython3",
   "version": "3.7.4"
  }
 },
 "nbformat": 4,
 "nbformat_minor": 2
}
