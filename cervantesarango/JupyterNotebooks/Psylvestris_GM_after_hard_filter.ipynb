{
 "cells": [
  {
   "cell_type": "code",
   "execution_count": 18,
   "metadata": {},
   "outputs": [
    {
     "name": "stdout",
     "output_type": "stream",
     "text": [
      "scikit-allel 1.2.1\n"
     ]
    }
   ],
   "source": [
    "import numpy as np\n",
    "import scipy\n",
    "import pandas\n",
    "import matplotlib as mpl\n",
    "import matplotlib.pyplot as plt\n",
    "%matplotlib inline\n",
    "import seaborn as sns\n",
    "sns.set_style('white')\n",
    "sns.set_style('ticks')\n",
    "sns.set_context('notebook')\n",
    "import h5py\n",
    "import allel; print('scikit-allel', allel.__version__)"
   ]
  },
  {
   "cell_type": "code",
   "execution_count": 2,
   "metadata": {},
   "outputs": [],
   "source": [
    "#allel.vcf_to_hdf5('/wrk/Gen_Tree/GenTree_Genome_mapping/Pinus_sylvestris/Psylvestris_GM_Oulu_filtered_v2.vcf', '/wrk/Gen_Tree/GenTree_Genome_mapping/Pinus_sylvestris/Psylvestris_GM_Oulu_filtered_v2.h5', fields='*', overwrite=True)"
   ]
  },
  {
   "cell_type": "code",
   "execution_count": 19,
   "metadata": {},
   "outputs": [
    {
     "data": {
      "text/plain": [
       "<HDF5 file \"Psylvestris_GM_Oulu_filtered_v2.h5\" (mode r)>"
      ]
     },
     "execution_count": 19,
     "metadata": {},
     "output_type": "execute_result"
    }
   ],
   "source": [
    "callset_fn = '/wrk/Gen_Tree/GenTree_Genome_mapping/Pinus_sylvestris/Psylvestris_GM_Oulu_filtered_v2.h5'\n",
    "callset = h5py.File(callset_fn, mode='r')\n",
    "callset"
   ]
  },
  {
   "cell_type": "code",
   "execution_count": 20,
   "metadata": {},
   "outputs": [
    {
     "data": {
      "text/plain": [
       "['calldata', 'samples', 'variants']"
      ]
     },
     "execution_count": 20,
     "metadata": {},
     "output_type": "execute_result"
    }
   ],
   "source": [
    "sorted(callset.keys())"
   ]
  },
  {
   "cell_type": "code",
   "execution_count": 21,
   "metadata": {},
   "outputs": [
    {
     "data": {
      "text/plain": [
       "<HDF5 group \"/variants\" (36 members)>"
      ]
     },
     "execution_count": 21,
     "metadata": {},
     "output_type": "execute_result"
    }
   ],
   "source": [
    "variants = callset['variants']\n",
    "variants"
   ]
  },
  {
   "cell_type": "code",
   "execution_count": 22,
   "metadata": {},
   "outputs": [
    {
     "data": {
      "text/html": [
       "<div class=\"allel allel-DisplayAsTable\"><span>&lt;VariantChunkedTable shape=(969462,) dtype=[('POS', '&lt;i4'), ('REF', 'O'), ('ALT', 'O', (3,)), ('DP', '&lt;i4'), ('QUAL', '&lt;f4'), ('AN', '&lt;i4'), ('MQ', '&lt;f4'), ('QD', '&lt;f4'), ('SOR', '&lt;f4'), ('MQRankSum', '&lt;f4'), ('ReadPosRankSum', '&lt;f4'), ('numalt', '&lt;i4')]\n",
       "   nbytes=66.6M cbytes=24.6M cratio=2.7\n",
       "   values=h5py._hl.group.Group&gt;</span><table><thead><tr><th></th><th style=\"text-align: center\">POS</th><th style=\"text-align: center\">REF</th><th style=\"text-align: center\">ALT</th><th style=\"text-align: center\">DP</th><th style=\"text-align: center\">QUAL</th><th style=\"text-align: center\">AN</th><th style=\"text-align: center\">MQ</th><th style=\"text-align: center\">QD</th><th style=\"text-align: center\">SOR</th><th style=\"text-align: center\">MQRankSum</th><th style=\"text-align: center\">ReadPosRankSum</th><th style=\"text-align: center\">numalt</th></tr></thead><tbody><tr><th style=\"text-align: center; background-color: white; border-right: 1px solid black; \">0</th><td style=\"text-align: center\">33320</td><td style=\"text-align: center\">T</td><td style=\"text-align: center\">['C' '' '']</td><td style=\"text-align: center\">1473</td><td style=\"text-align: center\">1081.16</td><td style=\"text-align: center\">824</td><td style=\"text-align: center\">37.75</td><td style=\"text-align: center\">16.38</td><td style=\"text-align: center\">0.61</td><td style=\"text-align: center\">-0.381</td><td style=\"text-align: center\">0.0</td><td style=\"text-align: center\">1</td></tr><tr><th style=\"text-align: center; background-color: white; border-right: 1px solid black; \">1</th><td style=\"text-align: center\">33330</td><td style=\"text-align: center\">A</td><td style=\"text-align: center\">['G' '' '']</td><td style=\"text-align: center\">1436</td><td style=\"text-align: center\">507.13</td><td style=\"text-align: center\">848</td><td style=\"text-align: center\">37.38</td><td style=\"text-align: center\">14.09</td><td style=\"text-align: center\">0.719</td><td style=\"text-align: center\">-0.126</td><td style=\"text-align: center\">0.0</td><td style=\"text-align: center\">1</td></tr><tr><th style=\"text-align: center; background-color: white; border-right: 1px solid black; \">2</th><td style=\"text-align: center\">33343</td><td style=\"text-align: center\">G</td><td style=\"text-align: center\">['A' '' '']</td><td style=\"text-align: center\">1333</td><td style=\"text-align: center\">1439.45</td><td style=\"text-align: center\">842</td><td style=\"text-align: center\">41.42</td><td style=\"text-align: center\">16.55</td><td style=\"text-align: center\">0.514</td><td style=\"text-align: center\">-0.319</td><td style=\"text-align: center\">0.0</td><td style=\"text-align: center\">1</td></tr><tr><th style=\"text-align: center; background-color: white; border-right: 1px solid black; \">...</th><td style=\"text-align: center\" colspan=\"13\">...</td></tr><tr><th style=\"text-align: center; background-color: white; border-right: 1px solid black; \">969459</th><td style=\"text-align: center\">1191038</td><td style=\"text-align: center\">G</td><td style=\"text-align: center\">['A' '' '']</td><td style=\"text-align: center\">22866</td><td style=\"text-align: center\">38.95</td><td style=\"text-align: center\">1116</td><td style=\"text-align: center\">111.35</td><td style=\"text-align: center\">0.57</td><td style=\"text-align: center\">0.018</td><td style=\"text-align: center\">0.0</td><td style=\"text-align: center\">0.274</td><td style=\"text-align: center\">1</td></tr><tr><th style=\"text-align: center; background-color: white; border-right: 1px solid black; \">969460</th><td style=\"text-align: center\">1191040</td><td style=\"text-align: center\">C</td><td style=\"text-align: center\">['T' '' '']</td><td style=\"text-align: center\">22809</td><td style=\"text-align: center\">32.42</td><td style=\"text-align: center\">1116</td><td style=\"text-align: center\">92.92</td><td style=\"text-align: center\">0.64</td><td style=\"text-align: center\">0.046</td><td style=\"text-align: center\">0.0</td><td style=\"text-align: center\">-0.831</td><td style=\"text-align: center\">1</td></tr><tr><th style=\"text-align: center; background-color: white; border-right: 1px solid black; \">969461</th><td style=\"text-align: center\">1191042</td><td style=\"text-align: center\">G</td><td style=\"text-align: center\">['A' '' '']</td><td style=\"text-align: center\">22784</td><td style=\"text-align: center\">159.37</td><td style=\"text-align: center\">1116</td><td style=\"text-align: center\">91.18</td><td style=\"text-align: center\">0.4</td><td style=\"text-align: center\">0.432</td><td style=\"text-align: center\">0.0</td><td style=\"text-align: center\">0.06</td><td style=\"text-align: center\">1</td></tr></tbody></table></div>"
      ],
      "text/plain": [
       "<VariantChunkedTable shape=(969462,) dtype=[('POS', '<i4'), ('REF', 'O'), ('ALT', 'O', (3,)), ('DP', '<i4'), ('QUAL', '<f4'), ('AN', '<i4'), ('MQ', '<f4'), ('QD', '<f4'), ('SOR', '<f4'), ('MQRankSum', '<f4'), ('ReadPosRankSum', '<f4'), ('numalt', '<i4')]\n",
       "   nbytes=66.6M cbytes=24.6M cratio=2.7\n",
       "   values=h5py._hl.group.Group>"
      ]
     },
     "execution_count": 22,
     "metadata": {},
     "output_type": "execute_result"
    }
   ],
   "source": [
    "variants = allel.VariantChunkedTable(callset['variants'], \n",
    "                                     names=['POS', 'REF', 'ALT', 'DP', 'QUAL', 'AN', 'MQ', 'QD', 'SOR', 'MQRankSum', 'ReadPosRankSum', 'numalt'])\n",
    "variants"
   ]
  },
  {
   "cell_type": "code",
   "execution_count": 23,
   "metadata": {},
   "outputs": [],
   "source": [
    "def plot_variant_hist(f, bins=30):\n",
    "    x = variants[f][:]\n",
    "    fig, ax = plt.subplots(figsize=(7, 5))\n",
    "    sns.despine(ax=ax, offset=10)\n",
    "    ax.hist(x, bins=bins)\n",
    "    ax.set_xlabel(f)\n",
    "    ax.set_ylabel('No. variants')\n",
    "    ax.set_title('Variant %s distribution' % f)"
   ]
  },
  {
   "cell_type": "code",
   "execution_count": 24,
   "metadata": {},
   "outputs": [
    {
     "data": {
      "text/plain": [
       "[<matplotlib.axis.XTick at 0x7f9e1d6a9e90>,\n",
       " <matplotlib.axis.XTick at 0x7f9e160c4850>,\n",
       " <matplotlib.axis.XTick at 0x7f9e1d6716d0>]"
      ]
     },
     "execution_count": 24,
     "metadata": {},
     "output_type": "execute_result"
    },
    {
     "data": {
      "image/png": "[encoded data removed]",
      "text/plain": [
       "<Figure size 504x360 with 1 Axes>"
      ]
     },
     "metadata": {},
     "output_type": "display_data"
    }
   ],
   "source": [
    "plot_variant_hist('numalt', bins=np.arange(0.5, 5.5, 1))\n",
    "plt.gca().set_xticks([1,2,3])"
   ]
  },
  {
   "cell_type": "code",
   "execution_count": 25,
   "metadata": {},
   "outputs": [
    {
     "data": {
      "image/png": "[encoded data removed]",
      "text/plain": [
       "<Figure size 504x360 with 1 Axes>"
      ]
     },
     "metadata": {},
     "output_type": "display_data"
    }
   ],
   "source": [
    "plot_variant_hist('QD')"
   ]
  },
  {
   "cell_type": "code",
   "execution_count": 26,
   "metadata": {},
   "outputs": [
    {
     "data": {
      "image/png": "[encoded data removed]",
      "text/plain": [
       "<Figure size 504x360 with 1 Axes>"
      ]
     },
     "metadata": {},
     "output_type": "display_data"
    }
   ],
   "source": [
    "plot_variant_hist('MQ', bins=100)"
   ]
  },
  {
   "cell_type": "code",
   "execution_count": 27,
   "metadata": {},
   "outputs": [
    {
     "data": {
      "image/png": "[encoded data removed]",
      "text/plain": [
       "<Figure size 504x360 with 1 Axes>"
      ]
     },
     "metadata": {},
     "output_type": "display_data"
    }
   ],
   "source": [
    "plot_variant_hist('SOR', bins=100)"
   ]
  },
  {
   "cell_type": "code",
   "execution_count": 28,
   "metadata": {},
   "outputs": [
    {
     "data": {
      "image/png": "[encoded data removed]",
      "text/plain": [
       "<Figure size 504x360 with 1 Axes>"
      ]
     },
     "metadata": {},
     "output_type": "display_data"
    }
   ],
   "source": [
    "plot_variant_hist('AN')"
   ]
  },
  {
   "cell_type": "code",
   "execution_count": 29,
   "metadata": {},
   "outputs": [
    {
     "data": {
      "text/plain": [
       "['CH_PS_5_1',\n",
       " 'CH_PS_5_10',\n",
       " 'CH_PS_5_11',\n",
       " 'CH_PS_5_12',\n",
       " 'CH_PS_5_13',\n",
       " 'CH_PS_5_14',\n",
       " 'CH_PS_5_15',\n",
       " 'CH_PS_5_16',\n",
       " 'CH_PS_5_17',\n",
       " 'CH_PS_5_18',\n",
       " 'CH_PS_5_19',\n",
       " 'CH_PS_5_2',\n",
       " 'CH_PS_5_20',\n",
       " 'CH_PS_5_21',\n",
       " 'CH_PS_5_22',\n",
       " 'CH_PS_5_23',\n",
       " 'CH_PS_5_24',\n",
       " 'CH_PS_5_25',\n",
       " 'CH_PS_5_3',\n",
       " 'CH_PS_5_4',\n",
       " 'CH_PS_5_5',\n",
       " 'CH_PS_5_6',\n",
       " 'CH_PS_5_7',\n",
       " 'CH_PS_5_8',\n",
       " 'CH_PS_5_9',\n",
       " 'CH_PS_6_1',\n",
       " 'CH_PS_6_10',\n",
       " 'CH_PS_6_11',\n",
       " 'CH_PS_6_12',\n",
       " 'CH_PS_6_13',\n",
       " 'CH_PS_6_14',\n",
       " 'CH_PS_6_15',\n",
       " 'CH_PS_6_16',\n",
       " 'CH_PS_6_17',\n",
       " 'CH_PS_6_18',\n",
       " 'CH_PS_6_19',\n",
       " 'CH_PS_6_2',\n",
       " 'CH_PS_6_20',\n",
       " 'CH_PS_6_21',\n",
       " 'CH_PS_6_22',\n",
       " 'CH_PS_6_23',\n",
       " 'CH_PS_6_24',\n",
       " 'CH_PS_6_25',\n",
       " 'CH_PS_6_3',\n",
       " 'CH_PS_6_4',\n",
       " 'CH_PS_6_5',\n",
       " 'CH_PS_6_6',\n",
       " 'CH_PS_6_7',\n",
       " 'CH_PS_6_8',\n",
       " 'CH_PS_6_9',\n",
       " 'DE_PS_11_1',\n",
       " 'DE_PS_11_10',\n",
       " 'DE_PS_11_11',\n",
       " 'DE_PS_11_12',\n",
       " 'DE_PS_11_13',\n",
       " 'DE_PS_11_14',\n",
       " 'DE_PS_11_15',\n",
       " 'DE_PS_11_16',\n",
       " 'DE_PS_11_17',\n",
       " 'DE_PS_11_19',\n",
       " 'DE_PS_11_2',\n",
       " 'DE_PS_11_20',\n",
       " 'DE_PS_11_21',\n",
       " 'DE_PS_11_22',\n",
       " 'DE_PS_11_23',\n",
       " 'DE_PS_11_24',\n",
       " 'DE_PS_11_25',\n",
       " 'DE_PS_11_3',\n",
       " 'DE_PS_11_5',\n",
       " 'DE_PS_11_6',\n",
       " 'DE_PS_11_7',\n",
       " 'DE_PS_11_8',\n",
       " 'DE_PS_11_9',\n",
       " 'DE_PS_12_1',\n",
       " 'DE_PS_12_10',\n",
       " 'DE_PS_12_11',\n",
       " 'DE_PS_12_12',\n",
       " 'DE_PS_12_13',\n",
       " 'DE_PS_12_14',\n",
       " 'DE_PS_12_15',\n",
       " 'DE_PS_12_16',\n",
       " 'DE_PS_12_17',\n",
       " 'DE_PS_12_18',\n",
       " 'DE_PS_12_19',\n",
       " 'DE_PS_12_2',\n",
       " 'DE_PS_12_20',\n",
       " 'DE_PS_12_21',\n",
       " 'DE_PS_12_22',\n",
       " 'DE_PS_12_23',\n",
       " 'DE_PS_12_24',\n",
       " 'DE_PS_12_25',\n",
       " 'DE_PS_12_3',\n",
       " 'DE_PS_12_4',\n",
       " 'DE_PS_12_5',\n",
       " 'DE_PS_12_6',\n",
       " 'DE_PS_12_7',\n",
       " 'DE_PS_12_8',\n",
       " 'DE_PS_12_9',\n",
       " 'ES_PS_1_1',\n",
       " 'ES_PS_1_10',\n",
       " 'ES_PS_1_11',\n",
       " 'ES_PS_1_12',\n",
       " 'ES_PS_1_13',\n",
       " 'ES_PS_1_14',\n",
       " 'ES_PS_1_15',\n",
       " 'ES_PS_1_16',\n",
       " 'ES_PS_1_17',\n",
       " 'ES_PS_1_18',\n",
       " 'ES_PS_1_19',\n",
       " 'ES_PS_1_2',\n",
       " 'ES_PS_1_20',\n",
       " 'ES_PS_1_21',\n",
       " 'ES_PS_1_22',\n",
       " 'ES_PS_1_23',\n",
       " 'ES_PS_1_24',\n",
       " 'ES_PS_1_25',\n",
       " 'ES_PS_1_3',\n",
       " 'ES_PS_1_4',\n",
       " 'ES_PS_1_5',\n",
       " 'ES_PS_1_6',\n",
       " 'ES_PS_1_7',\n",
       " 'ES_PS_1_8',\n",
       " 'ES_PS_1_9',\n",
       " 'ES_PS_2_1',\n",
       " 'ES_PS_2_10',\n",
       " 'ES_PS_2_11',\n",
       " 'ES_PS_2_12',\n",
       " 'ES_PS_2_13',\n",
       " 'ES_PS_2_14',\n",
       " 'ES_PS_2_15',\n",
       " 'ES_PS_2_16',\n",
       " 'ES_PS_2_17',\n",
       " 'ES_PS_2_18',\n",
       " 'ES_PS_2_19',\n",
       " 'ES_PS_2_2',\n",
       " 'ES_PS_2_20',\n",
       " 'ES_PS_2_21',\n",
       " 'ES_PS_2_22',\n",
       " 'ES_PS_2_23',\n",
       " 'ES_PS_2_24',\n",
       " 'ES_PS_2_25',\n",
       " 'ES_PS_2_3',\n",
       " 'ES_PS_2_4',\n",
       " 'ES_PS_2_5',\n",
       " 'ES_PS_2_6',\n",
       " 'ES_PS_2_7',\n",
       " 'ES_PS_2_8',\n",
       " 'ES_PS_2_9',\n",
       " 'FI_PS_18_1',\n",
       " 'FI_PS_18_10',\n",
       " 'FI_PS_18_12',\n",
       " 'FI_PS_18_13',\n",
       " 'FI_PS_18_14',\n",
       " 'FI_PS_18_15',\n",
       " 'FI_PS_18_16',\n",
       " 'FI_PS_18_17',\n",
       " 'FI_PS_18_18',\n",
       " 'FI_PS_18_19',\n",
       " 'FI_PS_18_2',\n",
       " 'FI_PS_18_20',\n",
       " 'FI_PS_18_21',\n",
       " 'FI_PS_18_22',\n",
       " 'FI_PS_18_23',\n",
       " 'FI_PS_18_24',\n",
       " 'FI_PS_18_25',\n",
       " 'FI_PS_18_3',\n",
       " 'FI_PS_18_4',\n",
       " 'FI_PS_18_5',\n",
       " 'FI_PS_18_6',\n",
       " 'FI_PS_18_7',\n",
       " 'FI_PS_18_8',\n",
       " 'FI_PS_18_9',\n",
       " 'FI_PS_19_1',\n",
       " 'FI_PS_19_10',\n",
       " 'FI_PS_19_11',\n",
       " 'FI_PS_19_12',\n",
       " 'FI_PS_19_13',\n",
       " 'FI_PS_19_14',\n",
       " 'FI_PS_19_15',\n",
       " 'FI_PS_19_16',\n",
       " 'FI_PS_19_17',\n",
       " 'FI_PS_19_18',\n",
       " 'FI_PS_19_19',\n",
       " 'FI_PS_19_2',\n",
       " 'FI_PS_19_20',\n",
       " 'FI_PS_19_21',\n",
       " 'FI_PS_19_22',\n",
       " 'FI_PS_19_23',\n",
       " 'FI_PS_19_24',\n",
       " 'FI_PS_19_25',\n",
       " 'FI_PS_19_3',\n",
       " 'FI_PS_19_4',\n",
       " 'FI_PS_19_5',\n",
       " 'FI_PS_19_6',\n",
       " 'FI_PS_19_7',\n",
       " 'FI_PS_19_8',\n",
       " 'FI_PS_19_9',\n",
       " 'FR_PS_3_1',\n",
       " 'FR_PS_3_10',\n",
       " 'FR_PS_3_11',\n",
       " 'FR_PS_3_12',\n",
       " 'FR_PS_3_13',\n",
       " 'FR_PS_3_14',\n",
       " 'FR_PS_3_15',\n",
       " 'FR_PS_3_16',\n",
       " 'FR_PS_3_18',\n",
       " 'FR_PS_3_19',\n",
       " 'FR_PS_3_2',\n",
       " 'FR_PS_3_20',\n",
       " 'FR_PS_3_21',\n",
       " 'FR_PS_3_22',\n",
       " 'FR_PS_3_23',\n",
       " 'FR_PS_3_24',\n",
       " 'FR_PS_3_25',\n",
       " 'FR_PS_3_26',\n",
       " 'FR_PS_3_3',\n",
       " 'FR_PS_3_4',\n",
       " 'FR_PS_3_5',\n",
       " 'FR_PS_3_6',\n",
       " 'FR_PS_3_7',\n",
       " 'FR_PS_3_8',\n",
       " 'FR_PS_3_9',\n",
       " 'FR_PS_4_10',\n",
       " 'FR_PS_4_11',\n",
       " 'FR_PS_4_12',\n",
       " 'FR_PS_4_13',\n",
       " 'FR_PS_4_14',\n",
       " 'FR_PS_4_15',\n",
       " 'FR_PS_4_16',\n",
       " 'FR_PS_4_17',\n",
       " 'FR_PS_4_18',\n",
       " 'FR_PS_4_19',\n",
       " 'FR_PS_4_2',\n",
       " 'FR_PS_4_20',\n",
       " 'FR_PS_4_21',\n",
       " 'FR_PS_4_22',\n",
       " 'FR_PS_4_23',\n",
       " 'FR_PS_4_24',\n",
       " 'FR_PS_4_25',\n",
       " 'FR_PS_4_26',\n",
       " 'FR_PS_4_3',\n",
       " 'FR_PS_4_4',\n",
       " 'FR_PS_4_5',\n",
       " 'FR_PS_4_6',\n",
       " 'FR_PS_4_7',\n",
       " 'FR_PS_4_8',\n",
       " 'FR_PS_4_9',\n",
       " 'GB_PS_13_1',\n",
       " 'GB_PS_13_13',\n",
       " 'GB_PS_13_15',\n",
       " 'GB_PS_13_16',\n",
       " 'GB_PS_13_17',\n",
       " 'GB_PS_13_20',\n",
       " 'GB_PS_13_21',\n",
       " 'GB_PS_13_22',\n",
       " 'GB_PS_13_23',\n",
       " 'GB_PS_13_24',\n",
       " 'GB_PS_13_28',\n",
       " 'GB_PS_13_33',\n",
       " 'GB_PS_13_35',\n",
       " 'GB_PS_13_36',\n",
       " 'GB_PS_13_38',\n",
       " 'GB_PS_13_4',\n",
       " 'GB_PS_13_40',\n",
       " 'GB_PS_13_42',\n",
       " 'GB_PS_13_43',\n",
       " 'GB_PS_13_44',\n",
       " 'GB_PS_13_46',\n",
       " 'GB_PS_13_5',\n",
       " 'GB_PS_13_6',\n",
       " 'GB_PS_13_8',\n",
       " 'GB_PS_13_9',\n",
       " 'GB_PS_14_1',\n",
       " 'GB_PS_14_10',\n",
       " 'GB_PS_14_12',\n",
       " 'GB_PS_14_13',\n",
       " 'GB_PS_14_14',\n",
       " 'GB_PS_14_15',\n",
       " 'GB_PS_14_16',\n",
       " 'GB_PS_14_19',\n",
       " 'GB_PS_14_2',\n",
       " 'GB_PS_14_20',\n",
       " 'GB_PS_14_21',\n",
       " 'GB_PS_14_22',\n",
       " 'GB_PS_14_23',\n",
       " 'GB_PS_14_24',\n",
       " 'GB_PS_14_25',\n",
       " 'GB_PS_14_26',\n",
       " 'GB_PS_14_28',\n",
       " 'GB_PS_14_3',\n",
       " 'GB_PS_14_30',\n",
       " 'GB_PS_14_4',\n",
       " 'GB_PS_14_5',\n",
       " 'GB_PS_14_6',\n",
       " 'GB_PS_14_7',\n",
       " 'GB_PS_14_8',\n",
       " 'GB_PS_14_9',\n",
       " 'GR_PS_10_1',\n",
       " 'GR_PS_10_10',\n",
       " 'GR_PS_10_11',\n",
       " 'GR_PS_10_12',\n",
       " 'GR_PS_10_13',\n",
       " 'GR_PS_10_14',\n",
       " 'GR_PS_10_15',\n",
       " 'GR_PS_10_16',\n",
       " 'GR_PS_10_17',\n",
       " 'GR_PS_10_18',\n",
       " 'GR_PS_10_19',\n",
       " 'GR_PS_10_2',\n",
       " 'GR_PS_10_20',\n",
       " 'GR_PS_10_21',\n",
       " 'GR_PS_10_22',\n",
       " 'GR_PS_10_23',\n",
       " 'GR_PS_10_24',\n",
       " 'GR_PS_10_25',\n",
       " 'GR_PS_10_3',\n",
       " 'GR_PS_10_4',\n",
       " 'GR_PS_10_5',\n",
       " 'GR_PS_10_6',\n",
       " 'GR_PS_10_7',\n",
       " 'GR_PS_10_8',\n",
       " 'GR_PS_10_9',\n",
       " 'GR_PS_9_1',\n",
       " 'GR_PS_9_10',\n",
       " 'GR_PS_9_11',\n",
       " 'GR_PS_9_12',\n",
       " 'GR_PS_9_13',\n",
       " 'GR_PS_9_14',\n",
       " 'GR_PS_9_15',\n",
       " 'GR_PS_9_16',\n",
       " 'GR_PS_9_17',\n",
       " 'GR_PS_9_18',\n",
       " 'GR_PS_9_19',\n",
       " 'GR_PS_9_2',\n",
       " 'GR_PS_9_20',\n",
       " 'GR_PS_9_21',\n",
       " 'GR_PS_9_22',\n",
       " 'GR_PS_9_23',\n",
       " 'GR_PS_9_24',\n",
       " 'GR_PS_9_25',\n",
       " 'GR_PS_9_3',\n",
       " 'GR_PS_9_4',\n",
       " 'GR_PS_9_5',\n",
       " 'GR_PS_9_6',\n",
       " 'GR_PS_9_7',\n",
       " 'GR_PS_9_8',\n",
       " 'GR_PS_9_9',\n",
       " 'IT_PS_7_1',\n",
       " 'IT_PS_7_10',\n",
       " 'IT_PS_7_11',\n",
       " 'IT_PS_7_12',\n",
       " 'IT_PS_7_13',\n",
       " 'IT_PS_7_14',\n",
       " 'IT_PS_7_15',\n",
       " 'IT_PS_7_16',\n",
       " 'IT_PS_7_17',\n",
       " 'IT_PS_7_18',\n",
       " 'IT_PS_7_19',\n",
       " 'IT_PS_7_2',\n",
       " 'IT_PS_7_20',\n",
       " 'IT_PS_7_21',\n",
       " 'IT_PS_7_22',\n",
       " 'IT_PS_7_23',\n",
       " 'IT_PS_7_24',\n",
       " 'IT_PS_7_25',\n",
       " 'IT_PS_7_3',\n",
       " 'IT_PS_7_4',\n",
       " 'IT_PS_7_5',\n",
       " 'IT_PS_7_6',\n",
       " 'IT_PS_7_7',\n",
       " 'IT_PS_7_8',\n",
       " 'IT_PS_7_9',\n",
       " 'IT_PS_8_1',\n",
       " 'IT_PS_8_10',\n",
       " 'IT_PS_8_11',\n",
       " 'IT_PS_8_12',\n",
       " 'IT_PS_8_13',\n",
       " 'IT_PS_8_14',\n",
       " 'IT_PS_8_15',\n",
       " 'IT_PS_8_16',\n",
       " 'IT_PS_8_17',\n",
       " 'IT_PS_8_18',\n",
       " 'IT_PS_8_19',\n",
       " 'IT_PS_8_2',\n",
       " 'IT_PS_8_20',\n",
       " 'IT_PS_8_21',\n",
       " 'IT_PS_8_22',\n",
       " 'IT_PS_8_23',\n",
       " 'IT_PS_8_24',\n",
       " 'IT_PS_8_25',\n",
       " 'IT_PS_8_3',\n",
       " 'IT_PS_8_4',\n",
       " 'IT_PS_8_5',\n",
       " 'IT_PS_8_6',\n",
       " 'IT_PS_8_7',\n",
       " 'IT_PS_8_8',\n",
       " 'IT_PS_8_9',\n",
       " 'LF-242',\n",
       " 'LF-244',\n",
       " 'LF-246',\n",
       " 'LF-248',\n",
       " 'LF-249',\n",
       " 'LF-252',\n",
       " 'LF-253',\n",
       " 'LF-254',\n",
       " 'LF-255',\n",
       " 'LF-256',\n",
       " 'LF-257',\n",
       " 'LF-259',\n",
       " 'LF-261',\n",
       " 'LF-262',\n",
       " 'LF-263',\n",
       " 'LF-264',\n",
       " 'LF-265',\n",
       " 'LF-266',\n",
       " 'LF-267',\n",
       " 'LF-270',\n",
       " 'LI_PS_20_1',\n",
       " 'LI_PS_20_10',\n",
       " 'LI_PS_20_11',\n",
       " 'LI_PS_20_12',\n",
       " 'LI_PS_20_13',\n",
       " 'LI_PS_20_14',\n",
       " 'LI_PS_20_15',\n",
       " 'LI_PS_20_16',\n",
       " 'LI_PS_20_17',\n",
       " 'LI_PS_20_18',\n",
       " 'LI_PS_20_19',\n",
       " 'LI_PS_20_2',\n",
       " 'LI_PS_20_20',\n",
       " 'LI_PS_20_21',\n",
       " 'LI_PS_20_22',\n",
       " 'LI_PS_20_23',\n",
       " 'LI_PS_20_24',\n",
       " 'LI_PS_20_25',\n",
       " 'LI_PS_20_3',\n",
       " 'LI_PS_20_4',\n",
       " 'LI_PS_20_5',\n",
       " 'LI_PS_20_6',\n",
       " 'LI_PS_20_7',\n",
       " 'LI_PS_20_8',\n",
       " 'LI_PS_20_9',\n",
       " 'LI_PS_21_10',\n",
       " 'LI_PS_21_11',\n",
       " 'LI_PS_21_12',\n",
       " 'LI_PS_21_14',\n",
       " 'LI_PS_21_16',\n",
       " 'LI_PS_21_17',\n",
       " 'LI_PS_21_18',\n",
       " 'LI_PS_21_19',\n",
       " 'LI_PS_21_20',\n",
       " 'LI_PS_21_21',\n",
       " 'LI_PS_21_22',\n",
       " 'LI_PS_21_23',\n",
       " 'LI_PS_21_24',\n",
       " 'LI_PS_21_25',\n",
       " 'LI_PS_21_26',\n",
       " 'LI_PS_21_27',\n",
       " 'LI_PS_21_28',\n",
       " 'LI_PS_21_29',\n",
       " 'LI_PS_21_30',\n",
       " 'LI_PS_21_31',\n",
       " 'LI_PS_21_32',\n",
       " 'LI_PS_21_33',\n",
       " 'LI_PS_21_34',\n",
       " 'LI_PS_21_35',\n",
       " 'NO_PS_15_1',\n",
       " 'NO_PS_15_10',\n",
       " 'NO_PS_15_11',\n",
       " 'NO_PS_15_12',\n",
       " 'NO_PS_15_13',\n",
       " 'NO_PS_15_14',\n",
       " 'NO_PS_15_15',\n",
       " 'NO_PS_15_16',\n",
       " 'NO_PS_15_17',\n",
       " 'NO_PS_15_18',\n",
       " 'NO_PS_15_19',\n",
       " 'NO_PS_15_2',\n",
       " 'NO_PS_15_20',\n",
       " 'NO_PS_15_21',\n",
       " 'NO_PS_15_22',\n",
       " 'NO_PS_15_23',\n",
       " 'NO_PS_15_24',\n",
       " 'NO_PS_15_25',\n",
       " 'NO_PS_15_3',\n",
       " 'NO_PS_15_4',\n",
       " 'NO_PS_15_5',\n",
       " 'NO_PS_15_6',\n",
       " 'NO_PS_15_7',\n",
       " 'NO_PS_15_8',\n",
       " 'NO_PS_15_9',\n",
       " 'NO_PS_16_1',\n",
       " 'NO_PS_16_10',\n",
       " 'NO_PS_16_11',\n",
       " 'NO_PS_16_12',\n",
       " 'NO_PS_16_14',\n",
       " 'NO_PS_16_15',\n",
       " 'NO_PS_16_16',\n",
       " 'NO_PS_16_17',\n",
       " 'NO_PS_16_18',\n",
       " 'NO_PS_16_19',\n",
       " 'NO_PS_16_2',\n",
       " 'NO_PS_16_20',\n",
       " 'NO_PS_16_21',\n",
       " 'NO_PS_16_22',\n",
       " 'NO_PS_16_24',\n",
       " 'NO_PS_16_25',\n",
       " 'NO_PS_16_3',\n",
       " 'NO_PS_16_4',\n",
       " 'NO_PS_16_5',\n",
       " 'NO_PS_16_6',\n",
       " 'NO_PS_16_7',\n",
       " 'NO_PS_16_8',\n",
       " 'NO_PS_16_9',\n",
       " 'RY-302',\n",
       " 'RY-303',\n",
       " 'RY-304',\n",
       " 'RY-305',\n",
       " 'RY-306',\n",
       " 'RY-307',\n",
       " 'RY-309',\n",
       " 'RY-310',\n",
       " 'RY-311',\n",
       " 'RY-312',\n",
       " 'RY-313',\n",
       " 'RY-314',\n",
       " 'RY-315',\n",
       " 'RY-317',\n",
       " 'RY-319',\n",
       " 'RY-320',\n",
       " 'RY-322',\n",
       " 'RY-323',\n",
       " 'RY-324',\n",
       " 'RY-327',\n",
       " 'SE_PS_17_1',\n",
       " 'SE_PS_17_10',\n",
       " 'SE_PS_17_11',\n",
       " 'SE_PS_17_12',\n",
       " 'SE_PS_17_13',\n",
       " 'SE_PS_17_14',\n",
       " 'SE_PS_17_15',\n",
       " 'SE_PS_17_16',\n",
       " 'SE_PS_17_17',\n",
       " 'SE_PS_17_18',\n",
       " 'SE_PS_17_19',\n",
       " 'SE_PS_17_2',\n",
       " 'SE_PS_17_20',\n",
       " 'SE_PS_17_21',\n",
       " 'SE_PS_17_22',\n",
       " 'SE_PS_17_23',\n",
       " 'SE_PS_17_24',\n",
       " 'SE_PS_17_25',\n",
       " 'SE_PS_17_3',\n",
       " 'SE_PS_17_4',\n",
       " 'SE_PS_17_5',\n",
       " 'SE_PS_17_6',\n",
       " 'SE_PS_17_7',\n",
       " 'SE_PS_17_8',\n",
       " 'SE_PS_17_9']"
      ]
     },
     "execution_count": 29,
     "metadata": {},
     "output_type": "execute_result"
    }
   ],
   "source": [
    "samples = callset['samples']\n",
    "samples = list(samples)\n",
    "samples"
   ]
  },
  {
   "cell_type": "code",
   "execution_count": 30,
   "metadata": {},
   "outputs": [],
   "source": [
    "calldata = callset['calldata'] "
   ]
  },
  {
   "cell_type": "code",
   "execution_count": null,
   "metadata": {},
   "outputs": [],
   "source": []
  },
  {
   "cell_type": "code",
   "execution_count": 31,
   "metadata": {},
   "outputs": [
    {
     "data": {
      "text/html": [
       "<div class=\"allel allel-DisplayAs2D\"><span>&lt;GenotypeChunkedArray shape=(969462, 559, 2) dtype=int8 chunks=(65536, 64, 2)\n",
       "   nbytes=1.0G cbytes=97.0M cratio=10.7\n",
       "   compression=gzip compression_opts=1\n",
       "   values=h5py._hl.dataset.Dataset&gt;</span><table><thead><tr><th></th><th style=\"text-align: center\">0</th><th style=\"text-align: center\">1</th><th style=\"text-align: center\">2</th><th style=\"text-align: center\">3</th><th style=\"text-align: center\">4</th><th style=\"text-align: center\">...</th><th style=\"text-align: center\">554</th><th style=\"text-align: center\">555</th><th style=\"text-align: center\">556</th><th style=\"text-align: center\">557</th><th style=\"text-align: center\">558</th></tr></thead><tbody><tr><th style=\"text-align: center; background-color: white; border-right: 1px solid black; \">0</th><td style=\"text-align: center\">0/0</td><td style=\"text-align: center\">0/0</td><td style=\"text-align: center\">./.</td><td style=\"text-align: center\">0/0</td><td style=\"text-align: center\">0/0</td><td style=\"text-align: center\">...</td><td style=\"text-align: center\">./.</td><td style=\"text-align: center\">./.</td><td style=\"text-align: center\">0/0</td><td style=\"text-align: center\">0/0</td><td style=\"text-align: center\">0/0</td></tr><tr><th style=\"text-align: center; background-color: white; border-right: 1px solid black; \">1</th><td style=\"text-align: center\">0/0</td><td style=\"text-align: center\">0/0</td><td style=\"text-align: center\">./.</td><td style=\"text-align: center\">0/0</td><td style=\"text-align: center\">0/0</td><td style=\"text-align: center\">...</td><td style=\"text-align: center\">./.</td><td style=\"text-align: center\">./.</td><td style=\"text-align: center\">0/0</td><td style=\"text-align: center\">0/0</td><td style=\"text-align: center\">0/1</td></tr><tr><th style=\"text-align: center; background-color: white; border-right: 1px solid black; \">2</th><td style=\"text-align: center\">0/0</td><td style=\"text-align: center\">0/0</td><td style=\"text-align: center\">./.</td><td style=\"text-align: center\">0/0</td><td style=\"text-align: center\">0/0</td><td style=\"text-align: center\">...</td><td style=\"text-align: center\">./.</td><td style=\"text-align: center\">./.</td><td style=\"text-align: center\">0/0</td><td style=\"text-align: center\">0/0</td><td style=\"text-align: center\">0/1</td></tr><tr><th style=\"text-align: center; background-color: white; border-right: 1px solid black; \">...</th><td style=\"text-align: center\" colspan=\"12\">...</td></tr><tr><th style=\"text-align: center; background-color: white; border-right: 1px solid black; \">969459</th><td style=\"text-align: center\">0/0</td><td style=\"text-align: center\">0/0</td><td style=\"text-align: center\">0/0</td><td style=\"text-align: center\">0/0</td><td style=\"text-align: center\">0/0</td><td style=\"text-align: center\">...</td><td style=\"text-align: center\">0/0</td><td style=\"text-align: center\">0/0</td><td style=\"text-align: center\">0/0</td><td style=\"text-align: center\">0/0</td><td style=\"text-align: center\">0/0</td></tr><tr><th style=\"text-align: center; background-color: white; border-right: 1px solid black; \">969460</th><td style=\"text-align: center\">0/0</td><td style=\"text-align: center\">0/0</td><td style=\"text-align: center\">0/0</td><td style=\"text-align: center\">0/0</td><td style=\"text-align: center\">0/0</td><td style=\"text-align: center\">...</td><td style=\"text-align: center\">0/0</td><td style=\"text-align: center\">0/0</td><td style=\"text-align: center\">0/0</td><td style=\"text-align: center\">0/0</td><td style=\"text-align: center\">0/0</td></tr><tr><th style=\"text-align: center; background-color: white; border-right: 1px solid black; \">969461</th><td style=\"text-align: center\">0/0</td><td style=\"text-align: center\">0/1</td><td style=\"text-align: center\">0/0</td><td style=\"text-align: center\">0/0</td><td style=\"text-align: center\">0/0</td><td style=\"text-align: center\">...</td><td style=\"text-align: center\">0/0</td><td style=\"text-align: center\">0/0</td><td style=\"text-align: center\">0/0</td><td style=\"text-align: center\">0/0</td><td style=\"text-align: center\">0/0</td></tr></tbody></table></div>"
      ],
      "text/plain": [
       "<GenotypeChunkedArray shape=(969462, 559, 2) dtype=int8 chunks=(65536, 64, 2)\n",
       "   nbytes=1.0G cbytes=97.0M cratio=10.7\n",
       "   compression=gzip compression_opts=1\n",
       "   values=h5py._hl.dataset.Dataset>"
      ]
     },
     "execution_count": 31,
     "metadata": {},
     "output_type": "execute_result"
    }
   ],
   "source": [
    "genotypes = allel.GenotypeChunkedArray(calldata['GT'])\n",
    "genotypes"
   ]
  },
  {
   "cell_type": "code",
   "execution_count": 32,
   "metadata": {},
   "outputs": [],
   "source": [
    "calldata = callset['calldata']"
   ]
  },
  {
   "cell_type": "code",
   "execution_count": 34,
   "metadata": {},
   "outputs": [
    {
     "data": {
      "text/html": [
       "<div>\n",
       "<style scoped>\n",
       "    .dataframe tbody tr th:only-of-type {\n",
       "        vertical-align: middle;\n",
       "    }\n",
       "\n",
       "    .dataframe tbody tr th {\n",
       "        vertical-align: top;\n",
       "    }\n",
       "\n",
       "    .dataframe thead th {\n",
       "        text-align: right;\n",
       "    }\n",
       "</style>\n",
       "<table border=\"1\" class=\"dataframe\">\n",
       "  <thead>\n",
       "    <tr style=\"text-align: right;\">\n",
       "      <th></th>\n",
       "      <th>ID</th>\n",
       "      <th>Population</th>\n",
       "    </tr>\n",
       "  </thead>\n",
       "  <tbody>\n",
       "    <tr>\n",
       "      <th>0</th>\n",
       "      <td>CH_PS_5_1</td>\n",
       "      <td>CH_PS_5</td>\n",
       "    </tr>\n",
       "    <tr>\n",
       "      <th>1</th>\n",
       "      <td>CH_PS_5_10</td>\n",
       "      <td>CH_PS_5</td>\n",
       "    </tr>\n",
       "    <tr>\n",
       "      <th>2</th>\n",
       "      <td>CH_PS_5_11</td>\n",
       "      <td>CH_PS_5</td>\n",
       "    </tr>\n",
       "    <tr>\n",
       "      <th>3</th>\n",
       "      <td>CH_PS_5_12</td>\n",
       "      <td>CH_PS_5</td>\n",
       "    </tr>\n",
       "    <tr>\n",
       "      <th>4</th>\n",
       "      <td>CH_PS_5_13</td>\n",
       "      <td>CH_PS_5</td>\n",
       "    </tr>\n",
       "    <tr>\n",
       "      <th>...</th>\n",
       "      <td>...</td>\n",
       "      <td>...</td>\n",
       "    </tr>\n",
       "    <tr>\n",
       "      <th>554</th>\n",
       "      <td>SE_PS_17_5</td>\n",
       "      <td>SE_PS_17</td>\n",
       "    </tr>\n",
       "    <tr>\n",
       "      <th>555</th>\n",
       "      <td>SE_PS_17_6</td>\n",
       "      <td>SE_PS_17</td>\n",
       "    </tr>\n",
       "    <tr>\n",
       "      <th>556</th>\n",
       "      <td>SE_PS_17_7</td>\n",
       "      <td>SE_PS_17</td>\n",
       "    </tr>\n",
       "    <tr>\n",
       "      <th>557</th>\n",
       "      <td>SE_PS_17_8</td>\n",
       "      <td>SE_PS_17</td>\n",
       "    </tr>\n",
       "    <tr>\n",
       "      <th>558</th>\n",
       "      <td>SE_PS_17_9</td>\n",
       "      <td>SE_PS_17</td>\n",
       "    </tr>\n",
       "  </tbody>\n",
       "</table>\n",
       "<p>559 rows × 2 columns</p>\n",
       "</div>"
      ],
      "text/plain": [
       "             ID Population\n",
       "0     CH_PS_5_1    CH_PS_5\n",
       "1    CH_PS_5_10    CH_PS_5\n",
       "2    CH_PS_5_11    CH_PS_5\n",
       "3    CH_PS_5_12    CH_PS_5\n",
       "4    CH_PS_5_13    CH_PS_5\n",
       "..          ...        ...\n",
       "554  SE_PS_17_5   SE_PS_17\n",
       "555  SE_PS_17_6   SE_PS_17\n",
       "556  SE_PS_17_7   SE_PS_17\n",
       "557  SE_PS_17_8   SE_PS_17\n",
       "558  SE_PS_17_9   SE_PS_17\n",
       "\n",
       "[559 rows x 2 columns]"
      ]
     },
     "execution_count": 34,
     "metadata": {},
     "output_type": "execute_result"
    }
   ],
   "source": [
    "samples_fn = '/wrk/Gen_Tree/GenTree_Genome_mapping/Pinus_sylvestris/Psylvestris_v2_samples.txt'\n",
    "samples = pandas.read_csv(samples_fn, sep='\\t')\n",
    "samples"
   ]
  },
  {
   "cell_type": "code",
   "execution_count": 35,
   "metadata": {},
   "outputs": [
    {
     "data": {
      "text/plain": [
       "GR_PS_10    25\n",
       "SE_PS_17    25\n",
       "FR_PS_3     25\n",
       "FI_PS_19    25\n",
       "FR_PS_4     25\n",
       "NO_PS_15    25\n",
       "GB_PS_14    25\n",
       "DE_PS_12    25\n",
       "CH_PS_6     25\n",
       "LI_PS_20    25\n",
       "IT_PS_7     25\n",
       "CH_PS_5     25\n",
       "IT_PS_8     25\n",
       "ES_PS_1     25\n",
       "ES_PS_2     25\n",
       "GR_PS_9     25\n",
       "GB_PS_13    25\n",
       "LI_PS_21    24\n",
       "FI_PS_18    24\n",
       "DE_PS_11    23\n",
       "NO_PS_16    23\n",
       "RY          20\n",
       "LF          20\n",
       "Name: Population, dtype: int64"
      ]
     },
     "execution_count": 35,
     "metadata": {},
     "output_type": "execute_result"
    }
   ],
   "source": [
    "samples.Population.value_counts()"
   ]
  },
  {
   "cell_type": "code",
   "execution_count": 36,
   "metadata": {},
   "outputs": [
    {
     "data": {
      "text/html": [
       "<div class=\"allel allel-DisplayAs2D\"><span>&lt;AlleleCountsChunkedArray shape=(969462, 2) dtype=int32 chunks=(60592, 2)\n",
       "   nbytes=7.4M cbytes=2.3M cratio=3.2\n",
       "   compression=blosc compression_opts={'cname': 'lz4', 'clevel': 5, 'shuffle': 1, 'blocksize': 0}\n",
       "   values=zarr.core.Array&gt;</span><table><thead><tr><th></th><th style=\"text-align: center\">0</th><th style=\"text-align: center\">1</th></tr></thead><tbody><tr><th style=\"text-align: center; background-color: white; border-right: 1px solid black; \">0</th><td style=\"text-align: center\">804</td><td style=\"text-align: center\"> 20</td></tr><tr><th style=\"text-align: center; background-color: white; border-right: 1px solid black; \">1</th><td style=\"text-align: center\">825</td><td style=\"text-align: center\"> 23</td></tr><tr><th style=\"text-align: center; background-color: white; border-right: 1px solid black; \">2</th><td style=\"text-align: center\">802</td><td style=\"text-align: center\"> 40</td></tr><tr><th style=\"text-align: center; background-color: white; border-right: 1px solid black; \">...</th><td style=\"text-align: center\" colspan=\"3\">...</td></tr><tr><th style=\"text-align: center; background-color: white; border-right: 1px solid black; \">969459</th><td style=\"text-align: center\">1113</td><td style=\"text-align: center\">   3</td></tr><tr><th style=\"text-align: center; background-color: white; border-right: 1px solid black; \">969460</th><td style=\"text-align: center\">1114</td><td style=\"text-align: center\">   2</td></tr><tr><th style=\"text-align: center; background-color: white; border-right: 1px solid black; \">969461</th><td style=\"text-align: center\">1104</td><td style=\"text-align: center\">  12</td></tr></tbody></table></div>"
      ],
      "text/plain": [
       "<AlleleCountsChunkedArray shape=(969462, 2) dtype=int32 chunks=(60592, 2)\n",
       "   nbytes=7.4M cbytes=2.3M cratio=3.2\n",
       "   compression=blosc compression_opts={'cname': 'lz4', 'clevel': 5, 'shuffle': 1, 'blocksize': 0}\n",
       "   values=zarr.core.Array>"
      ]
     },
     "execution_count": 36,
     "metadata": {},
     "output_type": "execute_result"
    }
   ],
   "source": [
    "ac = genotypes.count_alleles()\n",
    "ac"
   ]
  },
  {
   "cell_type": "code",
   "execution_count": 37,
   "metadata": {},
   "outputs": [
    {
     "data": {
      "text/plain": [
       "array(['CH_PS_5', 'CH_PS_6', 'DE_PS_11', 'DE_PS_12', 'ES_PS_1', 'ES_PS_2',\n",
       "       'FI_PS_18', 'FI_PS_19', 'FR_PS_3', 'FR_PS_4', 'GB_PS_13',\n",
       "       'GB_PS_14', 'GR_PS_10', 'GR_PS_9', 'IT_PS_7', 'IT_PS_8', 'LF',\n",
       "       'LI_PS_20', 'LI_PS_21', 'NO_PS_15', 'NO_PS_16', 'RY', 'SE_PS_17'],\n",
       "      dtype=object)"
      ]
     },
     "execution_count": 37,
     "metadata": {},
     "output_type": "execute_result"
    }
   ],
   "source": [
    "samples.Population.unique()\n",
    "###This identifiers come from the metadata file"
   ]
  },
  {
   "cell_type": "code",
   "execution_count": 12,
   "metadata": {},
   "outputs": [],
   "source": [
    "populations = samples.Population.unique()"
   ]
  },
  {
   "cell_type": "code",
   "execution_count": 13,
   "metadata": {},
   "outputs": [],
   "source": [
    "palette = sns.color_palette(\"hls\", 37)\n",
    "pop_colours = {'CH_PS_5': palette[0], \n",
    "                 'CH_PS_6' : palette[1], \n",
    "                 'DE_PS_11': palette[2], \n",
    "                 'DE_PS_12': palette[3], \n",
    "                 'ES_PS_1': palette[4],\n",
    "                 'ES_PS_2': palette[5], \n",
    "                 'FI_PS_18': palette[30], \n",
    "                 'FI_PS_19': palette[31],\n",
    "                 'FR_PS_3': palette[9],\n",
    "                 'FR_PS_4': palette[10],\n",
    "                 'GB_PS_13': palette[19], \n",
    "                 'GB_PS_14': palette[20],\n",
    "                 'GR_PS_9': palette[34],\n",
    "                 'GR_PS_10': palette[35],\n",
    "                 'IT_PS_7': palette[16],\n",
    "                 'IT_PS_8': palette[17],\n",
    "                 'LF': palette[29],\n",
    "                 'LI_PS_20': palette[6],\n",
    "                 'LI_PS_21': palette[7],\n",
    "                 'NO_PS_15': palette[23],\n",
    "                 'NO_PS_16': palette[25],\n",
    "                 'RY': palette[27],\n",
    "                 'SE_PS_17': palette[36]}"
   ]
  },
  {
   "cell_type": "code",
   "execution_count": 14,
   "metadata": {},
   "outputs": [],
   "source": [
    "def plot_pca_coords(coords, model, pc1, pc2, ax, sample_population):\n",
    "    sns.despine(ax=ax, offset=5)\n",
    "    x = coords[:, pc1]\n",
    "    y = coords[:, pc2]\n",
    "    for pop in populations:\n",
    "        flt = (sample_population == pop)\n",
    "        ax.plot(x[flt], y[flt], marker='o', linestyle=' ', color=pop_colours[pop], \n",
    "                label=pop, markersize=6, mec='k', mew=.5)\n",
    "    ax.set_xlabel('PC%s (%.1f%%)' % (pc1+1, model.explained_variance_ratio_[pc1]*100))\n",
    "    ax.set_ylabel('PC%s (%.1f%%)' % (pc2+1, model.explained_variance_ratio_[pc2]*100))\n",
    "    \n",
    "\n",
    "def fig_pca(coords, model, title, sample_population=None):\n",
    "    if sample_population is None:\n",
    "        sample_population = samples.Population.values\n",
    "    # plot coords for PCs 1 vs 2, 3 vs 4\n",
    "    fig = plt.figure(figsize=(10, 5))\n",
    "    ax = fig.add_subplot(1, 2, 1)\n",
    "    plot_pca_coords(coords, model, 0, 1, ax, sample_population)\n",
    "    ax = fig.add_subplot(1, 2, 2)\n",
    "    plot_pca_coords(coords, model, 2, 3, ax, sample_population)\n",
    "    ax.legend(bbox_to_anchor=(1, 1), loc='upper left')\n",
    "    fig.suptitle(title, y=1.02)\n",
    "    fig.tight_layout()"
   ]
  },
  {
   "cell_type": "code",
   "execution_count": 15,
   "metadata": {},
   "outputs": [],
   "source": [
    "flt = (ac[:, :2].min(axis=1) > 1)\n",
    "gf = genotypes.compress(flt, axis=0)\n",
    "gn = gf.to_n_alt()"
   ]
  },
  {
   "cell_type": "code",
   "execution_count": 16,
   "metadata": {},
   "outputs": [],
   "source": [
    "coords1, model1 = allel.pca(gn, n_components=10, scaler='patterson')"
   ]
  },
  {
   "cell_type": "code",
   "execution_count": 17,
   "metadata": {
    "scrolled": false
   },
   "outputs": [
    {
     "data": {
      "image/png": "[encoded data removed]",
      "text/plain": [
       "<Figure size 720x360 with 2 Axes>"
      ]
     },
     "metadata": {
      "needs_background": "light"
     },
     "output_type": "display_data"
    }
   ],
   "source": [
    "fig_pca(coords1, model1, 'Psylvestris_540_samples')\n",
    "plt.savefig('/wrk/Gen_Tree/Pinus_sylvestris/Psylvestris_540_samples')"
   ]
  },
  {
   "cell_type": "code",
   "execution_count": null,
   "metadata": {},
   "outputs": [],
   "source": []
  }
 ],
 "metadata": {
  "kernelspec": {
   "display_name": "Python 3",
   "language": "python",
   "name": "python3"
  },
  "language_info": {
   "codemirror_mode": {
    "name": "ipython",
    "version": 3
   },
   "file_extension": ".py",
   "mimetype": "text/x-python",
   "name": "python",
   "nbconvert_exporter": "python",
   "pygments_lexer": "ipython3",
   "version": "3.7.4"
  }
 },
 "nbformat": 4,
 "nbformat_minor": 2
}
