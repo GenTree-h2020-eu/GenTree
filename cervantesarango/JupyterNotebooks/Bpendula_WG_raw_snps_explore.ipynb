{
 "cells": [
  {
   "cell_type": "raw",
   "metadata": {},
   "source": [
    "Betula pendula mapped to genome reference, raw snps exploration"
   ]
  },
  {
   "cell_type": "code",
   "execution_count": 1,
   "metadata": {},
   "outputs": [
    {
     "name": "stdout",
     "output_type": "stream",
     "text": [
      "scikit-allel 1.2.1\n"
     ]
    }
   ],
   "source": [
    "import numpy as np\n",
    "import scipy\n",
    "import pandas\n",
    "import matplotlib as mpl\n",
    "import matplotlib.pyplot as plt\n",
    "%matplotlib inline\n",
    "import seaborn as sns\n",
    "sns.set_style('white')\n",
    "sns.set_style('ticks')\n",
    "sns.set_context('notebook')\n",
    "import h5py\n",
    "import allel; print('scikit-allel', allel.__version__)"
   ]
  },
  {
   "cell_type": "code",
   "execution_count": 4,
   "metadata": {},
   "outputs": [],
   "source": [
    "#allel.vcf_to_hdf5('/wrk/Gen_Tree/GenTree_Genome_mapping/Betula_pendula/Bpendula_GM_raw_snps.vcf', '/wrk/Gen_Tree/GenTree_Genome_mapping/Betula_pendula/Bpendula_GM_raw_snps.h5', fields='*', overwrite=True)"
   ]
  },
  {
   "cell_type": "code",
   "execution_count": 2,
   "metadata": {},
   "outputs": [
    {
     "data": {
      "text/plain": [
       "<HDF5 file \"Bpendula_GM_raw_snps.h5\" (mode r)>"
      ]
     },
     "execution_count": 2,
     "metadata": {},
     "output_type": "execute_result"
    }
   ],
   "source": [
    "callset_fn = '/media/scervant/Transcend/GenTree_GM_h5_plus_vcf/Betula_pendula/Bpendula_GM_raw_snps.h5'\n",
    "callset = h5py.File(callset_fn, mode='r')\n",
    "callset"
   ]
  },
  {
   "cell_type": "code",
   "execution_count": 3,
   "metadata": {},
   "outputs": [
    {
     "data": {
      "text/plain": [
       "['calldata', 'samples', 'variants']"
      ]
     },
     "execution_count": 3,
     "metadata": {},
     "output_type": "execute_result"
    }
   ],
   "source": [
    "sorted(callset.keys())"
   ]
  },
  {
   "cell_type": "code",
   "execution_count": 4,
   "metadata": {},
   "outputs": [],
   "source": [
    "calldata = callset['calldata']"
   ]
  },
  {
   "cell_type": "code",
   "execution_count": 5,
   "metadata": {},
   "outputs": [
    {
     "data": {
      "text/plain": [
       "<HDF5 group \"/calldata\" (10 members)>"
      ]
     },
     "execution_count": 5,
     "metadata": {},
     "output_type": "execute_result"
    }
   ],
   "source": [
    "calldata"
   ]
  },
  {
   "cell_type": "code",
   "execution_count": 6,
   "metadata": {},
   "outputs": [
    {
     "data": {
      "text/plain": [
       "['AD', 'DP', 'GQ', 'GT', 'MIN_DP', 'PGT', 'PID', 'PL', 'RGQ', 'SB']"
      ]
     },
     "execution_count": 6,
     "metadata": {},
     "output_type": "execute_result"
    }
   ],
   "source": [
    "list(calldata)"
   ]
  },
  {
   "cell_type": "code",
   "execution_count": 7,
   "metadata": {},
   "outputs": [
    {
     "data": {
      "text/html": [
       "<div class=\"allel allel-DisplayAsTable\"><span>&lt;VariantChunkedTable shape=(846813,) dtype=[('POS', '&lt;i4'), ('REF', 'O'), ('ALT', 'O', (3,)), ('DP', '&lt;i4'), ('QD', '&lt;f4'), ('AN', '&lt;i4'), ('MQ', '&lt;f4'), ('SOR', '&lt;f4'), ('numalt', '&lt;i4'), ('QUAL', '&lt;f4'), ('MQRankSum', '&lt;f4'), ('ReadPosRankSum', '&lt;f4')]\n",
       "   nbytes=58.1M cbytes=20.7M cratio=2.8\n",
       "   values=h5py._hl.group.Group&gt;</span><table><thead><tr><th></th><th style=\"text-align: center\">POS</th><th style=\"text-align: center\">REF</th><th style=\"text-align: center\">ALT</th><th style=\"text-align: center\">DP</th><th style=\"text-align: center\">QD</th><th style=\"text-align: center\">AN</th><th style=\"text-align: center\">MQ</th><th style=\"text-align: center\">SOR</th><th style=\"text-align: center\">numalt</th><th style=\"text-align: center\">QUAL</th><th style=\"text-align: center\">MQRankSum</th><th style=\"text-align: center\">ReadPosRankSum</th></tr></thead><tbody><tr><th style=\"text-align: center; background-color: white; border-right: 1px solid black; \">0</th><td style=\"text-align: center\">163836</td><td style=\"text-align: center\">G</td><td style=\"text-align: center\">['A' '' '']</td><td style=\"text-align: center\">3986</td><td style=\"text-align: center\">4.61</td><td style=\"text-align: center\">1086</td><td style=\"text-align: center\">60.0</td><td style=\"text-align: center\">0.223</td><td style=\"text-align: center\">1</td><td style=\"text-align: center\">13.82</td><td style=\"text-align: center\">0.0</td><td style=\"text-align: center\">-0.431</td></tr><tr><th style=\"text-align: center; background-color: white; border-right: 1px solid black; \">1</th><td style=\"text-align: center\">163916</td><td style=\"text-align: center\">C</td><td style=\"text-align: center\">['T' '' '']</td><td style=\"text-align: center\">4120</td><td style=\"text-align: center\">8.56</td><td style=\"text-align: center\">1064</td><td style=\"text-align: center\">60.0</td><td style=\"text-align: center\">0.693</td><td style=\"text-align: center\">1</td><td style=\"text-align: center\">17.12</td><td style=\"text-align: center\">nan</td><td style=\"text-align: center\">nan</td></tr><tr><th style=\"text-align: center; background-color: white; border-right: 1px solid black; \">2</th><td style=\"text-align: center\">163919</td><td style=\"text-align: center\">A</td><td style=\"text-align: center\">['T' '' '']</td><td style=\"text-align: center\">3968</td><td style=\"text-align: center\">13.17</td><td style=\"text-align: center\">1054</td><td style=\"text-align: center\">59.42</td><td style=\"text-align: center\">0.666</td><td style=\"text-align: center\">1</td><td style=\"text-align: center\">3279.97</td><td style=\"text-align: center\">0.0</td><td style=\"text-align: center\">0.0</td></tr><tr><th style=\"text-align: center; background-color: white; border-right: 1px solid black; \">...</th><td style=\"text-align: center\" colspan=\"13\">...</td></tr><tr><th style=\"text-align: center; background-color: white; border-right: 1px solid black; \">846810</th><td style=\"text-align: center\">576208</td><td style=\"text-align: center\">C</td><td style=\"text-align: center\">['A' '' '']</td><td style=\"text-align: center\">2781</td><td style=\"text-align: center\">5.05</td><td style=\"text-align: center\">1002</td><td style=\"text-align: center\">23.34</td><td style=\"text-align: center\">0.223</td><td style=\"text-align: center\">1</td><td style=\"text-align: center\">15.15</td><td style=\"text-align: center\">-0.967</td><td style=\"text-align: center\">0.0</td></tr><tr><th style=\"text-align: center; background-color: white; border-right: 1px solid black; \">846811</th><td style=\"text-align: center\">576218</td><td style=\"text-align: center\">G</td><td style=\"text-align: center\">['A' '' '']</td><td style=\"text-align: center\">2766</td><td style=\"text-align: center\">3.07</td><td style=\"text-align: center\">998</td><td style=\"text-align: center\">43.3</td><td style=\"text-align: center\">0.105</td><td style=\"text-align: center\">1</td><td style=\"text-align: center\">12.26</td><td style=\"text-align: center\">1.38</td><td style=\"text-align: center\">0.0</td></tr><tr><th style=\"text-align: center; background-color: white; border-right: 1px solid black; \">846812</th><td style=\"text-align: center\">576252</td><td style=\"text-align: center\">T</td><td style=\"text-align: center\">['C' '' '']</td><td style=\"text-align: center\">2774</td><td style=\"text-align: center\">3.15</td><td style=\"text-align: center\">974</td><td style=\"text-align: center\">28.3</td><td style=\"text-align: center\">0.693</td><td style=\"text-align: center\">1</td><td style=\"text-align: center\">12.58</td><td style=\"text-align: center\">0.431</td><td style=\"text-align: center\">-0.674</td></tr></tbody></table></div>"
      ],
      "text/plain": [
       "<VariantChunkedTable shape=(846813,) dtype=[('POS', '<i4'), ('REF', 'O'), ('ALT', 'O', (3,)), ('DP', '<i4'), ('QD', '<f4'), ('AN', '<i4'), ('MQ', '<f4'), ('SOR', '<f4'), ('numalt', '<i4'), ('QUAL', '<f4'), ('MQRankSum', '<f4'), ('ReadPosRankSum', '<f4')]\n",
       "   nbytes=58.1M cbytes=20.7M cratio=2.8\n",
       "   values=h5py._hl.group.Group>"
      ]
     },
     "execution_count": 7,
     "metadata": {},
     "output_type": "execute_result"
    }
   ],
   "source": [
    "variants = allel.VariantChunkedTable(callset['variants'], \n",
    "                                     names=['POS', 'REF', 'ALT', 'DP', 'QD', 'AN', 'MQ', 'SOR', 'numalt', 'QUAL', 'MQRankSum', 'ReadPosRankSum'])\n",
    "variants"
   ]
  },
  {
   "cell_type": "code",
   "execution_count": null,
   "metadata": {},
   "outputs": [],
   "source": []
  },
  {
   "cell_type": "code",
   "execution_count": 87,
   "metadata": {},
   "outputs": [],
   "source": [
    "def plot_variant_hist(f, bins=30):\n",
    "    x = variants[f][:]\n",
    "    fig, ax = plt.subplots(figsize=(10, 5))\n",
    "    sns.despine(ax=ax, offset=10)\n",
    "    ax.hist(x, bins=bins)\n",
    "    ax.set_xlabel(f)\n",
    "    ax.set_ylabel('No. variants')\n",
    "    ax.set_title('Variant %s distribution' % f)"
   ]
  },
  {
   "cell_type": "code",
   "execution_count": 88,
   "metadata": {},
   "outputs": [
    {
     "name": "stderr",
     "output_type": "stream",
     "text": [
      "/wrk/Programs/miniconda3/lib/python3.7/site-packages/numpy/lib/histograms.py:829: RuntimeWarning: invalid value encountered in greater_equal\n",
      "  keep = (tmp_a >= first_edge)\n",
      "/wrk/Programs/miniconda3/lib/python3.7/site-packages/numpy/lib/histograms.py:830: RuntimeWarning: invalid value encountered in less_equal\n",
      "  keep &= (tmp_a <= last_edge)\n"
     ]
    },
    {
     "data": {
      "image/png": "[encoded data removed]",
      "text/plain": [
       "<Figure size 720x360 with 1 Axes>"
      ]
     },
     "metadata": {},
     "output_type": "display_data"
    }
   ],
   "source": [
    "plot_variant_hist('MQ')"
   ]
  },
  {
   "cell_type": "code",
   "execution_count": 89,
   "metadata": {},
   "outputs": [
    {
     "data": {
      "image/png": "[encoded data removed]",
      "text/plain": [
       "<Figure size 720x360 with 1 Axes>"
      ]
     },
     "metadata": {},
     "output_type": "display_data"
    }
   ],
   "source": [
    "plot_variant_hist('QD')"
   ]
  },
  {
   "cell_type": "code",
   "execution_count": 90,
   "metadata": {},
   "outputs": [
    {
     "data": {
      "image/png": "[encoded data removed]",
      "text/plain": [
       "<Figure size 720x360 with 1 Axes>"
      ]
     },
     "metadata": {},
     "output_type": "display_data"
    }
   ],
   "source": [
    "plot_variant_hist('SOR')"
   ]
  },
  {
   "cell_type": "code",
   "execution_count": 91,
   "metadata": {},
   "outputs": [
    {
     "data": {
      "image/png": "[encoded data removed]",
      "text/plain": [
       "<Figure size 720x360 with 1 Axes>"
      ]
     },
     "metadata": {},
     "output_type": "display_data"
    }
   ],
   "source": [
    "plot_variant_hist('MQRankSum')"
   ]
  },
  {
   "cell_type": "code",
   "execution_count": null,
   "metadata": {},
   "outputs": [],
   "source": [
    "plot_variant_hist('MQRankSum')"
   ]
  },
  {
   "cell_type": "code",
   "execution_count": 93,
   "metadata": {},
   "outputs": [
    {
     "data": {
      "image/png": "[encoded data removed]",
      "text/plain": [
       "<Figure size 720x360 with 1 Axes>"
      ]
     },
     "metadata": {},
     "output_type": "display_data"
    }
   ],
   "source": [
    "plot_variant_hist('ReadPosRankSum')"
   ]
  },
  {
   "cell_type": "markdown",
   "metadata": {},
   "source": [
    "### Filter out positions with DP <10 and QD < 2"
   ]
  },
  {
   "cell_type": "code",
   "execution_count": 15,
   "metadata": {},
   "outputs": [],
   "source": [
    "filter_expression = '(DP > 20) & (QD > 2) & (AN > 576)'\n",
    "###soft filter for removing calls with very little support"
   ]
  },
  {
   "cell_type": "code",
   "execution_count": 16,
   "metadata": {},
   "outputs": [
    {
     "name": "stderr",
     "output_type": "stream",
     "text": [
      "<string>:1: RuntimeWarning: invalid value encountered in greater\n",
      "<string>:1: RuntimeWarning: invalid value encountered in greater\n",
      "<string>:1: RuntimeWarning: invalid value encountered in greater\n",
      "<string>:1: RuntimeWarning: invalid value encountered in greater\n",
      "<string>:1: RuntimeWarning: invalid value encountered in greater\n",
      "<string>:1: RuntimeWarning: invalid value encountered in greater\n",
      "<string>:1: RuntimeWarning: invalid value encountered in greater\n",
      "<string>:1: RuntimeWarning: invalid value encountered in greater\n",
      "<string>:1: RuntimeWarning: invalid value encountered in greater\n",
      "<string>:1: RuntimeWarning: invalid value encountered in greater\n",
      "<string>:1: RuntimeWarning: invalid value encountered in greater\n",
      "<string>:1: RuntimeWarning: invalid value encountered in greater\n",
      "<string>:1: RuntimeWarning: invalid value encountered in greater\n"
     ]
    },
    {
     "data": {
      "text/plain": [
       "array([ True,  True,  True, ...,  True,  True,  True])"
      ]
     },
     "execution_count": 16,
     "metadata": {},
     "output_type": "execute_result"
    }
   ],
   "source": [
    "variant_selection = variants.eval(filter_expression)[:]\n",
    "variant_selection"
   ]
  },
  {
   "cell_type": "markdown",
   "metadata": {},
   "source": [
    "### How many variants were kept?"
   ]
  },
  {
   "cell_type": "code",
   "execution_count": 94,
   "metadata": {},
   "outputs": [
    {
     "data": {
      "text/plain": [
       "779448"
      ]
     },
     "execution_count": 94,
     "metadata": {},
     "output_type": "execute_result"
    }
   ],
   "source": [
    "np.count_nonzero(variant_selection)"
   ]
  },
  {
   "cell_type": "code",
   "execution_count": 18,
   "metadata": {},
   "outputs": [
    {
     "data": {
      "text/plain": [
       "<HDF5 group \"/calldata\" (10 members)>"
      ]
     },
     "execution_count": 18,
     "metadata": {},
     "output_type": "execute_result"
    }
   ],
   "source": [
    "calldata = callset['calldata']\n",
    "calldata"
   ]
  },
  {
   "cell_type": "code",
   "execution_count": 19,
   "metadata": {},
   "outputs": [
    {
     "data": {
      "text/html": [
       "<div class=\"allel allel-DisplayAs2D\"><span>&lt;GenotypeChunkedArray shape=(846813, 576, 2) dtype=int8 chunks=(65536, 64, 2)\n",
       "   nbytes=930.3M cbytes=63.9M cratio=14.6\n",
       "   compression=gzip compression_opts=1\n",
       "   values=h5py._hl.dataset.Dataset&gt;</span><table><thead><tr><th></th><th style=\"text-align: center\">0</th><th style=\"text-align: center\">1</th><th style=\"text-align: center\">2</th><th style=\"text-align: center\">3</th><th style=\"text-align: center\">4</th><th style=\"text-align: center\">...</th><th style=\"text-align: center\">571</th><th style=\"text-align: center\">572</th><th style=\"text-align: center\">573</th><th style=\"text-align: center\">574</th><th style=\"text-align: center\">575</th></tr></thead><tbody><tr><th style=\"text-align: center; background-color: white; border-right: 1px solid black; \">0</th><td style=\"text-align: center\">0/0</td><td style=\"text-align: center\">0/0</td><td style=\"text-align: center\">0/0</td><td style=\"text-align: center\">0/0</td><td style=\"text-align: center\">0/0</td><td style=\"text-align: center\">...</td><td style=\"text-align: center\">0/0</td><td style=\"text-align: center\">0/0</td><td style=\"text-align: center\">0/0</td><td style=\"text-align: center\">0/0</td><td style=\"text-align: center\">0/0</td></tr><tr><th style=\"text-align: center; background-color: white; border-right: 1px solid black; \">1</th><td style=\"text-align: center\">0/0</td><td style=\"text-align: center\">0/0</td><td style=\"text-align: center\">0/0</td><td style=\"text-align: center\">0/0</td><td style=\"text-align: center\">0/0</td><td style=\"text-align: center\">...</td><td style=\"text-align: center\">0/0</td><td style=\"text-align: center\">0/0</td><td style=\"text-align: center\">0/0</td><td style=\"text-align: center\">0/0</td><td style=\"text-align: center\">0/0</td></tr><tr><th style=\"text-align: center; background-color: white; border-right: 1px solid black; \">2</th><td style=\"text-align: center\">0/0</td><td style=\"text-align: center\">0/0</td><td style=\"text-align: center\">0/0</td><td style=\"text-align: center\">0/0</td><td style=\"text-align: center\">0/0</td><td style=\"text-align: center\">...</td><td style=\"text-align: center\">0/0</td><td style=\"text-align: center\">0/0</td><td style=\"text-align: center\">0/0</td><td style=\"text-align: center\">0/0</td><td style=\"text-align: center\">0/0</td></tr><tr><th style=\"text-align: center; background-color: white; border-right: 1px solid black; \">...</th><td style=\"text-align: center\" colspan=\"12\">...</td></tr><tr><th style=\"text-align: center; background-color: white; border-right: 1px solid black; \">846810</th><td style=\"text-align: center\">0/0</td><td style=\"text-align: center\">0/0</td><td style=\"text-align: center\">0/0</td><td style=\"text-align: center\">0/0</td><td style=\"text-align: center\">0/0</td><td style=\"text-align: center\">...</td><td style=\"text-align: center\">0/0</td><td style=\"text-align: center\">0/0</td><td style=\"text-align: center\">0/0</td><td style=\"text-align: center\">0/0</td><td style=\"text-align: center\">0/0</td></tr><tr><th style=\"text-align: center; background-color: white; border-right: 1px solid black; \">846811</th><td style=\"text-align: center\">0/0</td><td style=\"text-align: center\">0/0</td><td style=\"text-align: center\">0/0</td><td style=\"text-align: center\">0/0</td><td style=\"text-align: center\">0/0</td><td style=\"text-align: center\">...</td><td style=\"text-align: center\">0/0</td><td style=\"text-align: center\">0/0</td><td style=\"text-align: center\">0/0</td><td style=\"text-align: center\">0/0</td><td style=\"text-align: center\">0/0</td></tr><tr><th style=\"text-align: center; background-color: white; border-right: 1px solid black; \">846812</th><td style=\"text-align: center\">0/0</td><td style=\"text-align: center\">0/0</td><td style=\"text-align: center\">0/0</td><td style=\"text-align: center\">0/0</td><td style=\"text-align: center\">0/0</td><td style=\"text-align: center\">...</td><td style=\"text-align: center\">0/0</td><td style=\"text-align: center\">0/0</td><td style=\"text-align: center\">0/0</td><td style=\"text-align: center\">0/0</td><td style=\"text-align: center\">0/0</td></tr></tbody></table></div>"
      ],
      "text/plain": [
       "<GenotypeChunkedArray shape=(846813, 576, 2) dtype=int8 chunks=(65536, 64, 2)\n",
       "   nbytes=930.3M cbytes=63.9M cratio=14.6\n",
       "   compression=gzip compression_opts=1\n",
       "   values=h5py._hl.dataset.Dataset>"
      ]
     },
     "execution_count": 19,
     "metadata": {},
     "output_type": "execute_result"
    }
   ],
   "source": [
    "genotypes = allel.GenotypeChunkedArray(calldata['GT'])\n",
    "genotypes"
   ]
  },
  {
   "cell_type": "code",
   "execution_count": 137,
   "metadata": {},
   "outputs": [
    {
     "data": {
      "text/plain": [
       "['CH-BP-05-01',\n",
       " 'DE-BP-10-13',\n",
       " 'GB-BP-14-27',\n",
       " 'NO-BP-15-06',\n",
       " 'IT-BP-08-02',\n",
       " 'LT-BP-12-14',\n",
       " 'FI-BP-19-22',\n",
       " 'FR-BP-03-23',\n",
       " 'SE-BP-18-13',\n",
       " 'FR-BP-03-03',\n",
       " 'CH-BP-06-23',\n",
       " 'FR-BP-21-10',\n",
       " 'YT-1045',\n",
       " 'FR-BP-21-17',\n",
       " 'YT-870',\n",
       " 'GB-BP-14-22',\n",
       " 'FI-BP-20-05',\n",
       " 'GB-BP-13-21',\n",
       " 'GB-BP-14-17',\n",
       " 'CH-BP-06-21',\n",
       " 'DE-BP-10-01',\n",
       " 'GB-BP-13-03',\n",
       " 'IT-BP-08-14',\n",
       " 'NO-BP-15-02',\n",
       " 'FI-BP-20-01',\n",
       " 'FR-BP-04-10',\n",
       " 'DE-BP-10-12',\n",
       " 'DE-BP-09-06',\n",
       " 'CH-BP-06-12',\n",
       " 'LT-BP-11-08',\n",
       " 'SE-BP-18-20',\n",
       " 'FR-BP-03-04',\n",
       " 'NO-BP-16-11',\n",
       " 'ES-BP-02-25',\n",
       " 'SE-BP-18-18',\n",
       " 'SE-BP-18-06',\n",
       " 'ES-BP-02-16',\n",
       " 'IT-BP-07-11',\n",
       " 'SE-BP-17-05',\n",
       " 'YT-243',\n",
       " 'LT-BP-11-10',\n",
       " 'NO-BP-16-17',\n",
       " 'ES-BP-01-15',\n",
       " 'NO-BP-16-23',\n",
       " 'GB-BP-14-26',\n",
       " 'FI-BBU',\n",
       " 'YT-235',\n",
       " 'SE-BP-18-23',\n",
       " 'DE-BP-09-01',\n",
       " 'DE-BP-10-18',\n",
       " 'NO-BP-16-13',\n",
       " 'FR-BP-04-09',\n",
       " 'IT-BP-07-17',\n",
       " 'LT-BP-12-16',\n",
       " 'SE-BP-17-14',\n",
       " 'FR-BP-03-21',\n",
       " 'IT-BP-08-04',\n",
       " 'ES-BP-02-22',\n",
       " 'SE-BP-17-17',\n",
       " 'SE-BP-18-07',\n",
       " 'DE-BP-09-05',\n",
       " 'IT-BP-08-06',\n",
       " 'LT-BP-12-13',\n",
       " 'FR-BP-21-22',\n",
       " 'SE-BP-17-02',\n",
       " 'SE-BP-18-19',\n",
       " 'ES-BP-01-06',\n",
       " 'GB-BP-13-06',\n",
       " 'NO-BP-16-10',\n",
       " 'GB-BP-13-11',\n",
       " 'FR-BP-04-25',\n",
       " 'FR-BP-03-08',\n",
       " 'GB-BP-14-20',\n",
       " 'FI-BP-20-14',\n",
       " 'NO-BP-15-17',\n",
       " 'CH-BP-06-25',\n",
       " 'LT-BP-12-09',\n",
       " 'GB-BP-14-07',\n",
       " 'IT-BP-08-12',\n",
       " 'DE-BP-10-17',\n",
       " 'FI-BP-20-16',\n",
       " 'CH-BP-06-19',\n",
       " 'GB-BP-14-09',\n",
       " 'IT-BP-07-07',\n",
       " 'FR-BP-04-18',\n",
       " 'FR-BP-04-13',\n",
       " 'DE-BP-10-08',\n",
       " 'CH-BP-06-09',\n",
       " 'FR-BP-21-19',\n",
       " 'ES-BP-01-02',\n",
       " 'SE-BP-18-11',\n",
       " 'SE-BP-17-06',\n",
       " 'FI-BP-19-20',\n",
       " 'YT-1491',\n",
       " 'SE-BP-17-23',\n",
       " 'LT-BP-11-18',\n",
       " 'LT-BP-11-06',\n",
       " 'GB-BP-13-16',\n",
       " 'FR-BP-21-06',\n",
       " 'CH-BP-06-16',\n",
       " 'ES-BP-02-18',\n",
       " 'GB-BP-13-20',\n",
       " 'FI-BP-19-21',\n",
       " 'CH-BP-06-24',\n",
       " 'NO-BP-15-19',\n",
       " 'YT-284',\n",
       " 'FR-BP-03-10',\n",
       " 'YT-1490',\n",
       " 'IT-BP-08-21',\n",
       " 'SE-BP-18-21',\n",
       " 'LT-BP-11-07',\n",
       " 'FR-BP-04-07',\n",
       " 'CH-BP-05-14',\n",
       " 'FR-BP-04-05',\n",
       " 'FR-BP-21-02',\n",
       " 'YT-867',\n",
       " 'SE-BP-17-24',\n",
       " 'FR-BP-03-11',\n",
       " 'ES-BP-01-23',\n",
       " 'IT-BP-07-13',\n",
       " 'CH-BP-05-06',\n",
       " 'SE-BP-17-08',\n",
       " 'DE-BP-09-15',\n",
       " 'FR-BP-03-14',\n",
       " 'NO-BP-16-22',\n",
       " 'FI-BP-19-10',\n",
       " 'FI-BP-20-13',\n",
       " 'FR-BP-03-12',\n",
       " 'CH-BP-06-14',\n",
       " 'FR-BP-04-16',\n",
       " 'SE-BP-17-18',\n",
       " 'FI-BP-20-09',\n",
       " 'IT-BP-07-05',\n",
       " 'IT-BP-07-14',\n",
       " 'FI-BP-19-13',\n",
       " 'SE-BP-18-17',\n",
       " 'YT-869',\n",
       " 'FR-BP-03-22',\n",
       " 'IT-BP-08-19',\n",
       " 'FI-BP-20-22',\n",
       " 'FI-BP-20-20',\n",
       " 'ES-BP-02-23',\n",
       " 'SE-BP-17-12',\n",
       " 'FI-BP-19-24',\n",
       " 'ES-BP-01-08',\n",
       " 'CH-BP-06-04',\n",
       " 'FR-BP-04-06',\n",
       " 'FR-BP-21-09',\n",
       " 'LT-BP-11-12',\n",
       " 'LT-BP-11-14',\n",
       " 'IT-BP-07-18',\n",
       " 'LT-BP-11-09',\n",
       " 'SE-BP-17-15',\n",
       " 'SE-BP-18-04',\n",
       " 'DE-BP-10-11',\n",
       " 'FI-BP-20-11',\n",
       " 'FR-BP-21-20',\n",
       " 'NO-BP-15-23',\n",
       " 'DE-BP-10-25',\n",
       " 'IT-BP-08-13',\n",
       " 'DE-BP-10-20',\n",
       " 'DE-BP-09-09',\n",
       " 'SE-BP-17-04',\n",
       " 'LT-BP-12-15',\n",
       " 'FR-BP-03-25',\n",
       " 'NO-BP-16-05',\n",
       " 'LT-BP-11-20',\n",
       " 'NO-BP-15-15',\n",
       " 'DE-BP-09-20',\n",
       " 'DE-BP-09-11',\n",
       " 'FR-BP-21-05',\n",
       " 'DE-BP-10-22',\n",
       " 'LT-BP-11-25',\n",
       " 'ES-BP-01-05',\n",
       " 'IT-BP-07-12',\n",
       " 'ES-BP-02-10',\n",
       " 'NO-BP-15-01',\n",
       " 'GB-BP-14-03',\n",
       " 'GB-BP-13-19',\n",
       " 'IT-BP-07-22',\n",
       " 'GB-BP-13-12',\n",
       " 'CH-BP-06-11',\n",
       " 'DE-BP-09-24',\n",
       " 'CH-BP-06-10',\n",
       " 'FR-BP-03-01',\n",
       " 'YT-240',\n",
       " 'NO-BP-15-04',\n",
       " 'SE-BP-17-16',\n",
       " 'YT-273',\n",
       " 'FI-BP-19-23',\n",
       " 'FR-BP-04-21',\n",
       " 'SE-BP-17-25',\n",
       " 'CH-BP-05-20',\n",
       " 'CH-BP-06-22',\n",
       " 'YT-278',\n",
       " 'IT-BP-07-08',\n",
       " 'DE-BP-09-19',\n",
       " 'NO-BP-16-14',\n",
       " 'YT-866',\n",
       " 'NO-BP-16-07',\n",
       " 'NO-BP-16-25',\n",
       " 'FR-BP-04-03',\n",
       " 'CH-BP-06-13',\n",
       " 'ES-BP-02-11',\n",
       " 'SE-BP-18-14',\n",
       " 'CH-BP-05-04',\n",
       " 'GB-BP-14-15',\n",
       " 'DE-BP-10-04',\n",
       " 'DE-BP-10-10',\n",
       " 'NO-BP-15-12',\n",
       " 'LT-BP-12-03',\n",
       " 'LT-BP-11-01',\n",
       " 'DE-BP-09-21',\n",
       " 'FR-BP-03-06',\n",
       " 'IT-BP-08-10',\n",
       " 'GB-BP-13-09',\n",
       " 'FI-BP-19-09',\n",
       " 'IT-BP-07-24',\n",
       " 'FI-BP-20-02',\n",
       " 'IT-BP-07-10',\n",
       " 'FR-BP-03-15',\n",
       " 'FR-BP-21-01',\n",
       " 'ES-BP-02-15',\n",
       " 'YT-244',\n",
       " 'LT-BP-11-23',\n",
       " 'YT-1031',\n",
       " 'YT-247',\n",
       " 'ES-BP-01-17',\n",
       " 'ES-BP-02-03',\n",
       " 'GB-BP-14-06',\n",
       " 'FI-BP-20-23',\n",
       " 'FI-BP-19-25',\n",
       " 'ES-BP-02-04',\n",
       " 'CH-BP-05-07',\n",
       " 'FI-BP-20-12',\n",
       " 'IT-BP-07-09',\n",
       " 'FI-BP-20-21',\n",
       " 'FR-BP-04-11',\n",
       " 'GB-BP-14-13',\n",
       " 'IT-BP-07-16',\n",
       " 'DE-BP-10-06',\n",
       " 'YT-245',\n",
       " 'YT-1037',\n",
       " 'FI-BP-20-06',\n",
       " 'IT-BP-08-08',\n",
       " 'IT-BP-08-24',\n",
       " 'IT-BP-08-07',\n",
       " 'FR-BP-04-23',\n",
       " 'NO-BP-15-09',\n",
       " 'GB-BP-13-02',\n",
       " 'ES-BP-02-17',\n",
       " 'LT-BP-12-24',\n",
       " 'ES-BP-02-07',\n",
       " 'DE-BP-09-10',\n",
       " 'FR-BP-21-07',\n",
       " 'FR-BP-04-01',\n",
       " 'NO-BP-16-21',\n",
       " 'YT-279',\n",
       " 'LT-BP-12-22',\n",
       " 'DE-BP-10-14',\n",
       " 'CH-BP-05-10',\n",
       " 'ES-BP-01-16',\n",
       " 'IT-BP-07-23',\n",
       " 'DE-BP-10-02',\n",
       " 'DE-BP-09-07',\n",
       " 'CH-BP-05-08',\n",
       " 'FI-BP-20-07',\n",
       " 'NO-BP-15-07',\n",
       " 'FR-BP-03-17',\n",
       " 'SE-BP-17-21',\n",
       " 'YT-281',\n",
       " 'FR-BP-04-19',\n",
       " 'NO-BP-15-13',\n",
       " 'CH-BP-06-20',\n",
       " 'DE-BP-09-22',\n",
       " 'GB-BP-13-07',\n",
       " 'FR-BP-21-13',\n",
       " 'CH-BP-06-05',\n",
       " 'GB-BP-13-22',\n",
       " 'ES-BP-02-09',\n",
       " 'ES-BP-01-10',\n",
       " 'CH-BP-05-13',\n",
       " 'FR-BP-21-16',\n",
       " 'GB-BP-14-16',\n",
       " 'ES-BP-02-13',\n",
       " 'FR-BP-03-13',\n",
       " 'CH-BP-06-18',\n",
       " 'FI-BP-19-04',\n",
       " 'ES-BP-02-14',\n",
       " 'CH-BP-06-07',\n",
       " 'DE-BP-10-09',\n",
       " 'IT-BP-08-01',\n",
       " 'ES-BP-02-12',\n",
       " 'GB-BP-14-08',\n",
       " 'FI-BP-19-02',\n",
       " 'LT-BP-12-02',\n",
       " 'IT-BP-07-03',\n",
       " 'FI-BP-19-03',\n",
       " 'IT-BP-08-05',\n",
       " 'SE-BP-18-16',\n",
       " 'CH-BP-05-02',\n",
       " 'CH-BP-06-01',\n",
       " 'CH-BP-06-06',\n",
       " 'FR-BP-04-08',\n",
       " 'IT-BP-08-11',\n",
       " 'NO-BP-16-19',\n",
       " 'IT-BP-07-19',\n",
       " 'ES-BP-01-01',\n",
       " 'ES-BP-02-08',\n",
       " 'NO-BP-16-15',\n",
       " 'LT-BP-12-05',\n",
       " 'GB-BP-13-18',\n",
       " 'LT-BP-11-19',\n",
       " 'GB-BP-13-04',\n",
       " 'LT-BP-12-10',\n",
       " 'YT-1035',\n",
       " 'GB-BP-14-24',\n",
       " 'SE-BP-17-10',\n",
       " 'CH-BP-06-03',\n",
       " 'SE-BP-18-09',\n",
       " 'GB-BP-13-17',\n",
       " 'SE-BP-18-25',\n",
       " 'LT-BP-11-21',\n",
       " 'LT-BP-12-17',\n",
       " 'FI-BP-19-17',\n",
       " 'FR-BP-04-02',\n",
       " 'ES-BP-02-06',\n",
       " 'GB-BP-14-23',\n",
       " 'YT-1032',\n",
       " 'FI-BP-19-01',\n",
       " 'FI-BP-19-19',\n",
       " 'FI-BP-19-05',\n",
       " 'ES-BP-02-21',\n",
       " 'ES-BP-01-13',\n",
       " 'FR-BP-03-19',\n",
       " 'IT-BP-07-01',\n",
       " 'ES-BP-01-11',\n",
       " 'ES-BP-02-01',\n",
       " 'LT-BP-11-05',\n",
       " 'FR-BP-03-20',\n",
       " 'FR-BP-03-18',\n",
       " 'IT-BP-08-20',\n",
       " 'LT-BP-12-19',\n",
       " 'FI-BP-20-10',\n",
       " 'ES-BP-02-24',\n",
       " 'YT-1489',\n",
       " 'YT-246',\n",
       " 'YT-286',\n",
       " 'SE-BP-17-13',\n",
       " 'FR-BP-21-21',\n",
       " 'FR-BP-04-24',\n",
       " 'YT-248',\n",
       " 'CH-BP-06-17',\n",
       " 'YT-239',\n",
       " 'NO-BP-16-06',\n",
       " 'DE-BP-10-16',\n",
       " 'FR-BP-04-20',\n",
       " 'IT-BP-08-03',\n",
       " 'SE-BP-17-07',\n",
       " 'LT-BP-12-08',\n",
       " 'CH-BP-06-02',\n",
       " 'LT-BP-11-03',\n",
       " 'CH-BP-06-15',\n",
       " 'ES-BP-02-20',\n",
       " 'GB-BP-13-10',\n",
       " 'FR-BP-03-16',\n",
       " 'ES-BP-02-19',\n",
       " 'LT-BP-12-23',\n",
       " 'ES-BP-01-09',\n",
       " 'SE-BP-17-19',\n",
       " 'FR-BP-21-11',\n",
       " 'SE-BP-17-03',\n",
       " 'SE-BP-18-15',\n",
       " 'DE-BP-10-03',\n",
       " 'YT-282',\n",
       " 'FI-BP-19-15',\n",
       " 'GB-BP-14-19',\n",
       " 'YT-1042',\n",
       " 'IT-BP-08-09',\n",
       " 'GB-BP-13-01',\n",
       " 'LT-BP-12-11',\n",
       " 'YT-1033',\n",
       " 'ES-BP-01-04',\n",
       " 'DE-BP-09-23',\n",
       " 'CH-BP-05-12',\n",
       " 'LT-BP-11-13',\n",
       " 'SE-BP-18-03',\n",
       " 'FI-BP-19-18',\n",
       " 'FI-BP-19-11',\n",
       " 'NO-BP-16-09',\n",
       " 'CH-BP-05-16',\n",
       " 'ES-BP-01-14',\n",
       " 'FR-BP-21-12',\n",
       " 'FI-BP-20-04',\n",
       " 'NO-BP-15-16',\n",
       " 'LT-BP-12-18',\n",
       " 'SE-BP-18-24',\n",
       " 'YT-236',\n",
       " 'NO-BP-15-03',\n",
       " 'FR-BP-21-18',\n",
       " 'DE-BP-09-16',\n",
       " 'YT-285',\n",
       " 'FI-BN',\n",
       " 'SE-BP-17-01',\n",
       " 'ES-BP-01-20',\n",
       " 'GB-BP-13-23',\n",
       " 'YT-280',\n",
       " 'SE-BP-18-02',\n",
       " 'NO-BP-15-11',\n",
       " 'FR-BP-04-22',\n",
       " 'NO-BP-16-04',\n",
       " 'LT-BP-12-06',\n",
       " 'SE-BP-17-11',\n",
       " 'NO-BP-16-02',\n",
       " 'SE-BP-17-22',\n",
       " 'NO-BP-15-21',\n",
       " 'LT-BP-11-15',\n",
       " 'LT-BP-12-21',\n",
       " 'FR-BP-04-15',\n",
       " 'ES-BP-01-18',\n",
       " 'NO-BP-16-08',\n",
       " 'NO-BP-16-16',\n",
       " 'NO-BP-16-03',\n",
       " 'GB-BP-13-05',\n",
       " 'YT-863',\n",
       " 'GB-BP-14-04',\n",
       " 'IT-BP-08-18',\n",
       " 'FR-BP-03-24',\n",
       " 'LT-BP-11-04',\n",
       " 'DE-BP-09-25',\n",
       " 'ES-BP-01-22',\n",
       " 'YT-1046',\n",
       " 'CH-BP-05-11',\n",
       " 'DE-BP-10-15',\n",
       " 'GB-BP-13-14',\n",
       " 'ES-BP-01-19',\n",
       " 'YT-237',\n",
       " 'DE-BP-09-03',\n",
       " 'NO-BP-15-10',\n",
       " 'FI-BP-20-15',\n",
       " 'FI-BP-19-06',\n",
       " 'LT-BP-12-04',\n",
       " 'DE-BP-10-05',\n",
       " 'CH-BP-05-05',\n",
       " 'DE-BP-10-19',\n",
       " 'IT-BP-07-21',\n",
       " 'FR-BP-04-14',\n",
       " 'FR-BP-21-23',\n",
       " 'CH-BP-05-24',\n",
       " 'GB-BP-13-08',\n",
       " 'FR-BP-03-09',\n",
       " 'CH-BP-05-22',\n",
       " 'IT-BP-08-23',\n",
       " 'GB-BP-14-10',\n",
       " 'NO-BP-15-24',\n",
       " 'DE-BP-10-07',\n",
       " 'DE-BP-10-21',\n",
       " 'FI-BP-19-14',\n",
       " 'FI-BP-20-19',\n",
       " 'ES-BP-02-05',\n",
       " 'FI-BP-19-08',\n",
       " 'IT-BP-07-15',\n",
       " 'FR-BP-21-14',\n",
       " 'YT-871',\n",
       " 'FR-BP-21-04',\n",
       " 'FI-BP-20-25',\n",
       " 'NO-BP-16-12',\n",
       " 'IT-BP-07-25',\n",
       " 'GB-BP-13-24',\n",
       " 'YT-862',\n",
       " 'YT-1492',\n",
       " 'CH-BP-05-25',\n",
       " 'CH-BP-05-03',\n",
       " 'NO-BP-15-14',\n",
       " 'GB-BP-14-21',\n",
       " 'NO-BP-16-20',\n",
       " 'NO-BP-15-05',\n",
       " 'LT-BP-11-02',\n",
       " 'FR-BP-21-15',\n",
       " 'FR-BP-03-02',\n",
       " 'IT-BP-08-15',\n",
       " 'LT-BP-11-11',\n",
       " 'DE-BP-10-23',\n",
       " 'DE-BP-09-02',\n",
       " 'LT-BP-11-17',\n",
       " 'LT-BP-11-24',\n",
       " 'DE-BP-09-18',\n",
       " 'IT-BP-07-20',\n",
       " 'SE-BP-17-09',\n",
       " 'FR-BP-21-03',\n",
       " 'IT-BP-07-06',\n",
       " 'NO-BP-15-25',\n",
       " 'YT-868',\n",
       " 'ES-BP-01-07',\n",
       " 'YT-249',\n",
       " 'DE-BP-09-13',\n",
       " 'LT-BP-12-12',\n",
       " 'IT-BP-08-22',\n",
       " 'SE-BP-18-05',\n",
       " 'SE-BP-18-22',\n",
       " 'NO-BP-16-01',\n",
       " 'DE-BP-09-17',\n",
       " 'FR-BP-21-25',\n",
       " 'SE-BP-18-01',\n",
       " 'ES-BP-01-21',\n",
       " 'GB-BP-14-05',\n",
       " 'FR-BP-21-08',\n",
       " 'FR-BP-03-05',\n",
       " 'DE-BP-09-12',\n",
       " 'ES-BP-01-12',\n",
       " 'LT-BP-12-07',\n",
       " 'NO-BP-16-18',\n",
       " 'IT-BP-08-25',\n",
       " 'YT-277',\n",
       " 'FI-BP-20-18',\n",
       " 'FR-BP-04-17',\n",
       " 'SE-BP-17-20',\n",
       " 'YT-865',\n",
       " 'LT-BP-12-01',\n",
       " 'FI-BP-20-08',\n",
       " 'YT-241',\n",
       " 'FR-BP-03-07',\n",
       " 'FR-BP-04-04',\n",
       " 'LT-BP-11-16',\n",
       " 'DE-BP-09-04',\n",
       " 'GB-BP-14-18',\n",
       " 'NO-BP-15-08',\n",
       " 'FI-BP-20-24',\n",
       " 'LT-BP-12-20',\n",
       " 'CH-BP-05-17',\n",
       " 'LT-BP-11-22',\n",
       " 'ES-BP-01-03',\n",
       " 'NO-BP-16-24',\n",
       " 'FR-BP-21-24',\n",
       " 'YT-242',\n",
       " 'DE-BP-10-24',\n",
       " 'GB-BP-13-15',\n",
       " 'IT-BP-07-04',\n",
       " 'GB-BP-14-25',\n",
       " 'SE-BP-18-08',\n",
       " 'YT-274',\n",
       " 'LT-BP-12-25',\n",
       " 'ES-BP-01-24',\n",
       " 'YT-283',\n",
       " 'CH-BP-05-21',\n",
       " 'GB-BP-14-14',\n",
       " 'GB-BP-14-02',\n",
       " 'SE-BP-18-12',\n",
       " 'FI-BP-20-03',\n",
       " 'CH-BP-05-19',\n",
       " 'ES-BP-01-25',\n",
       " 'FI-BP-19-16',\n",
       " 'ES-BP-02-02',\n",
       " 'DE-BP-09-14',\n",
       " 'YT-238',\n",
       " 'FR-BP-04-12',\n",
       " 'IT-BP-08-16',\n",
       " 'CH-BP-05-18',\n",
       " 'NO-BP-15-22',\n",
       " 'FI-BP-19-12',\n",
       " 'GB-BP-14-01',\n",
       " 'SE-BP-18-10',\n",
       " 'YT-1039',\n",
       " 'FI-BP-20-17',\n",
       " 'NO-BP-15-18',\n",
       " 'CH-BP-06-08',\n",
       " 'CH-BP-05-23',\n",
       " 'IT-BP-07-02',\n",
       " 'FI-BP-19-07',\n",
       " 'YT-250',\n",
       " 'NO-BP-15-20',\n",
       " 'DE-BP-09-08',\n",
       " 'IT-BP-08-17',\n",
       " 'CH-BP-05-15',\n",
       " 'CH-BP-05-09',\n",
       " 'GB-BP-13-13']"
      ]
     },
     "execution_count": 137,
     "metadata": {},
     "output_type": "execute_result"
    }
   ],
   "source": [
    "samples = callset['samples']\n",
    "samples = list(samples)\n",
    "samples"
   ]
  },
  {
   "cell_type": "markdown",
   "metadata": {},
   "source": [
    "# load metadata file"
   ]
  },
  {
   "cell_type": "code",
   "execution_count": 149,
   "metadata": {},
   "outputs": [
    {
     "data": {
      "text/html": [
       "<div>\n",
       "<style scoped>\n",
       "    .dataframe tbody tr th:only-of-type {\n",
       "        vertical-align: middle;\n",
       "    }\n",
       "\n",
       "    .dataframe tbody tr th {\n",
       "        vertical-align: top;\n",
       "    }\n",
       "\n",
       "    .dataframe thead th {\n",
       "        text-align: right;\n",
       "    }\n",
       "</style>\n",
       "<table border=\"1\" class=\"dataframe\">\n",
       "  <thead>\n",
       "    <tr style=\"text-align: right;\">\n",
       "      <th></th>\n",
       "      <th>ID</th>\n",
       "      <th>Population</th>\n",
       "    </tr>\n",
       "  </thead>\n",
       "  <tbody>\n",
       "    <tr>\n",
       "      <th>0</th>\n",
       "      <td>CH-BP-05-01</td>\n",
       "      <td>CH-BP-5</td>\n",
       "    </tr>\n",
       "    <tr>\n",
       "      <th>1</th>\n",
       "      <td>DE-BP-10-13</td>\n",
       "      <td>DE-BP-10</td>\n",
       "    </tr>\n",
       "    <tr>\n",
       "      <th>2</th>\n",
       "      <td>GB-BP-14-27</td>\n",
       "      <td>GB-BP-14</td>\n",
       "    </tr>\n",
       "    <tr>\n",
       "      <th>3</th>\n",
       "      <td>NO-BP-15-06</td>\n",
       "      <td>NO-BP-15</td>\n",
       "    </tr>\n",
       "    <tr>\n",
       "      <th>4</th>\n",
       "      <td>IT-BP-08-02</td>\n",
       "      <td>IT-BP-8</td>\n",
       "    </tr>\n",
       "    <tr>\n",
       "      <th>...</th>\n",
       "      <td>...</td>\n",
       "      <td>...</td>\n",
       "    </tr>\n",
       "    <tr>\n",
       "      <th>571</th>\n",
       "      <td>DE-BP-09-08</td>\n",
       "      <td>DE-BP-9</td>\n",
       "    </tr>\n",
       "    <tr>\n",
       "      <th>572</th>\n",
       "      <td>IT-BP-08-17</td>\n",
       "      <td>IT-BP-8</td>\n",
       "    </tr>\n",
       "    <tr>\n",
       "      <th>573</th>\n",
       "      <td>CH-BP-05-15</td>\n",
       "      <td>CH-BP-5</td>\n",
       "    </tr>\n",
       "    <tr>\n",
       "      <th>574</th>\n",
       "      <td>CH-BP-05-09</td>\n",
       "      <td>CH-BP-5</td>\n",
       "    </tr>\n",
       "    <tr>\n",
       "      <th>575</th>\n",
       "      <td>GB-BP-13-13</td>\n",
       "      <td>GB-BP-13</td>\n",
       "    </tr>\n",
       "  </tbody>\n",
       "</table>\n",
       "<p>576 rows × 2 columns</p>\n",
       "</div>"
      ],
      "text/plain": [
       "              ID Population\n",
       "0    CH-BP-05-01    CH-BP-5\n",
       "1    DE-BP-10-13   DE-BP-10\n",
       "2    GB-BP-14-27   GB-BP-14\n",
       "3    NO-BP-15-06   NO-BP-15\n",
       "4    IT-BP-08-02    IT-BP-8\n",
       "..           ...        ...\n",
       "571  DE-BP-09-08    DE-BP-9\n",
       "572  IT-BP-08-17    IT-BP-8\n",
       "573  CH-BP-05-15    CH-BP-5\n",
       "574  CH-BP-05-09    CH-BP-5\n",
       "575  GB-BP-13-13   GB-BP-13\n",
       "\n",
       "[576 rows x 2 columns]"
      ]
     },
     "execution_count": 149,
     "metadata": {},
     "output_type": "execute_result"
    }
   ],
   "source": [
    "samples_fn = '/wrk/Gen_Tree/GenTree_Genome_mapping/Betula_pendula/Bpendula_SAMPLES_GM_raw_snps.txt'\n",
    "samples = pandas.read_csv(samples_fn, sep='\\t')\n",
    "samples"
   ]
  },
  {
   "cell_type": "code",
   "execution_count": 150,
   "metadata": {},
   "outputs": [
    {
     "data": {
      "text/plain": [
       "YT          50\n",
       "IT-BP-8     25\n",
       "SE-BP-18    25\n",
       "DE-BP-10    25\n",
       "NO-BP-16    25\n",
       "SE-BP-17    25\n",
       "FI-BP-20    25\n",
       "GB-BP-14    25\n",
       "NO-BP-15    25\n",
       "ES-BP-1     25\n",
       "FI-BP-19    25\n",
       "FR-BP-4     25\n",
       "ES-BP-2     25\n",
       "FR-BP-21    25\n",
       "LT-BP-12    25\n",
       "LT-BP-11    25\n",
       "IT-BP-7     25\n",
       "DE-BP-9     25\n",
       "FR-BP-3     25\n",
       "CH-BP-6     25\n",
       "CH-BP-5     25\n",
       "GB-BP-13    24\n",
       "FI-BBU       1\n",
       "FI-BN        1\n",
       "Name: Population, dtype: int64"
      ]
     },
     "execution_count": 150,
     "metadata": {},
     "output_type": "execute_result"
    }
   ],
   "source": [
    "samples.Population.value_counts()"
   ]
  },
  {
   "cell_type": "code",
   "execution_count": 151,
   "metadata": {},
   "outputs": [
    {
     "data": {
      "text/plain": [
       "array([ True,  True,  True,  True,  True])"
      ]
     },
     "execution_count": 151,
     "metadata": {},
     "output_type": "execute_result"
    }
   ],
   "source": [
    "sample_selection = samples.Population.isin({'CH-BP-5', 'CH-BP-6', 'DE-BP-9', 'DE-BP-10', 'ES-BP-1', 'ES-BP-2',\n",
    "       'FI-BBU', 'FI-BN', 'FI-BP-19', 'FI-BP-20', 'FR-BP-3', 'FR-BP-4',\n",
    "       'FR-BP-21', 'GB-BP-13', 'GB-BP-14', 'IT-BP-7', 'IT-BP-8',\n",
    "       'LT-BP-11', 'LT-BP-12', 'NO-BP-15', 'NO-BP-16', 'SE-BP-17',\n",
    "       'SE-BP-18', 'YT'}).values\n",
    "sample_selection[:5]"
   ]
  },
  {
   "cell_type": "code",
   "execution_count": 152,
   "metadata": {},
   "outputs": [
    {
     "data": {
      "text/html": [
       "<div>\n",
       "<style scoped>\n",
       "    .dataframe tbody tr th:only-of-type {\n",
       "        vertical-align: middle;\n",
       "    }\n",
       "\n",
       "    .dataframe tbody tr th {\n",
       "        vertical-align: top;\n",
       "    }\n",
       "\n",
       "    .dataframe thead th {\n",
       "        text-align: right;\n",
       "    }\n",
       "</style>\n",
       "<table border=\"1\" class=\"dataframe\">\n",
       "  <thead>\n",
       "    <tr style=\"text-align: right;\">\n",
       "      <th></th>\n",
       "      <th>ID</th>\n",
       "      <th>Population</th>\n",
       "    </tr>\n",
       "  </thead>\n",
       "  <tbody>\n",
       "    <tr>\n",
       "      <th>0</th>\n",
       "      <td>CH-BP-05-01</td>\n",
       "      <td>CH-BP-5</td>\n",
       "    </tr>\n",
       "    <tr>\n",
       "      <th>1</th>\n",
       "      <td>DE-BP-10-13</td>\n",
       "      <td>DE-BP-10</td>\n",
       "    </tr>\n",
       "    <tr>\n",
       "      <th>2</th>\n",
       "      <td>GB-BP-14-27</td>\n",
       "      <td>GB-BP-14</td>\n",
       "    </tr>\n",
       "    <tr>\n",
       "      <th>3</th>\n",
       "      <td>NO-BP-15-06</td>\n",
       "      <td>NO-BP-15</td>\n",
       "    </tr>\n",
       "    <tr>\n",
       "      <th>4</th>\n",
       "      <td>IT-BP-08-02</td>\n",
       "      <td>IT-BP-8</td>\n",
       "    </tr>\n",
       "    <tr>\n",
       "      <th>...</th>\n",
       "      <td>...</td>\n",
       "      <td>...</td>\n",
       "    </tr>\n",
       "    <tr>\n",
       "      <th>571</th>\n",
       "      <td>DE-BP-09-08</td>\n",
       "      <td>DE-BP-9</td>\n",
       "    </tr>\n",
       "    <tr>\n",
       "      <th>572</th>\n",
       "      <td>IT-BP-08-17</td>\n",
       "      <td>IT-BP-8</td>\n",
       "    </tr>\n",
       "    <tr>\n",
       "      <th>573</th>\n",
       "      <td>CH-BP-05-15</td>\n",
       "      <td>CH-BP-5</td>\n",
       "    </tr>\n",
       "    <tr>\n",
       "      <th>574</th>\n",
       "      <td>CH-BP-05-09</td>\n",
       "      <td>CH-BP-5</td>\n",
       "    </tr>\n",
       "    <tr>\n",
       "      <th>575</th>\n",
       "      <td>GB-BP-13-13</td>\n",
       "      <td>GB-BP-13</td>\n",
       "    </tr>\n",
       "  </tbody>\n",
       "</table>\n",
       "<p>576 rows × 2 columns</p>\n",
       "</div>"
      ],
      "text/plain": [
       "              ID Population\n",
       "0    CH-BP-05-01    CH-BP-5\n",
       "1    DE-BP-10-13   DE-BP-10\n",
       "2    GB-BP-14-27   GB-BP-14\n",
       "3    NO-BP-15-06   NO-BP-15\n",
       "4    IT-BP-08-02    IT-BP-8\n",
       "..           ...        ...\n",
       "571  DE-BP-09-08    DE-BP-9\n",
       "572  IT-BP-08-17    IT-BP-8\n",
       "573  CH-BP-05-15    CH-BP-5\n",
       "574  CH-BP-05-09    CH-BP-5\n",
       "575  GB-BP-13-13   GB-BP-13\n",
       "\n",
       "[576 rows x 2 columns]"
      ]
     },
     "execution_count": 152,
     "metadata": {},
     "output_type": "execute_result"
    }
   ],
   "source": [
    "samples_subset = samples[sample_selection]\n",
    "samples_subset.reset_index(drop=True, inplace=True)\n",
    "samples_subset"
   ]
  },
  {
   "cell_type": "code",
   "execution_count": null,
   "metadata": {},
   "outputs": [],
   "source": []
  },
  {
   "cell_type": "code",
   "execution_count": 153,
   "metadata": {},
   "outputs": [
    {
     "name": "stdout",
     "output_type": "stream",
     "text": [
      "CPU times: user 7.26 s, sys: 37.4 ms, total: 7.3 s\n",
      "Wall time: 6.73 s\n"
     ]
    }
   ],
   "source": [
    "%%time\n",
    "genotypes_subset = genotypes.subset(variant_selection, sample_selection)"
   ]
  },
  {
   "cell_type": "code",
   "execution_count": 154,
   "metadata": {},
   "outputs": [
    {
     "data": {
      "text/html": [
       "<div class=\"allel allel-DisplayAs2D\"><span>&lt;GenotypeChunkedArray shape=(779448, 576, 2) dtype=int8 chunks=(1523, 576, 2)\n",
       "   nbytes=856.3M cbytes=117.8M cratio=7.3\n",
       "   compression=blosc compression_opts={'cname': 'lz4', 'clevel': 5, 'shuffle': 1, 'blocksize': 0}\n",
       "   values=zarr.core.Array&gt;</span><table><thead><tr><th></th><th style=\"text-align: center\">0</th><th style=\"text-align: center\">1</th><th style=\"text-align: center\">2</th><th style=\"text-align: center\">3</th><th style=\"text-align: center\">4</th><th style=\"text-align: center\">...</th><th style=\"text-align: center\">571</th><th style=\"text-align: center\">572</th><th style=\"text-align: center\">573</th><th style=\"text-align: center\">574</th><th style=\"text-align: center\">575</th></tr></thead><tbody><tr><th style=\"text-align: center; background-color: white; border-right: 1px solid black; \">0</th><td style=\"text-align: center\">0/0</td><td style=\"text-align: center\">0/0</td><td style=\"text-align: center\">0/0</td><td style=\"text-align: center\">0/0</td><td style=\"text-align: center\">0/0</td><td style=\"text-align: center\">...</td><td style=\"text-align: center\">0/0</td><td style=\"text-align: center\">0/0</td><td style=\"text-align: center\">0/0</td><td style=\"text-align: center\">0/0</td><td style=\"text-align: center\">0/0</td></tr><tr><th style=\"text-align: center; background-color: white; border-right: 1px solid black; \">1</th><td style=\"text-align: center\">0/0</td><td style=\"text-align: center\">0/0</td><td style=\"text-align: center\">0/0</td><td style=\"text-align: center\">0/0</td><td style=\"text-align: center\">0/0</td><td style=\"text-align: center\">...</td><td style=\"text-align: center\">0/0</td><td style=\"text-align: center\">0/0</td><td style=\"text-align: center\">0/0</td><td style=\"text-align: center\">0/0</td><td style=\"text-align: center\">0/0</td></tr><tr><th style=\"text-align: center; background-color: white; border-right: 1px solid black; \">2</th><td style=\"text-align: center\">0/0</td><td style=\"text-align: center\">0/0</td><td style=\"text-align: center\">0/0</td><td style=\"text-align: center\">0/0</td><td style=\"text-align: center\">0/0</td><td style=\"text-align: center\">...</td><td style=\"text-align: center\">0/0</td><td style=\"text-align: center\">0/0</td><td style=\"text-align: center\">0/0</td><td style=\"text-align: center\">0/0</td><td style=\"text-align: center\">0/0</td></tr><tr><th style=\"text-align: center; background-color: white; border-right: 1px solid black; \">...</th><td style=\"text-align: center\" colspan=\"12\">...</td></tr><tr><th style=\"text-align: center; background-color: white; border-right: 1px solid black; \">779445</th><td style=\"text-align: center\">0/0</td><td style=\"text-align: center\">0/0</td><td style=\"text-align: center\">0/0</td><td style=\"text-align: center\">0/0</td><td style=\"text-align: center\">0/0</td><td style=\"text-align: center\">...</td><td style=\"text-align: center\">0/0</td><td style=\"text-align: center\">0/0</td><td style=\"text-align: center\">0/0</td><td style=\"text-align: center\">0/0</td><td style=\"text-align: center\">0/0</td></tr><tr><th style=\"text-align: center; background-color: white; border-right: 1px solid black; \">779446</th><td style=\"text-align: center\">0/0</td><td style=\"text-align: center\">0/0</td><td style=\"text-align: center\">0/0</td><td style=\"text-align: center\">0/0</td><td style=\"text-align: center\">0/0</td><td style=\"text-align: center\">...</td><td style=\"text-align: center\">0/0</td><td style=\"text-align: center\">0/0</td><td style=\"text-align: center\">0/0</td><td style=\"text-align: center\">0/0</td><td style=\"text-align: center\">0/0</td></tr><tr><th style=\"text-align: center; background-color: white; border-right: 1px solid black; \">779447</th><td style=\"text-align: center\">0/0</td><td style=\"text-align: center\">0/0</td><td style=\"text-align: center\">0/0</td><td style=\"text-align: center\">0/0</td><td style=\"text-align: center\">0/0</td><td style=\"text-align: center\">...</td><td style=\"text-align: center\">0/0</td><td style=\"text-align: center\">0/0</td><td style=\"text-align: center\">0/0</td><td style=\"text-align: center\">0/0</td><td style=\"text-align: center\">0/0</td></tr></tbody></table></div>"
      ],
      "text/plain": [
       "<GenotypeChunkedArray shape=(779448, 576, 2) dtype=int8 chunks=(1523, 576, 2)\n",
       "   nbytes=856.3M cbytes=117.8M cratio=7.3\n",
       "   compression=blosc compression_opts={'cname': 'lz4', 'clevel': 5, 'shuffle': 1, 'blocksize': 0}\n",
       "   values=zarr.core.Array>"
      ]
     },
     "execution_count": 154,
     "metadata": {},
     "output_type": "execute_result"
    }
   ],
   "source": [
    "genotypes_subset"
   ]
  },
  {
   "cell_type": "markdown",
   "metadata": {},
   "source": [
    "### grab the allele counts for the populations"
   ]
  },
  {
   "cell_type": "code",
   "execution_count": 61,
   "metadata": {},
   "outputs": [
    {
     "data": {
      "text/html": [
       "<div class=\"allel allel-DisplayAs2D\"><span>&lt;AlleleCountsChunkedArray shape=(779448, 5) dtype=int32 chunks=(24358, 5)\n",
       "   nbytes=14.9M cbytes=3.1M cratio=4.9\n",
       "   compression=blosc compression_opts={'cname': 'lz4', 'clevel': 5, 'shuffle': 1, 'blocksize': 0}\n",
       "   values=zarr.core.Array&gt;</span><table><thead><tr><th></th><th style=\"text-align: center\">0</th><th style=\"text-align: center\">1</th><th style=\"text-align: center\">2</th><th style=\"text-align: center\">3</th><th style=\"text-align: center\">4</th></tr></thead><tbody><tr><th style=\"text-align: center; background-color: white; border-right: 1px solid black; \">0</th><td style=\"text-align: center\">1085</td><td style=\"text-align: center\">   1</td><td style=\"text-align: center\">   0</td><td style=\"text-align: center\">   0</td><td style=\"text-align: center\">   0</td></tr><tr><th style=\"text-align: center; background-color: white; border-right: 1px solid black; \">1</th><td style=\"text-align: center\">1062</td><td style=\"text-align: center\">   2</td><td style=\"text-align: center\">   0</td><td style=\"text-align: center\">   0</td><td style=\"text-align: center\">   0</td></tr><tr><th style=\"text-align: center; background-color: white; border-right: 1px solid black; \">2</th><td style=\"text-align: center\">1025</td><td style=\"text-align: center\">  29</td><td style=\"text-align: center\">   0</td><td style=\"text-align: center\">   0</td><td style=\"text-align: center\">   0</td></tr><tr><th style=\"text-align: center; background-color: white; border-right: 1px solid black; \">...</th><td style=\"text-align: center\" colspan=\"6\">...</td></tr><tr><th style=\"text-align: center; background-color: white; border-right: 1px solid black; \">779445</th><td style=\"text-align: center\">1001</td><td style=\"text-align: center\">   1</td><td style=\"text-align: center\">   0</td><td style=\"text-align: center\">   0</td><td style=\"text-align: center\">   0</td></tr><tr><th style=\"text-align: center; background-color: white; border-right: 1px solid black; \">779446</th><td style=\"text-align: center\"> 997</td><td style=\"text-align: center\">   1</td><td style=\"text-align: center\">   0</td><td style=\"text-align: center\">   0</td><td style=\"text-align: center\">   0</td></tr><tr><th style=\"text-align: center; background-color: white; border-right: 1px solid black; \">779447</th><td style=\"text-align: center\"> 973</td><td style=\"text-align: center\">   1</td><td style=\"text-align: center\">   0</td><td style=\"text-align: center\">   0</td><td style=\"text-align: center\">   0</td></tr></tbody></table></div>"
      ],
      "text/plain": [
       "<AlleleCountsChunkedArray shape=(779448, 5) dtype=int32 chunks=(24358, 5)\n",
       "   nbytes=14.9M cbytes=3.1M cratio=4.9\n",
       "   compression=blosc compression_opts={'cname': 'lz4', 'clevel': 5, 'shuffle': 1, 'blocksize': 0}\n",
       "   values=zarr.core.Array>"
      ]
     },
     "execution_count": 61,
     "metadata": {},
     "output_type": "execute_result"
    }
   ],
   "source": [
    "ac = genotypes_subset.count_alleles()\n",
    "ac"
   ]
  },
  {
   "cell_type": "markdown",
   "metadata": {},
   "source": [
    "### Which ones are biallelic?"
   ]
  },
  {
   "cell_type": "code",
   "execution_count": 62,
   "metadata": {},
   "outputs": [
    {
     "data": {
      "text/plain": [
       "array([[1085,    1],\n",
       "       [1062,    2],\n",
       "       [1025,   29],\n",
       "       ...,\n",
       "       [1001,    1],\n",
       "       [ 997,    1],\n",
       "       [ 973,    1]], dtype=int32)"
      ]
     },
     "execution_count": 62,
     "metadata": {},
     "output_type": "execute_result"
    }
   ],
   "source": [
    "is_biallelic_01 = ac.is_biallelic_01()[:]\n",
    "ac1 = ac.compress(is_biallelic_01, axis=0)[:, :2]\n",
    "ac1\n",
    "##this part of the code is only for graphing the SFS, is not useful for filtering biallelic sites"
   ]
  },
  {
   "cell_type": "markdown",
   "metadata": {},
   "source": [
    "### Plot the SFS of the derived allele"
   ]
  },
  {
   "cell_type": "code",
   "execution_count": 63,
   "metadata": {},
   "outputs": [
    {
     "data": {
      "text/plain": [
       "<matplotlib.axes._subplots.AxesSubplot at 0x7f8b76521610>"
      ]
     },
     "execution_count": 63,
     "metadata": {},
     "output_type": "execute_result"
    },
    {
     "data": {
      "image/png": "[encoded data removed]",
      "text/plain": [
       "<Figure size 432x288 with 1 Axes>"
      ]
     },
     "metadata": {},
     "output_type": "display_data"
    }
   ],
   "source": [
    "s = allel.sfs_folded(ac1)\n",
    "allel.plot_sfs(s, yscale=\"linear\", n=ac1.sum(axis=1).max())"
   ]
  },
  {
   "cell_type": "markdown",
   "metadata": {},
   "source": [
    "### Select only biallelic variants"
   ]
  },
  {
   "cell_type": "code",
   "execution_count": 64,
   "metadata": {},
   "outputs": [],
   "source": [
    "biallelic = (ac.max_allele() == 1)\n",
    "###This is the filter expression for biallelic sites"
   ]
  },
  {
   "cell_type": "code",
   "execution_count": 65,
   "metadata": {},
   "outputs": [
    {
     "data": {
      "text/plain": [
       "<ChunkedArrayWrapper shape=(779448,) dtype=bool chunks=(194862,)\n",
       "   nbytes=761.2K cbytes=222.9K cratio=3.4\n",
       "   compression=blosc compression_opts={'cname': 'lz4', 'clevel': 5, 'shuffle': 1, 'blocksize': 0}\n",
       "   values=zarr.core.Array>"
      ]
     },
     "execution_count": 65,
     "metadata": {},
     "output_type": "execute_result"
    }
   ],
   "source": [
    "biallelic"
   ]
  },
  {
   "cell_type": "code",
   "execution_count": 66,
   "metadata": {},
   "outputs": [
    {
     "name": "stdout",
     "output_type": "stream",
     "text": [
      "CPU times: user 2.51 s, sys: 120 ms, total: 2.63 s\n",
      "Wall time: 894 ms\n"
     ]
    },
    {
     "data": {
      "text/html": [
       "<div class=\"allel allel-DisplayAs2D\"><span>&lt;GenotypeChunkedArray shape=(690551, 576, 2) dtype=int8 chunks=(1349, 576, 2)\n",
       "   nbytes=758.7M cbytes=95.9M cratio=7.9\n",
       "   compression=blosc compression_opts={'cname': 'lz4', 'clevel': 5, 'shuffle': 1, 'blocksize': 0}\n",
       "   values=zarr.core.Array&gt;</span><table><thead><tr><th></th><th style=\"text-align: center\">0</th><th style=\"text-align: center\">1</th><th style=\"text-align: center\">2</th><th style=\"text-align: center\">3</th><th style=\"text-align: center\">4</th><th style=\"text-align: center\">...</th><th style=\"text-align: center\">571</th><th style=\"text-align: center\">572</th><th style=\"text-align: center\">573</th><th style=\"text-align: center\">574</th><th style=\"text-align: center\">575</th></tr></thead><tbody><tr><th style=\"text-align: center; background-color: white; border-right: 1px solid black; \">0</th><td style=\"text-align: center\">0/0</td><td style=\"text-align: center\">0/0</td><td style=\"text-align: center\">0/0</td><td style=\"text-align: center\">0/0</td><td style=\"text-align: center\">0/0</td><td style=\"text-align: center\">...</td><td style=\"text-align: center\">0/0</td><td style=\"text-align: center\">0/0</td><td style=\"text-align: center\">0/0</td><td style=\"text-align: center\">0/0</td><td style=\"text-align: center\">0/0</td></tr><tr><th style=\"text-align: center; background-color: white; border-right: 1px solid black; \">1</th><td style=\"text-align: center\">0/0</td><td style=\"text-align: center\">0/0</td><td style=\"text-align: center\">0/0</td><td style=\"text-align: center\">0/0</td><td style=\"text-align: center\">0/0</td><td style=\"text-align: center\">...</td><td style=\"text-align: center\">0/0</td><td style=\"text-align: center\">0/0</td><td style=\"text-align: center\">0/0</td><td style=\"text-align: center\">0/0</td><td style=\"text-align: center\">0/0</td></tr><tr><th style=\"text-align: center; background-color: white; border-right: 1px solid black; \">2</th><td style=\"text-align: center\">0/0</td><td style=\"text-align: center\">0/0</td><td style=\"text-align: center\">0/0</td><td style=\"text-align: center\">0/0</td><td style=\"text-align: center\">0/0</td><td style=\"text-align: center\">...</td><td style=\"text-align: center\">0/0</td><td style=\"text-align: center\">0/0</td><td style=\"text-align: center\">0/0</td><td style=\"text-align: center\">0/0</td><td style=\"text-align: center\">0/0</td></tr><tr><th style=\"text-align: center; background-color: white; border-right: 1px solid black; \">...</th><td style=\"text-align: center\" colspan=\"12\">...</td></tr><tr><th style=\"text-align: center; background-color: white; border-right: 1px solid black; \">690548</th><td style=\"text-align: center\">0/0</td><td style=\"text-align: center\">0/0</td><td style=\"text-align: center\">0/0</td><td style=\"text-align: center\">0/0</td><td style=\"text-align: center\">0/0</td><td style=\"text-align: center\">...</td><td style=\"text-align: center\">0/0</td><td style=\"text-align: center\">0/0</td><td style=\"text-align: center\">0/0</td><td style=\"text-align: center\">0/0</td><td style=\"text-align: center\">0/0</td></tr><tr><th style=\"text-align: center; background-color: white; border-right: 1px solid black; \">690549</th><td style=\"text-align: center\">0/0</td><td style=\"text-align: center\">0/0</td><td style=\"text-align: center\">0/0</td><td style=\"text-align: center\">0/0</td><td style=\"text-align: center\">0/0</td><td style=\"text-align: center\">...</td><td style=\"text-align: center\">0/0</td><td style=\"text-align: center\">0/0</td><td style=\"text-align: center\">0/0</td><td style=\"text-align: center\">0/0</td><td style=\"text-align: center\">0/0</td></tr><tr><th style=\"text-align: center; background-color: white; border-right: 1px solid black; \">690550</th><td style=\"text-align: center\">0/0</td><td style=\"text-align: center\">0/0</td><td style=\"text-align: center\">0/0</td><td style=\"text-align: center\">0/0</td><td style=\"text-align: center\">0/0</td><td style=\"text-align: center\">...</td><td style=\"text-align: center\">0/0</td><td style=\"text-align: center\">0/0</td><td style=\"text-align: center\">0/0</td><td style=\"text-align: center\">0/0</td><td style=\"text-align: center\">0/0</td></tr></tbody></table></div>"
      ],
      "text/plain": [
       "<GenotypeChunkedArray shape=(690551, 576, 2) dtype=int8 chunks=(1349, 576, 2)\n",
       "   nbytes=758.7M cbytes=95.9M cratio=7.9\n",
       "   compression=blosc compression_opts={'cname': 'lz4', 'clevel': 5, 'shuffle': 1, 'blocksize': 0}\n",
       "   values=zarr.core.Array>"
      ]
     },
     "execution_count": 66,
     "metadata": {},
     "output_type": "execute_result"
    }
   ],
   "source": [
    "%%time\n",
    "genotypes_subset_2 = genotypes_subset.compress(biallelic)\n",
    "genotypes_subset_2\n",
    "###subset the array genotypes_subset by keeping only biallelic sites. "
   ]
  },
  {
   "cell_type": "code",
   "execution_count": 67,
   "metadata": {},
   "outputs": [
    {
     "data": {
      "text/html": [
       "<div class=\"allel allel-DisplayAs2D\"><span>&lt;GenotypeChunkedArray shape=(690551, 576, 2) dtype=int8 chunks=(1349, 576, 2)\n",
       "   nbytes=758.7M cbytes=95.9M cratio=7.9\n",
       "   compression=blosc compression_opts={'cname': 'lz4', 'clevel': 5, 'shuffle': 1, 'blocksize': 0}\n",
       "   values=zarr.core.Array&gt;</span><table><thead><tr><th></th><th style=\"text-align: center\">0</th><th style=\"text-align: center\">1</th><th style=\"text-align: center\">2</th><th style=\"text-align: center\">3</th><th style=\"text-align: center\">4</th><th style=\"text-align: center\">...</th><th style=\"text-align: center\">571</th><th style=\"text-align: center\">572</th><th style=\"text-align: center\">573</th><th style=\"text-align: center\">574</th><th style=\"text-align: center\">575</th></tr></thead><tbody><tr><th style=\"text-align: center; background-color: white; border-right: 1px solid black; \">0</th><td style=\"text-align: center\">0/0</td><td style=\"text-align: center\">0/0</td><td style=\"text-align: center\">0/0</td><td style=\"text-align: center\">0/0</td><td style=\"text-align: center\">0/0</td><td style=\"text-align: center\">...</td><td style=\"text-align: center\">0/0</td><td style=\"text-align: center\">0/0</td><td style=\"text-align: center\">0/0</td><td style=\"text-align: center\">0/0</td><td style=\"text-align: center\">0/0</td></tr><tr><th style=\"text-align: center; background-color: white; border-right: 1px solid black; \">1</th><td style=\"text-align: center\">0/0</td><td style=\"text-align: center\">0/0</td><td style=\"text-align: center\">0/0</td><td style=\"text-align: center\">0/0</td><td style=\"text-align: center\">0/0</td><td style=\"text-align: center\">...</td><td style=\"text-align: center\">0/0</td><td style=\"text-align: center\">0/0</td><td style=\"text-align: center\">0/0</td><td style=\"text-align: center\">0/0</td><td style=\"text-align: center\">0/0</td></tr><tr><th style=\"text-align: center; background-color: white; border-right: 1px solid black; \">2</th><td style=\"text-align: center\">0/0</td><td style=\"text-align: center\">0/0</td><td style=\"text-align: center\">0/0</td><td style=\"text-align: center\">0/0</td><td style=\"text-align: center\">0/0</td><td style=\"text-align: center\">...</td><td style=\"text-align: center\">0/0</td><td style=\"text-align: center\">0/0</td><td style=\"text-align: center\">0/0</td><td style=\"text-align: center\">0/0</td><td style=\"text-align: center\">0/0</td></tr><tr><th style=\"text-align: center; background-color: white; border-right: 1px solid black; \">...</th><td style=\"text-align: center\" colspan=\"12\">...</td></tr><tr><th style=\"text-align: center; background-color: white; border-right: 1px solid black; \">690548</th><td style=\"text-align: center\">0/0</td><td style=\"text-align: center\">0/0</td><td style=\"text-align: center\">0/0</td><td style=\"text-align: center\">0/0</td><td style=\"text-align: center\">0/0</td><td style=\"text-align: center\">...</td><td style=\"text-align: center\">0/0</td><td style=\"text-align: center\">0/0</td><td style=\"text-align: center\">0/0</td><td style=\"text-align: center\">0/0</td><td style=\"text-align: center\">0/0</td></tr><tr><th style=\"text-align: center; background-color: white; border-right: 1px solid black; \">690549</th><td style=\"text-align: center\">0/0</td><td style=\"text-align: center\">0/0</td><td style=\"text-align: center\">0/0</td><td style=\"text-align: center\">0/0</td><td style=\"text-align: center\">0/0</td><td style=\"text-align: center\">...</td><td style=\"text-align: center\">0/0</td><td style=\"text-align: center\">0/0</td><td style=\"text-align: center\">0/0</td><td style=\"text-align: center\">0/0</td><td style=\"text-align: center\">0/0</td></tr><tr><th style=\"text-align: center; background-color: white; border-right: 1px solid black; \">690550</th><td style=\"text-align: center\">0/0</td><td style=\"text-align: center\">0/0</td><td style=\"text-align: center\">0/0</td><td style=\"text-align: center\">0/0</td><td style=\"text-align: center\">0/0</td><td style=\"text-align: center\">...</td><td style=\"text-align: center\">0/0</td><td style=\"text-align: center\">0/0</td><td style=\"text-align: center\">0/0</td><td style=\"text-align: center\">0/0</td><td style=\"text-align: center\">0/0</td></tr></tbody></table></div>"
      ],
      "text/plain": [
       "<GenotypeChunkedArray shape=(690551, 576, 2) dtype=int8 chunks=(1349, 576, 2)\n",
       "   nbytes=758.7M cbytes=95.9M cratio=7.9\n",
       "   compression=blosc compression_opts={'cname': 'lz4', 'clevel': 5, 'shuffle': 1, 'blocksize': 0}\n",
       "   values=zarr.core.Array>"
      ]
     },
     "execution_count": 67,
     "metadata": {},
     "output_type": "execute_result"
    }
   ],
   "source": [
    "genotypes_subset_2\n",
    "###this subset contains the SNPs left after filtering by DP>20, QD>2, and only keeping biallelic sites"
   ]
  },
  {
   "cell_type": "code",
   "execution_count": 68,
   "metadata": {},
   "outputs": [
    {
     "data": {
      "text/plain": [
       "690551"
      ]
     },
     "execution_count": 68,
     "metadata": {},
     "output_type": "execute_result"
    }
   ],
   "source": [
    "n_variants = len(genotypes_subset_2)\n",
    "n_variants"
   ]
  },
  {
   "cell_type": "code",
   "execution_count": 69,
   "metadata": {},
   "outputs": [],
   "source": [
    "pc_missing = genotypes_subset_2.count_missing(axis=0)[:] * 100 / n_variants\n",
    "pc_het = genotypes_subset_2.count_het(axis=0)[:] * 100 / n_variants"
   ]
  },
  {
   "cell_type": "code",
   "execution_count": 155,
   "metadata": {},
   "outputs": [
    {
     "data": {
      "text/plain": [
       "array(['CH-BP-5', 'DE-BP-10', 'GB-BP-14', 'NO-BP-15', 'IT-BP-8',\n",
       "       'LT-BP-12', 'FI-BP-19', 'FR-BP-3', 'SE-BP-18', 'CH-BP-6',\n",
       "       'FR-BP-21', 'YT', 'FI-BP-20', 'GB-BP-13', 'FR-BP-4', 'DE-BP-9',\n",
       "       'LT-BP-11', 'NO-BP-16', 'ES-BP-2', 'IT-BP-7', 'SE-BP-17',\n",
       "       'ES-BP-1', 'FI-BBU', 'FI-BN'], dtype=object)"
      ]
     },
     "execution_count": 155,
     "metadata": {},
     "output_type": "execute_result"
    }
   ],
   "source": [
    "samples.Population.unique()\n",
    "###This identifiers come from the metadata file"
   ]
  },
  {
   "cell_type": "code",
   "execution_count": 156,
   "metadata": {},
   "outputs": [
    {
     "data": {
      "text/html": [
       "<div>\n",
       "<style scoped>\n",
       "    .dataframe tbody tr th:only-of-type {\n",
       "        vertical-align: middle;\n",
       "    }\n",
       "\n",
       "    .dataframe tbody tr th {\n",
       "        vertical-align: top;\n",
       "    }\n",
       "\n",
       "    .dataframe thead th {\n",
       "        text-align: right;\n",
       "    }\n",
       "</style>\n",
       "<table border=\"1\" class=\"dataframe\">\n",
       "  <thead>\n",
       "    <tr style=\"text-align: right;\">\n",
       "      <th></th>\n",
       "      <th>ID</th>\n",
       "      <th>Population</th>\n",
       "    </tr>\n",
       "  </thead>\n",
       "  <tbody>\n",
       "    <tr>\n",
       "      <th>0</th>\n",
       "      <td>CH-BP-05-01</td>\n",
       "      <td>CH-BP-5</td>\n",
       "    </tr>\n",
       "    <tr>\n",
       "      <th>1</th>\n",
       "      <td>DE-BP-10-13</td>\n",
       "      <td>DE-BP-10</td>\n",
       "    </tr>\n",
       "    <tr>\n",
       "      <th>2</th>\n",
       "      <td>GB-BP-14-27</td>\n",
       "      <td>GB-BP-14</td>\n",
       "    </tr>\n",
       "    <tr>\n",
       "      <th>3</th>\n",
       "      <td>NO-BP-15-06</td>\n",
       "      <td>NO-BP-15</td>\n",
       "    </tr>\n",
       "    <tr>\n",
       "      <th>4</th>\n",
       "      <td>IT-BP-08-02</td>\n",
       "      <td>IT-BP-8</td>\n",
       "    </tr>\n",
       "    <tr>\n",
       "      <th>...</th>\n",
       "      <td>...</td>\n",
       "      <td>...</td>\n",
       "    </tr>\n",
       "    <tr>\n",
       "      <th>571</th>\n",
       "      <td>DE-BP-09-08</td>\n",
       "      <td>DE-BP-9</td>\n",
       "    </tr>\n",
       "    <tr>\n",
       "      <th>572</th>\n",
       "      <td>IT-BP-08-17</td>\n",
       "      <td>IT-BP-8</td>\n",
       "    </tr>\n",
       "    <tr>\n",
       "      <th>573</th>\n",
       "      <td>CH-BP-05-15</td>\n",
       "      <td>CH-BP-5</td>\n",
       "    </tr>\n",
       "    <tr>\n",
       "      <th>574</th>\n",
       "      <td>CH-BP-05-09</td>\n",
       "      <td>CH-BP-5</td>\n",
       "    </tr>\n",
       "    <tr>\n",
       "      <th>575</th>\n",
       "      <td>GB-BP-13-13</td>\n",
       "      <td>GB-BP-13</td>\n",
       "    </tr>\n",
       "  </tbody>\n",
       "</table>\n",
       "<p>576 rows × 2 columns</p>\n",
       "</div>"
      ],
      "text/plain": [
       "              ID Population\n",
       "0    CH-BP-05-01    CH-BP-5\n",
       "1    DE-BP-10-13   DE-BP-10\n",
       "2    GB-BP-14-27   GB-BP-14\n",
       "3    NO-BP-15-06   NO-BP-15\n",
       "4    IT-BP-08-02    IT-BP-8\n",
       "..           ...        ...\n",
       "571  DE-BP-09-08    DE-BP-9\n",
       "572  IT-BP-08-17    IT-BP-8\n",
       "573  CH-BP-05-15    CH-BP-5\n",
       "574  CH-BP-05-09    CH-BP-5\n",
       "575  GB-BP-13-13   GB-BP-13\n",
       "\n",
       "[576 rows x 2 columns]"
      ]
     },
     "execution_count": 156,
     "metadata": {},
     "output_type": "execute_result"
    }
   ],
   "source": [
    "samples"
   ]
  },
  {
   "cell_type": "code",
   "execution_count": 157,
   "metadata": {},
   "outputs": [],
   "source": [
    "def plot_genotype_frequency(pc, title):\n",
    "    fig, ax = plt.subplots(figsize=(24, 5))\n",
    "    sns.despine(ax=ax, offset=24)\n",
    "    left = np.arange(len(pc))\n",
    "    palette = sns.color_palette(\"hls\", 24)\n",
    "    pop2color = {'CH-BP-5': palette[7],\n",
    "                 'CH-BP-6': palette[1],\n",
    "                 'DE-BP-9': palette[2],\n",
    "                 'DE-BP-10': palette[3],\n",
    "                 'ES-BP-1': palette[22],\n",
    "                 'ES-BP-2': palette[5],\n",
    "                 'FI-BBU': palette[6],\n",
    "                 'FI-BN': palette[0],\n",
    "                 'FI-BP-19': palette[8],\n",
    "                 'FI-BP-20': palette[9],\n",
    "                 'FR-BP-3': palette[10],\n",
    "                 'FR-BP-4': palette[11],\n",
    "                 'FR-BP-21': palette[12],\n",
    "                 'GB-BP-13': palette[13],\n",
    "                 'GB-BP-14': palette[14],\n",
    "                 'IT-BP-7': palette[15],\n",
    "                 'IT-BP-8': palette[16],\n",
    "                 'LT-BP-11': palette[17],\n",
    "                 'LT-BP-12': palette[18],\n",
    "                 'NO-BP-15': palette[19],\n",
    "                 'NO-BP-16': palette[20],\n",
    "                 'SE-BP-17': palette[21],\n",
    "                 'SE-BP-18': palette[4],\n",
    "                 'YT': palette[23]}\n",
    "    colors = [pop2color[p] for p in samples.Population]\n",
    "    ax.bar(left, pc, color=colors)\n",
    "    ax.set_xlim(0, len(pc))\n",
    "    ax.set_xlabel('Sample index')\n",
    "    ax.set_ylabel('Percent calls')\n",
    "    ax.set_title(title)\n",
    "    handles = [mpl.patches.Patch(color=palette[7]),\n",
    "               mpl.patches.Patch(color=palette[1]),\n",
    "               mpl.patches.Patch(color=palette[2]),\n",
    "               mpl.patches.Patch(color=palette[3]),\n",
    "               mpl.patches.Patch(color=palette[22]),\n",
    "               mpl.patches.Patch(color=palette[5]),\n",
    "               mpl.patches.Patch(color=palette[6]),\n",
    "               mpl.patches.Patch(color=palette[0]),\n",
    "               mpl.patches.Patch(color=palette[8]),\n",
    "               mpl.patches.Patch(color=palette[9]),\n",
    "               mpl.patches.Patch(color=palette[10]),\n",
    "               mpl.patches.Patch(color=palette[11]),\n",
    "               mpl.patches.Patch(color=palette[12]),\n",
    "               mpl.patches.Patch(color=palette[13]),\n",
    "               mpl.patches.Patch(color=palette[14]),\n",
    "               mpl.patches.Patch(color=palette[15]),\n",
    "               mpl.patches.Patch(color=palette[16]),\n",
    "               mpl.patches.Patch(color=palette[17]),\n",
    "               mpl.patches.Patch(color=palette[18]),\n",
    "               mpl.patches.Patch(color=palette[19]),\n",
    "               mpl.patches.Patch(color=palette[20]),\n",
    "               mpl.patches.Patch(color=palette[21]),\n",
    "               mpl.patches.Patch(color=palette[4]),\n",
    "              mpl.patches.Patch(color=palette[23])]\n",
    "    ax.legend(handles=handles, labels=['CH-BP-5', 'CH-BP-6', 'DE-BP-9', 'DE-BP-10', 'ES-BP-1', 'ES-BP-2',\n",
    "       'FI-BBU', 'FI-BN', 'FI-BP-19', 'FI-BP-20', 'FR-BP-3', 'FR-BP-4',\n",
    "       'FR-BP-21', 'GB-BP-13', 'GB-BP-14', 'IT-BP-7', 'IT-BP-8',\n",
    "       'LT-BP-11', 'LT-BP-12', 'NO-BP-15', 'NO-BP-16', 'SE-BP-17',\n",
    "       'SE-BP-18', 'YT'], title='Population',\n",
    "              bbox_to_anchor=(1, 1), loc='upper left')"
   ]
  },
  {
   "cell_type": "code",
   "execution_count": 158,
   "metadata": {},
   "outputs": [
    {
     "data": {
      "image/png": "[encoded data removed]",
      "text/plain": [
       "<Figure size 1728x360 with 1 Axes>"
      ]
     },
     "metadata": {},
     "output_type": "display_data"
    }
   ],
   "source": [
    "plot_genotype_frequency(pc_missing, 'Missing')"
   ]
  },
  {
   "cell_type": "code",
   "execution_count": 159,
   "metadata": {},
   "outputs": [
    {
     "data": {
      "image/png": "[encoded data removed]",
      "text/plain": [
       "<Figure size 1728x360 with 1 Axes>"
      ]
     },
     "metadata": {},
     "output_type": "display_data"
    }
   ],
   "source": [
    "plot_genotype_frequency(pc_het, 'Heterozygosity')"
   ]
  },
  {
   "cell_type": "code",
   "execution_count": 160,
   "metadata": {},
   "outputs": [
    {
     "data": {
      "text/plain": [
       "83"
      ]
     },
     "execution_count": 160,
     "metadata": {},
     "output_type": "execute_result"
    }
   ],
   "source": [
    "np.argsort(pc_missing)[-1]\n",
    "###sample with highest amount of missing data"
   ]
  },
  {
   "cell_type": "code",
   "execution_count": 161,
   "metadata": {},
   "outputs": [
    {
     "data": {
      "text/html": [
       "<div>\n",
       "<style scoped>\n",
       "    .dataframe tbody tr th:only-of-type {\n",
       "        vertical-align: middle;\n",
       "    }\n",
       "\n",
       "    .dataframe tbody tr th {\n",
       "        vertical-align: top;\n",
       "    }\n",
       "\n",
       "    .dataframe thead th {\n",
       "        text-align: right;\n",
       "    }\n",
       "</style>\n",
       "<table border=\"1\" class=\"dataframe\">\n",
       "  <thead>\n",
       "    <tr style=\"text-align: right;\">\n",
       "      <th></th>\n",
       "      <th>ID</th>\n",
       "      <th>Population</th>\n",
       "    </tr>\n",
       "  </thead>\n",
       "  <tbody>\n",
       "    <tr>\n",
       "      <th>0</th>\n",
       "      <td>CH-BP-05-01</td>\n",
       "      <td>CH-BP-5</td>\n",
       "    </tr>\n",
       "    <tr>\n",
       "      <th>1</th>\n",
       "      <td>DE-BP-10-13</td>\n",
       "      <td>DE-BP-10</td>\n",
       "    </tr>\n",
       "    <tr>\n",
       "      <th>2</th>\n",
       "      <td>GB-BP-14-27</td>\n",
       "      <td>GB-BP-14</td>\n",
       "    </tr>\n",
       "    <tr>\n",
       "      <th>3</th>\n",
       "      <td>NO-BP-15-06</td>\n",
       "      <td>NO-BP-15</td>\n",
       "    </tr>\n",
       "    <tr>\n",
       "      <th>4</th>\n",
       "      <td>IT-BP-08-02</td>\n",
       "      <td>IT-BP-8</td>\n",
       "    </tr>\n",
       "    <tr>\n",
       "      <th>...</th>\n",
       "      <td>...</td>\n",
       "      <td>...</td>\n",
       "    </tr>\n",
       "    <tr>\n",
       "      <th>571</th>\n",
       "      <td>DE-BP-09-08</td>\n",
       "      <td>DE-BP-9</td>\n",
       "    </tr>\n",
       "    <tr>\n",
       "      <th>572</th>\n",
       "      <td>IT-BP-08-17</td>\n",
       "      <td>IT-BP-8</td>\n",
       "    </tr>\n",
       "    <tr>\n",
       "      <th>573</th>\n",
       "      <td>CH-BP-05-15</td>\n",
       "      <td>CH-BP-5</td>\n",
       "    </tr>\n",
       "    <tr>\n",
       "      <th>574</th>\n",
       "      <td>CH-BP-05-09</td>\n",
       "      <td>CH-BP-5</td>\n",
       "    </tr>\n",
       "    <tr>\n",
       "      <th>575</th>\n",
       "      <td>GB-BP-13-13</td>\n",
       "      <td>GB-BP-13</td>\n",
       "    </tr>\n",
       "  </tbody>\n",
       "</table>\n",
       "<p>576 rows × 2 columns</p>\n",
       "</div>"
      ],
      "text/plain": [
       "              ID Population\n",
       "0    CH-BP-05-01    CH-BP-5\n",
       "1    DE-BP-10-13   DE-BP-10\n",
       "2    GB-BP-14-27   GB-BP-14\n",
       "3    NO-BP-15-06   NO-BP-15\n",
       "4    IT-BP-08-02    IT-BP-8\n",
       "..           ...        ...\n",
       "571  DE-BP-09-08    DE-BP-9\n",
       "572  IT-BP-08-17    IT-BP-8\n",
       "573  CH-BP-05-15    CH-BP-5\n",
       "574  CH-BP-05-09    CH-BP-5\n",
       "575  GB-BP-13-13   GB-BP-13\n",
       "\n",
       "[576 rows x 2 columns]"
      ]
     },
     "execution_count": 161,
     "metadata": {},
     "output_type": "execute_result"
    }
   ],
   "source": [
    "samples = samples_subset\n",
    "samples"
   ]
  },
  {
   "cell_type": "code",
   "execution_count": 162,
   "metadata": {},
   "outputs": [],
   "source": [
    "populations = samples.Population.unique()"
   ]
  },
  {
   "cell_type": "code",
   "execution_count": 163,
   "metadata": {},
   "outputs": [
    {
     "data": {
      "text/plain": [
       "array(['CH-BP-5', 'DE-BP-10', 'GB-BP-14', 'NO-BP-15', 'IT-BP-8',\n",
       "       'LT-BP-12', 'FI-BP-19', 'FR-BP-3', 'SE-BP-18', 'CH-BP-6',\n",
       "       'FR-BP-21', 'YT', 'FI-BP-20', 'GB-BP-13', 'FR-BP-4', 'DE-BP-9',\n",
       "       'LT-BP-11', 'NO-BP-16', 'ES-BP-2', 'IT-BP-7', 'SE-BP-17',\n",
       "       'ES-BP-1', 'FI-BBU', 'FI-BN'], dtype=object)"
      ]
     },
     "execution_count": 163,
     "metadata": {},
     "output_type": "execute_result"
    }
   ],
   "source": [
    "populations"
   ]
  },
  {
   "cell_type": "code",
   "execution_count": 164,
   "metadata": {},
   "outputs": [
    {
     "data": {
      "text/html": [
       "<div class=\"allel allel-DisplayAs2D\"><span>&lt;AlleleCountsChunkedArray shape=(690551, 2) dtype=int32 chunks=(43160, 2)\n",
       "   nbytes=5.3M cbytes=1.5M cratio=3.4\n",
       "   compression=blosc compression_opts={'cname': 'lz4', 'clevel': 5, 'shuffle': 1, 'blocksize': 0}\n",
       "   values=zarr.core.Array&gt;</span><table><thead><tr><th></th><th style=\"text-align: center\">0</th><th style=\"text-align: center\">1</th></tr></thead><tbody><tr><th style=\"text-align: center; background-color: white; border-right: 1px solid black; \">0</th><td style=\"text-align: center\">1085</td><td style=\"text-align: center\">   1</td></tr><tr><th style=\"text-align: center; background-color: white; border-right: 1px solid black; \">1</th><td style=\"text-align: center\">1062</td><td style=\"text-align: center\">   2</td></tr><tr><th style=\"text-align: center; background-color: white; border-right: 1px solid black; \">2</th><td style=\"text-align: center\">1025</td><td style=\"text-align: center\">  29</td></tr><tr><th style=\"text-align: center; background-color: white; border-right: 1px solid black; \">...</th><td style=\"text-align: center\" colspan=\"3\">...</td></tr><tr><th style=\"text-align: center; background-color: white; border-right: 1px solid black; \">690548</th><td style=\"text-align: center\">1001</td><td style=\"text-align: center\">   1</td></tr><tr><th style=\"text-align: center; background-color: white; border-right: 1px solid black; \">690549</th><td style=\"text-align: center\"> 997</td><td style=\"text-align: center\">   1</td></tr><tr><th style=\"text-align: center; background-color: white; border-right: 1px solid black; \">690550</th><td style=\"text-align: center\"> 973</td><td style=\"text-align: center\">   1</td></tr></tbody></table></div>"
      ],
      "text/plain": [
       "<AlleleCountsChunkedArray shape=(690551, 2) dtype=int32 chunks=(43160, 2)\n",
       "   nbytes=5.3M cbytes=1.5M cratio=3.4\n",
       "   compression=blosc compression_opts={'cname': 'lz4', 'clevel': 5, 'shuffle': 1, 'blocksize': 0}\n",
       "   values=zarr.core.Array>"
      ]
     },
     "execution_count": 164,
     "metadata": {},
     "output_type": "execute_result"
    }
   ],
   "source": [
    "ac2 = genotypes_subset_2.count_alleles()\n",
    "ac2"
   ]
  },
  {
   "cell_type": "code",
   "execution_count": 165,
   "metadata": {},
   "outputs": [],
   "source": [
    "palette = sns.color_palette(\"hls\",23)\n",
    "pop_colours = {        \n",
    "    'CH-BP-5': palette[15], \n",
    "    'CH-BP-6': palette[1],\n",
    "    'DE-BP-9': palette[2], \n",
    "    'DE-BP-10': palette[3], \n",
    "    'ES-BP-1': palette[4], \n",
    "    'ES-BP-2': palette[5],\n",
    "    'FI-BBU': palette[6], \n",
    "    'FI-BN': palette[7],\n",
    "    'FI-BP-19': palette[8], \n",
    "    'FI-BP-20': palette[9],\n",
    "    'FR-BP-3': palette[10],\n",
    "    'FR-BP-4': palette[11],\n",
    "    'FR-BP-21': palette[12],\n",
    "    'GB-BP-13': palette[13],\n",
    "    'GB-BP-14': palette[14],\n",
    "    'IT-BP-7': palette[0],\n",
    "    'IT-BP-8': palette[16],\n",
    "    'LT-BP-11': palette[17],\n",
    "    'LT-BP-12': palette[18],\n",
    "    'NO-BP-15': palette[19],\n",
    "    'NO-BP-16': palette[20],\n",
    "    'SE-BP-17': palette[21],\n",
    "    'SE-BP-18': palette[22],\n",
    "    'YT': palette[22]\n",
    "     }"
   ]
  },
  {
   "cell_type": "code",
   "execution_count": 166,
   "metadata": {},
   "outputs": [],
   "source": [
    "def plot_pca_coords(coords, model, pc1, pc2, ax, sample_population):\n",
    "    sns.despine(ax=ax, offset=5)\n",
    "    x = coords[:, pc1]\n",
    "    y = coords[:, pc2]\n",
    "    for pop in populations:\n",
    "        flt = (sample_population == pop)\n",
    "        ax.plot(x[flt], y[flt], marker='o', linestyle=' ', color=pop_colours[pop], \n",
    "                label=pop, markersize=6, mec='k', mew=.5)\n",
    "    ax.set_xlabel('PC%s (%.1f%%)' % (pc1+1, model.explained_variance_ratio_[pc1]*100))\n",
    "    ax.set_ylabel('PC%s (%.1f%%)' % (pc2+1, model.explained_variance_ratio_[pc2]*100))\n",
    "    \n",
    "\n",
    "def fig_pca(coords, model, title, sample_population=None):\n",
    "    if sample_population is None:\n",
    "        sample_population = samples.Population.values\n",
    "    # plot coords for PCs 1 vs 2, 3 vs 4\n",
    "    fig = plt.figure(figsize=(10, 5))\n",
    "    ax = fig.add_subplot(1, 2, 1)\n",
    "    plot_pca_coords(coords, model, 0, 1, ax, sample_population)\n",
    "    ax = fig.add_subplot(1, 2, 2)\n",
    "    plot_pca_coords(coords, model, 2, 3, ax, sample_population)\n",
    "    ax.legend(bbox_to_anchor=(1, 1), loc='upper left')\n",
    "    fig.suptitle(title, y=1.02)\n",
    "    fig.tight_layout()"
   ]
  },
  {
   "cell_type": "code",
   "execution_count": 167,
   "metadata": {},
   "outputs": [
    {
     "data": {
      "text/plain": [
       "<ChunkedArrayWrapper shape=(494401, 576) dtype=int8 chunks=(1932, 576)\n",
       "   nbytes=271.6M cbytes=39.5M cratio=6.9\n",
       "   compression=blosc compression_opts={'cname': 'lz4', 'clevel': 5, 'shuffle': 1, 'blocksize': 0}\n",
       "   values=zarr.core.Array>"
      ]
     },
     "execution_count": 167,
     "metadata": {},
     "output_type": "execute_result"
    }
   ],
   "source": [
    "flt = (ac2[:, :2].min(axis=1) > 1)\n",
    "gf = genotypes_subset_2.compress(flt, axis=0)\n",
    "gn = gf.to_n_alt()\n",
    "gn"
   ]
  },
  {
   "cell_type": "code",
   "execution_count": 168,
   "metadata": {},
   "outputs": [],
   "source": [
    "coords1, model1 = allel.pca(gn, n_components=10, scaler='patterson')"
   ]
  },
  {
   "cell_type": "code",
   "execution_count": 169,
   "metadata": {},
   "outputs": [
    {
     "data": {
      "image/png": "[encoded data removed]",
      "text/plain": [
       "<Figure size 720x360 with 2 Axes>"
      ]
     },
     "metadata": {},
     "output_type": "display_data"
    }
   ],
   "source": [
    "fig_pca(coords1, model1, 'Figure 1. Conventional PCA.')"
   ]
  },
  {
   "cell_type": "code",
   "execution_count": 170,
   "metadata": {},
   "outputs": [
    {
     "data": {
      "text/html": [
       "<div>\n",
       "<style scoped>\n",
       "    .dataframe tbody tr th:only-of-type {\n",
       "        vertical-align: middle;\n",
       "    }\n",
       "\n",
       "    .dataframe tbody tr th {\n",
       "        vertical-align: top;\n",
       "    }\n",
       "\n",
       "    .dataframe thead th {\n",
       "        text-align: right;\n",
       "    }\n",
       "</style>\n",
       "<table border=\"1\" class=\"dataframe\">\n",
       "  <thead>\n",
       "    <tr style=\"text-align: right;\">\n",
       "      <th></th>\n",
       "      <th>ID</th>\n",
       "      <th>Population</th>\n",
       "    </tr>\n",
       "  </thead>\n",
       "  <tbody>\n",
       "    <tr>\n",
       "      <th>93</th>\n",
       "      <td>YT-1491</td>\n",
       "      <td>YT</td>\n",
       "    </tr>\n",
       "    <tr>\n",
       "      <th>117</th>\n",
       "      <td>FR-BP-03-11</td>\n",
       "      <td>FR-BP-3</td>\n",
       "    </tr>\n",
       "    <tr>\n",
       "      <th>345</th>\n",
       "      <td>YT-1489</td>\n",
       "      <td>YT</td>\n",
       "    </tr>\n",
       "    <tr>\n",
       "      <th>470</th>\n",
       "      <td>YT-1492</td>\n",
       "      <td>YT</td>\n",
       "    </tr>\n",
       "  </tbody>\n",
       "</table>\n",
       "</div>"
      ],
      "text/plain": [
       "              ID Population\n",
       "93       YT-1491         YT\n",
       "117  FR-BP-03-11    FR-BP-3\n",
       "345      YT-1489         YT\n",
       "470      YT-1492         YT"
      ]
     },
     "execution_count": 170,
     "metadata": {},
     "output_type": "execute_result"
    }
   ],
   "source": [
    "weirdos = coords1[:,1]>500\n",
    "samples[weirdos]\n",
    "###filter samples base in PC2. Expression gives a list samples above 500"
   ]
  },
  {
   "cell_type": "code",
   "execution_count": 171,
   "metadata": {},
   "outputs": [],
   "source": [
    "samples2 = samples[~weirdos]"
   ]
  },
  {
   "cell_type": "code",
   "execution_count": 172,
   "metadata": {},
   "outputs": [
    {
     "data": {
      "text/html": [
       "<div>\n",
       "<style scoped>\n",
       "    .dataframe tbody tr th:only-of-type {\n",
       "        vertical-align: middle;\n",
       "    }\n",
       "\n",
       "    .dataframe tbody tr th {\n",
       "        vertical-align: top;\n",
       "    }\n",
       "\n",
       "    .dataframe thead th {\n",
       "        text-align: right;\n",
       "    }\n",
       "</style>\n",
       "<table border=\"1\" class=\"dataframe\">\n",
       "  <thead>\n",
       "    <tr style=\"text-align: right;\">\n",
       "      <th></th>\n",
       "      <th>ID</th>\n",
       "      <th>Population</th>\n",
       "    </tr>\n",
       "  </thead>\n",
       "  <tbody>\n",
       "    <tr>\n",
       "      <th>0</th>\n",
       "      <td>CH-BP-05-01</td>\n",
       "      <td>CH-BP-5</td>\n",
       "    </tr>\n",
       "    <tr>\n",
       "      <th>1</th>\n",
       "      <td>DE-BP-10-13</td>\n",
       "      <td>DE-BP-10</td>\n",
       "    </tr>\n",
       "    <tr>\n",
       "      <th>2</th>\n",
       "      <td>GB-BP-14-27</td>\n",
       "      <td>GB-BP-14</td>\n",
       "    </tr>\n",
       "    <tr>\n",
       "      <th>3</th>\n",
       "      <td>NO-BP-15-06</td>\n",
       "      <td>NO-BP-15</td>\n",
       "    </tr>\n",
       "    <tr>\n",
       "      <th>4</th>\n",
       "      <td>IT-BP-08-02</td>\n",
       "      <td>IT-BP-8</td>\n",
       "    </tr>\n",
       "    <tr>\n",
       "      <th>...</th>\n",
       "      <td>...</td>\n",
       "      <td>...</td>\n",
       "    </tr>\n",
       "    <tr>\n",
       "      <th>571</th>\n",
       "      <td>DE-BP-09-08</td>\n",
       "      <td>DE-BP-9</td>\n",
       "    </tr>\n",
       "    <tr>\n",
       "      <th>572</th>\n",
       "      <td>IT-BP-08-17</td>\n",
       "      <td>IT-BP-8</td>\n",
       "    </tr>\n",
       "    <tr>\n",
       "      <th>573</th>\n",
       "      <td>CH-BP-05-15</td>\n",
       "      <td>CH-BP-5</td>\n",
       "    </tr>\n",
       "    <tr>\n",
       "      <th>574</th>\n",
       "      <td>CH-BP-05-09</td>\n",
       "      <td>CH-BP-5</td>\n",
       "    </tr>\n",
       "    <tr>\n",
       "      <th>575</th>\n",
       "      <td>GB-BP-13-13</td>\n",
       "      <td>GB-BP-13</td>\n",
       "    </tr>\n",
       "  </tbody>\n",
       "</table>\n",
       "<p>572 rows × 2 columns</p>\n",
       "</div>"
      ],
      "text/plain": [
       "              ID Population\n",
       "0    CH-BP-05-01    CH-BP-5\n",
       "1    DE-BP-10-13   DE-BP-10\n",
       "2    GB-BP-14-27   GB-BP-14\n",
       "3    NO-BP-15-06   NO-BP-15\n",
       "4    IT-BP-08-02    IT-BP-8\n",
       "..           ...        ...\n",
       "571  DE-BP-09-08    DE-BP-9\n",
       "572  IT-BP-08-17    IT-BP-8\n",
       "573  CH-BP-05-15    CH-BP-5\n",
       "574  CH-BP-05-09    CH-BP-5\n",
       "575  GB-BP-13-13   GB-BP-13\n",
       "\n",
       "[572 rows x 2 columns]"
      ]
     },
     "execution_count": 172,
     "metadata": {},
     "output_type": "execute_result"
    }
   ],
   "source": [
    "samples2"
   ]
  },
  {
   "cell_type": "code",
   "execution_count": 173,
   "metadata": {},
   "outputs": [],
   "source": [
    "allT = np.repeat(True, len(genotypes_subset_2))"
   ]
  },
  {
   "cell_type": "code",
   "execution_count": 174,
   "metadata": {},
   "outputs": [],
   "source": [
    "genotypes_subset_3 = genotypes_subset_2.subset(allT, ~weirdos)"
   ]
  },
  {
   "cell_type": "code",
   "execution_count": 175,
   "metadata": {},
   "outputs": [
    {
     "data": {
      "text/html": [
       "<div class=\"allel allel-DisplayAs2D\"><span>&lt;GenotypeChunkedArray shape=(690551, 572, 2) dtype=int8 chunks=(1349, 572, 2)\n",
       "   nbytes=753.4M cbytes=94.0M cratio=8.0\n",
       "   compression=blosc compression_opts={'cname': 'lz4', 'clevel': 5, 'shuffle': 1, 'blocksize': 0}\n",
       "   values=zarr.core.Array&gt;</span><table><thead><tr><th></th><th style=\"text-align: center\">0</th><th style=\"text-align: center\">1</th><th style=\"text-align: center\">2</th><th style=\"text-align: center\">3</th><th style=\"text-align: center\">4</th><th style=\"text-align: center\">...</th><th style=\"text-align: center\">567</th><th style=\"text-align: center\">568</th><th style=\"text-align: center\">569</th><th style=\"text-align: center\">570</th><th style=\"text-align: center\">571</th></tr></thead><tbody><tr><th style=\"text-align: center; background-color: white; border-right: 1px solid black; \">0</th><td style=\"text-align: center\">0/0</td><td style=\"text-align: center\">0/0</td><td style=\"text-align: center\">0/0</td><td style=\"text-align: center\">0/0</td><td style=\"text-align: center\">0/0</td><td style=\"text-align: center\">...</td><td style=\"text-align: center\">0/0</td><td style=\"text-align: center\">0/0</td><td style=\"text-align: center\">0/0</td><td style=\"text-align: center\">0/0</td><td style=\"text-align: center\">0/0</td></tr><tr><th style=\"text-align: center; background-color: white; border-right: 1px solid black; \">1</th><td style=\"text-align: center\">0/0</td><td style=\"text-align: center\">0/0</td><td style=\"text-align: center\">0/0</td><td style=\"text-align: center\">0/0</td><td style=\"text-align: center\">0/0</td><td style=\"text-align: center\">...</td><td style=\"text-align: center\">0/0</td><td style=\"text-align: center\">0/0</td><td style=\"text-align: center\">0/0</td><td style=\"text-align: center\">0/0</td><td style=\"text-align: center\">0/0</td></tr><tr><th style=\"text-align: center; background-color: white; border-right: 1px solid black; \">2</th><td style=\"text-align: center\">0/0</td><td style=\"text-align: center\">0/0</td><td style=\"text-align: center\">0/0</td><td style=\"text-align: center\">0/0</td><td style=\"text-align: center\">0/0</td><td style=\"text-align: center\">...</td><td style=\"text-align: center\">0/0</td><td style=\"text-align: center\">0/0</td><td style=\"text-align: center\">0/0</td><td style=\"text-align: center\">0/0</td><td style=\"text-align: center\">0/0</td></tr><tr><th style=\"text-align: center; background-color: white; border-right: 1px solid black; \">...</th><td style=\"text-align: center\" colspan=\"12\">...</td></tr><tr><th style=\"text-align: center; background-color: white; border-right: 1px solid black; \">690548</th><td style=\"text-align: center\">0/0</td><td style=\"text-align: center\">0/0</td><td style=\"text-align: center\">0/0</td><td style=\"text-align: center\">0/0</td><td style=\"text-align: center\">0/0</td><td style=\"text-align: center\">...</td><td style=\"text-align: center\">0/0</td><td style=\"text-align: center\">0/0</td><td style=\"text-align: center\">0/0</td><td style=\"text-align: center\">0/0</td><td style=\"text-align: center\">0/0</td></tr><tr><th style=\"text-align: center; background-color: white; border-right: 1px solid black; \">690549</th><td style=\"text-align: center\">0/0</td><td style=\"text-align: center\">0/0</td><td style=\"text-align: center\">0/0</td><td style=\"text-align: center\">0/0</td><td style=\"text-align: center\">0/0</td><td style=\"text-align: center\">...</td><td style=\"text-align: center\">0/0</td><td style=\"text-align: center\">0/0</td><td style=\"text-align: center\">0/0</td><td style=\"text-align: center\">0/0</td><td style=\"text-align: center\">0/0</td></tr><tr><th style=\"text-align: center; background-color: white; border-right: 1px solid black; \">690550</th><td style=\"text-align: center\">0/0</td><td style=\"text-align: center\">0/0</td><td style=\"text-align: center\">0/0</td><td style=\"text-align: center\">0/0</td><td style=\"text-align: center\">0/0</td><td style=\"text-align: center\">...</td><td style=\"text-align: center\">0/0</td><td style=\"text-align: center\">0/0</td><td style=\"text-align: center\">0/0</td><td style=\"text-align: center\">0/0</td><td style=\"text-align: center\">0/0</td></tr></tbody></table></div>"
      ],
      "text/plain": [
       "<GenotypeChunkedArray shape=(690551, 572, 2) dtype=int8 chunks=(1349, 572, 2)\n",
       "   nbytes=753.4M cbytes=94.0M cratio=8.0\n",
       "   compression=blosc compression_opts={'cname': 'lz4', 'clevel': 5, 'shuffle': 1, 'blocksize': 0}\n",
       "   values=zarr.core.Array>"
      ]
     },
     "execution_count": 175,
     "metadata": {},
     "output_type": "execute_result"
    }
   ],
   "source": [
    "genotypes_subset_3"
   ]
  },
  {
   "cell_type": "code",
   "execution_count": 176,
   "metadata": {},
   "outputs": [],
   "source": [
    "def fig_pca(coords, model, title, sample_population=None):\n",
    "    if sample_population is None:\n",
    "        sample_population = samples2.Population.values\n",
    "    # plot coords for PCs 1 vs 2, 3 vs 4\n",
    "    fig = plt.figure(figsize=(10, 5))\n",
    "    ax = fig.add_subplot(1, 2, 1)\n",
    "    plot_pca_coords(coords, model, 0, 1, ax, sample_population)\n",
    "    ax = fig.add_subplot(1, 2, 2)\n",
    "    plot_pca_coords(coords, model, 2, 3, ax, sample_population)\n",
    "    ax.legend(bbox_to_anchor=(1, 1), loc='upper left')\n",
    "    fig.suptitle(title, y=1.02)\n",
    "    fig.tight_layout()"
   ]
  },
  {
   "cell_type": "code",
   "execution_count": 177,
   "metadata": {},
   "outputs": [
    {
     "data": {
      "text/html": [
       "<div class=\"allel allel-DisplayAs2D\"><span>&lt;AlleleCountsChunkedArray shape=(690551, 2) dtype=int32 chunks=(43160, 2)\n",
       "   nbytes=5.3M cbytes=1.6M cratio=3.4\n",
       "   compression=blosc compression_opts={'cname': 'lz4', 'clevel': 5, 'shuffle': 1, 'blocksize': 0}\n",
       "   values=zarr.core.Array&gt;</span><table><thead><tr><th></th><th style=\"text-align: center\">0</th><th style=\"text-align: center\">1</th></tr></thead><tbody><tr><th style=\"text-align: center; background-color: white; border-right: 1px solid black; \">0</th><td style=\"text-align: center\">1077</td><td style=\"text-align: center\">   1</td></tr><tr><th style=\"text-align: center; background-color: white; border-right: 1px solid black; \">1</th><td style=\"text-align: center\">1054</td><td style=\"text-align: center\">   2</td></tr><tr><th style=\"text-align: center; background-color: white; border-right: 1px solid black; \">2</th><td style=\"text-align: center\">1017</td><td style=\"text-align: center\">  29</td></tr><tr><th style=\"text-align: center; background-color: white; border-right: 1px solid black; \">...</th><td style=\"text-align: center\" colspan=\"3\">...</td></tr><tr><th style=\"text-align: center; background-color: white; border-right: 1px solid black; \">690548</th><td style=\"text-align: center\">993</td><td style=\"text-align: center\">  1</td></tr><tr><th style=\"text-align: center; background-color: white; border-right: 1px solid black; \">690549</th><td style=\"text-align: center\">989</td><td style=\"text-align: center\">  1</td></tr><tr><th style=\"text-align: center; background-color: white; border-right: 1px solid black; \">690550</th><td style=\"text-align: center\">965</td><td style=\"text-align: center\">  1</td></tr></tbody></table></div>"
      ],
      "text/plain": [
       "<AlleleCountsChunkedArray shape=(690551, 2) dtype=int32 chunks=(43160, 2)\n",
       "   nbytes=5.3M cbytes=1.6M cratio=3.4\n",
       "   compression=blosc compression_opts={'cname': 'lz4', 'clevel': 5, 'shuffle': 1, 'blocksize': 0}\n",
       "   values=zarr.core.Array>"
      ]
     },
     "execution_count": 177,
     "metadata": {},
     "output_type": "execute_result"
    }
   ],
   "source": [
    "ac3 = genotypes_subset_3.count_alleles()\n",
    "ac3"
   ]
  },
  {
   "cell_type": "code",
   "execution_count": 178,
   "metadata": {},
   "outputs": [],
   "source": [
    "flt2 = (ac3[:, :2].min(axis=1) > 1)\n",
    "gf2 = genotypes_subset_3.compress(flt2, axis=0)\n",
    "gn2 = gf2.to_n_alt()"
   ]
  },
  {
   "cell_type": "code",
   "execution_count": 179,
   "metadata": {},
   "outputs": [],
   "source": [
    "coords2, model2 = allel.pca(gn2, n_components=10, scaler='patterson')"
   ]
  },
  {
   "cell_type": "code",
   "execution_count": 180,
   "metadata": {},
   "outputs": [
    {
     "data": {
      "image/png": "[encoded data removed]",
      "text/plain": [
       "<Figure size 720x360 with 2 Axes>"
      ]
     },
     "metadata": {},
     "output_type": "display_data"
    }
   ],
   "source": [
    "fig_pca(coords2, model2, 'Figure 1. Conventional PCA.')"
   ]
  },
  {
   "cell_type": "code",
   "execution_count": 181,
   "metadata": {},
   "outputs": [
    {
     "data": {
      "text/html": [
       "<div>\n",
       "<style scoped>\n",
       "    .dataframe tbody tr th:only-of-type {\n",
       "        vertical-align: middle;\n",
       "    }\n",
       "\n",
       "    .dataframe tbody tr th {\n",
       "        vertical-align: top;\n",
       "    }\n",
       "\n",
       "    .dataframe thead th {\n",
       "        text-align: right;\n",
       "    }\n",
       "</style>\n",
       "<table border=\"1\" class=\"dataframe\">\n",
       "  <thead>\n",
       "    <tr style=\"text-align: right;\">\n",
       "      <th></th>\n",
       "      <th>ID</th>\n",
       "      <th>Population</th>\n",
       "    </tr>\n",
       "  </thead>\n",
       "  <tbody>\n",
       "    <tr>\n",
       "      <th>402</th>\n",
       "      <td>FI-BN</td>\n",
       "      <td>FI-BN</td>\n",
       "    </tr>\n",
       "  </tbody>\n",
       "</table>\n",
       "</div>"
      ],
      "text/plain": [
       "        ID Population\n",
       "402  FI-BN      FI-BN"
      ]
     },
     "execution_count": 181,
     "metadata": {},
     "output_type": "execute_result"
    }
   ],
   "source": [
    "weirdos2 = coords2[:,1]>1500\n",
    "samples2[weirdos2]"
   ]
  },
  {
   "cell_type": "code",
   "execution_count": 182,
   "metadata": {},
   "outputs": [
    {
     "data": {
      "text/html": [
       "<div>\n",
       "<style scoped>\n",
       "    .dataframe tbody tr th:only-of-type {\n",
       "        vertical-align: middle;\n",
       "    }\n",
       "\n",
       "    .dataframe tbody tr th {\n",
       "        vertical-align: top;\n",
       "    }\n",
       "\n",
       "    .dataframe thead th {\n",
       "        text-align: right;\n",
       "    }\n",
       "</style>\n",
       "<table border=\"1\" class=\"dataframe\">\n",
       "  <thead>\n",
       "    <tr style=\"text-align: right;\">\n",
       "      <th></th>\n",
       "      <th>ID</th>\n",
       "      <th>Population</th>\n",
       "    </tr>\n",
       "  </thead>\n",
       "  <tbody>\n",
       "    <tr>\n",
       "      <th>0</th>\n",
       "      <td>CH-BP-05-01</td>\n",
       "      <td>CH-BP-5</td>\n",
       "    </tr>\n",
       "    <tr>\n",
       "      <th>1</th>\n",
       "      <td>DE-BP-10-13</td>\n",
       "      <td>DE-BP-10</td>\n",
       "    </tr>\n",
       "    <tr>\n",
       "      <th>2</th>\n",
       "      <td>GB-BP-14-27</td>\n",
       "      <td>GB-BP-14</td>\n",
       "    </tr>\n",
       "    <tr>\n",
       "      <th>3</th>\n",
       "      <td>NO-BP-15-06</td>\n",
       "      <td>NO-BP-15</td>\n",
       "    </tr>\n",
       "    <tr>\n",
       "      <th>4</th>\n",
       "      <td>IT-BP-08-02</td>\n",
       "      <td>IT-BP-8</td>\n",
       "    </tr>\n",
       "    <tr>\n",
       "      <th>...</th>\n",
       "      <td>...</td>\n",
       "      <td>...</td>\n",
       "    </tr>\n",
       "    <tr>\n",
       "      <th>571</th>\n",
       "      <td>DE-BP-09-08</td>\n",
       "      <td>DE-BP-9</td>\n",
       "    </tr>\n",
       "    <tr>\n",
       "      <th>572</th>\n",
       "      <td>IT-BP-08-17</td>\n",
       "      <td>IT-BP-8</td>\n",
       "    </tr>\n",
       "    <tr>\n",
       "      <th>573</th>\n",
       "      <td>CH-BP-05-15</td>\n",
       "      <td>CH-BP-5</td>\n",
       "    </tr>\n",
       "    <tr>\n",
       "      <th>574</th>\n",
       "      <td>CH-BP-05-09</td>\n",
       "      <td>CH-BP-5</td>\n",
       "    </tr>\n",
       "    <tr>\n",
       "      <th>575</th>\n",
       "      <td>GB-BP-13-13</td>\n",
       "      <td>GB-BP-13</td>\n",
       "    </tr>\n",
       "  </tbody>\n",
       "</table>\n",
       "<p>571 rows × 2 columns</p>\n",
       "</div>"
      ],
      "text/plain": [
       "              ID Population\n",
       "0    CH-BP-05-01    CH-BP-5\n",
       "1    DE-BP-10-13   DE-BP-10\n",
       "2    GB-BP-14-27   GB-BP-14\n",
       "3    NO-BP-15-06   NO-BP-15\n",
       "4    IT-BP-08-02    IT-BP-8\n",
       "..           ...        ...\n",
       "571  DE-BP-09-08    DE-BP-9\n",
       "572  IT-BP-08-17    IT-BP-8\n",
       "573  CH-BP-05-15    CH-BP-5\n",
       "574  CH-BP-05-09    CH-BP-5\n",
       "575  GB-BP-13-13   GB-BP-13\n",
       "\n",
       "[571 rows x 2 columns]"
      ]
     },
     "execution_count": 182,
     "metadata": {},
     "output_type": "execute_result"
    }
   ],
   "source": [
    "samples3 = samples2[~weirdos2]\n",
    "samples3"
   ]
  },
  {
   "cell_type": "code",
   "execution_count": 183,
   "metadata": {},
   "outputs": [
    {
     "data": {
      "text/html": [
       "<div class=\"allel allel-DisplayAs2D\"><span>&lt;GenotypeChunkedArray shape=(690551, 571, 2) dtype=int8 chunks=(1349, 571, 2)\n",
       "   nbytes=752.1M cbytes=93.8M cratio=8.0\n",
       "   compression=blosc compression_opts={'cname': 'lz4', 'clevel': 5, 'shuffle': 1, 'blocksize': 0}\n",
       "   values=zarr.core.Array&gt;</span><table><thead><tr><th></th><th style=\"text-align: center\">0</th><th style=\"text-align: center\">1</th><th style=\"text-align: center\">2</th><th style=\"text-align: center\">3</th><th style=\"text-align: center\">4</th><th style=\"text-align: center\">...</th><th style=\"text-align: center\">566</th><th style=\"text-align: center\">567</th><th style=\"text-align: center\">568</th><th style=\"text-align: center\">569</th><th style=\"text-align: center\">570</th></tr></thead><tbody><tr><th style=\"text-align: center; background-color: white; border-right: 1px solid black; \">0</th><td style=\"text-align: center\">0/0</td><td style=\"text-align: center\">0/0</td><td style=\"text-align: center\">0/0</td><td style=\"text-align: center\">0/0</td><td style=\"text-align: center\">0/0</td><td style=\"text-align: center\">...</td><td style=\"text-align: center\">0/0</td><td style=\"text-align: center\">0/0</td><td style=\"text-align: center\">0/0</td><td style=\"text-align: center\">0/0</td><td style=\"text-align: center\">0/0</td></tr><tr><th style=\"text-align: center; background-color: white; border-right: 1px solid black; \">1</th><td style=\"text-align: center\">0/0</td><td style=\"text-align: center\">0/0</td><td style=\"text-align: center\">0/0</td><td style=\"text-align: center\">0/0</td><td style=\"text-align: center\">0/0</td><td style=\"text-align: center\">...</td><td style=\"text-align: center\">0/0</td><td style=\"text-align: center\">0/0</td><td style=\"text-align: center\">0/0</td><td style=\"text-align: center\">0/0</td><td style=\"text-align: center\">0/0</td></tr><tr><th style=\"text-align: center; background-color: white; border-right: 1px solid black; \">2</th><td style=\"text-align: center\">0/0</td><td style=\"text-align: center\">0/0</td><td style=\"text-align: center\">0/0</td><td style=\"text-align: center\">0/0</td><td style=\"text-align: center\">0/0</td><td style=\"text-align: center\">...</td><td style=\"text-align: center\">0/0</td><td style=\"text-align: center\">0/0</td><td style=\"text-align: center\">0/0</td><td style=\"text-align: center\">0/0</td><td style=\"text-align: center\">0/0</td></tr><tr><th style=\"text-align: center; background-color: white; border-right: 1px solid black; \">...</th><td style=\"text-align: center\" colspan=\"12\">...</td></tr><tr><th style=\"text-align: center; background-color: white; border-right: 1px solid black; \">690548</th><td style=\"text-align: center\">0/0</td><td style=\"text-align: center\">0/0</td><td style=\"text-align: center\">0/0</td><td style=\"text-align: center\">0/0</td><td style=\"text-align: center\">0/0</td><td style=\"text-align: center\">...</td><td style=\"text-align: center\">0/0</td><td style=\"text-align: center\">0/0</td><td style=\"text-align: center\">0/0</td><td style=\"text-align: center\">0/0</td><td style=\"text-align: center\">0/0</td></tr><tr><th style=\"text-align: center; background-color: white; border-right: 1px solid black; \">690549</th><td style=\"text-align: center\">0/0</td><td style=\"text-align: center\">0/0</td><td style=\"text-align: center\">0/0</td><td style=\"text-align: center\">0/0</td><td style=\"text-align: center\">0/0</td><td style=\"text-align: center\">...</td><td style=\"text-align: center\">0/0</td><td style=\"text-align: center\">0/0</td><td style=\"text-align: center\">0/0</td><td style=\"text-align: center\">0/0</td><td style=\"text-align: center\">0/0</td></tr><tr><th style=\"text-align: center; background-color: white; border-right: 1px solid black; \">690550</th><td style=\"text-align: center\">0/0</td><td style=\"text-align: center\">0/0</td><td style=\"text-align: center\">0/0</td><td style=\"text-align: center\">0/0</td><td style=\"text-align: center\">0/0</td><td style=\"text-align: center\">...</td><td style=\"text-align: center\">0/0</td><td style=\"text-align: center\">0/0</td><td style=\"text-align: center\">0/0</td><td style=\"text-align: center\">0/0</td><td style=\"text-align: center\">0/0</td></tr></tbody></table></div>"
      ],
      "text/plain": [
       "<GenotypeChunkedArray shape=(690551, 571, 2) dtype=int8 chunks=(1349, 571, 2)\n",
       "   nbytes=752.1M cbytes=93.8M cratio=8.0\n",
       "   compression=blosc compression_opts={'cname': 'lz4', 'clevel': 5, 'shuffle': 1, 'blocksize': 0}\n",
       "   values=zarr.core.Array>"
      ]
     },
     "execution_count": 183,
     "metadata": {},
     "output_type": "execute_result"
    }
   ],
   "source": [
    "allT = np.repeat(True, len(genotypes_subset_3))\n",
    "genotypes_subset_4 = genotypes_subset_3.subset(allT, ~weirdos2)\n",
    "genotypes_subset_4"
   ]
  },
  {
   "cell_type": "code",
   "execution_count": 184,
   "metadata": {},
   "outputs": [
    {
     "data": {
      "text/html": [
       "<div class=\"allel allel-DisplayAs2D\"><span>&lt;AlleleCountsChunkedArray shape=(690551, 2) dtype=int32 chunks=(43160, 2)\n",
       "   nbytes=5.3M cbytes=1.6M cratio=3.4\n",
       "   compression=blosc compression_opts={'cname': 'lz4', 'clevel': 5, 'shuffle': 1, 'blocksize': 0}\n",
       "   values=zarr.core.Array&gt;</span><table><thead><tr><th></th><th style=\"text-align: center\">0</th><th style=\"text-align: center\">1</th></tr></thead><tbody><tr><th style=\"text-align: center; background-color: white; border-right: 1px solid black; \">0</th><td style=\"text-align: center\">1075</td><td style=\"text-align: center\">   1</td></tr><tr><th style=\"text-align: center; background-color: white; border-right: 1px solid black; \">1</th><td style=\"text-align: center\">1052</td><td style=\"text-align: center\">   2</td></tr><tr><th style=\"text-align: center; background-color: white; border-right: 1px solid black; \">2</th><td style=\"text-align: center\">1015</td><td style=\"text-align: center\">  29</td></tr><tr><th style=\"text-align: center; background-color: white; border-right: 1px solid black; \">...</th><td style=\"text-align: center\" colspan=\"3\">...</td></tr><tr><th style=\"text-align: center; background-color: white; border-right: 1px solid black; \">690548</th><td style=\"text-align: center\">991</td><td style=\"text-align: center\">  1</td></tr><tr><th style=\"text-align: center; background-color: white; border-right: 1px solid black; \">690549</th><td style=\"text-align: center\">987</td><td style=\"text-align: center\">  1</td></tr><tr><th style=\"text-align: center; background-color: white; border-right: 1px solid black; \">690550</th><td style=\"text-align: center\">963</td><td style=\"text-align: center\">  1</td></tr></tbody></table></div>"
      ],
      "text/plain": [
       "<AlleleCountsChunkedArray shape=(690551, 2) dtype=int32 chunks=(43160, 2)\n",
       "   nbytes=5.3M cbytes=1.6M cratio=3.4\n",
       "   compression=blosc compression_opts={'cname': 'lz4', 'clevel': 5, 'shuffle': 1, 'blocksize': 0}\n",
       "   values=zarr.core.Array>"
      ]
     },
     "execution_count": 184,
     "metadata": {},
     "output_type": "execute_result"
    }
   ],
   "source": [
    "ac4 = genotypes_subset_4.count_alleles()\n",
    "ac4"
   ]
  },
  {
   "cell_type": "code",
   "execution_count": 185,
   "metadata": {},
   "outputs": [],
   "source": [
    "def fig_pca(coords, model, title, sample_population=None):\n",
    "    if sample_population is None:\n",
    "        sample_population = samples3.Population.values\n",
    "    # plot coords for PCs 1 vs 2, 3 vs 4\n",
    "    fig = plt.figure(figsize=(10, 5))\n",
    "    ax = fig.add_subplot(1, 2, 1)\n",
    "    plot_pca_coords(coords, model, 0, 1, ax, sample_population)\n",
    "    ax = fig.add_subplot(1, 2, 2)\n",
    "    plot_pca_coords(coords, model, 2, 3, ax, sample_population)\n",
    "    ax.legend(bbox_to_anchor=(1, 1), loc='upper left')\n",
    "    fig.suptitle(title, y=1.02)\n",
    "    fig.tight_layout()\n",
    "    \n",
    "###Check that you have assigned the corresponding population list on the sample_population definition"
   ]
  },
  {
   "cell_type": "code",
   "execution_count": 186,
   "metadata": {},
   "outputs": [],
   "source": [
    "ac = genotypes_subset_4.count_alleles()\n",
    "flt4 = (ac[:, :2].min(axis=1) > 1)\n",
    "gf4 = genotypes_subset_4.compress(flt4, axis=0)\n",
    "gn = gf4.to_n_alt()\n",
    "\n",
    "###Keeping track of the genotypes subsettings is hard!!! "
   ]
  },
  {
   "cell_type": "code",
   "execution_count": 187,
   "metadata": {},
   "outputs": [],
   "source": [
    "coords3, model3 = allel.pca(gn, n_components=10, scaler='patterson')\n",
    "###modify the number of coords and model according to the number of graphs you have generated"
   ]
  },
  {
   "cell_type": "code",
   "execution_count": 188,
   "metadata": {},
   "outputs": [
    {
     "data": {
      "image/png": "[encoded data removed]",
      "text/plain": [
       "<Figure size 720x360 with 2 Axes>"
      ]
     },
     "metadata": {},
     "output_type": "display_data"
    }
   ],
   "source": [
    "fig_pca(coords3, model3, 'Figure 1. Conventional PCA.')"
   ]
  },
  {
   "cell_type": "code",
   "execution_count": 196,
   "metadata": {},
   "outputs": [
    {
     "data": {
      "text/html": [
       "<div>\n",
       "<style scoped>\n",
       "    .dataframe tbody tr th:only-of-type {\n",
       "        vertical-align: middle;\n",
       "    }\n",
       "\n",
       "    .dataframe tbody tr th {\n",
       "        vertical-align: top;\n",
       "    }\n",
       "\n",
       "    .dataframe thead th {\n",
       "        text-align: right;\n",
       "    }\n",
       "</style>\n",
       "<table border=\"1\" class=\"dataframe\">\n",
       "  <thead>\n",
       "    <tr style=\"text-align: right;\">\n",
       "      <th></th>\n",
       "      <th>ID</th>\n",
       "      <th>Population</th>\n",
       "    </tr>\n",
       "  </thead>\n",
       "  <tbody>\n",
       "    <tr>\n",
       "      <th>12</th>\n",
       "      <td>YT-1045</td>\n",
       "      <td>YT</td>\n",
       "    </tr>\n",
       "    <tr>\n",
       "      <th>24</th>\n",
       "      <td>FI-BP-20-01</td>\n",
       "      <td>FI-BP-20</td>\n",
       "    </tr>\n",
       "    <tr>\n",
       "      <th>29</th>\n",
       "      <td>LT-BP-11-08</td>\n",
       "      <td>LT-BP-11</td>\n",
       "    </tr>\n",
       "    <tr>\n",
       "      <th>42</th>\n",
       "      <td>ES-BP-01-15</td>\n",
       "      <td>ES-BP-1</td>\n",
       "    </tr>\n",
       "    <tr>\n",
       "      <th>45</th>\n",
       "      <td>FI-BBU</td>\n",
       "      <td>FI-BBU</td>\n",
       "    </tr>\n",
       "    <tr>\n",
       "      <th>53</th>\n",
       "      <td>LT-BP-12-16</td>\n",
       "      <td>LT-BP-12</td>\n",
       "    </tr>\n",
       "    <tr>\n",
       "      <th>66</th>\n",
       "      <td>ES-BP-01-06</td>\n",
       "      <td>ES-BP-1</td>\n",
       "    </tr>\n",
       "    <tr>\n",
       "      <th>74</th>\n",
       "      <td>NO-BP-15-17</td>\n",
       "      <td>NO-BP-15</td>\n",
       "    </tr>\n",
       "    <tr>\n",
       "      <th>89</th>\n",
       "      <td>ES-BP-01-02</td>\n",
       "      <td>ES-BP-1</td>\n",
       "    </tr>\n",
       "    <tr>\n",
       "      <th>98</th>\n",
       "      <td>FR-BP-21-06</td>\n",
       "      <td>FR-BP-21</td>\n",
       "    </tr>\n",
       "    <tr>\n",
       "      <th>113</th>\n",
       "      <td>FR-BP-04-05</td>\n",
       "      <td>FR-BP-4</td>\n",
       "    </tr>\n",
       "    <tr>\n",
       "      <th>118</th>\n",
       "      <td>ES-BP-01-23</td>\n",
       "      <td>ES-BP-1</td>\n",
       "    </tr>\n",
       "    <tr>\n",
       "      <th>144</th>\n",
       "      <td>ES-BP-01-08</td>\n",
       "      <td>ES-BP-1</td>\n",
       "    </tr>\n",
       "    <tr>\n",
       "      <th>173</th>\n",
       "      <td>ES-BP-01-05</td>\n",
       "      <td>ES-BP-1</td>\n",
       "    </tr>\n",
       "    <tr>\n",
       "      <th>225</th>\n",
       "      <td>YT-1031</td>\n",
       "      <td>YT</td>\n",
       "    </tr>\n",
       "    <tr>\n",
       "      <th>227</th>\n",
       "      <td>ES-BP-01-17</td>\n",
       "      <td>ES-BP-1</td>\n",
       "    </tr>\n",
       "    <tr>\n",
       "      <th>241</th>\n",
       "      <td>YT-245</td>\n",
       "      <td>YT</td>\n",
       "    </tr>\n",
       "    <tr>\n",
       "      <th>261</th>\n",
       "      <td>ES-BP-01-16</td>\n",
       "      <td>ES-BP-1</td>\n",
       "    </tr>\n",
       "    <tr>\n",
       "      <th>280</th>\n",
       "      <td>ES-BP-01-10</td>\n",
       "      <td>ES-BP-1</td>\n",
       "    </tr>\n",
       "    <tr>\n",
       "      <th>287</th>\n",
       "      <td>FI-BP-19-04</td>\n",
       "      <td>FI-BP-19</td>\n",
       "    </tr>\n",
       "    <tr>\n",
       "      <th>294</th>\n",
       "      <td>FI-BP-19-02</td>\n",
       "      <td>FI-BP-19</td>\n",
       "    </tr>\n",
       "    <tr>\n",
       "      <th>307</th>\n",
       "      <td>ES-BP-01-01</td>\n",
       "      <td>ES-BP-1</td>\n",
       "    </tr>\n",
       "    <tr>\n",
       "      <th>312</th>\n",
       "      <td>LT-BP-11-19</td>\n",
       "      <td>LT-BP-11</td>\n",
       "    </tr>\n",
       "    <tr>\n",
       "      <th>315</th>\n",
       "      <td>YT-1035</td>\n",
       "      <td>YT</td>\n",
       "    </tr>\n",
       "    <tr>\n",
       "      <th>328</th>\n",
       "      <td>YT-1032</td>\n",
       "      <td>YT</td>\n",
       "    </tr>\n",
       "    <tr>\n",
       "      <th>333</th>\n",
       "      <td>ES-BP-01-13</td>\n",
       "      <td>ES-BP-1</td>\n",
       "    </tr>\n",
       "    <tr>\n",
       "      <th>336</th>\n",
       "      <td>ES-BP-01-11</td>\n",
       "      <td>ES-BP-1</td>\n",
       "    </tr>\n",
       "    <tr>\n",
       "      <th>353</th>\n",
       "      <td>YT-239</td>\n",
       "      <td>YT</td>\n",
       "    </tr>\n",
       "    <tr>\n",
       "      <th>368</th>\n",
       "      <td>ES-BP-01-09</td>\n",
       "      <td>ES-BP-1</td>\n",
       "    </tr>\n",
       "    <tr>\n",
       "      <th>377</th>\n",
       "      <td>YT-1042</td>\n",
       "      <td>YT</td>\n",
       "    </tr>\n",
       "    <tr>\n",
       "      <th>381</th>\n",
       "      <td>YT-1033</td>\n",
       "      <td>YT</td>\n",
       "    </tr>\n",
       "    <tr>\n",
       "      <th>382</th>\n",
       "      <td>ES-BP-01-04</td>\n",
       "      <td>ES-BP-1</td>\n",
       "    </tr>\n",
       "    <tr>\n",
       "      <th>391</th>\n",
       "      <td>ES-BP-01-14</td>\n",
       "      <td>ES-BP-1</td>\n",
       "    </tr>\n",
       "    <tr>\n",
       "      <th>404</th>\n",
       "      <td>ES-BP-01-20</td>\n",
       "      <td>ES-BP-1</td>\n",
       "    </tr>\n",
       "    <tr>\n",
       "      <th>408</th>\n",
       "      <td>NO-BP-15-11</td>\n",
       "      <td>NO-BP-15</td>\n",
       "    </tr>\n",
       "    <tr>\n",
       "      <th>411</th>\n",
       "      <td>LT-BP-12-06</td>\n",
       "      <td>LT-BP-12</td>\n",
       "    </tr>\n",
       "    <tr>\n",
       "      <th>419</th>\n",
       "      <td>ES-BP-01-18</td>\n",
       "      <td>ES-BP-1</td>\n",
       "    </tr>\n",
       "    <tr>\n",
       "      <th>430</th>\n",
       "      <td>ES-BP-01-22</td>\n",
       "      <td>ES-BP-1</td>\n",
       "    </tr>\n",
       "    <tr>\n",
       "      <th>435</th>\n",
       "      <td>ES-BP-01-19</td>\n",
       "      <td>ES-BP-1</td>\n",
       "    </tr>\n",
       "    <tr>\n",
       "      <th>440</th>\n",
       "      <td>FI-BP-19-06</td>\n",
       "      <td>FI-BP-19</td>\n",
       "    </tr>\n",
       "    <tr>\n",
       "      <th>485</th>\n",
       "      <td>LT-BP-11-24</td>\n",
       "      <td>LT-BP-11</td>\n",
       "    </tr>\n",
       "    <tr>\n",
       "      <th>493</th>\n",
       "      <td>ES-BP-01-07</td>\n",
       "      <td>ES-BP-1</td>\n",
       "    </tr>\n",
       "    <tr>\n",
       "      <th>494</th>\n",
       "      <td>YT-249</td>\n",
       "      <td>YT</td>\n",
       "    </tr>\n",
       "    <tr>\n",
       "      <th>504</th>\n",
       "      <td>ES-BP-01-21</td>\n",
       "      <td>ES-BP-1</td>\n",
       "    </tr>\n",
       "    <tr>\n",
       "      <th>509</th>\n",
       "      <td>ES-BP-01-12</td>\n",
       "      <td>ES-BP-1</td>\n",
       "    </tr>\n",
       "    <tr>\n",
       "      <th>531</th>\n",
       "      <td>ES-BP-01-03</td>\n",
       "      <td>ES-BP-1</td>\n",
       "    </tr>\n",
       "    <tr>\n",
       "      <th>542</th>\n",
       "      <td>ES-BP-01-24</td>\n",
       "      <td>ES-BP-1</td>\n",
       "    </tr>\n",
       "    <tr>\n",
       "      <th>547</th>\n",
       "      <td>SE-BP-18-12</td>\n",
       "      <td>SE-BP-18</td>\n",
       "    </tr>\n",
       "    <tr>\n",
       "      <th>550</th>\n",
       "      <td>ES-BP-01-25</td>\n",
       "      <td>ES-BP-1</td>\n",
       "    </tr>\n",
       "    <tr>\n",
       "      <th>554</th>\n",
       "      <td>YT-238</td>\n",
       "      <td>YT</td>\n",
       "    </tr>\n",
       "    <tr>\n",
       "      <th>562</th>\n",
       "      <td>YT-1039</td>\n",
       "      <td>YT</td>\n",
       "    </tr>\n",
       "    <tr>\n",
       "      <th>564</th>\n",
       "      <td>NO-BP-15-18</td>\n",
       "      <td>NO-BP-15</td>\n",
       "    </tr>\n",
       "    <tr>\n",
       "      <th>569</th>\n",
       "      <td>YT-250</td>\n",
       "      <td>YT</td>\n",
       "    </tr>\n",
       "    <tr>\n",
       "      <th>570</th>\n",
       "      <td>NO-BP-15-20</td>\n",
       "      <td>NO-BP-15</td>\n",
       "    </tr>\n",
       "  </tbody>\n",
       "</table>\n",
       "</div>"
      ],
      "text/plain": [
       "              ID Population\n",
       "12       YT-1045         YT\n",
       "24   FI-BP-20-01   FI-BP-20\n",
       "29   LT-BP-11-08   LT-BP-11\n",
       "42   ES-BP-01-15    ES-BP-1\n",
       "45        FI-BBU     FI-BBU\n",
       "53   LT-BP-12-16   LT-BP-12\n",
       "66   ES-BP-01-06    ES-BP-1\n",
       "74   NO-BP-15-17   NO-BP-15\n",
       "89   ES-BP-01-02    ES-BP-1\n",
       "98   FR-BP-21-06   FR-BP-21\n",
       "113  FR-BP-04-05    FR-BP-4\n",
       "118  ES-BP-01-23    ES-BP-1\n",
       "144  ES-BP-01-08    ES-BP-1\n",
       "173  ES-BP-01-05    ES-BP-1\n",
       "225      YT-1031         YT\n",
       "227  ES-BP-01-17    ES-BP-1\n",
       "241       YT-245         YT\n",
       "261  ES-BP-01-16    ES-BP-1\n",
       "280  ES-BP-01-10    ES-BP-1\n",
       "287  FI-BP-19-04   FI-BP-19\n",
       "294  FI-BP-19-02   FI-BP-19\n",
       "307  ES-BP-01-01    ES-BP-1\n",
       "312  LT-BP-11-19   LT-BP-11\n",
       "315      YT-1035         YT\n",
       "328      YT-1032         YT\n",
       "333  ES-BP-01-13    ES-BP-1\n",
       "336  ES-BP-01-11    ES-BP-1\n",
       "353       YT-239         YT\n",
       "368  ES-BP-01-09    ES-BP-1\n",
       "377      YT-1042         YT\n",
       "381      YT-1033         YT\n",
       "382  ES-BP-01-04    ES-BP-1\n",
       "391  ES-BP-01-14    ES-BP-1\n",
       "404  ES-BP-01-20    ES-BP-1\n",
       "408  NO-BP-15-11   NO-BP-15\n",
       "411  LT-BP-12-06   LT-BP-12\n",
       "419  ES-BP-01-18    ES-BP-1\n",
       "430  ES-BP-01-22    ES-BP-1\n",
       "435  ES-BP-01-19    ES-BP-1\n",
       "440  FI-BP-19-06   FI-BP-19\n",
       "485  LT-BP-11-24   LT-BP-11\n",
       "493  ES-BP-01-07    ES-BP-1\n",
       "494       YT-249         YT\n",
       "504  ES-BP-01-21    ES-BP-1\n",
       "509  ES-BP-01-12    ES-BP-1\n",
       "531  ES-BP-01-03    ES-BP-1\n",
       "542  ES-BP-01-24    ES-BP-1\n",
       "547  SE-BP-18-12   SE-BP-18\n",
       "550  ES-BP-01-25    ES-BP-1\n",
       "554       YT-238         YT\n",
       "562      YT-1039         YT\n",
       "564  NO-BP-15-18   NO-BP-15\n",
       "569       YT-250         YT\n",
       "570  NO-BP-15-20   NO-BP-15"
      ]
     },
     "execution_count": 196,
     "metadata": {},
     "output_type": "execute_result"
    }
   ],
   "source": [
    "weirdos3 = coords3[:,0]>100\n",
    "samples3[weirdos3]\n",
    "###NOTICE filter over PC1 axes [:,0]\n",
    "### Filter over PC2 [:,1]"
   ]
  },
  {
   "cell_type": "code",
   "execution_count": 197,
   "metadata": {},
   "outputs": [
    {
     "data": {
      "text/html": [
       "<div>\n",
       "<style scoped>\n",
       "    .dataframe tbody tr th:only-of-type {\n",
       "        vertical-align: middle;\n",
       "    }\n",
       "\n",
       "    .dataframe tbody tr th {\n",
       "        vertical-align: top;\n",
       "    }\n",
       "\n",
       "    .dataframe thead th {\n",
       "        text-align: right;\n",
       "    }\n",
       "</style>\n",
       "<table border=\"1\" class=\"dataframe\">\n",
       "  <thead>\n",
       "    <tr style=\"text-align: right;\">\n",
       "      <th></th>\n",
       "      <th>ID</th>\n",
       "      <th>Population</th>\n",
       "    </tr>\n",
       "  </thead>\n",
       "  <tbody>\n",
       "    <tr>\n",
       "      <th>0</th>\n",
       "      <td>CH-BP-05-01</td>\n",
       "      <td>CH-BP-5</td>\n",
       "    </tr>\n",
       "    <tr>\n",
       "      <th>1</th>\n",
       "      <td>DE-BP-10-13</td>\n",
       "      <td>DE-BP-10</td>\n",
       "    </tr>\n",
       "    <tr>\n",
       "      <th>2</th>\n",
       "      <td>GB-BP-14-27</td>\n",
       "      <td>GB-BP-14</td>\n",
       "    </tr>\n",
       "    <tr>\n",
       "      <th>3</th>\n",
       "      <td>NO-BP-15-06</td>\n",
       "      <td>NO-BP-15</td>\n",
       "    </tr>\n",
       "    <tr>\n",
       "      <th>4</th>\n",
       "      <td>IT-BP-08-02</td>\n",
       "      <td>IT-BP-8</td>\n",
       "    </tr>\n",
       "    <tr>\n",
       "      <th>...</th>\n",
       "      <td>...</td>\n",
       "      <td>...</td>\n",
       "    </tr>\n",
       "    <tr>\n",
       "      <th>571</th>\n",
       "      <td>DE-BP-09-08</td>\n",
       "      <td>DE-BP-9</td>\n",
       "    </tr>\n",
       "    <tr>\n",
       "      <th>572</th>\n",
       "      <td>IT-BP-08-17</td>\n",
       "      <td>IT-BP-8</td>\n",
       "    </tr>\n",
       "    <tr>\n",
       "      <th>573</th>\n",
       "      <td>CH-BP-05-15</td>\n",
       "      <td>CH-BP-5</td>\n",
       "    </tr>\n",
       "    <tr>\n",
       "      <th>574</th>\n",
       "      <td>CH-BP-05-09</td>\n",
       "      <td>CH-BP-5</td>\n",
       "    </tr>\n",
       "    <tr>\n",
       "      <th>575</th>\n",
       "      <td>GB-BP-13-13</td>\n",
       "      <td>GB-BP-13</td>\n",
       "    </tr>\n",
       "  </tbody>\n",
       "</table>\n",
       "<p>517 rows × 2 columns</p>\n",
       "</div>"
      ],
      "text/plain": [
       "              ID Population\n",
       "0    CH-BP-05-01    CH-BP-5\n",
       "1    DE-BP-10-13   DE-BP-10\n",
       "2    GB-BP-14-27   GB-BP-14\n",
       "3    NO-BP-15-06   NO-BP-15\n",
       "4    IT-BP-08-02    IT-BP-8\n",
       "..           ...        ...\n",
       "571  DE-BP-09-08    DE-BP-9\n",
       "572  IT-BP-08-17    IT-BP-8\n",
       "573  CH-BP-05-15    CH-BP-5\n",
       "574  CH-BP-05-09    CH-BP-5\n",
       "575  GB-BP-13-13   GB-BP-13\n",
       "\n",
       "[517 rows x 2 columns]"
      ]
     },
     "execution_count": 197,
     "metadata": {},
     "output_type": "execute_result"
    }
   ],
   "source": [
    "samples4 = samples3[~weirdos3]\n",
    "samples4"
   ]
  },
  {
   "cell_type": "code",
   "execution_count": 198,
   "metadata": {},
   "outputs": [
    {
     "data": {
      "text/html": [
       "<div class=\"allel allel-DisplayAs2D\"><span>&lt;GenotypeChunkedArray shape=(690551, 517, 2) dtype=int8 chunks=(2698, 517, 2)\n",
       "   nbytes=681.0M cbytes=75.0M cratio=9.1\n",
       "   compression=blosc compression_opts={'cname': 'lz4', 'clevel': 5, 'shuffle': 1, 'blocksize': 0}\n",
       "   values=zarr.core.Array&gt;</span><table><thead><tr><th></th><th style=\"text-align: center\">0</th><th style=\"text-align: center\">1</th><th style=\"text-align: center\">2</th><th style=\"text-align: center\">3</th><th style=\"text-align: center\">4</th><th style=\"text-align: center\">...</th><th style=\"text-align: center\">512</th><th style=\"text-align: center\">513</th><th style=\"text-align: center\">514</th><th style=\"text-align: center\">515</th><th style=\"text-align: center\">516</th></tr></thead><tbody><tr><th style=\"text-align: center; background-color: white; border-right: 1px solid black; \">0</th><td style=\"text-align: center\">0/0</td><td style=\"text-align: center\">0/0</td><td style=\"text-align: center\">0/0</td><td style=\"text-align: center\">0/0</td><td style=\"text-align: center\">0/0</td><td style=\"text-align: center\">...</td><td style=\"text-align: center\">0/0</td><td style=\"text-align: center\">0/0</td><td style=\"text-align: center\">0/0</td><td style=\"text-align: center\">0/0</td><td style=\"text-align: center\">0/0</td></tr><tr><th style=\"text-align: center; background-color: white; border-right: 1px solid black; \">1</th><td style=\"text-align: center\">0/0</td><td style=\"text-align: center\">0/0</td><td style=\"text-align: center\">0/0</td><td style=\"text-align: center\">0/0</td><td style=\"text-align: center\">0/0</td><td style=\"text-align: center\">...</td><td style=\"text-align: center\">0/0</td><td style=\"text-align: center\">0/0</td><td style=\"text-align: center\">0/0</td><td style=\"text-align: center\">0/0</td><td style=\"text-align: center\">0/0</td></tr><tr><th style=\"text-align: center; background-color: white; border-right: 1px solid black; \">2</th><td style=\"text-align: center\">0/0</td><td style=\"text-align: center\">0/0</td><td style=\"text-align: center\">0/0</td><td style=\"text-align: center\">0/0</td><td style=\"text-align: center\">0/0</td><td style=\"text-align: center\">...</td><td style=\"text-align: center\">0/0</td><td style=\"text-align: center\">0/0</td><td style=\"text-align: center\">0/0</td><td style=\"text-align: center\">0/0</td><td style=\"text-align: center\">0/0</td></tr><tr><th style=\"text-align: center; background-color: white; border-right: 1px solid black; \">...</th><td style=\"text-align: center\" colspan=\"12\">...</td></tr><tr><th style=\"text-align: center; background-color: white; border-right: 1px solid black; \">690548</th><td style=\"text-align: center\">0/0</td><td style=\"text-align: center\">0/0</td><td style=\"text-align: center\">0/0</td><td style=\"text-align: center\">0/0</td><td style=\"text-align: center\">0/0</td><td style=\"text-align: center\">...</td><td style=\"text-align: center\">0/0</td><td style=\"text-align: center\">0/0</td><td style=\"text-align: center\">0/0</td><td style=\"text-align: center\">0/0</td><td style=\"text-align: center\">0/0</td></tr><tr><th style=\"text-align: center; background-color: white; border-right: 1px solid black; \">690549</th><td style=\"text-align: center\">0/0</td><td style=\"text-align: center\">0/0</td><td style=\"text-align: center\">0/0</td><td style=\"text-align: center\">0/0</td><td style=\"text-align: center\">0/0</td><td style=\"text-align: center\">...</td><td style=\"text-align: center\">0/0</td><td style=\"text-align: center\">0/0</td><td style=\"text-align: center\">0/0</td><td style=\"text-align: center\">0/0</td><td style=\"text-align: center\">0/0</td></tr><tr><th style=\"text-align: center; background-color: white; border-right: 1px solid black; \">690550</th><td style=\"text-align: center\">0/0</td><td style=\"text-align: center\">0/0</td><td style=\"text-align: center\">0/0</td><td style=\"text-align: center\">0/0</td><td style=\"text-align: center\">0/0</td><td style=\"text-align: center\">...</td><td style=\"text-align: center\">0/0</td><td style=\"text-align: center\">0/0</td><td style=\"text-align: center\">0/0</td><td style=\"text-align: center\">0/0</td><td style=\"text-align: center\">0/0</td></tr></tbody></table></div>"
      ],
      "text/plain": [
       "<GenotypeChunkedArray shape=(690551, 517, 2) dtype=int8 chunks=(2698, 517, 2)\n",
       "   nbytes=681.0M cbytes=75.0M cratio=9.1\n",
       "   compression=blosc compression_opts={'cname': 'lz4', 'clevel': 5, 'shuffle': 1, 'blocksize': 0}\n",
       "   values=zarr.core.Array>"
      ]
     },
     "execution_count": 198,
     "metadata": {},
     "output_type": "execute_result"
    }
   ],
   "source": [
    "allT = np.repeat(True, len(genotypes_subset_4))\n",
    "genotypes_subset_5 = genotypes_subset_4.subset(allT, ~weirdos3)\n",
    "genotypes_subset_5"
   ]
  },
  {
   "cell_type": "code",
   "execution_count": 199,
   "metadata": {},
   "outputs": [],
   "source": [
    "ac5 = genotypes_subset_5.count_alleles()\n",
    "flt5 = (ac5[:, :2].min(axis=1) > 1)\n",
    "gf5 = genotypes_subset_5.compress(flt5, axis=0)\n",
    "gn = gf5.to_n_alt()"
   ]
  },
  {
   "cell_type": "code",
   "execution_count": 200,
   "metadata": {},
   "outputs": [],
   "source": [
    "coords4, model4 = allel.pca(gn, n_components=10, scaler='patterson')"
   ]
  },
  {
   "cell_type": "code",
   "execution_count": 201,
   "metadata": {},
   "outputs": [],
   "source": [
    "def fig_pca(coords, model, title, sample_population=None):\n",
    "    if sample_population is None:\n",
    "        sample_population = samples4.Population.values\n",
    "    # plot coords for PCs 1 vs 2, 3 vs 4\n",
    "    fig = plt.figure(figsize=(10, 5))\n",
    "    ax = fig.add_subplot(1, 2, 1)\n",
    "    plot_pca_coords(coords, model, 0, 1, ax, sample_population)\n",
    "    ax = fig.add_subplot(1, 2, 2)\n",
    "    plot_pca_coords(coords, model, 2, 3, ax, sample_population)\n",
    "    ax.legend(bbox_to_anchor=(1, 1), loc='upper left')\n",
    "    fig.suptitle(title, y=1.02)\n",
    "    fig.tight_layout()"
   ]
  },
  {
   "cell_type": "code",
   "execution_count": 202,
   "metadata": {},
   "outputs": [
    {
     "data": {
      "image/png": "[encoded data removed]",
      "text/plain": [
       "<Figure size 720x360 with 2 Axes>"
      ]
     },
     "metadata": {},
     "output_type": "display_data"
    }
   ],
   "source": [
    "fig_pca(coords4, model4, 'Figure 1. Conventional PCA.')"
   ]
  },
  {
   "cell_type": "raw",
   "metadata": {},
   "source": [
    "### Check the % of variance explained by the PCA, 0.9 and 0.8% may not be significant enough to \n",
    "###subset once more the samples"
   ]
  }
 ],
 "metadata": {
  "kernelspec": {
   "display_name": "Python 3",
   "language": "python",
   "name": "python3"
  },
  "language_info": {
   "codemirror_mode": {
    "name": "ipython",
    "version": 3
   },
   "file_extension": ".py",
   "mimetype": "text/x-python",
   "name": "python",
   "nbconvert_exporter": "python",
   "pygments_lexer": "ipython3",
   "version": "3.8.3"
  }
 },
 "nbformat": 4,
 "nbformat_minor": 2
}
