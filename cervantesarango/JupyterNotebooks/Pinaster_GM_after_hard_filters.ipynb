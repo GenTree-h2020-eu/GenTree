{
 "cells": [
  {
   "cell_type": "code",
   "execution_count": 1,
   "metadata": {},
   "outputs": [
    {
     "name": "stdout",
     "output_type": "stream",
     "text": [
      "scikit-allel 1.2.1\n"
     ]
    }
   ],
   "source": [
    "import numpy as np\n",
    "import scipy\n",
    "import pandas\n",
    "import matplotlib as mpl\n",
    "import matplotlib.pyplot as plt\n",
    "%matplotlib inline\n",
    "import seaborn as sns\n",
    "sns.set_style('white')\n",
    "sns.set_style('ticks')\n",
    "sns.set_context('notebook')\n",
    "import h5py\n",
    "import allel; print('scikit-allel', allel.__version__)"
   ]
  },
  {
   "cell_type": "code",
   "execution_count": 2,
   "metadata": {},
   "outputs": [],
   "source": [
    "#allel.vcf_to_hdf5('/wrk/Gen_Tree/GenTree_Genome_mapping/Pinus_pinaster/Ppinaster_GM_Oulu_filtered_v1.vcf', '/wrk/Gen_Tree/GenTree_Genome_mapping/Pinus_pinaster/Ppinaster_GM_Oulu_filtered_v1.h5', fields='*', overwrite=True)"
   ]
  },
  {
   "cell_type": "code",
   "execution_count": 3,
   "metadata": {},
   "outputs": [
    {
     "data": {
      "text/plain": [
       "<HDF5 file \"Ppinaster_GM_Oulu_filtered_v1.h5\" (mode r)>"
      ]
     },
     "execution_count": 3,
     "metadata": {},
     "output_type": "execute_result"
    }
   ],
   "source": [
    "callset_fn = '/wrk/Gen_Tree/GenTree_Genome_mapping/Pinus_pinaster/Ppinaster_GM_Oulu_filtered_v1.h5'\n",
    "callset = h5py.File(callset_fn, mode='r')\n",
    "callset"
   ]
  },
  {
   "cell_type": "code",
   "execution_count": 4,
   "metadata": {},
   "outputs": [
    {
     "data": {
      "text/plain": [
       "['calldata', 'samples', 'variants']"
      ]
     },
     "execution_count": 4,
     "metadata": {},
     "output_type": "execute_result"
    }
   ],
   "source": [
    "sorted(callset.keys())"
   ]
  },
  {
   "cell_type": "code",
   "execution_count": 6,
   "metadata": {
    "scrolled": true
   },
   "outputs": [
    {
     "data": {
      "text/html": [
       "<div class=\"allel allel-DisplayAsTable\"><span>&lt;VariantChunkedTable shape=(845039,) dtype=[('POS', '&lt;i4'), ('REF', 'O'), ('ALT', 'O', (3,)), ('DP', '&lt;i4'), ('QUAL', '&lt;f4'), ('AN', '&lt;i4'), ('MQ', '&lt;f4'), ('QD', '&lt;f4'), ('SOR', '&lt;f4'), ('MQRankSum', '&lt;f4'), ('ReadPosRankSum', '&lt;f4'), ('numalt', '&lt;i4')]\n",
       "   nbytes=58.0M cbytes=22.1M cratio=2.6\n",
       "   values=h5py._hl.group.Group&gt;</span><table><thead><tr><th></th><th style=\"text-align: center\">POS</th><th style=\"text-align: center\">REF</th><th style=\"text-align: center\">ALT</th><th style=\"text-align: center\">DP</th><th style=\"text-align: center\">QUAL</th><th style=\"text-align: center\">AN</th><th style=\"text-align: center\">MQ</th><th style=\"text-align: center\">QD</th><th style=\"text-align: center\">SOR</th><th style=\"text-align: center\">MQRankSum</th><th style=\"text-align: center\">ReadPosRankSum</th><th style=\"text-align: center\">numalt</th></tr></thead><tbody><tr><th style=\"text-align: center; background-color: white; border-right: 1px solid black; \">0</th><td style=\"text-align: center\">120828</td><td style=\"text-align: center\">G</td><td style=\"text-align: center\">['A' '' '']</td><td style=\"text-align: center\">3661</td><td style=\"text-align: center\">204459.28</td><td style=\"text-align: center\">1032</td><td style=\"text-align: center\">59.4</td><td style=\"text-align: center\">28.73</td><td style=\"text-align: center\">1.091</td><td style=\"text-align: center\">0.0</td><td style=\"text-align: center\">0.0</td><td style=\"text-align: center\">1</td></tr><tr><th style=\"text-align: center; background-color: white; border-right: 1px solid black; \">1</th><td style=\"text-align: center\">120839</td><td style=\"text-align: center\">A</td><td style=\"text-align: center\">['G' '' '']</td><td style=\"text-align: center\">3962</td><td style=\"text-align: center\">2321.73</td><td style=\"text-align: center\">1118</td><td style=\"text-align: center\">60.6</td><td style=\"text-align: center\">16.7</td><td style=\"text-align: center\">0.207</td><td style=\"text-align: center\">0.0</td><td style=\"text-align: center\">0.253</td><td style=\"text-align: center\">1</td></tr><tr><th style=\"text-align: center; background-color: white; border-right: 1px solid black; \">2</th><td style=\"text-align: center\">120865</td><td style=\"text-align: center\">G</td><td style=\"text-align: center\">['T' '' '']</td><td style=\"text-align: center\">4874</td><td style=\"text-align: center\">31969.58</td><td style=\"text-align: center\">1112</td><td style=\"text-align: center\">59.8</td><td style=\"text-align: center\">21.78</td><td style=\"text-align: center\">0.674</td><td style=\"text-align: center\">0.0</td><td style=\"text-align: center\">-0.102</td><td style=\"text-align: center\">1</td></tr><tr><th style=\"text-align: center; background-color: white; border-right: 1px solid black; \">...</th><td style=\"text-align: center\" colspan=\"13\">...</td></tr><tr><th style=\"text-align: center; background-color: white; border-right: 1px solid black; \">845036</th><td style=\"text-align: center\">370861</td><td style=\"text-align: center\">C</td><td style=\"text-align: center\">['T' '' '']</td><td style=\"text-align: center\">1325</td><td style=\"text-align: center\">3916.1</td><td style=\"text-align: center\">898</td><td style=\"text-align: center\">38.44</td><td style=\"text-align: center\">28.17</td><td style=\"text-align: center\">1.28</td><td style=\"text-align: center\">0.674</td><td style=\"text-align: center\">0.0</td><td style=\"text-align: center\">1</td></tr><tr><th style=\"text-align: center; background-color: white; border-right: 1px solid black; \">845037</th><td style=\"text-align: center\">370862</td><td style=\"text-align: center\">C</td><td style=\"text-align: center\">['T' '' '']</td><td style=\"text-align: center\">1390</td><td style=\"text-align: center\">474.01</td><td style=\"text-align: center\">928</td><td style=\"text-align: center\">39.96</td><td style=\"text-align: center\">23.7</td><td style=\"text-align: center\">0.792</td><td style=\"text-align: center\">-0.524</td><td style=\"text-align: center\">-0.674</td><td style=\"text-align: center\">1</td></tr><tr><th style=\"text-align: center; background-color: white; border-right: 1px solid black; \">845038</th><td style=\"text-align: center\">370866</td><td style=\"text-align: center\">A</td><td style=\"text-align: center\">['T' '' '']</td><td style=\"text-align: center\">1461</td><td style=\"text-align: center\">24.25</td><td style=\"text-align: center\">952</td><td style=\"text-align: center\">42.98</td><td style=\"text-align: center\">3.46</td><td style=\"text-align: center\">2.007</td><td style=\"text-align: center\">-0.967</td><td style=\"text-align: center\">-0.319</td><td style=\"text-align: center\">1</td></tr></tbody></table></div>"
      ],
      "text/plain": [
       "<VariantChunkedTable shape=(845039,) dtype=[('POS', '<i4'), ('REF', 'O'), ('ALT', 'O', (3,)), ('DP', '<i4'), ('QUAL', '<f4'), ('AN', '<i4'), ('MQ', '<f4'), ('QD', '<f4'), ('SOR', '<f4'), ('MQRankSum', '<f4'), ('ReadPosRankSum', '<f4'), ('numalt', '<i4')]\n",
       "   nbytes=58.0M cbytes=22.1M cratio=2.6\n",
       "   values=h5py._hl.group.Group>"
      ]
     },
     "execution_count": 6,
     "metadata": {},
     "output_type": "execute_result"
    }
   ],
   "source": [
    "variants = allel.VariantChunkedTable(callset['variants'], \n",
    "                                     names=['POS', 'REF', 'ALT','DP', 'QUAL', 'AN', 'MQ', 'QD', 'SOR', 'MQRankSum', 'ReadPosRankSum', 'numalt'])\n",
    "variants"
   ]
  },
  {
   "cell_type": "code",
   "execution_count": 7,
   "metadata": {},
   "outputs": [],
   "source": [
    "#callset['variants']\n",
    "#list(variants)"
   ]
  },
  {
   "cell_type": "code",
   "execution_count": 8,
   "metadata": {},
   "outputs": [
    {
     "data": {
      "text/plain": [
       "<HDF5 dataset \"samples\": shape (582,), type \"|O\">"
      ]
     },
     "execution_count": 8,
     "metadata": {},
     "output_type": "execute_result"
    }
   ],
   "source": [
    "callset['samples']"
   ]
  },
  {
   "cell_type": "code",
   "execution_count": 9,
   "metadata": {},
   "outputs": [
    {
     "data": {
      "text/plain": [
       "<HDF5 group \"/variants\" (35 members)>"
      ]
     },
     "execution_count": 9,
     "metadata": {},
     "output_type": "execute_result"
    }
   ],
   "source": [
    "variants = callset['variants']\n",
    "variants"
   ]
  },
  {
   "cell_type": "code",
   "execution_count": 10,
   "metadata": {},
   "outputs": [],
   "source": [
    "#list(variants)"
   ]
  },
  {
   "cell_type": "code",
   "execution_count": 11,
   "metadata": {},
   "outputs": [],
   "source": [
    "#numalt = variants['numalt'][:]\n",
    "#numalt"
   ]
  },
  {
   "cell_type": "code",
   "execution_count": 12,
   "metadata": {},
   "outputs": [],
   "source": [
    "def plot_variant_hist(f, bins=30):\n",
    "    x = variants[f][:]\n",
    "    fig, ax = plt.subplots(figsize=(7, 5))\n",
    "    sns.despine(ax=ax, offset=10)\n",
    "    ax.hist(x, bins=bins)\n",
    "    ax.set_xlabel(f)\n",
    "    ax.set_ylabel('No. variants')\n",
    "    ax.set_title('Variant %s distribution' % f)"
   ]
  },
  {
   "cell_type": "code",
   "execution_count": 13,
   "metadata": {},
   "outputs": [
    {
     "data": {
      "text/plain": [
       "[<matplotlib.axis.XTick at 0x7f9d12114c10>,\n",
       " <matplotlib.axis.XTick at 0x7f9d0975c550>,\n",
       " <matplotlib.axis.XTick at 0x7f9d09754890>]"
      ]
     },
     "execution_count": 13,
     "metadata": {},
     "output_type": "execute_result"
    },
    {
     "data": {
      "image/png": "[encoded data removed]",
      "text/plain": [
       "<Figure size 504x360 with 1 Axes>"
      ]
     },
     "metadata": {},
     "output_type": "display_data"
    }
   ],
   "source": [
    "plot_variant_hist('numalt', bins=np.arange(0.5, 5.5, 1))\n",
    "plt.gca().set_xticks([1,2,3])"
   ]
  },
  {
   "cell_type": "code",
   "execution_count": 14,
   "metadata": {},
   "outputs": [
    {
     "data": {
      "image/png": "[encoded data removed]",
      "text/plain": [
       "<Figure size 504x360 with 1 Axes>"
      ]
     },
     "metadata": {},
     "output_type": "display_data"
    }
   ],
   "source": [
    "plot_variant_hist('DP', bins=100)"
   ]
  },
  {
   "cell_type": "code",
   "execution_count": 15,
   "metadata": {},
   "outputs": [
    {
     "name": "stderr",
     "output_type": "stream",
     "text": [
      "/wrk/Programs/miniconda3/lib/python3.7/site-packages/numpy/lib/histograms.py:829: RuntimeWarning: invalid value encountered in greater_equal\n",
      "  keep = (tmp_a >= first_edge)\n",
      "/wrk/Programs/miniconda3/lib/python3.7/site-packages/numpy/lib/histograms.py:830: RuntimeWarning: invalid value encountered in less_equal\n",
      "  keep &= (tmp_a <= last_edge)\n"
     ]
    },
    {
     "data": {
      "image/png": "[encoded data removed]",
      "text/plain": [
       "<Figure size 504x360 with 1 Axes>"
      ]
     },
     "metadata": {},
     "output_type": "display_data"
    }
   ],
   "source": [
    "plot_variant_hist('MQ', bins=100)"
   ]
  },
  {
   "cell_type": "code",
   "execution_count": 16,
   "metadata": {},
   "outputs": [
    {
     "data": {
      "text/plain": [
       "array([59.4 , 60.6 , 59.8 , ..., 38.44, 39.96, 42.98], dtype=float32)"
      ]
     },
     "execution_count": 16,
     "metadata": {},
     "output_type": "execute_result"
    }
   ],
   "source": [
    "MQ = variants['MQ'][:]\n",
    "MQ"
   ]
  },
  {
   "cell_type": "code",
   "execution_count": 17,
   "metadata": {},
   "outputs": [
    {
     "data": {
      "image/png": "[encoded data removed]",
      "text/plain": [
       "<Figure size 504x360 with 1 Axes>"
      ]
     },
     "metadata": {},
     "output_type": "display_data"
    }
   ],
   "source": [
    "plot_variant_hist('QD', bins=100)\n",
    "#plt.savefig('/wrk/Gen_Tree/GenTree_Genome_mapping/Pinus_pinaster/Ppinaster_GM_QD_distribution')"
   ]
  },
  {
   "cell_type": "code",
   "execution_count": 18,
   "metadata": {},
   "outputs": [
    {
     "data": {
      "image/png": "[encoded data removed]",
      "text/plain": [
       "<Figure size 504x360 with 1 Axes>"
      ]
     },
     "metadata": {},
     "output_type": "display_data"
    }
   ],
   "source": [
    "plot_variant_hist('QUAL', bins=100)"
   ]
  },
  {
   "cell_type": "code",
   "execution_count": 19,
   "metadata": {},
   "outputs": [
    {
     "data": {
      "image/png": "[encoded data removed]",
      "text/plain": [
       "<Figure size 504x360 with 1 Axes>"
      ]
     },
     "metadata": {},
     "output_type": "display_data"
    }
   ],
   "source": [
    "plot_variant_hist('SOR')"
   ]
  },
  {
   "cell_type": "code",
   "execution_count": 20,
   "metadata": {},
   "outputs": [
    {
     "data": {
      "image/png": "[encoded data removed]",
      "text/plain": [
       "<Figure size 504x360 with 1 Axes>"
      ]
     },
     "metadata": {},
     "output_type": "display_data"
    }
   ],
   "source": [
    "plot_variant_hist('AN')\n",
    "#plt.savefig('/wrk/Gen_Tree/GenTree_Genome_mapping/Pinus_pinaster/Ppinaster_GM_AN_distribution')"
   ]
  },
  {
   "cell_type": "code",
   "execution_count": 21,
   "metadata": {},
   "outputs": [
    {
     "data": {
      "image/png": "[encoded data removed]",
      "text/plain": [
       "<Figure size 504x360 with 1 Axes>"
      ]
     },
     "metadata": {},
     "output_type": "display_data"
    }
   ],
   "source": [
    "plot_variant_hist('MQRankSum')"
   ]
  },
  {
   "cell_type": "code",
   "execution_count": 22,
   "metadata": {},
   "outputs": [
    {
     "data": {
      "image/png": "[encoded data removed]",
      "text/plain": [
       "<Figure size 504x360 with 1 Axes>"
      ]
     },
     "metadata": {},
     "output_type": "display_data"
    }
   ],
   "source": [
    "plot_variant_hist('ReadPosRankSum')"
   ]
  },
  {
   "cell_type": "code",
   "execution_count": 23,
   "metadata": {},
   "outputs": [
    {
     "data": {
      "text/plain": [
       "['ES-PP-01-01',\n",
       " 'ES-PP-01-02',\n",
       " 'ES-PP-01-03',\n",
       " 'ES-PP-01-04',\n",
       " 'ES-PP-01-05',\n",
       " 'ES-PP-01-06',\n",
       " 'ES-PP-01-07',\n",
       " 'ES-PP-01-08',\n",
       " 'ES-PP-01-09',\n",
       " 'ES-PP-01-10',\n",
       " 'ES-PP-01-11',\n",
       " 'ES-PP-01-12',\n",
       " 'ES-PP-01-13',\n",
       " 'ES-PP-01-14',\n",
       " 'ES-PP-01-15',\n",
       " 'ES-PP-01-16',\n",
       " 'ES-PP-01-17',\n",
       " 'ES-PP-01-18',\n",
       " 'ES-PP-01-19',\n",
       " 'ES-PP-01-20',\n",
       " 'ES-PP-01-21',\n",
       " 'ES-PP-01-22',\n",
       " 'ES-PP-01-23',\n",
       " 'ES-PP-01-24',\n",
       " 'ES-PP-01-25',\n",
       " 'ES-PP-02-01',\n",
       " 'ES-PP-02-02',\n",
       " 'ES-PP-02-03',\n",
       " 'ES-PP-02-04',\n",
       " 'ES-PP-02-05',\n",
       " 'ES-PP-02-06',\n",
       " 'ES-PP-02-07',\n",
       " 'ES-PP-02-08',\n",
       " 'ES-PP-02-09',\n",
       " 'ES-PP-02-10',\n",
       " 'ES-PP-02-11',\n",
       " 'ES-PP-02-12',\n",
       " 'ES-PP-02-13',\n",
       " 'ES-PP-02-14',\n",
       " 'ES-PP-02-15',\n",
       " 'ES-PP-02-16',\n",
       " 'ES-PP-02-17',\n",
       " 'ES-PP-02-18',\n",
       " 'ES-PP-02-19',\n",
       " 'ES-PP-02-20',\n",
       " 'ES-PP-02-21',\n",
       " 'ES-PP-02-22',\n",
       " 'ES-PP-02-23',\n",
       " 'ES-PP-02-24',\n",
       " 'ES-PP-03-01',\n",
       " 'ES-PP-03-02',\n",
       " 'ES-PP-03-03',\n",
       " 'ES-PP-03-04',\n",
       " 'ES-PP-03-05',\n",
       " 'ES-PP-03-06',\n",
       " 'ES-PP-03-07',\n",
       " 'ES-PP-03-08',\n",
       " 'ES-PP-03-09',\n",
       " 'ES-PP-03-10',\n",
       " 'ES-PP-03-11',\n",
       " 'ES-PP-03-12',\n",
       " 'ES-PP-03-13',\n",
       " 'ES-PP-03-14',\n",
       " 'ES-PP-03-15',\n",
       " 'ES-PP-03-16',\n",
       " 'ES-PP-03-17',\n",
       " 'ES-PP-03-18',\n",
       " 'ES-PP-03-19',\n",
       " 'ES-PP-03-20',\n",
       " 'ES-PP-03-21',\n",
       " 'ES-PP-03-22',\n",
       " 'ES-PP-03-23',\n",
       " 'ES-PP-03-24',\n",
       " 'ES-PP-03-25',\n",
       " 'ES-PP-04-01',\n",
       " 'ES-PP-04-02',\n",
       " 'ES-PP-04-03',\n",
       " 'ES-PP-04-04',\n",
       " 'ES-PP-04-06',\n",
       " 'ES-PP-04-07',\n",
       " 'ES-PP-04-08',\n",
       " 'ES-PP-04-09',\n",
       " 'ES-PP-04-10',\n",
       " 'ES-PP-04-11',\n",
       " 'ES-PP-04-12',\n",
       " 'ES-PP-04-13',\n",
       " 'ES-PP-04-14',\n",
       " 'ES-PP-04-15',\n",
       " 'ES-PP-04-16',\n",
       " 'ES-PP-04-17',\n",
       " 'ES-PP-04-18',\n",
       " 'ES-PP-04-19',\n",
       " 'ES-PP-04-20',\n",
       " 'ES-PP-04-21',\n",
       " 'ES-PP-04-22',\n",
       " 'ES-PP-04-23',\n",
       " 'ES-PP-04-24',\n",
       " 'ES-PP-04-25',\n",
       " 'ES-PP-05-01',\n",
       " 'ES-PP-05-02',\n",
       " 'ES-PP-05-03',\n",
       " 'ES-PP-05-04',\n",
       " 'ES-PP-05-05',\n",
       " 'ES-PP-05-06',\n",
       " 'ES-PP-05-07',\n",
       " 'ES-PP-05-08',\n",
       " 'ES-PP-05-09',\n",
       " 'ES-PP-05-10',\n",
       " 'ES-PP-05-11',\n",
       " 'ES-PP-05-12',\n",
       " 'ES-PP-05-13',\n",
       " 'ES-PP-05-14',\n",
       " 'ES-PP-05-15',\n",
       " 'ES-PP-05-16',\n",
       " 'ES-PP-05-17',\n",
       " 'ES-PP-05-18',\n",
       " 'ES-PP-05-19',\n",
       " 'ES-PP-05-20',\n",
       " 'ES-PP-05-21',\n",
       " 'ES-PP-05-22',\n",
       " 'ES-PP-05-23',\n",
       " 'ES-PP-05-24',\n",
       " 'ES-PP-05-25',\n",
       " 'ES-PP-06-01',\n",
       " 'ES-PP-06-02',\n",
       " 'ES-PP-06-03',\n",
       " 'ES-PP-06-04',\n",
       " 'ES-PP-06-05',\n",
       " 'ES-PP-06-06',\n",
       " 'ES-PP-06-07',\n",
       " 'ES-PP-06-08',\n",
       " 'ES-PP-06-09',\n",
       " 'ES-PP-06-10',\n",
       " 'ES-PP-06-11',\n",
       " 'ES-PP-06-12',\n",
       " 'ES-PP-06-13',\n",
       " 'ES-PP-06-14',\n",
       " 'ES-PP-06-15',\n",
       " 'ES-PP-06-16',\n",
       " 'ES-PP-06-18',\n",
       " 'ES-PP-06-19',\n",
       " 'ES-PP-06-20',\n",
       " 'ES-PP-06-21',\n",
       " 'ES-PP-06-22',\n",
       " 'ES-PP-06-23',\n",
       " 'ES-PP-06-24',\n",
       " 'ES-PP-06-25',\n",
       " 'ES-PP-07-01',\n",
       " 'ES-PP-07-02',\n",
       " 'ES-PP-07-03',\n",
       " 'ES-PP-07-04',\n",
       " 'ES-PP-07-05',\n",
       " 'ES-PP-07-06',\n",
       " 'ES-PP-07-07',\n",
       " 'ES-PP-07-08',\n",
       " 'ES-PP-07-09',\n",
       " 'ES-PP-07-10',\n",
       " 'ES-PP-07-11',\n",
       " 'ES-PP-07-12',\n",
       " 'ES-PP-07-13',\n",
       " 'ES-PP-07-14',\n",
       " 'ES-PP-07-15',\n",
       " 'ES-PP-07-16',\n",
       " 'ES-PP-07-17',\n",
       " 'ES-PP-07-18',\n",
       " 'ES-PP-07-19',\n",
       " 'ES-PP-07-20',\n",
       " 'ES-PP-07-21',\n",
       " 'ES-PP-07-22',\n",
       " 'ES-PP-07-23',\n",
       " 'ES-PP-07-24',\n",
       " 'ES-PP-07-25',\n",
       " 'ES-PP-08-01',\n",
       " 'ES-PP-08-02',\n",
       " 'ES-PP-08-03',\n",
       " 'ES-PP-08-04',\n",
       " 'ES-PP-08-05',\n",
       " 'ES-PP-08-06',\n",
       " 'ES-PP-08-07',\n",
       " 'ES-PP-08-08',\n",
       " 'ES-PP-08-09',\n",
       " 'ES-PP-08-10',\n",
       " 'ES-PP-08-11',\n",
       " 'ES-PP-08-12',\n",
       " 'ES-PP-08-13',\n",
       " 'ES-PP-08-14',\n",
       " 'ES-PP-08-16',\n",
       " 'ES-PP-08-17',\n",
       " 'ES-PP-08-18',\n",
       " 'ES-PP-08-19',\n",
       " 'ES-PP-08-20',\n",
       " 'ES-PP-08-21',\n",
       " 'ES-PP-08-22',\n",
       " 'ES-PP-08-23',\n",
       " 'ES-PP-08-24',\n",
       " 'ES-PP-08-25',\n",
       " 'FR-PP-09-01',\n",
       " 'FR-PP-09-02',\n",
       " 'FR-PP-09-03',\n",
       " 'FR-PP-09-04',\n",
       " 'FR-PP-09-05',\n",
       " 'FR-PP-09-09',\n",
       " 'FR-PP-09-10',\n",
       " 'FR-PP-09-11',\n",
       " 'FR-PP-09-12',\n",
       " 'FR-PP-09-13',\n",
       " 'FR-PP-09-14',\n",
       " 'FR-PP-09-15',\n",
       " 'FR-PP-09-16',\n",
       " 'FR-PP-09-17',\n",
       " 'FR-PP-09-18',\n",
       " 'FR-PP-09-21',\n",
       " 'FR-PP-09-22',\n",
       " 'FR-PP-09-23',\n",
       " 'FR-PP-09-24',\n",
       " 'FR-PP-09-25',\n",
       " 'FR-PP-09-26',\n",
       " 'FR-PP-09-27',\n",
       " 'FR-PP-09-28',\n",
       " 'FR-PP-09-29',\n",
       " 'FR-PP-09-30',\n",
       " 'FR-PP-10-01',\n",
       " 'FR-PP-10-02',\n",
       " 'FR-PP-10-03',\n",
       " 'FR-PP-10-04',\n",
       " 'FR-PP-10-05',\n",
       " 'FR-PP-10-06',\n",
       " 'FR-PP-10-07',\n",
       " 'FR-PP-10-08',\n",
       " 'FR-PP-10-09',\n",
       " 'FR-PP-10-10',\n",
       " 'FR-PP-10-11',\n",
       " 'FR-PP-10-12',\n",
       " 'FR-PP-10-13',\n",
       " 'FR-PP-10-14',\n",
       " 'FR-PP-10-15',\n",
       " 'FR-PP-10-16',\n",
       " 'FR-PP-10-17',\n",
       " 'FR-PP-10-18',\n",
       " 'FR-PP-10-19',\n",
       " 'FR-PP-10-20',\n",
       " 'FR-PP-10-21',\n",
       " 'FR-PP-10-22',\n",
       " 'FR-PP-10-23',\n",
       " 'FR-PP-10-24',\n",
       " 'FR-PP-10-25',\n",
       " 'FR-PP-11-01',\n",
       " 'FR-PP-11-02',\n",
       " 'FR-PP-11-03',\n",
       " 'FR-PP-11-04',\n",
       " 'FR-PP-11-07',\n",
       " 'FR-PP-11-09',\n",
       " 'FR-PP-11-10',\n",
       " 'FR-PP-11-11',\n",
       " 'FR-PP-11-12',\n",
       " 'FR-PP-11-13',\n",
       " 'FR-PP-11-14',\n",
       " 'FR-PP-11-15',\n",
       " 'FR-PP-11-16',\n",
       " 'FR-PP-11-17',\n",
       " 'FR-PP-11-18',\n",
       " 'FR-PP-11-19',\n",
       " 'FR-PP-11-20',\n",
       " 'FR-PP-11-21',\n",
       " 'FR-PP-11-22',\n",
       " 'FR-PP-11-23',\n",
       " 'FR-PP-11-24',\n",
       " 'FR-PP-11-25',\n",
       " 'FR-PP-12-01',\n",
       " 'FR-PP-12-02',\n",
       " 'FR-PP-12-03',\n",
       " 'FR-PP-12-04',\n",
       " 'FR-PP-12-05',\n",
       " 'FR-PP-12-06',\n",
       " 'FR-PP-12-07',\n",
       " 'FR-PP-12-08',\n",
       " 'FR-PP-12-09',\n",
       " 'FR-PP-12-10',\n",
       " 'FR-PP-12-11',\n",
       " 'FR-PP-12-12',\n",
       " 'FR-PP-12-13',\n",
       " 'FR-PP-12-14',\n",
       " 'FR-PP-12-15',\n",
       " 'FR-PP-12-16',\n",
       " 'FR-PP-12-17',\n",
       " 'FR-PP-12-18',\n",
       " 'FR-PP-12-19',\n",
       " 'FR-PP-12-22',\n",
       " 'FR-PP-12-23',\n",
       " 'FR-PP-12-24',\n",
       " 'FR-PP-12-25',\n",
       " 'FR-PP-12-26',\n",
       " 'FR-PP-13-01',\n",
       " 'FR-PP-13-02',\n",
       " 'FR-PP-13-03',\n",
       " 'FR-PP-13-04',\n",
       " 'FR-PP-13-05',\n",
       " 'FR-PP-13-06',\n",
       " 'FR-PP-13-07',\n",
       " 'FR-PP-13-08',\n",
       " 'FR-PP-13-09',\n",
       " 'FR-PP-13-10',\n",
       " 'FR-PP-13-11',\n",
       " 'FR-PP-13-12',\n",
       " 'FR-PP-13-13',\n",
       " 'FR-PP-13-14',\n",
       " 'FR-PP-13-15',\n",
       " 'FR-PP-13-16',\n",
       " 'FR-PP-13-17',\n",
       " 'FR-PP-13-18',\n",
       " 'FR-PP-13-19',\n",
       " 'FR-PP-13-20',\n",
       " 'FR-PP-13-21',\n",
       " 'FR-PP-13-22',\n",
       " 'FR-PP-13-23',\n",
       " 'FR-PP-13-24',\n",
       " 'FR-PP-13-25',\n",
       " 'FR-PP-14-01',\n",
       " 'FR-PP-14-02',\n",
       " 'FR-PP-14-03',\n",
       " 'FR-PP-14-04',\n",
       " 'FR-PP-14-06',\n",
       " 'FR-PP-14-07',\n",
       " 'FR-PP-14-08',\n",
       " 'FR-PP-14-09',\n",
       " 'FR-PP-14-11',\n",
       " 'FR-PP-14-12',\n",
       " 'FR-PP-14-13',\n",
       " 'FR-PP-14-14',\n",
       " 'FR-PP-14-15',\n",
       " 'FR-PP-14-16',\n",
       " 'FR-PP-14-17',\n",
       " 'FR-PP-14-19',\n",
       " 'FR-PP-14-21',\n",
       " 'FR-PP-14-22',\n",
       " 'FR-PP-16-21',\n",
       " 'IT-PP-15-01',\n",
       " 'IT-PP-15-02',\n",
       " 'IT-PP-15-03',\n",
       " 'IT-PP-15-04',\n",
       " 'IT-PP-15-05',\n",
       " 'IT-PP-15-06',\n",
       " 'IT-PP-15-07',\n",
       " 'IT-PP-15-08',\n",
       " 'IT-PP-15-09',\n",
       " 'IT-PP-15-10',\n",
       " 'IT-PP-15-11',\n",
       " 'IT-PP-15-12',\n",
       " 'IT-PP-15-13',\n",
       " 'IT-PP-15-14',\n",
       " 'IT-PP-15-15',\n",
       " 'IT-PP-15-16',\n",
       " 'IT-PP-15-17',\n",
       " 'IT-PP-15-18',\n",
       " 'IT-PP-15-19',\n",
       " 'IT-PP-15-20',\n",
       " 'IT-PP-15-21',\n",
       " 'IT-PP-15-22',\n",
       " 'IT-PP-15-23',\n",
       " 'IT-PP-15-24',\n",
       " 'IT-PP-15-25',\n",
       " 'IT-PP-16-01',\n",
       " 'IT-PP-16-02',\n",
       " 'IT-PP-16-03',\n",
       " 'IT-PP-16-04',\n",
       " 'IT-PP-16-05',\n",
       " 'IT-PP-16-06',\n",
       " 'IT-PP-16-07',\n",
       " 'IT-PP-16-08',\n",
       " 'IT-PP-16-09',\n",
       " 'IT-PP-16-10',\n",
       " 'IT-PP-16-11',\n",
       " 'IT-PP-16-12',\n",
       " 'IT-PP-16-13',\n",
       " 'IT-PP-16-14',\n",
       " 'IT-PP-16-15',\n",
       " 'IT-PP-16-16',\n",
       " 'IT-PP-16-17',\n",
       " 'IT-PP-16-18',\n",
       " 'IT-PP-16-19',\n",
       " 'IT-PP-16-20',\n",
       " 'IT-PP-16-21',\n",
       " 'IT-PP-16-22',\n",
       " 'IT-PP-16-23',\n",
       " 'IT-PP-16-24',\n",
       " 'IT-PP-16-25',\n",
       " 'IT-PP-17-01',\n",
       " 'IT-PP-17-02',\n",
       " 'IT-PP-17-03',\n",
       " 'IT-PP-17-04',\n",
       " 'IT-PP-17-05',\n",
       " 'IT-PP-17-06',\n",
       " 'IT-PP-17-07',\n",
       " 'IT-PP-17-08',\n",
       " 'IT-PP-17-09',\n",
       " 'IT-PP-17-10',\n",
       " 'IT-PP-17-11',\n",
       " 'IT-PP-17-12',\n",
       " 'IT-PP-17-13',\n",
       " 'IT-PP-17-14',\n",
       " 'IT-PP-17-15',\n",
       " 'IT-PP-17-16',\n",
       " 'IT-PP-17-17',\n",
       " 'IT-PP-17-18',\n",
       " 'IT-PP-17-19',\n",
       " 'IT-PP-17-20',\n",
       " 'IT-PP-17-21',\n",
       " 'IT-PP-17-22',\n",
       " 'IT-PP-17-23',\n",
       " 'IT-PP-17-24',\n",
       " 'IT-PP-17-25',\n",
       " 'IT-PP-18-01',\n",
       " 'IT-PP-18-02',\n",
       " 'IT-PP-18-03',\n",
       " 'IT-PP-18-04',\n",
       " 'IT-PP-18-05',\n",
       " 'IT-PP-18-06',\n",
       " 'IT-PP-18-07',\n",
       " 'IT-PP-18-08',\n",
       " 'IT-PP-18-09',\n",
       " 'IT-PP-18-10',\n",
       " 'IT-PP-18-11',\n",
       " 'IT-PP-18-12',\n",
       " 'IT-PP-18-13',\n",
       " 'IT-PP-18-14',\n",
       " 'IT-PP-18-15',\n",
       " 'IT-PP-18-16',\n",
       " 'IT-PP-18-17',\n",
       " 'IT-PP-18-18',\n",
       " 'IT-PP-18-19',\n",
       " 'IT-PP-18-20',\n",
       " 'IT-PP-18-21',\n",
       " 'IT-PP-18-22',\n",
       " 'IT-PP-18-23',\n",
       " 'IT-PP-18-24',\n",
       " 'IT-PP-18-25',\n",
       " 'IT-PP-19-01',\n",
       " 'IT-PP-19-02',\n",
       " 'IT-PP-19-03',\n",
       " 'IT-PP-19-04',\n",
       " 'IT-PP-19-05',\n",
       " 'IT-PP-19-06',\n",
       " 'IT-PP-19-07',\n",
       " 'IT-PP-19-08',\n",
       " 'IT-PP-19-10',\n",
       " 'IT-PP-19-11',\n",
       " 'IT-PP-19-12',\n",
       " 'IT-PP-19-13',\n",
       " 'IT-PP-19-14',\n",
       " 'IT-PP-19-15',\n",
       " 'IT-PP-19-16',\n",
       " 'IT-PP-19-18',\n",
       " 'IT-PP-19-20',\n",
       " 'IT-PP-19-21',\n",
       " 'IT-PP-19-22',\n",
       " 'IT-PP-19-23',\n",
       " 'IT-PP-19-24',\n",
       " 'IT-PP-19-25',\n",
       " 'IT-PP-19-26',\n",
       " 'IT-PP-19-27',\n",
       " 'IT-PP-19-29',\n",
       " 'IT-PP-20-01',\n",
       " 'IT-PP-20-04',\n",
       " 'IT-PP-20-05',\n",
       " 'IT-PP-20-06',\n",
       " 'IT-PP-20-07',\n",
       " 'IT-PP-20-08',\n",
       " 'IT-PP-20-09',\n",
       " 'IT-PP-20-10',\n",
       " 'IT-PP-20-11',\n",
       " 'IT-PP-20-13',\n",
       " 'IT-PP-20-14',\n",
       " 'IT-PP-20-15',\n",
       " 'IT-PP-20-16',\n",
       " 'IT-PP-20-17',\n",
       " 'IT-PP-20-18',\n",
       " 'IT-PP-20-19',\n",
       " 'IT-PP-20-20',\n",
       " 'IT-PP-20-21',\n",
       " 'IT-PP-20-22',\n",
       " 'IT-PP-20-24',\n",
       " 'IT-PP-20-25',\n",
       " 'IT-PP-20-26',\n",
       " 'IT-PP-20-28',\n",
       " 'IT-PP-20-29',\n",
       " 'IT-PP-20-30',\n",
       " 'LCor-01',\n",
       " 'LCor-02',\n",
       " 'LCor-03',\n",
       " 'LCor-04',\n",
       " 'LCor-05',\n",
       " 'LCor-06',\n",
       " 'LCor-07',\n",
       " 'LCor-08',\n",
       " 'LCor-09',\n",
       " 'LCor-10',\n",
       " 'LCor-11',\n",
       " 'LCor-12',\n",
       " 'LCor-13',\n",
       " 'LCor-14',\n",
       " 'LCor-15',\n",
       " 'LCor-16',\n",
       " 'LCor-17',\n",
       " 'LCor-18',\n",
       " 'LCor-19',\n",
       " 'LCor-20',\n",
       " 'LCor-21',\n",
       " 'LCor-22',\n",
       " 'LCor-23',\n",
       " 'LCor-24',\n",
       " 'Leir-01',\n",
       " 'Leir-03',\n",
       " 'Leir-04',\n",
       " 'Leir-05',\n",
       " 'Leir-07',\n",
       " 'Leir-08',\n",
       " 'Leir-09',\n",
       " 'Leir-14',\n",
       " 'Leir-15',\n",
       " 'Leir-16',\n",
       " 'Leir-19',\n",
       " 'Leir-24',\n",
       " 'Leir-25',\n",
       " 'Leir-26',\n",
       " 'Leir-27',\n",
       " 'Leir-28',\n",
       " 'Leir-29',\n",
       " 'Leir-39',\n",
       " 'SiMe-01',\n",
       " 'SiMe-02',\n",
       " 'SiMe-03',\n",
       " 'SiMe-04',\n",
       " 'SiMe-05',\n",
       " 'SiMe-06',\n",
       " 'SiMe-07',\n",
       " 'SiMe-08',\n",
       " 'SiMe-09',\n",
       " 'SiMe-10',\n",
       " 'SiMe-11',\n",
       " 'SiMe-12',\n",
       " 'SiMe-13',\n",
       " 'SiMe-14',\n",
       " 'SiMe-15',\n",
       " 'SiMe-16',\n",
       " 'SiMe-17',\n",
       " 'SiMe-18',\n",
       " 'SiMe-19',\n",
       " 'SiMe-20',\n",
       " 'SiMe-21',\n",
       " 'SiMe-22',\n",
       " 'SiMe-23',\n",
       " 'TMJT-01',\n",
       " 'TMJT-02',\n",
       " 'TMJT-03',\n",
       " 'TMJT-04',\n",
       " 'TMJT-05',\n",
       " 'TMJT-07',\n",
       " 'TMJT-08',\n",
       " 'TMJT-09',\n",
       " 'TMJT-10',\n",
       " 'TMJT-11',\n",
       " 'TMJT-12',\n",
       " 'TMJT-13',\n",
       " 'TMJT-14',\n",
       " 'TMJT-15',\n",
       " 'TMJT-16',\n",
       " 'TMJT-17',\n",
       " 'TMJT-18',\n",
       " 'TMJT-19',\n",
       " 'TMJT-20',\n",
       " 'TMJT-21',\n",
       " 'TMJT-22',\n",
       " 'TMJT-23',\n",
       " 'TMJT-24',\n",
       " 'Tunisia1',\n",
       " 'Tunisia2',\n",
       " 'Tunisia3',\n",
       " 'Tunisia4',\n",
       " 'Tunisia5',\n",
       " 'Tunisia6',\n",
       " 'Tunisia7',\n",
       " 'Tunisia8']"
      ]
     },
     "execution_count": 23,
     "metadata": {},
     "output_type": "execute_result"
    }
   ],
   "source": [
    "samples = callset['samples']\n",
    "list(samples)"
   ]
  },
  {
   "cell_type": "code",
   "execution_count": null,
   "metadata": {},
   "outputs": [],
   "source": []
  },
  {
   "cell_type": "code",
   "execution_count": null,
   "metadata": {},
   "outputs": [],
   "source": []
  },
  {
   "cell_type": "code",
   "execution_count": null,
   "metadata": {},
   "outputs": [],
   "source": []
  },
  {
   "cell_type": "code",
   "execution_count": null,
   "metadata": {},
   "outputs": [],
   "source": []
  },
  {
   "cell_type": "code",
   "execution_count": null,
   "metadata": {},
   "outputs": [],
   "source": []
  },
  {
   "cell_type": "code",
   "execution_count": null,
   "metadata": {},
   "outputs": [],
   "source": []
  },
  {
   "cell_type": "code",
   "execution_count": 9,
   "metadata": {},
   "outputs": [
    {
     "data": {
      "text/html": [
       "<div>\n",
       "<style scoped>\n",
       "    .dataframe tbody tr th:only-of-type {\n",
       "        vertical-align: middle;\n",
       "    }\n",
       "\n",
       "    .dataframe tbody tr th {\n",
       "        vertical-align: top;\n",
       "    }\n",
       "\n",
       "    .dataframe thead th {\n",
       "        text-align: right;\n",
       "    }\n",
       "</style>\n",
       "<table border=\"1\" class=\"dataframe\">\n",
       "  <thead>\n",
       "    <tr style=\"text-align: right;\">\n",
       "      <th></th>\n",
       "      <th>ID</th>\n",
       "      <th>Population</th>\n",
       "    </tr>\n",
       "  </thead>\n",
       "  <tbody>\n",
       "    <tr>\n",
       "      <th>0</th>\n",
       "      <td>ES-PP-01-01</td>\n",
       "      <td>ES-PP-1</td>\n",
       "    </tr>\n",
       "    <tr>\n",
       "      <th>1</th>\n",
       "      <td>ES-PP-01-02</td>\n",
       "      <td>ES-PP-1</td>\n",
       "    </tr>\n",
       "    <tr>\n",
       "      <th>2</th>\n",
       "      <td>ES-PP-01-03</td>\n",
       "      <td>ES-PP-1</td>\n",
       "    </tr>\n",
       "    <tr>\n",
       "      <th>3</th>\n",
       "      <td>ES-PP-01-04</td>\n",
       "      <td>ES-PP-1</td>\n",
       "    </tr>\n",
       "    <tr>\n",
       "      <th>4</th>\n",
       "      <td>ES-PP-01-05</td>\n",
       "      <td>ES-PP-1</td>\n",
       "    </tr>\n",
       "  </tbody>\n",
       "</table>\n",
       "</div>"
      ],
      "text/plain": [
       "            ID Population\n",
       "0  ES-PP-01-01    ES-PP-1\n",
       "1  ES-PP-01-02    ES-PP-1\n",
       "2  ES-PP-01-03    ES-PP-1\n",
       "3  ES-PP-01-04    ES-PP-1\n",
       "4  ES-PP-01-05    ES-PP-1"
      ]
     },
     "execution_count": 9,
     "metadata": {},
     "output_type": "execute_result"
    }
   ],
   "source": [
    "samples_fn = '/wrk/Gen_Tree/Pinus_pinaster/metadata_Pinastr_for_scikit_SORTED.txt'\n",
    "samples = pandas.read_csv(samples_fn, sep='\\t')\n",
    "samples.head()"
   ]
  },
  {
   "cell_type": "code",
   "execution_count": 10,
   "metadata": {},
   "outputs": [
    {
     "data": {
      "text/plain": [
       "FR-PP-13    25\n",
       "IT-PP-18    25\n",
       "IT-PP-19    25\n",
       "IT-PP-20    25\n",
       "ES-PP-4     25\n",
       "IT-PP-15    25\n",
       "FR-PP-9     25\n",
       "FR-PP-11    25\n",
       "IT-PP-16    25\n",
       "IT-PP-17    25\n",
       "ES-PP-5     25\n",
       "FR-PP-10    25\n",
       "ES-PP-2     25\n",
       "ES-PP-3     25\n",
       "ES-PP-1     25\n",
       "FR-PP-14    25\n",
       "ES-PP-8     25\n",
       "ES-PP-7     25\n",
       "ES-PP-6     25\n",
       "TMJT        24\n",
       "SiMe        24\n",
       "LCor        24\n",
       "FR-PP-12    24\n",
       "Leir        19\n",
       "Tunisia      8\n",
       "FR-PP-16     1\n",
       "Name: Population, dtype: int64"
      ]
     },
     "execution_count": 10,
     "metadata": {},
     "output_type": "execute_result"
    }
   ],
   "source": [
    "samples.Population.value_counts()"
   ]
  },
  {
   "cell_type": "code",
   "execution_count": 11,
   "metadata": {},
   "outputs": [],
   "source": [
    "calldata = callset['calldata']"
   ]
  },
  {
   "cell_type": "code",
   "execution_count": 12,
   "metadata": {},
   "outputs": [
    {
     "data": {
      "text/html": [
       "<div class=\"allel allel-DisplayAs2D\"><span>&lt;GenotypeChunkedArray shape=(2263634, 599, 2) dtype=int8 chunks=(65536, 64, 2)\n",
       "   nbytes=2.5G cbytes=271.3M cratio=9.5\n",
       "   compression=gzip compression_opts=1\n",
       "   values=h5py._hl.dataset.Dataset&gt;</span><table><thead><tr><th></th><th style=\"text-align: center\">0</th><th style=\"text-align: center\">1</th><th style=\"text-align: center\">2</th><th style=\"text-align: center\">3</th><th style=\"text-align: center\">4</th><th style=\"text-align: center\">...</th><th style=\"text-align: center\">594</th><th style=\"text-align: center\">595</th><th style=\"text-align: center\">596</th><th style=\"text-align: center\">597</th><th style=\"text-align: center\">598</th></tr></thead><tbody><tr><th style=\"text-align: center; background-color: white; border-right: 1px solid black; \">0</th><td style=\"text-align: center\">0/0</td><td style=\"text-align: center\">0/0</td><td style=\"text-align: center\">0/0</td><td style=\"text-align: center\">./.</td><td style=\"text-align: center\">0/1</td><td style=\"text-align: center\">...</td><td style=\"text-align: center\">0/1</td><td style=\"text-align: center\">0/0</td><td style=\"text-align: center\">0/0</td><td style=\"text-align: center\">0/0</td><td style=\"text-align: center\">0/0</td></tr><tr><th style=\"text-align: center; background-color: white; border-right: 1px solid black; \">1</th><td style=\"text-align: center\">0/0</td><td style=\"text-align: center\">0/0</td><td style=\"text-align: center\">0/0</td><td style=\"text-align: center\">./.</td><td style=\"text-align: center\">0/1</td><td style=\"text-align: center\">...</td><td style=\"text-align: center\">0/0</td><td style=\"text-align: center\">0/1</td><td style=\"text-align: center\">0/1</td><td style=\"text-align: center\">1/1</td><td style=\"text-align: center\">0/1</td></tr><tr><th style=\"text-align: center; background-color: white; border-right: 1px solid black; \">2</th><td style=\"text-align: center\">0/0</td><td style=\"text-align: center\">0/0</td><td style=\"text-align: center\">0/0</td><td style=\"text-align: center\">./.</td><td style=\"text-align: center\">0/1</td><td style=\"text-align: center\">...</td><td style=\"text-align: center\">0/1</td><td style=\"text-align: center\">0/1</td><td style=\"text-align: center\">0/0</td><td style=\"text-align: center\">0/0</td><td style=\"text-align: center\">0/0</td></tr><tr><th style=\"text-align: center; background-color: white; border-right: 1px solid black; \">...</th><td style=\"text-align: center\" colspan=\"12\">...</td></tr><tr><th style=\"text-align: center; background-color: white; border-right: 1px solid black; \">2263631</th><td style=\"text-align: center\">./.</td><td style=\"text-align: center\">./.</td><td style=\"text-align: center\">0/0</td><td style=\"text-align: center\">./.</td><td style=\"text-align: center\">0/0</td><td style=\"text-align: center\">...</td><td style=\"text-align: center\">0/0</td><td style=\"text-align: center\">0/0</td><td style=\"text-align: center\">./.</td><td style=\"text-align: center\">./.</td><td style=\"text-align: center\">./.</td></tr><tr><th style=\"text-align: center; background-color: white; border-right: 1px solid black; \">2263632</th><td style=\"text-align: center\">./.</td><td style=\"text-align: center\">./.</td><td style=\"text-align: center\">0/0</td><td style=\"text-align: center\">./.</td><td style=\"text-align: center\">0/0</td><td style=\"text-align: center\">...</td><td style=\"text-align: center\">./.</td><td style=\"text-align: center\">0/0</td><td style=\"text-align: center\">./.</td><td style=\"text-align: center\">./.</td><td style=\"text-align: center\">./.</td></tr><tr><th style=\"text-align: center; background-color: white; border-right: 1px solid black; \">2263633</th><td style=\"text-align: center\">./.</td><td style=\"text-align: center\">./.</td><td style=\"text-align: center\">./.</td><td style=\"text-align: center\">./.</td><td style=\"text-align: center\">./.</td><td style=\"text-align: center\">...</td><td style=\"text-align: center\">./.</td><td style=\"text-align: center\">./.</td><td style=\"text-align: center\">./.</td><td style=\"text-align: center\">./.</td><td style=\"text-align: center\">./.</td></tr></tbody></table></div>"
      ],
      "text/plain": [
       "<GenotypeChunkedArray shape=(2263634, 599, 2) dtype=int8 chunks=(65536, 64, 2)\n",
       "   nbytes=2.5G cbytes=271.3M cratio=9.5\n",
       "   compression=gzip compression_opts=1\n",
       "   values=h5py._hl.dataset.Dataset>"
      ]
     },
     "execution_count": 12,
     "metadata": {},
     "output_type": "execute_result"
    }
   ],
   "source": [
    "genotypes = allel.GenotypeChunkedArray(calldata['GT'])\n",
    "genotypes"
   ]
  },
  {
   "cell_type": "code",
   "execution_count": 13,
   "metadata": {},
   "outputs": [
    {
     "data": {
      "text/html": [
       "<div class=\"allel allel-DisplayAs2D\"><span>&lt;AlleleCountsChunkedArray shape=(2263634, 2) dtype=int32 chunks=(70739, 2)\n",
       "   nbytes=17.3M cbytes=5.7M cratio=3.0\n",
       "   compression=blosc compression_opts={'cname': 'lz4', 'clevel': 5, 'shuffle': 1, 'blocksize': 0}\n",
       "   values=zarr.core.Array&gt;</span><table><thead><tr><th></th><th style=\"text-align: center\">0</th><th style=\"text-align: center\">1</th></tr></thead><tbody><tr><th style=\"text-align: center; background-color: white; border-right: 1px solid black; \">0</th><td style=\"text-align: center\">724</td><td style=\"text-align: center\">222</td></tr><tr><th style=\"text-align: center; background-color: white; border-right: 1px solid black; \">1</th><td style=\"text-align: center\">676</td><td style=\"text-align: center\">202</td></tr><tr><th style=\"text-align: center; background-color: white; border-right: 1px solid black; \">2</th><td style=\"text-align: center\">735</td><td style=\"text-align: center\">283</td></tr><tr><th style=\"text-align: center; background-color: white; border-right: 1px solid black; \">...</th><td style=\"text-align: center\" colspan=\"3\">...</td></tr><tr><th style=\"text-align: center; background-color: white; border-right: 1px solid black; \">2263631</th><td style=\"text-align: center\">462</td><td style=\"text-align: center\">  8</td></tr><tr><th style=\"text-align: center; background-color: white; border-right: 1px solid black; \">2263632</th><td style=\"text-align: center\">347</td><td style=\"text-align: center\">  7</td></tr><tr><th style=\"text-align: center; background-color: white; border-right: 1px solid black; \">2263633</th><td style=\"text-align: center\">168</td><td style=\"text-align: center\">  2</td></tr></tbody></table></div>"
      ],
      "text/plain": [
       "<AlleleCountsChunkedArray shape=(2263634, 2) dtype=int32 chunks=(70739, 2)\n",
       "   nbytes=17.3M cbytes=5.7M cratio=3.0\n",
       "   compression=blosc compression_opts={'cname': 'lz4', 'clevel': 5, 'shuffle': 1, 'blocksize': 0}\n",
       "   values=zarr.core.Array>"
      ]
     },
     "execution_count": 13,
     "metadata": {},
     "output_type": "execute_result"
    }
   ],
   "source": [
    "ac = genotypes.count_alleles()\n",
    "ac"
   ]
  },
  {
   "cell_type": "code",
   "execution_count": 36,
   "metadata": {},
   "outputs": [],
   "source": [
    "#biallelic = (ac.max_allele() == 1)"
   ]
  },
  {
   "cell_type": "code",
   "execution_count": 37,
   "metadata": {},
   "outputs": [],
   "source": [
    "#genotypes_Biallelic_subset = genotypes.compress(biallelic)\n",
    "#genotypes_Biallelic_subset"
   ]
  },
  {
   "cell_type": "code",
   "execution_count": 34,
   "metadata": {},
   "outputs": [
    {
     "data": {
      "text/plain": [
       "2263634"
      ]
     },
     "execution_count": 34,
     "metadata": {},
     "output_type": "execute_result"
    }
   ],
   "source": [
    "n_variants = len(genotypes)\n",
    "n_variants"
   ]
  },
  {
   "cell_type": "code",
   "execution_count": 35,
   "metadata": {},
   "outputs": [],
   "source": [
    "pc_missing = genotypes.count_missing(axis=0)[:] * 100 / n_variants\n",
    "pc_het = genotypes.count_het(axis=0)[:] * 100 / n_variants\n",
    "#pc_missing"
   ]
  },
  {
   "cell_type": "code",
   "execution_count": 14,
   "metadata": {},
   "outputs": [
    {
     "data": {
      "text/html": [
       "<div>\n",
       "<style scoped>\n",
       "    .dataframe tbody tr th:only-of-type {\n",
       "        vertical-align: middle;\n",
       "    }\n",
       "\n",
       "    .dataframe tbody tr th {\n",
       "        vertical-align: top;\n",
       "    }\n",
       "\n",
       "    .dataframe thead th {\n",
       "        text-align: right;\n",
       "    }\n",
       "</style>\n",
       "<table border=\"1\" class=\"dataframe\">\n",
       "  <thead>\n",
       "    <tr style=\"text-align: right;\">\n",
       "      <th></th>\n",
       "      <th>ID</th>\n",
       "      <th>Population</th>\n",
       "    </tr>\n",
       "  </thead>\n",
       "  <tbody>\n",
       "    <tr>\n",
       "      <th>0</th>\n",
       "      <td>ES-PP-01-01</td>\n",
       "      <td>ES-PP-1</td>\n",
       "    </tr>\n",
       "    <tr>\n",
       "      <th>1</th>\n",
       "      <td>ES-PP-01-02</td>\n",
       "      <td>ES-PP-1</td>\n",
       "    </tr>\n",
       "    <tr>\n",
       "      <th>2</th>\n",
       "      <td>ES-PP-01-03</td>\n",
       "      <td>ES-PP-1</td>\n",
       "    </tr>\n",
       "    <tr>\n",
       "      <th>3</th>\n",
       "      <td>ES-PP-01-04</td>\n",
       "      <td>ES-PP-1</td>\n",
       "    </tr>\n",
       "    <tr>\n",
       "      <th>4</th>\n",
       "      <td>ES-PP-01-05</td>\n",
       "      <td>ES-PP-1</td>\n",
       "    </tr>\n",
       "    <tr>\n",
       "      <th>5</th>\n",
       "      <td>ES-PP-01-06</td>\n",
       "      <td>ES-PP-1</td>\n",
       "    </tr>\n",
       "    <tr>\n",
       "      <th>6</th>\n",
       "      <td>ES-PP-01-07</td>\n",
       "      <td>ES-PP-1</td>\n",
       "    </tr>\n",
       "    <tr>\n",
       "      <th>7</th>\n",
       "      <td>ES-PP-01-08</td>\n",
       "      <td>ES-PP-1</td>\n",
       "    </tr>\n",
       "    <tr>\n",
       "      <th>8</th>\n",
       "      <td>ES-PP-01-09</td>\n",
       "      <td>ES-PP-1</td>\n",
       "    </tr>\n",
       "    <tr>\n",
       "      <th>9</th>\n",
       "      <td>ES-PP-01-10</td>\n",
       "      <td>ES-PP-1</td>\n",
       "    </tr>\n",
       "    <tr>\n",
       "      <th>10</th>\n",
       "      <td>ES-PP-01-11</td>\n",
       "      <td>ES-PP-1</td>\n",
       "    </tr>\n",
       "    <tr>\n",
       "      <th>11</th>\n",
       "      <td>ES-PP-01-12</td>\n",
       "      <td>ES-PP-1</td>\n",
       "    </tr>\n",
       "    <tr>\n",
       "      <th>12</th>\n",
       "      <td>ES-PP-01-13</td>\n",
       "      <td>ES-PP-1</td>\n",
       "    </tr>\n",
       "    <tr>\n",
       "      <th>13</th>\n",
       "      <td>ES-PP-01-14</td>\n",
       "      <td>ES-PP-1</td>\n",
       "    </tr>\n",
       "    <tr>\n",
       "      <th>14</th>\n",
       "      <td>ES-PP-01-15</td>\n",
       "      <td>ES-PP-1</td>\n",
       "    </tr>\n",
       "    <tr>\n",
       "      <th>15</th>\n",
       "      <td>ES-PP-01-16</td>\n",
       "      <td>ES-PP-1</td>\n",
       "    </tr>\n",
       "    <tr>\n",
       "      <th>16</th>\n",
       "      <td>ES-PP-01-17</td>\n",
       "      <td>ES-PP-1</td>\n",
       "    </tr>\n",
       "    <tr>\n",
       "      <th>17</th>\n",
       "      <td>ES-PP-01-18</td>\n",
       "      <td>ES-PP-1</td>\n",
       "    </tr>\n",
       "    <tr>\n",
       "      <th>18</th>\n",
       "      <td>ES-PP-01-19</td>\n",
       "      <td>ES-PP-1</td>\n",
       "    </tr>\n",
       "    <tr>\n",
       "      <th>19</th>\n",
       "      <td>ES-PP-01-20</td>\n",
       "      <td>ES-PP-1</td>\n",
       "    </tr>\n",
       "    <tr>\n",
       "      <th>20</th>\n",
       "      <td>ES-PP-01-21</td>\n",
       "      <td>ES-PP-1</td>\n",
       "    </tr>\n",
       "    <tr>\n",
       "      <th>21</th>\n",
       "      <td>ES-PP-01-22</td>\n",
       "      <td>ES-PP-1</td>\n",
       "    </tr>\n",
       "    <tr>\n",
       "      <th>22</th>\n",
       "      <td>ES-PP-01-23</td>\n",
       "      <td>ES-PP-1</td>\n",
       "    </tr>\n",
       "    <tr>\n",
       "      <th>23</th>\n",
       "      <td>ES-PP-01-24</td>\n",
       "      <td>ES-PP-1</td>\n",
       "    </tr>\n",
       "    <tr>\n",
       "      <th>24</th>\n",
       "      <td>ES-PP-01-25</td>\n",
       "      <td>ES-PP-1</td>\n",
       "    </tr>\n",
       "    <tr>\n",
       "      <th>25</th>\n",
       "      <td>ES-PP-02-01</td>\n",
       "      <td>ES-PP-2</td>\n",
       "    </tr>\n",
       "    <tr>\n",
       "      <th>26</th>\n",
       "      <td>ES-PP-02-02</td>\n",
       "      <td>ES-PP-2</td>\n",
       "    </tr>\n",
       "    <tr>\n",
       "      <th>27</th>\n",
       "      <td>ES-PP-02-03</td>\n",
       "      <td>ES-PP-2</td>\n",
       "    </tr>\n",
       "    <tr>\n",
       "      <th>28</th>\n",
       "      <td>ES-PP-02-04</td>\n",
       "      <td>ES-PP-2</td>\n",
       "    </tr>\n",
       "    <tr>\n",
       "      <th>29</th>\n",
       "      <td>ES-PP-02-05</td>\n",
       "      <td>ES-PP-2</td>\n",
       "    </tr>\n",
       "    <tr>\n",
       "      <th>...</th>\n",
       "      <td>...</td>\n",
       "      <td>...</td>\n",
       "    </tr>\n",
       "    <tr>\n",
       "      <th>569</th>\n",
       "      <td>TMJT-03</td>\n",
       "      <td>TMJT</td>\n",
       "    </tr>\n",
       "    <tr>\n",
       "      <th>570</th>\n",
       "      <td>TMJT-04</td>\n",
       "      <td>TMJT</td>\n",
       "    </tr>\n",
       "    <tr>\n",
       "      <th>571</th>\n",
       "      <td>TMJT-05</td>\n",
       "      <td>TMJT</td>\n",
       "    </tr>\n",
       "    <tr>\n",
       "      <th>572</th>\n",
       "      <td>TMJT-06</td>\n",
       "      <td>TMJT</td>\n",
       "    </tr>\n",
       "    <tr>\n",
       "      <th>573</th>\n",
       "      <td>TMJT-07</td>\n",
       "      <td>TMJT</td>\n",
       "    </tr>\n",
       "    <tr>\n",
       "      <th>574</th>\n",
       "      <td>TMJT-08</td>\n",
       "      <td>TMJT</td>\n",
       "    </tr>\n",
       "    <tr>\n",
       "      <th>575</th>\n",
       "      <td>TMJT-09</td>\n",
       "      <td>TMJT</td>\n",
       "    </tr>\n",
       "    <tr>\n",
       "      <th>576</th>\n",
       "      <td>TMJT-10</td>\n",
       "      <td>TMJT</td>\n",
       "    </tr>\n",
       "    <tr>\n",
       "      <th>577</th>\n",
       "      <td>TMJT-11</td>\n",
       "      <td>TMJT</td>\n",
       "    </tr>\n",
       "    <tr>\n",
       "      <th>578</th>\n",
       "      <td>TMJT-12</td>\n",
       "      <td>TMJT</td>\n",
       "    </tr>\n",
       "    <tr>\n",
       "      <th>579</th>\n",
       "      <td>TMJT-13</td>\n",
       "      <td>TMJT</td>\n",
       "    </tr>\n",
       "    <tr>\n",
       "      <th>580</th>\n",
       "      <td>TMJT-14</td>\n",
       "      <td>TMJT</td>\n",
       "    </tr>\n",
       "    <tr>\n",
       "      <th>581</th>\n",
       "      <td>TMJT-15</td>\n",
       "      <td>TMJT</td>\n",
       "    </tr>\n",
       "    <tr>\n",
       "      <th>582</th>\n",
       "      <td>TMJT-16</td>\n",
       "      <td>TMJT</td>\n",
       "    </tr>\n",
       "    <tr>\n",
       "      <th>583</th>\n",
       "      <td>TMJT-17</td>\n",
       "      <td>TMJT</td>\n",
       "    </tr>\n",
       "    <tr>\n",
       "      <th>584</th>\n",
       "      <td>TMJT-18</td>\n",
       "      <td>TMJT</td>\n",
       "    </tr>\n",
       "    <tr>\n",
       "      <th>585</th>\n",
       "      <td>TMJT-19</td>\n",
       "      <td>TMJT</td>\n",
       "    </tr>\n",
       "    <tr>\n",
       "      <th>586</th>\n",
       "      <td>TMJT-20</td>\n",
       "      <td>TMJT</td>\n",
       "    </tr>\n",
       "    <tr>\n",
       "      <th>587</th>\n",
       "      <td>TMJT-21</td>\n",
       "      <td>TMJT</td>\n",
       "    </tr>\n",
       "    <tr>\n",
       "      <th>588</th>\n",
       "      <td>TMJT-22</td>\n",
       "      <td>TMJT</td>\n",
       "    </tr>\n",
       "    <tr>\n",
       "      <th>589</th>\n",
       "      <td>TMJT-23</td>\n",
       "      <td>TMJT</td>\n",
       "    </tr>\n",
       "    <tr>\n",
       "      <th>590</th>\n",
       "      <td>TMJT-24</td>\n",
       "      <td>TMJT</td>\n",
       "    </tr>\n",
       "    <tr>\n",
       "      <th>591</th>\n",
       "      <td>Tunisia1</td>\n",
       "      <td>Tunisia</td>\n",
       "    </tr>\n",
       "    <tr>\n",
       "      <th>592</th>\n",
       "      <td>Tunisia2</td>\n",
       "      <td>Tunisia</td>\n",
       "    </tr>\n",
       "    <tr>\n",
       "      <th>593</th>\n",
       "      <td>Tunisia3</td>\n",
       "      <td>Tunisia</td>\n",
       "    </tr>\n",
       "    <tr>\n",
       "      <th>594</th>\n",
       "      <td>Tunisia4</td>\n",
       "      <td>Tunisia</td>\n",
       "    </tr>\n",
       "    <tr>\n",
       "      <th>595</th>\n",
       "      <td>Tunisia5</td>\n",
       "      <td>Tunisia</td>\n",
       "    </tr>\n",
       "    <tr>\n",
       "      <th>596</th>\n",
       "      <td>Tunisia6</td>\n",
       "      <td>Tunisia</td>\n",
       "    </tr>\n",
       "    <tr>\n",
       "      <th>597</th>\n",
       "      <td>Tunisia7</td>\n",
       "      <td>Tunisia</td>\n",
       "    </tr>\n",
       "    <tr>\n",
       "      <th>598</th>\n",
       "      <td>Tunisia8</td>\n",
       "      <td>Tunisia</td>\n",
       "    </tr>\n",
       "  </tbody>\n",
       "</table>\n",
       "<p>599 rows × 2 columns</p>\n",
       "</div>"
      ],
      "text/plain": [
       "              ID Population\n",
       "0    ES-PP-01-01    ES-PP-1\n",
       "1    ES-PP-01-02    ES-PP-1\n",
       "2    ES-PP-01-03    ES-PP-1\n",
       "3    ES-PP-01-04    ES-PP-1\n",
       "4    ES-PP-01-05    ES-PP-1\n",
       "5    ES-PP-01-06    ES-PP-1\n",
       "6    ES-PP-01-07    ES-PP-1\n",
       "7    ES-PP-01-08    ES-PP-1\n",
       "8    ES-PP-01-09    ES-PP-1\n",
       "9    ES-PP-01-10    ES-PP-1\n",
       "10   ES-PP-01-11    ES-PP-1\n",
       "11   ES-PP-01-12    ES-PP-1\n",
       "12   ES-PP-01-13    ES-PP-1\n",
       "13   ES-PP-01-14    ES-PP-1\n",
       "14   ES-PP-01-15    ES-PP-1\n",
       "15   ES-PP-01-16    ES-PP-1\n",
       "16   ES-PP-01-17    ES-PP-1\n",
       "17   ES-PP-01-18    ES-PP-1\n",
       "18   ES-PP-01-19    ES-PP-1\n",
       "19   ES-PP-01-20    ES-PP-1\n",
       "20   ES-PP-01-21    ES-PP-1\n",
       "21   ES-PP-01-22    ES-PP-1\n",
       "22   ES-PP-01-23    ES-PP-1\n",
       "23   ES-PP-01-24    ES-PP-1\n",
       "24   ES-PP-01-25    ES-PP-1\n",
       "25   ES-PP-02-01    ES-PP-2\n",
       "26   ES-PP-02-02    ES-PP-2\n",
       "27   ES-PP-02-03    ES-PP-2\n",
       "28   ES-PP-02-04    ES-PP-2\n",
       "29   ES-PP-02-05    ES-PP-2\n",
       "..           ...        ...\n",
       "569      TMJT-03       TMJT\n",
       "570      TMJT-04       TMJT\n",
       "571      TMJT-05       TMJT\n",
       "572      TMJT-06       TMJT\n",
       "573      TMJT-07       TMJT\n",
       "574      TMJT-08       TMJT\n",
       "575      TMJT-09       TMJT\n",
       "576      TMJT-10       TMJT\n",
       "577      TMJT-11       TMJT\n",
       "578      TMJT-12       TMJT\n",
       "579      TMJT-13       TMJT\n",
       "580      TMJT-14       TMJT\n",
       "581      TMJT-15       TMJT\n",
       "582      TMJT-16       TMJT\n",
       "583      TMJT-17       TMJT\n",
       "584      TMJT-18       TMJT\n",
       "585      TMJT-19       TMJT\n",
       "586      TMJT-20       TMJT\n",
       "587      TMJT-21       TMJT\n",
       "588      TMJT-22       TMJT\n",
       "589      TMJT-23       TMJT\n",
       "590      TMJT-24       TMJT\n",
       "591     Tunisia1    Tunisia\n",
       "592     Tunisia2    Tunisia\n",
       "593     Tunisia3    Tunisia\n",
       "594     Tunisia4    Tunisia\n",
       "595     Tunisia5    Tunisia\n",
       "596     Tunisia6    Tunisia\n",
       "597     Tunisia7    Tunisia\n",
       "598     Tunisia8    Tunisia\n",
       "\n",
       "[599 rows x 2 columns]"
      ]
     },
     "execution_count": 14,
     "metadata": {},
     "output_type": "execute_result"
    }
   ],
   "source": [
    "samples"
   ]
  },
  {
   "cell_type": "code",
   "execution_count": 15,
   "metadata": {},
   "outputs": [
    {
     "data": {
      "text/plain": [
       "array(['ES-PP-1', 'ES-PP-2', 'ES-PP-3', 'ES-PP-4', 'ES-PP-5', 'ES-PP-6',\n",
       "       'ES-PP-7', 'ES-PP-8', 'FR-PP-9', 'FR-PP-10', 'FR-PP-11',\n",
       "       'FR-PP-12', 'FR-PP-13', 'FR-PP-14', 'FR-PP-16', 'IT-PP-15',\n",
       "       'IT-PP-16', 'IT-PP-17', 'IT-PP-18', 'IT-PP-19', 'IT-PP-20', 'LCor',\n",
       "       'Leir', 'SiMe', 'TMJT', 'Tunisia'], dtype=object)"
      ]
     },
     "execution_count": 15,
     "metadata": {},
     "output_type": "execute_result"
    }
   ],
   "source": [
    "samples.Population.unique()"
   ]
  },
  {
   "cell_type": "code",
   "execution_count": 40,
   "metadata": {},
   "outputs": [
    {
     "data": {
      "text/plain": [
       "0      ES-PP-1\n",
       "1      ES-PP-1\n",
       "2      ES-PP-1\n",
       "3      ES-PP-1\n",
       "4      ES-PP-1\n",
       "5      ES-PP-1\n",
       "6      ES-PP-1\n",
       "7      ES-PP-1\n",
       "8      ES-PP-1\n",
       "9      ES-PP-1\n",
       "10     ES-PP-1\n",
       "11     ES-PP-1\n",
       "12     ES-PP-1\n",
       "13     ES-PP-1\n",
       "14     ES-PP-1\n",
       "15     ES-PP-1\n",
       "16     ES-PP-1\n",
       "17     ES-PP-1\n",
       "18     ES-PP-1\n",
       "19     ES-PP-1\n",
       "20     ES-PP-1\n",
       "21     ES-PP-1\n",
       "22     ES-PP-1\n",
       "23     ES-PP-1\n",
       "24     ES-PP-1\n",
       "25     ES-PP-2\n",
       "26     ES-PP-2\n",
       "27     ES-PP-2\n",
       "28     ES-PP-2\n",
       "29     ES-PP-2\n",
       "        ...   \n",
       "569       TMJT\n",
       "570       TMJT\n",
       "571       TMJT\n",
       "572       TMJT\n",
       "573       TMJT\n",
       "574       TMJT\n",
       "575       TMJT\n",
       "576       TMJT\n",
       "577       TMJT\n",
       "578       TMJT\n",
       "579       TMJT\n",
       "580       TMJT\n",
       "581       TMJT\n",
       "582       TMJT\n",
       "583       TMJT\n",
       "584       TMJT\n",
       "585       TMJT\n",
       "586       TMJT\n",
       "587       TMJT\n",
       "588       TMJT\n",
       "589       TMJT\n",
       "590       TMJT\n",
       "591    Tunisia\n",
       "592    Tunisia\n",
       "593    Tunisia\n",
       "594    Tunisia\n",
       "595    Tunisia\n",
       "596    Tunisia\n",
       "597    Tunisia\n",
       "598    Tunisia\n",
       "Name: Population, Length: 599, dtype: object"
      ]
     },
     "execution_count": 40,
     "metadata": {},
     "output_type": "execute_result"
    }
   ],
   "source": [
    "samples.Population"
   ]
  },
  {
   "cell_type": "code",
   "execution_count": 16,
   "metadata": {},
   "outputs": [],
   "source": [
    "def plot_genotype_frequency(pc, title):\n",
    "    fig, ax = plt.subplots(figsize=(24, 5))\n",
    "    sns.despine(ax=ax, offset=24)\n",
    "    left = np.arange(len(pc))\n",
    "    palette = sns.color_palette(\"hls\", 30)\n",
    "    pop2color = {'ES-PP-1': palette[7],\n",
    "                 'ES-PP-2': palette[1],\n",
    "                 'ES-PP-3': palette[2],\n",
    "                 'ES-PP-4': palette[3],\n",
    "                 'ES-PP-5': palette[4],\n",
    "                 'ES-PP-6': palette[25],\n",
    "                 'ES-PP-7': palette[6],\n",
    "                 'ES-PP-8': palette[0],\n",
    "                 'FR-PP-9': palette[8],\n",
    "                 'FR-PP-10': palette[16],\n",
    "                 'FR-PP-11': palette[23],\n",
    "                 'FR-PP-12': palette[11],\n",
    "                 'FR-PP-13': palette[20],\n",
    "                 'FR-PP-14': palette[13],\n",
    "                 'FR-PP-16': palette[15],\n",
    "                 'IT-PP-15': palette[9],\n",
    "                 'IT-PP-16': palette[17],\n",
    "                 'IT-PP-17': palette[21],\n",
    "                 'IT-PP-18': palette[19],\n",
    "                 'IT-PP-19': palette[12],\n",
    "                 'IT-PP-20': palette[18],\n",
    "                 'LCor': palette[22],\n",
    "                 'Leir': palette[10],\n",
    "                 'SiMe': palette[24],\n",
    "                 'TMJT': palette[5],\n",
    "                 'Tunisia': palette[26]}\n",
    "    colors = [pop2color[p] for p in samples.Population]\n",
    "    ax.bar(left, pc, color=colors)\n",
    "    ax.set_xlim(0, len(pc))\n",
    "    ax.set_xlabel('Sample index')\n",
    "    ax.set_ylabel('Percent calls')\n",
    "    ax.set_title(title)\n",
    "    handles = [mpl.patches.Patch(color=palette[7]),\n",
    "               mpl.patches.Patch(color=palette[1]),\n",
    "               mpl.patches.Patch(color=palette[2]),\n",
    "               mpl.patches.Patch(color=palette[3]),\n",
    "               mpl.patches.Patch(color=palette[4]),\n",
    "               mpl.patches.Patch(color=palette[25]),\n",
    "               mpl.patches.Patch(color=palette[6]),\n",
    "               mpl.patches.Patch(color=palette[0]),\n",
    "               mpl.patches.Patch(color=palette[8]),\n",
    "               mpl.patches.Patch(color=palette[9]),\n",
    "               mpl.patches.Patch(color=palette[23]),\n",
    "               mpl.patches.Patch(color=palette[11]),\n",
    "               mpl.patches.Patch(color=palette[20]),\n",
    "               mpl.patches.Patch(color=palette[13]),\n",
    "               mpl.patches.Patch(color=palette[15]),\n",
    "               mpl.patches.Patch(color=palette[16]),\n",
    "               mpl.patches.Patch(color=palette[17]),\n",
    "               mpl.patches.Patch(color=palette[21]),\n",
    "               mpl.patches.Patch(color=palette[19]),\n",
    "               mpl.patches.Patch(color=palette[12]),\n",
    "               mpl.patches.Patch(color=palette[18]),\n",
    "               mpl.patches.Patch(color=palette[22]),\n",
    "               mpl.patches.Patch(color=palette[10]),\n",
    "               mpl.patches.Patch(color=palette[24]),\n",
    "               mpl.patches.Patch(color=palette[5]),\n",
    "               mpl.patches.Patch(color=palette[26])]\n",
    "    ax.legend(handles=handles, labels=['ES-PP-1', 'ES-PP-2', 'ES-PP-3', 'ES-PP-4', 'ES-PP-5', 'ES-PP-6',\n",
    "       'ES-PP-7', 'ES-PP-8', 'FR-PP-9', 'FR-PP-10', 'FR-PP-11',\n",
    "       'FR-PP-12', 'FR-PP-13', 'FR-PP-14', 'FR-PP-16', 'IT-PP-15',\n",
    "       'IT-PP-16', 'IT-PP-17', 'IT-PP-18', 'IT-PP-19', 'IT-PP-20', 'LCor',\n",
    "       'Leir', 'SiMe', 'TMJT', 'Tunisia'], title='Population',\n",
    "              bbox_to_anchor=(1, 1), loc='upper left')"
   ]
  },
  {
   "cell_type": "code",
   "execution_count": 63,
   "metadata": {},
   "outputs": [
    {
     "data": {
      "image/png": "[encoded data removed]",
      "text/plain": [
       "<Figure size 1728x360 with 1 Axes>"
      ]
     },
     "metadata": {
      "needs_background": "light"
     },
     "output_type": "display_data"
    }
   ],
   "source": [
    "plot_genotype_frequency(pc_missing, 'Missing')\n",
    "#plt.savefig('/wrk/Gen_Tree/Pinus_pinaster/Ppinaster_Missing_data_per_sample.pdf')"
   ]
  },
  {
   "cell_type": "code",
   "execution_count": 51,
   "metadata": {},
   "outputs": [
    {
     "data": {
      "text/plain": [
       "141"
      ]
     },
     "execution_count": 51,
     "metadata": {},
     "output_type": "execute_result"
    }
   ],
   "source": [
    "np.argsort(pc_missing)[-1]"
   ]
  },
  {
   "cell_type": "code",
   "execution_count": 64,
   "metadata": {},
   "outputs": [
    {
     "data": {
      "image/png": "[encoded data removed]",
      "text/plain": [
       "<Figure size 1728x360 with 1 Axes>"
      ]
     },
     "metadata": {
      "needs_background": "light"
     },
     "output_type": "display_data"
    }
   ],
   "source": [
    "plot_genotype_frequency(pc_het, 'Heterozygosity')\n",
    "#plt.savefig('/wrk/Gen_Tree/Pinus_pinaster/Ppinaster_Heterozygosity.pdf')"
   ]
  },
  {
   "cell_type": "code",
   "execution_count": null,
   "metadata": {},
   "outputs": [],
   "source": []
  },
  {
   "cell_type": "code",
   "execution_count": 17,
   "metadata": {},
   "outputs": [],
   "source": [
    "palette = sns.color_palette(\"hls\", 30)\n",
    "pop_colours = {'ES-PP-1': palette[7],\n",
    "                 'ES-PP-2': palette[1],\n",
    "                 'ES-PP-3': palette[2],\n",
    "                 'ES-PP-4': palette[3],\n",
    "                 'ES-PP-5': palette[4],\n",
    "                 'ES-PP-6': palette[25],\n",
    "                 'ES-PP-7': palette[6],\n",
    "                 'ES-PP-8': palette[0],\n",
    "                 'FR-PP-9': palette[8],\n",
    "                 'FR-PP-10': palette[16],\n",
    "                 'FR-PP-11': palette[23],\n",
    "                 'FR-PP-12': palette[11],\n",
    "                 'FR-PP-13': palette[20],\n",
    "                 'FR-PP-14': palette[13],\n",
    "                 'FR-PP-16': palette[15],\n",
    "                 'IT-PP-15': palette[9],\n",
    "                 'IT-PP-16': palette[17],\n",
    "                 'IT-PP-17': palette[21],\n",
    "                 'IT-PP-18': palette[19],\n",
    "                 'IT-PP-19': palette[12],\n",
    "                 'IT-PP-20': palette[18],\n",
    "                 'LCor': palette[22],\n",
    "                 'Leir': palette[10],\n",
    "                 'SiMe': palette[24],\n",
    "                 'TMJT': palette[5],\n",
    "                 'Tunisia': palette[26]}"
   ]
  },
  {
   "cell_type": "code",
   "execution_count": 18,
   "metadata": {},
   "outputs": [],
   "source": [
    "def plot_pca_coords(coords, model, pc1, pc2, ax, sample_population):\n",
    "    sns.despine(ax=ax, offset=5)\n",
    "    x = coords[:, pc1]\n",
    "    y = coords[:, pc2]\n",
    "    for pop in populations:\n",
    "        flt = (sample_population == pop)\n",
    "        ax.plot(x[flt], y[flt], marker='o', linestyle=' ', color=pop_colours[pop], \n",
    "                label=pop, markersize=6, mec='k', mew=.5)\n",
    "    ax.set_xlabel('PC%s (%.1f%%)' % (pc1+1, model.explained_variance_ratio_[pc1]*100))\n",
    "    ax.set_ylabel('PC%s (%.1f%%)' % (pc2+1, model.explained_variance_ratio_[pc2]*100))\n",
    "    \n",
    "def fig_pca(coords, model, title, sample_population=None):\n",
    "    if sample_population is None:\n",
    "        sample_population = samples.Population.values\n",
    "    # plot coords for PCs 1 vs 2, 3 vs 4\n",
    "    fig = plt.figure(figsize=(10, 6))\n",
    "    ax = fig.add_subplot(1, 2, 1)\n",
    "    plot_pca_coords(coords, model, 0, 1, ax, sample_population)\n",
    "    ax = fig.add_subplot(1, 2, 2)\n",
    "    plot_pca_coords(coords, model, 2, 3, ax, sample_population)\n",
    "    ax.legend(bbox_to_anchor=(1, 1), loc='upper left')\n",
    "    fig.suptitle(title, y=0.97)"
   ]
  },
  {
   "cell_type": "code",
   "execution_count": 19,
   "metadata": {},
   "outputs": [
    {
     "data": {
      "text/plain": [
       "<ChunkedArrayWrapper shape=(1889864, 599) dtype=int8 chunks=(3692, 599)\n",
       "   nbytes=1.1G cbytes=151.2M cratio=7.1\n",
       "   compression=blosc compression_opts={'cname': 'lz4', 'clevel': 5, 'shuffle': 1, 'blocksize': 0}\n",
       "   values=zarr.core.Array>"
      ]
     },
     "execution_count": 19,
     "metadata": {},
     "output_type": "execute_result"
    }
   ],
   "source": [
    "flt = (ac[:, :2].min(axis=1) > 1)\n",
    "gf = genotypes.compress(flt, axis=0)\n",
    "gn = gf.to_n_alt()\n",
    "gn"
   ]
  },
  {
   "cell_type": "code",
   "execution_count": 20,
   "metadata": {},
   "outputs": [
    {
     "ename": "MemoryError",
     "evalue": "",
     "output_type": "error",
     "traceback": [
      "\u001b[0;31m---------------------------------------------------------------------------\u001b[0m",
      "\u001b[0;31mMemoryError\u001b[0m                               Traceback (most recent call last)",
      "\u001b[0;32m<ipython-input-20-3ae3b5cc3eac>\u001b[0m in \u001b[0;36m<module>\u001b[0;34m\u001b[0m\n\u001b[0;32m----> 1\u001b[0;31m \u001b[0mcoords1\u001b[0m\u001b[0;34m,\u001b[0m \u001b[0mmodel1\u001b[0m \u001b[0;34m=\u001b[0m \u001b[0mallel\u001b[0m\u001b[0;34m.\u001b[0m\u001b[0mpca\u001b[0m\u001b[0;34m(\u001b[0m\u001b[0mgn\u001b[0m\u001b[0;34m,\u001b[0m \u001b[0mn_components\u001b[0m\u001b[0;34m=\u001b[0m\u001b[0;36m10\u001b[0m\u001b[0;34m,\u001b[0m \u001b[0mscaler\u001b[0m\u001b[0;34m=\u001b[0m\u001b[0;34m'patterson'\u001b[0m\u001b[0;34m)\u001b[0m\u001b[0;34m\u001b[0m\u001b[0;34m\u001b[0m\u001b[0m\n\u001b[0m",
      "\u001b[0;32m/wrk/miniconda/envs/pyenvSciKitAllel/lib/python3.6/site-packages/allel/stats/decomposition.py\u001b[0m in \u001b[0;36mpca\u001b[0;34m(gn, n_components, copy, scaler, ploidy)\u001b[0m\n\u001b[1;32m     56\u001b[0m \u001b[0;34m\u001b[0m\u001b[0m\n\u001b[1;32m     57\u001b[0m     \u001b[0;31m# fit the model and project the input data onto the new dimensions\u001b[0m\u001b[0;34m\u001b[0m\u001b[0;34m\u001b[0m\u001b[0;34m\u001b[0m\u001b[0m\n\u001b[0;32m---> 58\u001b[0;31m     \u001b[0mcoords\u001b[0m \u001b[0;34m=\u001b[0m \u001b[0mmodel\u001b[0m\u001b[0;34m.\u001b[0m\u001b[0mfit_transform\u001b[0m\u001b[0;34m(\u001b[0m\u001b[0mgn\u001b[0m\u001b[0;34m)\u001b[0m\u001b[0;34m\u001b[0m\u001b[0;34m\u001b[0m\u001b[0m\n\u001b[0m\u001b[1;32m     59\u001b[0m \u001b[0;34m\u001b[0m\u001b[0m\n\u001b[1;32m     60\u001b[0m     \u001b[0;32mreturn\u001b[0m \u001b[0mcoords\u001b[0m\u001b[0;34m,\u001b[0m \u001b[0mmodel\u001b[0m\u001b[0;34m\u001b[0m\u001b[0;34m\u001b[0m\u001b[0m\n",
      "\u001b[0;32m/wrk/miniconda/envs/pyenvSciKitAllel/lib/python3.6/site-packages/allel/stats/decomposition.py\u001b[0m in \u001b[0;36mfit_transform\u001b[0;34m(self, gn)\u001b[0m\n\u001b[1;32m     75\u001b[0m \u001b[0;34m\u001b[0m\u001b[0m\n\u001b[1;32m     76\u001b[0m     \u001b[0;32mdef\u001b[0m \u001b[0mfit_transform\u001b[0m\u001b[0;34m(\u001b[0m\u001b[0mself\u001b[0m\u001b[0;34m,\u001b[0m \u001b[0mgn\u001b[0m\u001b[0;34m)\u001b[0m\u001b[0;34m:\u001b[0m\u001b[0;34m\u001b[0m\u001b[0;34m\u001b[0m\u001b[0m\n\u001b[0;32m---> 77\u001b[0;31m         \u001b[0mu\u001b[0m\u001b[0;34m,\u001b[0m \u001b[0ms\u001b[0m\u001b[0;34m,\u001b[0m \u001b[0mv\u001b[0m \u001b[0;34m=\u001b[0m \u001b[0mself\u001b[0m\u001b[0;34m.\u001b[0m\u001b[0m_fit\u001b[0m\u001b[0;34m(\u001b[0m\u001b[0mgn\u001b[0m\u001b[0;34m)\u001b[0m\u001b[0;34m\u001b[0m\u001b[0;34m\u001b[0m\u001b[0m\n\u001b[0m\u001b[1;32m     78\u001b[0m         \u001b[0mu\u001b[0m \u001b[0;34m=\u001b[0m \u001b[0mu\u001b[0m\u001b[0;34m[\u001b[0m\u001b[0;34m:\u001b[0m\u001b[0;34m,\u001b[0m \u001b[0;34m:\u001b[0m\u001b[0mself\u001b[0m\u001b[0;34m.\u001b[0m\u001b[0mn_components\u001b[0m\u001b[0;34m]\u001b[0m\u001b[0;34m\u001b[0m\u001b[0;34m\u001b[0m\u001b[0m\n\u001b[1;32m     79\u001b[0m         \u001b[0mu\u001b[0m \u001b[0;34m*=\u001b[0m \u001b[0ms\u001b[0m\u001b[0;34m[\u001b[0m\u001b[0;34m:\u001b[0m\u001b[0mself\u001b[0m\u001b[0;34m.\u001b[0m\u001b[0mn_components\u001b[0m\u001b[0;34m]\u001b[0m\u001b[0;34m\u001b[0m\u001b[0;34m\u001b[0m\u001b[0m\n",
      "\u001b[0;32m/wrk/miniconda/envs/pyenvSciKitAllel/lib/python3.6/site-packages/allel/stats/decomposition.py\u001b[0m in \u001b[0;36m_fit\u001b[0;34m(self, gn)\u001b[0m\n\u001b[1;32m     92\u001b[0m \u001b[0;34m\u001b[0m\u001b[0m\n\u001b[1;32m     93\u001b[0m         \u001b[0;31m# singular value decomposition\u001b[0m\u001b[0;34m\u001b[0m\u001b[0;34m\u001b[0m\u001b[0;34m\u001b[0m\u001b[0m\n\u001b[0;32m---> 94\u001b[0;31m         \u001b[0mu\u001b[0m\u001b[0;34m,\u001b[0m \u001b[0ms\u001b[0m\u001b[0;34m,\u001b[0m \u001b[0mv\u001b[0m \u001b[0;34m=\u001b[0m \u001b[0mscipy\u001b[0m\u001b[0;34m.\u001b[0m\u001b[0mlinalg\u001b[0m\u001b[0;34m.\u001b[0m\u001b[0msvd\u001b[0m\u001b[0;34m(\u001b[0m\u001b[0mx\u001b[0m\u001b[0;34m,\u001b[0m \u001b[0mfull_matrices\u001b[0m\u001b[0;34m=\u001b[0m\u001b[0;32mFalse\u001b[0m\u001b[0;34m)\u001b[0m\u001b[0;34m\u001b[0m\u001b[0;34m\u001b[0m\u001b[0m\n\u001b[0m\u001b[1;32m     95\u001b[0m \u001b[0;34m\u001b[0m\u001b[0m\n\u001b[1;32m     96\u001b[0m         \u001b[0;31m# calculate explained variance\u001b[0m\u001b[0;34m\u001b[0m\u001b[0;34m\u001b[0m\u001b[0;34m\u001b[0m\u001b[0m\n",
      "\u001b[0;32m/wrk/miniconda/envs/pyenvSciKitAllel/lib/python3.6/site-packages/scipy/linalg/decomp_svd.py\u001b[0m in \u001b[0;36msvd\u001b[0;34m(a, full_matrices, compute_uv, overwrite_a, check_finite, lapack_driver)\u001b[0m\n\u001b[1;32m    127\u001b[0m     \u001b[0;31m# perform decomposition\u001b[0m\u001b[0;34m\u001b[0m\u001b[0;34m\u001b[0m\u001b[0;34m\u001b[0m\u001b[0m\n\u001b[1;32m    128\u001b[0m     u, s, v, info = gesXd(a1, compute_uv=compute_uv, lwork=lwork,\n\u001b[0;32m--> 129\u001b[0;31m                           full_matrices=full_matrices, overwrite_a=overwrite_a)\n\u001b[0m\u001b[1;32m    130\u001b[0m \u001b[0;34m\u001b[0m\u001b[0m\n\u001b[1;32m    131\u001b[0m     \u001b[0;32mif\u001b[0m \u001b[0minfo\u001b[0m \u001b[0;34m>\u001b[0m \u001b[0;36m0\u001b[0m\u001b[0;34m:\u001b[0m\u001b[0;34m\u001b[0m\u001b[0;34m\u001b[0m\u001b[0m\n",
      "\u001b[0;31mMemoryError\u001b[0m: "
     ]
    }
   ],
   "source": [
    "coords1, model1 = allel.pca(gn, n_components=10, scaler='patterson')"
   ]
  },
  {
   "cell_type": "code",
   "execution_count": null,
   "metadata": {},
   "outputs": [],
   "source": [
    "fig_pca(coords1, model1, 'Figure 1. Conventional PCA.')"
   ]
  },
  {
   "cell_type": "code",
   "execution_count": null,
   "metadata": {},
   "outputs": [],
   "source": []
  },
  {
   "cell_type": "code",
   "execution_count": null,
   "metadata": {},
   "outputs": [],
   "source": []
  }
 ],
 "metadata": {
  "kernelspec": {
   "display_name": "Python 3",
   "language": "python",
   "name": "python3"
  },
  "language_info": {
   "codemirror_mode": {
    "name": "ipython",
    "version": 3
   },
   "file_extension": ".py",
   "mimetype": "text/x-python",
   "name": "python",
   "nbconvert_exporter": "python",
   "pygments_lexer": "ipython3",
   "version": "3.7.4"
  }
 },
 "nbformat": 4,
 "nbformat_minor": 2
}
