{
 "cells": [
  {
   "cell_type": "raw",
   "metadata": {},
   "source": [
    "Picea abies mapped to genome reference, raw snps exploration"
   ]
  },
  {
   "cell_type": "code",
   "execution_count": 1,
   "metadata": {},
   "outputs": [
    {
     "name": "stdout",
     "output_type": "stream",
     "text": [
      "scikit-allel 1.2.1\n"
     ]
    }
   ],
   "source": [
    "import numpy as np\n",
    "import scipy\n",
    "import pandas\n",
    "import matplotlib as mpl\n",
    "import matplotlib.pyplot as plt\n",
    "%matplotlib inline\n",
    "import seaborn as sns\n",
    "sns.set_style('white')\n",
    "sns.set_style('ticks')\n",
    "sns.set_context('notebook')\n",
    "import h5py\n",
    "import allel; print('scikit-allel', allel.__version__)"
   ]
  },
  {
   "cell_type": "code",
   "execution_count": 2,
   "metadata": {},
   "outputs": [],
   "source": [
    "#allel.vcf_to_hdf5('/wrk/Gen_Tree/GenTree_Genome_mapping/Picea_abies/raw_SNPs.vcf', '/wrk/Gen_Tree/GenTree_Genome_mapping/Picea_abies/raw_SNPs.h5', fields='*', overwrite=True)"
   ]
  },
  {
   "cell_type": "code",
   "execution_count": 2,
   "metadata": {},
   "outputs": [
    {
     "data": {
      "text/plain": [
       "<HDF5 file \"raw_SNPs.h5\" (mode r)>"
      ]
     },
     "execution_count": 2,
     "metadata": {},
     "output_type": "execute_result"
    }
   ],
   "source": [
    "callset_fn = '/wrk/Gen_Tree/GenTree_Genome_mapping/Picea_abies/raw_SNPs.h5'\n",
    "callset = h5py.File(callset_fn, mode='r')\n",
    "callset"
   ]
  },
  {
   "cell_type": "code",
   "execution_count": 3,
   "metadata": {},
   "outputs": [
    {
     "data": {
      "text/plain": [
       "['calldata', 'samples', 'variants']"
      ]
     },
     "execution_count": 3,
     "metadata": {},
     "output_type": "execute_result"
    }
   ],
   "source": [
    "sorted(callset.keys())"
   ]
  },
  {
   "cell_type": "code",
   "execution_count": 4,
   "metadata": {},
   "outputs": [],
   "source": [
    "calldata = callset['calldata']"
   ]
  },
  {
   "cell_type": "code",
   "execution_count": 5,
   "metadata": {},
   "outputs": [
    {
     "data": {
      "text/plain": [
       "<HDF5 group \"/calldata\" (10 members)>"
      ]
     },
     "execution_count": 5,
     "metadata": {},
     "output_type": "execute_result"
    }
   ],
   "source": [
    "calldata"
   ]
  },
  {
   "cell_type": "code",
   "execution_count": 6,
   "metadata": {},
   "outputs": [
    {
     "data": {
      "text/plain": [
       "['AD', 'DP', 'GQ', 'GT', 'MIN_DP', 'PGT', 'PID', 'PL', 'RGQ', 'SB']"
      ]
     },
     "execution_count": 6,
     "metadata": {},
     "output_type": "execute_result"
    }
   ],
   "source": [
    "list(calldata)"
   ]
  },
  {
   "cell_type": "code",
   "execution_count": 7,
   "metadata": {},
   "outputs": [
    {
     "data": {
      "text/html": [
       "<div class=\"allel allel-DisplayAsTable\"><span>&lt;VariantChunkedTable shape=(992140,) dtype=[('POS', '&lt;i4'), ('REF', 'O'), ('ALT', 'O', (3,)), ('DP', '&lt;i4'), ('QD', '&lt;f4'), ('AN', '&lt;i4'), ('MQ', '&lt;f4'), ('SOR', '&lt;f4'), ('numalt', '&lt;i4'), ('QUAL', '&lt;f4'), ('MQRankSum', '&lt;f4'), ('ReadPosRankSum', '&lt;f4')]\n",
       "   nbytes=68.1M cbytes=25.2M cratio=2.7\n",
       "   values=h5py._hl.group.Group&gt;</span><table><thead><tr><th></th><th style=\"text-align: center\">POS</th><th style=\"text-align: center\">REF</th><th style=\"text-align: center\">ALT</th><th style=\"text-align: center\">DP</th><th style=\"text-align: center\">QD</th><th style=\"text-align: center\">AN</th><th style=\"text-align: center\">MQ</th><th style=\"text-align: center\">SOR</th><th style=\"text-align: center\">numalt</th><th style=\"text-align: center\">QUAL</th><th style=\"text-align: center\">MQRankSum</th><th style=\"text-align: center\">ReadPosRankSum</th></tr></thead><tbody><tr><th style=\"text-align: center; background-color: white; border-right: 1px solid black; \">0</th><td style=\"text-align: center\">28879</td><td style=\"text-align: center\">C</td><td style=\"text-align: center\">['T' '' '']</td><td style=\"text-align: center\">3174</td><td style=\"text-align: center\">14.56</td><td style=\"text-align: center\">1104</td><td style=\"text-align: center\">58.61</td><td style=\"text-align: center\">0.514</td><td style=\"text-align: center\">1</td><td style=\"text-align: center\">1485.6</td><td style=\"text-align: center\">0.0</td><td style=\"text-align: center\">0.328</td></tr><tr><th style=\"text-align: center; background-color: white; border-right: 1px solid black; \">1</th><td style=\"text-align: center\">28880</td><td style=\"text-align: center\">T</td><td style=\"text-align: center\">['G' 'A' '']</td><td style=\"text-align: center\">3191</td><td style=\"text-align: center\">19.77</td><td style=\"text-align: center\">1070</td><td style=\"text-align: center\">59.18</td><td style=\"text-align: center\">0.608</td><td style=\"text-align: center\">2</td><td style=\"text-align: center\">22714.49</td><td style=\"text-align: center\">0.0</td><td style=\"text-align: center\">-0.156</td></tr><tr><th style=\"text-align: center; background-color: white; border-right: 1px solid black; \">2</th><td style=\"text-align: center\">28904</td><td style=\"text-align: center\">C</td><td style=\"text-align: center\">['T' '' '']</td><td style=\"text-align: center\">3399</td><td style=\"text-align: center\">26.09</td><td style=\"text-align: center\">1104</td><td style=\"text-align: center\">60.0</td><td style=\"text-align: center\">1.03</td><td style=\"text-align: center\">1</td><td style=\"text-align: center\">626.15</td><td style=\"text-align: center\">0.0</td><td style=\"text-align: center\">0.366</td></tr><tr><th style=\"text-align: center; background-color: white; border-right: 1px solid black; \">...</th><td style=\"text-align: center\" colspan=\"13\">...</td></tr><tr><th style=\"text-align: center; background-color: white; border-right: 1px solid black; \">992137</th><td style=\"text-align: center\">39564</td><td style=\"text-align: center\">C</td><td style=\"text-align: center\">['T' '' '']</td><td style=\"text-align: center\">3291</td><td style=\"text-align: center\">3.4</td><td style=\"text-align: center\">930</td><td style=\"text-align: center\">60.0</td><td style=\"text-align: center\">0.105</td><td style=\"text-align: center\">1</td><td style=\"text-align: center\">13.58</td><td style=\"text-align: center\">0.0</td><td style=\"text-align: center\">0.0</td></tr><tr><th style=\"text-align: center; background-color: white; border-right: 1px solid black; \">992138</th><td style=\"text-align: center\">39567</td><td style=\"text-align: center\">T</td><td style=\"text-align: center\">['C' '' '']</td><td style=\"text-align: center\">3342</td><td style=\"text-align: center\">4.46</td><td style=\"text-align: center\">928</td><td style=\"text-align: center\">56.57</td><td style=\"text-align: center\">0.307</td><td style=\"text-align: center\">1</td><td style=\"text-align: center\">35.65</td><td style=\"text-align: center\">0.0</td><td style=\"text-align: center\">0.18</td></tr><tr><th style=\"text-align: center; background-color: white; border-right: 1px solid black; \">992139</th><td style=\"text-align: center\">39593</td><td style=\"text-align: center\">G</td><td style=\"text-align: center\">['T' '' '']</td><td style=\"text-align: center\">3703</td><td style=\"text-align: center\">1.96</td><td style=\"text-align: center\">936</td><td style=\"text-align: center\">81.98</td><td style=\"text-align: center\">2.093</td><td style=\"text-align: center\">1</td><td style=\"text-align: center\">23.47</td><td style=\"text-align: center\">0.0</td><td style=\"text-align: center\">0.645</td></tr></tbody></table></div>"
      ],
      "text/plain": [
       "<VariantChunkedTable shape=(992140,) dtype=[('POS', '<i4'), ('REF', 'O'), ('ALT', 'O', (3,)), ('DP', '<i4'), ('QD', '<f4'), ('AN', '<i4'), ('MQ', '<f4'), ('SOR', '<f4'), ('numalt', '<i4'), ('QUAL', '<f4'), ('MQRankSum', '<f4'), ('ReadPosRankSum', '<f4')]\n",
       "   nbytes=68.1M cbytes=25.2M cratio=2.7\n",
       "   values=h5py._hl.group.Group>"
      ]
     },
     "execution_count": 7,
     "metadata": {},
     "output_type": "execute_result"
    }
   ],
   "source": [
    "variants = allel.VariantChunkedTable(callset['variants'], \n",
    "                                     names=['POS', 'REF', 'ALT', 'DP', 'QD', 'AN', 'MQ', 'SOR', 'numalt', 'QUAL', 'MQRankSum', 'ReadPosRankSum'])\n",
    "variants"
   ]
  },
  {
   "cell_type": "code",
   "execution_count": 8,
   "metadata": {},
   "outputs": [],
   "source": [
    "def plot_variant_hist(f, bins=30):\n",
    "    x = variants[f][:]\n",
    "    fig, ax = plt.subplots(figsize=(10, 5))\n",
    "    sns.despine(ax=ax, offset=10)\n",
    "    ax.hist(x, bins=bins)\n",
    "    ax.set_xlabel(f)\n",
    "    ax.set_ylabel('No. variants')\n",
    "    ax.set_title('Variant %s distribution' % f)"
   ]
  },
  {
   "cell_type": "code",
   "execution_count": 9,
   "metadata": {},
   "outputs": [
    {
     "name": "stderr",
     "output_type": "stream",
     "text": [
      "/wrk/Programs/miniconda3/lib/python3.7/site-packages/numpy/lib/histograms.py:829: RuntimeWarning: invalid value encountered in greater_equal\n",
      "  keep = (tmp_a >= first_edge)\n",
      "/wrk/Programs/miniconda3/lib/python3.7/site-packages/numpy/lib/histograms.py:830: RuntimeWarning: invalid value encountered in less_equal\n",
      "  keep &= (tmp_a <= last_edge)\n"
     ]
    },
    {
     "data": {
      "image/png": "[encoded data removed]",
      "text/plain": [
       "<Figure size 720x360 with 1 Axes>"
      ]
     },
     "metadata": {},
     "output_type": "display_data"
    }
   ],
   "source": [
    "plot_variant_hist('MQ')"
   ]
  },
  {
   "cell_type": "code",
   "execution_count": 10,
   "metadata": {},
   "outputs": [
    {
     "data": {
      "image/png": "[encoded data removed]",
      "text/plain": [
       "<Figure size 720x360 with 1 Axes>"
      ]
     },
     "metadata": {},
     "output_type": "display_data"
    }
   ],
   "source": [
    "plot_variant_hist('QD')"
   ]
  },
  {
   "cell_type": "code",
   "execution_count": 11,
   "metadata": {},
   "outputs": [
    {
     "data": {
      "image/png": "[encoded data removed]",
      "text/plain": [
       "<Figure size 720x360 with 1 Axes>"
      ]
     },
     "metadata": {},
     "output_type": "display_data"
    }
   ],
   "source": [
    "plot_variant_hist('SOR')"
   ]
  },
  {
   "cell_type": "code",
   "execution_count": 12,
   "metadata": {},
   "outputs": [
    {
     "data": {
      "image/png": "[encoded data removed]",
      "text/plain": [
       "<Figure size 720x360 with 1 Axes>"
      ]
     },
     "metadata": {},
     "output_type": "display_data"
    }
   ],
   "source": [
    "plot_variant_hist('MQRankSum')"
   ]
  },
  {
   "cell_type": "code",
   "execution_count": 71,
   "metadata": {},
   "outputs": [
    {
     "data": {
      "image/png": "[encoded data removed]",
      "text/plain": [
       "<Figure size 720x360 with 1 Axes>"
      ]
     },
     "metadata": {},
     "output_type": "display_data"
    }
   ],
   "source": [
    "plot_variant_hist('AN')"
   ]
  },
  {
   "cell_type": "code",
   "execution_count": 13,
   "metadata": {},
   "outputs": [
    {
     "data": {
      "image/png": "[encoded data removed]",
      "text/plain": [
       "<Figure size 720x360 with 1 Axes>"
      ]
     },
     "metadata": {},
     "output_type": "display_data"
    }
   ],
   "source": [
    "plot_variant_hist('MQRankSum')"
   ]
  },
  {
   "cell_type": "code",
   "execution_count": 14,
   "metadata": {},
   "outputs": [
    {
     "data": {
      "image/png": "[encoded data removed]",
      "text/plain": [
       "<Figure size 720x360 with 1 Axes>"
      ]
     },
     "metadata": {},
     "output_type": "display_data"
    }
   ],
   "source": [
    "plot_variant_hist('ReadPosRankSum')"
   ]
  },
  {
   "cell_type": "markdown",
   "metadata": {},
   "source": [
    "### Filter out positions with DP <10 and QD < 2"
   ]
  },
  {
   "cell_type": "code",
   "execution_count": 15,
   "metadata": {},
   "outputs": [],
   "source": [
    "filter_expression = '(DP > 20) & (QD > 2) & (AN > 619)'\n",
    "###soft filter for removing calls with very little support"
   ]
  },
  {
   "cell_type": "code",
   "execution_count": 16,
   "metadata": {},
   "outputs": [
    {
     "name": "stderr",
     "output_type": "stream",
     "text": [
      "<string>:1: RuntimeWarning: invalid value encountered in greater\n",
      "<string>:1: RuntimeWarning: invalid value encountered in greater\n",
      "<string>:1: RuntimeWarning: invalid value encountered in greater\n",
      "<string>:1: RuntimeWarning: invalid value encountered in greater\n",
      "<string>:1: RuntimeWarning: invalid value encountered in greater\n",
      "<string>:1: RuntimeWarning: invalid value encountered in greater\n",
      "<string>:1: RuntimeWarning: invalid value encountered in greater\n",
      "<string>:1: RuntimeWarning: invalid value encountered in greater\n",
      "<string>:1: RuntimeWarning: invalid value encountered in greater\n",
      "<string>:1: RuntimeWarning: invalid value encountered in greater\n",
      "<string>:1: RuntimeWarning: invalid value encountered in greater\n",
      "<string>:1: RuntimeWarning: invalid value encountered in greater\n",
      "<string>:1: RuntimeWarning: invalid value encountered in greater\n",
      "<string>:1: RuntimeWarning: invalid value encountered in greater\n",
      "<string>:1: RuntimeWarning: invalid value encountered in greater\n",
      "<string>:1: RuntimeWarning: invalid value encountered in greater\n"
     ]
    },
    {
     "data": {
      "text/plain": [
       "array([ True,  True,  True, ...,  True,  True, False])"
      ]
     },
     "execution_count": 16,
     "metadata": {},
     "output_type": "execute_result"
    }
   ],
   "source": [
    "variant_selection = variants.eval(filter_expression)[:]\n",
    "variant_selection"
   ]
  },
  {
   "cell_type": "markdown",
   "metadata": {},
   "source": [
    "### How many variants were kept?"
   ]
  },
  {
   "cell_type": "code",
   "execution_count": 17,
   "metadata": {},
   "outputs": [
    {
     "data": {
      "text/plain": [
       "856832"
      ]
     },
     "execution_count": 17,
     "metadata": {},
     "output_type": "execute_result"
    }
   ],
   "source": [
    "np.count_nonzero(variant_selection)"
   ]
  },
  {
   "cell_type": "code",
   "execution_count": 18,
   "metadata": {},
   "outputs": [
    {
     "data": {
      "text/plain": [
       "<HDF5 group \"/calldata\" (10 members)>"
      ]
     },
     "execution_count": 18,
     "metadata": {},
     "output_type": "execute_result"
    }
   ],
   "source": [
    "calldata = callset['calldata']\n",
    "calldata"
   ]
  },
  {
   "cell_type": "code",
   "execution_count": 19,
   "metadata": {},
   "outputs": [
    {
     "data": {
      "text/html": [
       "<div class=\"allel allel-DisplayAs2D\"><span>&lt;GenotypeChunkedArray shape=(992140, 619, 2) dtype=int8 chunks=(65536, 64, 2)\n",
       "   nbytes=1.1G cbytes=104.3M cratio=11.2\n",
       "   compression=gzip compression_opts=1\n",
       "   values=h5py._hl.dataset.Dataset&gt;</span><table><thead><tr><th></th><th style=\"text-align: center\">0</th><th style=\"text-align: center\">1</th><th style=\"text-align: center\">2</th><th style=\"text-align: center\">3</th><th style=\"text-align: center\">4</th><th style=\"text-align: center\">...</th><th style=\"text-align: center\">614</th><th style=\"text-align: center\">615</th><th style=\"text-align: center\">616</th><th style=\"text-align: center\">617</th><th style=\"text-align: center\">618</th></tr></thead><tbody><tr><th style=\"text-align: center; background-color: white; border-right: 1px solid black; \">0</th><td style=\"text-align: center\">0/0</td><td style=\"text-align: center\">0/0</td><td style=\"text-align: center\">0/0</td><td style=\"text-align: center\">0/0</td><td style=\"text-align: center\">0/0</td><td style=\"text-align: center\">...</td><td style=\"text-align: center\">0/0</td><td style=\"text-align: center\">0/0</td><td style=\"text-align: center\">0/0</td><td style=\"text-align: center\">0/0</td><td style=\"text-align: center\">0/0</td></tr><tr><th style=\"text-align: center; background-color: white; border-right: 1px solid black; \">1</th><td style=\"text-align: center\">0/1</td><td style=\"text-align: center\">0/0</td><td style=\"text-align: center\">0/0</td><td style=\"text-align: center\">1/1</td><td style=\"text-align: center\">0/1</td><td style=\"text-align: center\">...</td><td style=\"text-align: center\">0/0</td><td style=\"text-align: center\">0/0</td><td style=\"text-align: center\">0/0</td><td style=\"text-align: center\">0/0</td><td style=\"text-align: center\">0/1</td></tr><tr><th style=\"text-align: center; background-color: white; border-right: 1px solid black; \">2</th><td style=\"text-align: center\">0/0</td><td style=\"text-align: center\">0/0</td><td style=\"text-align: center\">0/0</td><td style=\"text-align: center\">0/0</td><td style=\"text-align: center\">0/0</td><td style=\"text-align: center\">...</td><td style=\"text-align: center\">0/0</td><td style=\"text-align: center\">0/0</td><td style=\"text-align: center\">0/0</td><td style=\"text-align: center\">0/0</td><td style=\"text-align: center\">0/0</td></tr><tr><th style=\"text-align: center; background-color: white; border-right: 1px solid black; \">...</th><td style=\"text-align: center\" colspan=\"12\">...</td></tr><tr><th style=\"text-align: center; background-color: white; border-right: 1px solid black; \">992137</th><td style=\"text-align: center\">0/0</td><td style=\"text-align: center\">0/0</td><td style=\"text-align: center\">0/0</td><td style=\"text-align: center\">0/0</td><td style=\"text-align: center\">0/0</td><td style=\"text-align: center\">...</td><td style=\"text-align: center\">./.</td><td style=\"text-align: center\">0/0</td><td style=\"text-align: center\">0/0</td><td style=\"text-align: center\">./.</td><td style=\"text-align: center\">0/0</td></tr><tr><th style=\"text-align: center; background-color: white; border-right: 1px solid black; \">992138</th><td style=\"text-align: center\">0/0</td><td style=\"text-align: center\">0/0</td><td style=\"text-align: center\">0/0</td><td style=\"text-align: center\">0/0</td><td style=\"text-align: center\">0/0</td><td style=\"text-align: center\">...</td><td style=\"text-align: center\">./.</td><td style=\"text-align: center\">0/0</td><td style=\"text-align: center\">0/0</td><td style=\"text-align: center\">./.</td><td style=\"text-align: center\">0/0</td></tr><tr><th style=\"text-align: center; background-color: white; border-right: 1px solid black; \">992139</th><td style=\"text-align: center\">0/0</td><td style=\"text-align: center\">0/0</td><td style=\"text-align: center\">0/0</td><td style=\"text-align: center\">0/0</td><td style=\"text-align: center\">0/0</td><td style=\"text-align: center\">...</td><td style=\"text-align: center\">./.</td><td style=\"text-align: center\">0/0</td><td style=\"text-align: center\">0/0</td><td style=\"text-align: center\">./.</td><td style=\"text-align: center\">0/0</td></tr></tbody></table></div>"
      ],
      "text/plain": [
       "<GenotypeChunkedArray shape=(992140, 619, 2) dtype=int8 chunks=(65536, 64, 2)\n",
       "   nbytes=1.1G cbytes=104.3M cratio=11.2\n",
       "   compression=gzip compression_opts=1\n",
       "   values=h5py._hl.dataset.Dataset>"
      ]
     },
     "execution_count": 19,
     "metadata": {},
     "output_type": "execute_result"
    }
   ],
   "source": [
    "genotypes = allel.GenotypeChunkedArray(calldata['GT'])\n",
    "genotypes"
   ]
  },
  {
   "cell_type": "code",
   "execution_count": 20,
   "metadata": {},
   "outputs": [
    {
     "data": {
      "text/plain": [
       "['AT_PA_05_01',\n",
       " 'AT_PA_05_02',\n",
       " 'AT_PA_05_04',\n",
       " 'AT_PA_05_05',\n",
       " 'AT_PA_05_06',\n",
       " 'AT_PA_05_07',\n",
       " 'AT_PA_05_08',\n",
       " 'AT_PA_05_09',\n",
       " 'AT_PA_05_10',\n",
       " 'AT_PA_05_11',\n",
       " 'AT_PA_05_12',\n",
       " 'AT_PA_05_13',\n",
       " 'AT_PA_05_14',\n",
       " 'AT_PA_05_15',\n",
       " 'AT_PA_05_16',\n",
       " 'AT_PA_05_17',\n",
       " 'AT_PA_05_18',\n",
       " 'AT_PA_05_19',\n",
       " 'AT_PA_05_20',\n",
       " 'AT_PA_05_21',\n",
       " 'AT_PA_05_22',\n",
       " 'AT_PA_05_23',\n",
       " 'AT_PA_05_24',\n",
       " 'AT_PA_05_25',\n",
       " 'AT_PA_06_1',\n",
       " 'AT_PA_06_10',\n",
       " 'AT_PA_06_11',\n",
       " 'AT_PA_06_12',\n",
       " 'AT_PA_06_13',\n",
       " 'AT_PA_06_14',\n",
       " 'AT_PA_06_15',\n",
       " 'AT_PA_06_16',\n",
       " 'AT_PA_06_17',\n",
       " 'AT_PA_06_18',\n",
       " 'AT_PA_06_19',\n",
       " 'AT_PA_06_2',\n",
       " 'AT_PA_06_20',\n",
       " 'AT_PA_06_21',\n",
       " 'AT_PA_06_22',\n",
       " 'AT_PA_06_23',\n",
       " 'AT_PA_06_24',\n",
       " 'AT_PA_06_25',\n",
       " 'AT_PA_06_3',\n",
       " 'AT_PA_06_4',\n",
       " 'AT_PA_06_5',\n",
       " 'AT_PA_06_6',\n",
       " 'AT_PA_06_7',\n",
       " 'AT_PA_06_8',\n",
       " 'AT_PA_06_9',\n",
       " 'CH_PA_01_01',\n",
       " 'CH_PA_01_02',\n",
       " 'CH_PA_01_03',\n",
       " 'CH_PA_01_04',\n",
       " 'CH_PA_01_05',\n",
       " 'CH_PA_01_06',\n",
       " 'CH_PA_01_07',\n",
       " 'CH_PA_01_08',\n",
       " 'CH_PA_01_09',\n",
       " 'CH_PA_01_10',\n",
       " 'CH_PA_01_11',\n",
       " 'CH_PA_01_12',\n",
       " 'CH_PA_01_13',\n",
       " 'CH_PA_01_14',\n",
       " 'CH_PA_01_15',\n",
       " 'CH_PA_01_16',\n",
       " 'CH_PA_01_17',\n",
       " 'CH_PA_01_18',\n",
       " 'CH_PA_01_19',\n",
       " 'CH_PA_01_20',\n",
       " 'CH_PA_01_21',\n",
       " 'CH_PA_01_22',\n",
       " 'CH_PA_01_23',\n",
       " 'CH_PA_01_24',\n",
       " 'CH_PA_01_25',\n",
       " 'CH_PA_02_01',\n",
       " 'CH_PA_02_02',\n",
       " 'CH_PA_02_03',\n",
       " 'CH_PA_02_04',\n",
       " 'CH_PA_02_05',\n",
       " 'CH_PA_02_06',\n",
       " 'CH_PA_02_07',\n",
       " 'CH_PA_02_08',\n",
       " 'CH_PA_02_09',\n",
       " 'CH_PA_02_10',\n",
       " 'CH_PA_02_11',\n",
       " 'CH_PA_02_12',\n",
       " 'CH_PA_02_13',\n",
       " 'CH_PA_02_14',\n",
       " 'CH_PA_02_15',\n",
       " 'CH_PA_02_16',\n",
       " 'CH_PA_02_17',\n",
       " 'CH_PA_02_18',\n",
       " 'CH_PA_02_19',\n",
       " 'CH_PA_02_20',\n",
       " 'CH_PA_02_21',\n",
       " 'CH_PA_02_22',\n",
       " 'CH_PA_02_23',\n",
       " 'CH_PA_02_24',\n",
       " 'CH_PA_02_25',\n",
       " 'FI_PA_17_1',\n",
       " 'FI_PA_17_10',\n",
       " 'FI_PA_17_11',\n",
       " 'FI_PA_17_12',\n",
       " 'FI_PA_17_13',\n",
       " 'FI_PA_17_14',\n",
       " 'FI_PA_17_15',\n",
       " 'FI_PA_17_16',\n",
       " 'FI_PA_17_17',\n",
       " 'FI_PA_17_18',\n",
       " 'FI_PA_17_19',\n",
       " 'FI_PA_17_2',\n",
       " 'FI_PA_17_20',\n",
       " 'FI_PA_17_21',\n",
       " 'FI_PA_17_22',\n",
       " 'FI_PA_17_23',\n",
       " 'FI_PA_17_24',\n",
       " 'FI_PA_17_25',\n",
       " 'FI_PA_17_3',\n",
       " 'FI_PA_17_4',\n",
       " 'FI_PA_17_5',\n",
       " 'FI_PA_17_6',\n",
       " 'FI_PA_17_7',\n",
       " 'FI_PA_17_8',\n",
       " 'FI_PA_17_9',\n",
       " 'FI_PA_18_1',\n",
       " 'FI_PA_18_10',\n",
       " 'FI_PA_18_11',\n",
       " 'FI_PA_18_12',\n",
       " 'FI_PA_18_13',\n",
       " 'FI_PA_18_14',\n",
       " 'FI_PA_18_15',\n",
       " 'FI_PA_18_16',\n",
       " 'FI_PA_18_17',\n",
       " 'FI_PA_18_18',\n",
       " 'FI_PA_18_19',\n",
       " 'FI_PA_18_2',\n",
       " 'FI_PA_18_20',\n",
       " 'FI_PA_18_21',\n",
       " 'FI_PA_18_22',\n",
       " 'FI_PA_18_23',\n",
       " 'FI_PA_18_24',\n",
       " 'FI_PA_18_25',\n",
       " 'FI_PA_18_3',\n",
       " 'FI_PA_18_4',\n",
       " 'FI_PA_18_5',\n",
       " 'FI_PA_18_6',\n",
       " 'FI_PA_18_7',\n",
       " 'FI_PA_18_8',\n",
       " 'FI_PA_18_9',\n",
       " 'FR_PA_21_01',\n",
       " 'FR_PA_21_02',\n",
       " 'FR_PA_21_03',\n",
       " 'FR_PA_21_04',\n",
       " 'FR_PA_21_05',\n",
       " 'FR_PA_21_06',\n",
       " 'FR_PA_21_07',\n",
       " 'FR_PA_21_08',\n",
       " 'FR_PA_21_09',\n",
       " 'FR_PA_21_10',\n",
       " 'FR_PA_21_11',\n",
       " 'FR_PA_21_12',\n",
       " 'FR_PA_21_13',\n",
       " 'FR_PA_21_14',\n",
       " 'FR_PA_21_15',\n",
       " 'FR_PA_21_16',\n",
       " 'FR_PA_21_17',\n",
       " 'FR_PA_21_18',\n",
       " 'FR_PA_21_19',\n",
       " 'FR_PA_21_20',\n",
       " 'FR_PA_21_21',\n",
       " 'FR_PA_21_22',\n",
       " 'FR_PA_21_23',\n",
       " 'FR_PA_21_24',\n",
       " 'FR_PA_21_25',\n",
       " 'GE_PA_09_01',\n",
       " 'GE_PA_09_02',\n",
       " 'GE_PA_09_03',\n",
       " 'GE_PA_09_04',\n",
       " 'GE_PA_09_05',\n",
       " 'GE_PA_09_06',\n",
       " 'GE_PA_09_07',\n",
       " 'GE_PA_09_08',\n",
       " 'GE_PA_09_09',\n",
       " 'GE_PA_09_10',\n",
       " 'GE_PA_09_11',\n",
       " 'GE_PA_09_12',\n",
       " 'GE_PA_09_13',\n",
       " 'GE_PA_09_14',\n",
       " 'GE_PA_09_15',\n",
       " 'GE_PA_09_16',\n",
       " 'GE_PA_09_17',\n",
       " 'GE_PA_09_18',\n",
       " 'GE_PA_09_19',\n",
       " 'GE_PA_09_20',\n",
       " 'GE_PA_09_21',\n",
       " 'GE_PA_09_22',\n",
       " 'GE_PA_09_23',\n",
       " 'GE_PA_09_24',\n",
       " 'GE_PA_09_25',\n",
       " 'GE_PA_10_01',\n",
       " 'GE_PA_10_02',\n",
       " 'GE_PA_10_03',\n",
       " 'GE_PA_10_04',\n",
       " 'GE_PA_10_05',\n",
       " 'GE_PA_10_06',\n",
       " 'GE_PA_10_07',\n",
       " 'GE_PA_10_08',\n",
       " 'GE_PA_10_09',\n",
       " 'GE_PA_10_10',\n",
       " 'GE_PA_10_11',\n",
       " 'GE_PA_10_12',\n",
       " 'GE_PA_10_13',\n",
       " 'GE_PA_10_14',\n",
       " 'GE_PA_10_15',\n",
       " 'GE_PA_10_16',\n",
       " 'GE_PA_10_17',\n",
       " 'GE_PA_10_18',\n",
       " 'GE_PA_10_19',\n",
       " 'GE_PA_10_20',\n",
       " 'GE_PA_10_21',\n",
       " 'GE_PA_10_22',\n",
       " 'GE_PA_10_23',\n",
       " 'GE_PA_10_24',\n",
       " 'GE_PA_10_25',\n",
       " 'GR_PA_07_01',\n",
       " 'GR_PA_07_02',\n",
       " 'GR_PA_07_03',\n",
       " 'GR_PA_07_04',\n",
       " 'GR_PA_07_05',\n",
       " 'GR_PA_07_06',\n",
       " 'GR_PA_07_07',\n",
       " 'GR_PA_07_08',\n",
       " 'GR_PA_07_09',\n",
       " 'GR_PA_07_10',\n",
       " 'GR_PA_07_11',\n",
       " 'GR_PA_07_12',\n",
       " 'GR_PA_07_13',\n",
       " 'GR_PA_07_14',\n",
       " 'GR_PA_07_15',\n",
       " 'GR_PA_07_16',\n",
       " 'GR_PA_07_17',\n",
       " 'GR_PA_07_18',\n",
       " 'GR_PA_07_19',\n",
       " 'GR_PA_07_20',\n",
       " 'GR_PA_07_22',\n",
       " 'GR_PA_07_23',\n",
       " 'GR_PA_07_24',\n",
       " 'GR_PA_07_25',\n",
       " 'GR_PA_08_01',\n",
       " 'GR_PA_08_02',\n",
       " 'GR_PA_08_03',\n",
       " 'GR_PA_08_04',\n",
       " 'GR_PA_08_05',\n",
       " 'GR_PA_08_06',\n",
       " 'GR_PA_08_07',\n",
       " 'GR_PA_08_08',\n",
       " 'GR_PA_08_09',\n",
       " 'GR_PA_08_10',\n",
       " 'GR_PA_08_11',\n",
       " 'GR_PA_08_12',\n",
       " 'GR_PA_08_13',\n",
       " 'GR_PA_08_14',\n",
       " 'GR_PA_08_15',\n",
       " 'GR_PA_08_16',\n",
       " 'GR_PA_08_17',\n",
       " 'GR_PA_08_18',\n",
       " 'GR_PA_08_19',\n",
       " 'GR_PA_08_20',\n",
       " 'GR_PA_08_21',\n",
       " 'GR_PA_08_22',\n",
       " 'GR_PA_08_23',\n",
       " 'GR_PA_08_24',\n",
       " 'GR_PA_08_25',\n",
       " 'IT_PA_03_1',\n",
       " 'IT_PA_03_10',\n",
       " 'IT_PA_03_11',\n",
       " 'IT_PA_03_12',\n",
       " 'IT_PA_03_13',\n",
       " 'IT_PA_03_14',\n",
       " 'IT_PA_03_15',\n",
       " 'IT_PA_03_16',\n",
       " 'IT_PA_03_17',\n",
       " 'IT_PA_03_18',\n",
       " 'IT_PA_03_19',\n",
       " 'IT_PA_03_2',\n",
       " 'IT_PA_03_20',\n",
       " 'IT_PA_03_21',\n",
       " 'IT_PA_03_22',\n",
       " 'IT_PA_03_23',\n",
       " 'IT_PA_03_24',\n",
       " 'IT_PA_03_25',\n",
       " 'IT_PA_03_3',\n",
       " 'IT_PA_03_4',\n",
       " 'IT_PA_03_7',\n",
       " 'IT_PA_03_8',\n",
       " 'IT_PA_03_9',\n",
       " 'IT_PA_04_1',\n",
       " 'IT_PA_04_10',\n",
       " 'IT_PA_04_11',\n",
       " 'IT_PA_04_12',\n",
       " 'IT_PA_04_13',\n",
       " 'IT_PA_04_14',\n",
       " 'IT_PA_04_15',\n",
       " 'IT_PA_04_16',\n",
       " 'IT_PA_04_17',\n",
       " 'IT_PA_04_18',\n",
       " 'IT_PA_04_19',\n",
       " 'IT_PA_04_2',\n",
       " 'IT_PA_04_20',\n",
       " 'IT_PA_04_21',\n",
       " 'IT_PA_04_22',\n",
       " 'IT_PA_04_23',\n",
       " 'IT_PA_04_24',\n",
       " 'IT_PA_04_25',\n",
       " 'IT_PA_04_3',\n",
       " 'IT_PA_04_4',\n",
       " 'IT_PA_04_5',\n",
       " 'IT_PA_04_6',\n",
       " 'IT_PA_04_7',\n",
       " 'IT_PA_04_8',\n",
       " 'IT_PA_04_9',\n",
       " 'LT_PA_11_01',\n",
       " 'LT_PA_11_02',\n",
       " 'LT_PA_11_03',\n",
       " 'LT_PA_11_04',\n",
       " 'LT_PA_11_05',\n",
       " 'LT_PA_11_06',\n",
       " 'LT_PA_11_07',\n",
       " 'LT_PA_11_08',\n",
       " 'LT_PA_11_09',\n",
       " 'LT_PA_11_10',\n",
       " 'LT_PA_11_11',\n",
       " 'LT_PA_11_12',\n",
       " 'LT_PA_11_13',\n",
       " 'LT_PA_11_14',\n",
       " 'LT_PA_11_15',\n",
       " 'LT_PA_11_16',\n",
       " 'LT_PA_11_17',\n",
       " 'LT_PA_11_18',\n",
       " 'LT_PA_11_19',\n",
       " 'LT_PA_11_20',\n",
       " 'LT_PA_11_21',\n",
       " 'LT_PA_11_22',\n",
       " 'LT_PA_11_23',\n",
       " 'LT_PA_11_24',\n",
       " 'LT_PA_11_25',\n",
       " 'LT_PA_12_01',\n",
       " 'LT_PA_12_02',\n",
       " 'LT_PA_12_03',\n",
       " 'LT_PA_12_04',\n",
       " 'LT_PA_12_05',\n",
       " 'LT_PA_12_06',\n",
       " 'LT_PA_12_07',\n",
       " 'LT_PA_12_08',\n",
       " 'LT_PA_12_09',\n",
       " 'LT_PA_12_10',\n",
       " 'LT_PA_12_11',\n",
       " 'LT_PA_12_12',\n",
       " 'LT_PA_12_13',\n",
       " 'LT_PA_12_14',\n",
       " 'LT_PA_12_15',\n",
       " 'LT_PA_12_16',\n",
       " 'LT_PA_12_17',\n",
       " 'LT_PA_12_18',\n",
       " 'LT_PA_12_19',\n",
       " 'LT_PA_12_20',\n",
       " 'LT_PA_12_21',\n",
       " 'LT_PA_12_22',\n",
       " 'LT_PA_12_23',\n",
       " 'LT_PA_12_24',\n",
       " 'LT_PA_12_25',\n",
       " 'NO_PA_13_01',\n",
       " 'NO_PA_13_02',\n",
       " 'NO_PA_13_03',\n",
       " 'NO_PA_13_04',\n",
       " 'NO_PA_13_05',\n",
       " 'NO_PA_13_06',\n",
       " 'NO_PA_13_07',\n",
       " 'NO_PA_13_08',\n",
       " 'NO_PA_13_09',\n",
       " 'NO_PA_13_10',\n",
       " 'NO_PA_13_11',\n",
       " 'NO_PA_13_12',\n",
       " 'NO_PA_13_13',\n",
       " 'NO_PA_13_14',\n",
       " 'NO_PA_13_15',\n",
       " 'NO_PA_13_16',\n",
       " 'NO_PA_13_17',\n",
       " 'NO_PA_13_18',\n",
       " 'NO_PA_13_19',\n",
       " 'NO_PA_13_20',\n",
       " 'NO_PA_13_21',\n",
       " 'NO_PA_13_22',\n",
       " 'NO_PA_13_23',\n",
       " 'NO_PA_13_24',\n",
       " 'NO_PA_13_25',\n",
       " 'NO_PA_14_01',\n",
       " 'NO_PA_14_02',\n",
       " 'NO_PA_14_03',\n",
       " 'NO_PA_14_04',\n",
       " 'NO_PA_14_05',\n",
       " 'NO_PA_14_06',\n",
       " 'NO_PA_14_07',\n",
       " 'NO_PA_14_08',\n",
       " 'NO_PA_14_09',\n",
       " 'NO_PA_14_10',\n",
       " 'NO_PA_14_11',\n",
       " 'NO_PA_14_12',\n",
       " 'NO_PA_14_13',\n",
       " 'NO_PA_14_14',\n",
       " 'NO_PA_14_15',\n",
       " 'NO_PA_14_16',\n",
       " 'NO_PA_14_17',\n",
       " 'NO_PA_14_18',\n",
       " 'NO_PA_14_19',\n",
       " 'NO_PA_14_20',\n",
       " 'NO_PA_14_21',\n",
       " 'NO_PA_14_22',\n",
       " 'NO_PA_14_23',\n",
       " 'NO_PA_14_24',\n",
       " 'NO_PA_14_25',\n",
       " 'NO_PA_22_01',\n",
       " 'NO_PA_22_02',\n",
       " 'NO_PA_22_03',\n",
       " 'NO_PA_22_04',\n",
       " 'NO_PA_22_05',\n",
       " 'NO_PA_22_06',\n",
       " 'NO_PA_22_07',\n",
       " 'NO_PA_22_08',\n",
       " 'NO_PA_22_09',\n",
       " 'NO_PA_22_10',\n",
       " 'NO_PA_22_11',\n",
       " 'NO_PA_22_12',\n",
       " 'NO_PA_22_13',\n",
       " 'NO_PA_22_14',\n",
       " 'NO_PA_22_15',\n",
       " 'NO_PA_22_16',\n",
       " 'NO_PA_22_17',\n",
       " 'NO_PA_22_18',\n",
       " 'NO_PA_22_19',\n",
       " 'NO_PA_22_20',\n",
       " 'NO_PA_22_21',\n",
       " 'NO_PA_22_22',\n",
       " 'NO_PA_22_23',\n",
       " 'NO_PA_22_24',\n",
       " 'NO_PA_22_25',\n",
       " 'Obavata_07',\n",
       " 'Obavata_08',\n",
       " 'Obavata_10',\n",
       " 'Obovata_01',\n",
       " 'Obovata_02',\n",
       " 'Obovata_03',\n",
       " 'Obovata_04',\n",
       " 'Obovata_05',\n",
       " 'Obovata_06',\n",
       " 'Omorika_01',\n",
       " 'Omorika_02',\n",
       " 'PL_PA_25_01',\n",
       " 'PL_PA_25_02',\n",
       " 'PL_PA_25_03',\n",
       " 'PL_PA_25_04',\n",
       " 'PL_PA_25_05',\n",
       " 'PL_PA_25_06',\n",
       " 'PL_PA_25_07',\n",
       " 'PL_PA_25_08',\n",
       " 'PL_PA_25_09',\n",
       " 'PL_PA_25_10',\n",
       " 'PL_PA_25_11',\n",
       " 'PL_PA_25_12',\n",
       " 'PL_PA_25_13',\n",
       " 'PL_PA_25_14',\n",
       " 'PL_PA_25_15',\n",
       " 'PL_PA_25_16',\n",
       " 'PL_PA_25_17',\n",
       " 'PL_PA_25_18',\n",
       " 'PL_PA_25_19',\n",
       " 'PL_PA_25_20',\n",
       " 'PL_PA_25_21',\n",
       " 'PL_PA_25_22',\n",
       " 'PL_PA_25_23',\n",
       " 'PL_PA_25_24',\n",
       " 'PL_PA_25_25',\n",
       " 'RO_MEGA_01',\n",
       " 'RO_MEGA_02',\n",
       " 'RO_PA_24_01',\n",
       " 'RO_PA_24_02',\n",
       " 'RO_PA_24_03',\n",
       " 'RO_PA_24_04',\n",
       " 'RO_PA_24_05',\n",
       " 'RO_PA_24_06',\n",
       " 'RO_PA_24_07',\n",
       " 'RO_PA_24_08',\n",
       " 'RO_PA_24_09',\n",
       " 'RO_PA_24_10',\n",
       " 'RO_PA_24_11',\n",
       " 'RO_PA_24_12',\n",
       " 'RO_PA_24_13',\n",
       " 'RO_PA_24_14',\n",
       " 'RO_PA_24_15',\n",
       " 'RO_PA_24_16',\n",
       " 'RO_PA_24_17',\n",
       " 'RO_PA_24_18',\n",
       " 'RO_PA_24_19',\n",
       " 'RO_PA_24_20',\n",
       " 'RO_PA_24_21',\n",
       " 'RO_PA_24_22',\n",
       " 'RO_PA_24_23',\n",
       " 'RO_PA_24_24',\n",
       " 'RO_PA_24_25',\n",
       " 'RU_PA_19_01',\n",
       " 'RU_PA_19_02',\n",
       " 'RU_PA_19_03',\n",
       " 'RU_PA_19_04',\n",
       " 'RU_PA_19_05',\n",
       " 'RU_PA_19_06',\n",
       " 'RU_PA_19_07',\n",
       " 'RU_PA_19_08',\n",
       " 'RU_PA_19_09',\n",
       " 'RU_PA_19_10',\n",
       " 'RU_PA_19_11',\n",
       " 'RU_PA_19_12',\n",
       " 'RU_PA_19_13',\n",
       " 'RU_PA_19_14',\n",
       " 'RU_PA_19_15',\n",
       " 'RU_PA_19_16',\n",
       " 'RU_PA_19_17',\n",
       " 'RU_PA_19_18',\n",
       " 'RU_PA_19_19',\n",
       " 'RU_PA_19_20',\n",
       " 'RU_PA_19_21',\n",
       " 'RU_PA_19_22',\n",
       " 'RU_PA_19_23',\n",
       " 'RU_PA_19_24',\n",
       " 'RU_PA_19_25',\n",
       " 'RU_PA_20_01',\n",
       " 'RU_PA_20_02',\n",
       " 'RU_PA_20_03',\n",
       " 'RU_PA_20_04',\n",
       " 'RU_PA_20_05',\n",
       " 'RU_PA_20_06',\n",
       " 'RU_PA_20_07',\n",
       " 'RU_PA_20_08',\n",
       " 'RU_PA_20_09',\n",
       " 'RU_PA_20_10',\n",
       " 'RU_PA_20_11',\n",
       " 'RU_PA_20_12',\n",
       " 'RU_PA_20_13',\n",
       " 'RU_PA_20_14',\n",
       " 'RU_PA_20_15',\n",
       " 'RU_PA_20_16',\n",
       " 'RU_PA_20_17',\n",
       " 'RU_PA_20_18',\n",
       " 'RU_PA_20_19',\n",
       " 'RU_PA_20_20',\n",
       " 'RU_PA_20_21',\n",
       " 'RU_PA_20_22',\n",
       " 'RU_PA_20_23',\n",
       " 'RU_PA_20_24',\n",
       " 'RU_PA_20_25',\n",
       " 'RU_PA_26_01',\n",
       " 'RU_PA_26_02',\n",
       " 'RU_PA_26_03',\n",
       " 'RU_PA_26_04',\n",
       " 'RU_PA_26_06',\n",
       " 'RU_PA_26_07',\n",
       " 'RU_PA_26_08',\n",
       " 'RU_PA_26_09',\n",
       " 'RU_PA_26_10',\n",
       " 'RU_PA_26_11',\n",
       " 'SE_PA_15_01',\n",
       " 'SE_PA_15_02',\n",
       " 'SE_PA_15_03',\n",
       " 'SE_PA_15_04',\n",
       " 'SE_PA_15_05',\n",
       " 'SE_PA_15_06',\n",
       " 'SE_PA_15_07',\n",
       " 'SE_PA_15_08',\n",
       " 'SE_PA_15_09',\n",
       " 'SE_PA_15_10',\n",
       " 'SE_PA_15_11',\n",
       " 'SE_PA_15_12',\n",
       " 'SE_PA_15_13',\n",
       " 'SE_PA_15_14',\n",
       " 'SE_PA_15_15',\n",
       " 'SE_PA_15_16',\n",
       " 'SE_PA_15_17',\n",
       " 'SE_PA_15_18',\n",
       " 'SE_PA_15_19',\n",
       " 'SE_PA_15_20',\n",
       " 'SE_PA_15_21',\n",
       " 'SE_PA_15_22',\n",
       " 'SE_PA_15_23',\n",
       " 'SE_PA_15_24',\n",
       " 'SE_PA_15_25',\n",
       " 'SE_PA_16_01',\n",
       " 'SE_PA_16_02',\n",
       " 'SE_PA_16_03',\n",
       " 'SE_PA_16_04',\n",
       " 'SE_PA_16_05',\n",
       " 'SE_PA_16_06',\n",
       " 'SE_PA_16_07',\n",
       " 'SE_PA_16_08',\n",
       " 'SE_PA_16_09',\n",
       " 'SE_PA_16_10',\n",
       " 'SE_PA_16_11',\n",
       " 'SE_PA_16_12',\n",
       " 'SE_PA_16_13',\n",
       " 'SE_PA_16_14',\n",
       " 'SE_PA_16_15',\n",
       " 'SE_PA_16_16',\n",
       " 'SE_PA_16_17',\n",
       " 'SE_PA_16_18',\n",
       " 'SE_PA_16_19',\n",
       " 'SE_PA_16_20',\n",
       " 'SE_PA_16_21',\n",
       " 'SE_PA_16_22',\n",
       " 'SE_PA_16_23',\n",
       " 'SE_PA_16_24',\n",
       " 'SE_PA_16_25']"
      ]
     },
     "execution_count": 20,
     "metadata": {},
     "output_type": "execute_result"
    }
   ],
   "source": [
    "samples = callset['samples']\n",
    "samples = list(samples)\n",
    "samples"
   ]
  },
  {
   "cell_type": "markdown",
   "metadata": {},
   "source": [
    "# load metadata file"
   ]
  },
  {
   "cell_type": "code",
   "execution_count": 22,
   "metadata": {},
   "outputs": [
    {
     "data": {
      "text/html": [
       "<div>\n",
       "<style scoped>\n",
       "    .dataframe tbody tr th:only-of-type {\n",
       "        vertical-align: middle;\n",
       "    }\n",
       "\n",
       "    .dataframe tbody tr th {\n",
       "        vertical-align: top;\n",
       "    }\n",
       "\n",
       "    .dataframe thead th {\n",
       "        text-align: right;\n",
       "    }\n",
       "</style>\n",
       "<table border=\"1\" class=\"dataframe\">\n",
       "  <thead>\n",
       "    <tr style=\"text-align: right;\">\n",
       "      <th></th>\n",
       "      <th>ID</th>\n",
       "      <th>Population</th>\n",
       "    </tr>\n",
       "  </thead>\n",
       "  <tbody>\n",
       "    <tr>\n",
       "      <th>0</th>\n",
       "      <td>AT_PA_05_01</td>\n",
       "      <td>AT_PA_5</td>\n",
       "    </tr>\n",
       "    <tr>\n",
       "      <th>1</th>\n",
       "      <td>AT_PA_05_02</td>\n",
       "      <td>AT_PA_5</td>\n",
       "    </tr>\n",
       "    <tr>\n",
       "      <th>2</th>\n",
       "      <td>AT_PA_05_04</td>\n",
       "      <td>AT_PA_5</td>\n",
       "    </tr>\n",
       "    <tr>\n",
       "      <th>3</th>\n",
       "      <td>AT_PA_05_05</td>\n",
       "      <td>AT_PA_5</td>\n",
       "    </tr>\n",
       "    <tr>\n",
       "      <th>4</th>\n",
       "      <td>AT_PA_05_06</td>\n",
       "      <td>AT_PA_5</td>\n",
       "    </tr>\n",
       "    <tr>\n",
       "      <th>...</th>\n",
       "      <td>...</td>\n",
       "      <td>...</td>\n",
       "    </tr>\n",
       "    <tr>\n",
       "      <th>614</th>\n",
       "      <td>SE_PA_16_21</td>\n",
       "      <td>SE_PA_16</td>\n",
       "    </tr>\n",
       "    <tr>\n",
       "      <th>615</th>\n",
       "      <td>SE_PA_16_22</td>\n",
       "      <td>SE_PA_16</td>\n",
       "    </tr>\n",
       "    <tr>\n",
       "      <th>616</th>\n",
       "      <td>SE_PA_16_23</td>\n",
       "      <td>SE_PA_16</td>\n",
       "    </tr>\n",
       "    <tr>\n",
       "      <th>617</th>\n",
       "      <td>SE_PA_16_24</td>\n",
       "      <td>SE_PA_16</td>\n",
       "    </tr>\n",
       "    <tr>\n",
       "      <th>618</th>\n",
       "      <td>SE_PA_16_25</td>\n",
       "      <td>SE_PA_16</td>\n",
       "    </tr>\n",
       "  </tbody>\n",
       "</table>\n",
       "<p>619 rows × 2 columns</p>\n",
       "</div>"
      ],
      "text/plain": [
       "              ID Population\n",
       "0    AT_PA_05_01    AT_PA_5\n",
       "1    AT_PA_05_02    AT_PA_5\n",
       "2    AT_PA_05_04    AT_PA_5\n",
       "3    AT_PA_05_05    AT_PA_5\n",
       "4    AT_PA_05_06    AT_PA_5\n",
       "..           ...        ...\n",
       "614  SE_PA_16_21   SE_PA_16\n",
       "615  SE_PA_16_22   SE_PA_16\n",
       "616  SE_PA_16_23   SE_PA_16\n",
       "617  SE_PA_16_24   SE_PA_16\n",
       "618  SE_PA_16_25   SE_PA_16\n",
       "\n",
       "[619 rows x 2 columns]"
      ]
     },
     "execution_count": 22,
     "metadata": {},
     "output_type": "execute_result"
    }
   ],
   "source": [
    "samples_fn = '/wrk/Gen_Tree/GenTree_Genome_mapping/Picea_abies/Pabies_SAMPLES_raw_snps.txt'\n",
    "samples = pandas.read_csv(samples_fn, sep='\\t')\n",
    "samples"
   ]
  },
  {
   "cell_type": "code",
   "execution_count": 23,
   "metadata": {},
   "outputs": [
    {
     "data": {
      "text/plain": [
       "LT_PA_11    25\n",
       "NO_PA_14    25\n",
       "CH_PA_2     25\n",
       "FI_PA_17    25\n",
       "FI_PA_18    25\n",
       "GE_PA_10    25\n",
       "RU_PA_20    25\n",
       "LT_PA_12    25\n",
       "SE_PA_15    25\n",
       "FR_PA_21    25\n",
       "GE_PA_9     25\n",
       "IT_PA_4     25\n",
       "PL_PA_25    25\n",
       "RO_PA_24    25\n",
       "AT_PA_6     25\n",
       "RU_PA_19    25\n",
       "GR_PA_8     25\n",
       "NO_PA_22    25\n",
       "SE_PA_16    25\n",
       "CH_PA_1     25\n",
       "NO_PA_13    25\n",
       "AT_PA_5     24\n",
       "GR_PA_7     24\n",
       "IT_PA_3     23\n",
       "RU_PA_26    10\n",
       "Obovata      6\n",
       "Obavata      3\n",
       "RO_MEGA      2\n",
       "Omorika      2\n",
       "Name: Population, dtype: int64"
      ]
     },
     "execution_count": 23,
     "metadata": {},
     "output_type": "execute_result"
    }
   ],
   "source": [
    "samples.Population.value_counts()"
   ]
  },
  {
   "cell_type": "code",
   "execution_count": 24,
   "metadata": {},
   "outputs": [
    {
     "data": {
      "text/plain": [
       "array([ True,  True,  True,  True,  True])"
      ]
     },
     "execution_count": 24,
     "metadata": {},
     "output_type": "execute_result"
    }
   ],
   "source": [
    "sample_selection = samples.Population.isin({'AT_PA_5', 'AT_PA_6', 'CH_PA_1', 'CH_PA_2', 'FI_PA_17', 'FI_PA_18',\n",
    "       'FR_PA_21', 'GE_PA_9', 'GE_PA_10', 'GR_PA_7', 'GR_PA_8', 'IT_PA_3',\n",
    "       'IT_PA_4', 'LT_PA_11', 'LT_PA_12', 'NO_PA_13', 'NO_PA_14',\n",
    "       'NO_PA_22', 'Obavata', 'Obovata', 'Omorika', 'PL_PA_25', 'RO_MEGA',\n",
    "       'RO_PA_24', 'RU_PA_19', 'RU_PA_20', 'RU_PA_26', 'SE_PA_15',\n",
    "       'SE_PA_16'}).values\n",
    "sample_selection[:5]"
   ]
  },
  {
   "cell_type": "code",
   "execution_count": 25,
   "metadata": {},
   "outputs": [
    {
     "data": {
      "text/html": [
       "<div>\n",
       "<style scoped>\n",
       "    .dataframe tbody tr th:only-of-type {\n",
       "        vertical-align: middle;\n",
       "    }\n",
       "\n",
       "    .dataframe tbody tr th {\n",
       "        vertical-align: top;\n",
       "    }\n",
       "\n",
       "    .dataframe thead th {\n",
       "        text-align: right;\n",
       "    }\n",
       "</style>\n",
       "<table border=\"1\" class=\"dataframe\">\n",
       "  <thead>\n",
       "    <tr style=\"text-align: right;\">\n",
       "      <th></th>\n",
       "      <th>ID</th>\n",
       "      <th>Population</th>\n",
       "    </tr>\n",
       "  </thead>\n",
       "  <tbody>\n",
       "    <tr>\n",
       "      <th>0</th>\n",
       "      <td>AT_PA_05_01</td>\n",
       "      <td>AT_PA_5</td>\n",
       "    </tr>\n",
       "    <tr>\n",
       "      <th>1</th>\n",
       "      <td>AT_PA_05_02</td>\n",
       "      <td>AT_PA_5</td>\n",
       "    </tr>\n",
       "    <tr>\n",
       "      <th>2</th>\n",
       "      <td>AT_PA_05_04</td>\n",
       "      <td>AT_PA_5</td>\n",
       "    </tr>\n",
       "    <tr>\n",
       "      <th>3</th>\n",
       "      <td>AT_PA_05_05</td>\n",
       "      <td>AT_PA_5</td>\n",
       "    </tr>\n",
       "    <tr>\n",
       "      <th>4</th>\n",
       "      <td>AT_PA_05_06</td>\n",
       "      <td>AT_PA_5</td>\n",
       "    </tr>\n",
       "    <tr>\n",
       "      <th>...</th>\n",
       "      <td>...</td>\n",
       "      <td>...</td>\n",
       "    </tr>\n",
       "    <tr>\n",
       "      <th>614</th>\n",
       "      <td>SE_PA_16_21</td>\n",
       "      <td>SE_PA_16</td>\n",
       "    </tr>\n",
       "    <tr>\n",
       "      <th>615</th>\n",
       "      <td>SE_PA_16_22</td>\n",
       "      <td>SE_PA_16</td>\n",
       "    </tr>\n",
       "    <tr>\n",
       "      <th>616</th>\n",
       "      <td>SE_PA_16_23</td>\n",
       "      <td>SE_PA_16</td>\n",
       "    </tr>\n",
       "    <tr>\n",
       "      <th>617</th>\n",
       "      <td>SE_PA_16_24</td>\n",
       "      <td>SE_PA_16</td>\n",
       "    </tr>\n",
       "    <tr>\n",
       "      <th>618</th>\n",
       "      <td>SE_PA_16_25</td>\n",
       "      <td>SE_PA_16</td>\n",
       "    </tr>\n",
       "  </tbody>\n",
       "</table>\n",
       "<p>619 rows × 2 columns</p>\n",
       "</div>"
      ],
      "text/plain": [
       "              ID Population\n",
       "0    AT_PA_05_01    AT_PA_5\n",
       "1    AT_PA_05_02    AT_PA_5\n",
       "2    AT_PA_05_04    AT_PA_5\n",
       "3    AT_PA_05_05    AT_PA_5\n",
       "4    AT_PA_05_06    AT_PA_5\n",
       "..           ...        ...\n",
       "614  SE_PA_16_21   SE_PA_16\n",
       "615  SE_PA_16_22   SE_PA_16\n",
       "616  SE_PA_16_23   SE_PA_16\n",
       "617  SE_PA_16_24   SE_PA_16\n",
       "618  SE_PA_16_25   SE_PA_16\n",
       "\n",
       "[619 rows x 2 columns]"
      ]
     },
     "execution_count": 25,
     "metadata": {},
     "output_type": "execute_result"
    }
   ],
   "source": [
    "samples_subset = samples[sample_selection]\n",
    "samples_subset.reset_index(drop=True, inplace=True)\n",
    "samples_subset"
   ]
  },
  {
   "cell_type": "code",
   "execution_count": null,
   "metadata": {},
   "outputs": [],
   "source": []
  },
  {
   "cell_type": "code",
   "execution_count": 26,
   "metadata": {},
   "outputs": [
    {
     "name": "stdout",
     "output_type": "stream",
     "text": [
      "CPU times: user 9.37 s, sys: 235 ms, total: 9.61 s\n",
      "Wall time: 8.83 s\n"
     ]
    }
   ],
   "source": [
    "%%time\n",
    "genotypes_subset = genotypes.subset(variant_selection, sample_selection)"
   ]
  },
  {
   "cell_type": "code",
   "execution_count": 27,
   "metadata": {},
   "outputs": [
    {
     "data": {
      "text/html": [
       "<div class=\"allel allel-DisplayAs2D\"><span>&lt;GenotypeChunkedArray shape=(856832, 619, 2) dtype=int8 chunks=(1674, 619, 2)\n",
       "   nbytes=1011.6M cbytes=197.6M cratio=5.1\n",
       "   compression=blosc compression_opts={'cname': 'lz4', 'clevel': 5, 'shuffle': 1, 'blocksize': 0}\n",
       "   values=zarr.core.Array&gt;</span><table><thead><tr><th></th><th style=\"text-align: center\">0</th><th style=\"text-align: center\">1</th><th style=\"text-align: center\">2</th><th style=\"text-align: center\">3</th><th style=\"text-align: center\">4</th><th style=\"text-align: center\">...</th><th style=\"text-align: center\">614</th><th style=\"text-align: center\">615</th><th style=\"text-align: center\">616</th><th style=\"text-align: center\">617</th><th style=\"text-align: center\">618</th></tr></thead><tbody><tr><th style=\"text-align: center; background-color: white; border-right: 1px solid black; \">0</th><td style=\"text-align: center\">0/0</td><td style=\"text-align: center\">0/0</td><td style=\"text-align: center\">0/0</td><td style=\"text-align: center\">0/0</td><td style=\"text-align: center\">0/0</td><td style=\"text-align: center\">...</td><td style=\"text-align: center\">0/0</td><td style=\"text-align: center\">0/0</td><td style=\"text-align: center\">0/0</td><td style=\"text-align: center\">0/0</td><td style=\"text-align: center\">0/0</td></tr><tr><th style=\"text-align: center; background-color: white; border-right: 1px solid black; \">1</th><td style=\"text-align: center\">0/1</td><td style=\"text-align: center\">0/0</td><td style=\"text-align: center\">0/0</td><td style=\"text-align: center\">1/1</td><td style=\"text-align: center\">0/1</td><td style=\"text-align: center\">...</td><td style=\"text-align: center\">0/0</td><td style=\"text-align: center\">0/0</td><td style=\"text-align: center\">0/0</td><td style=\"text-align: center\">0/0</td><td style=\"text-align: center\">0/1</td></tr><tr><th style=\"text-align: center; background-color: white; border-right: 1px solid black; \">2</th><td style=\"text-align: center\">0/0</td><td style=\"text-align: center\">0/0</td><td style=\"text-align: center\">0/0</td><td style=\"text-align: center\">0/0</td><td style=\"text-align: center\">0/0</td><td style=\"text-align: center\">...</td><td style=\"text-align: center\">0/0</td><td style=\"text-align: center\">0/0</td><td style=\"text-align: center\">0/0</td><td style=\"text-align: center\">0/0</td><td style=\"text-align: center\">0/0</td></tr><tr><th style=\"text-align: center; background-color: white; border-right: 1px solid black; \">...</th><td style=\"text-align: center\" colspan=\"12\">...</td></tr><tr><th style=\"text-align: center; background-color: white; border-right: 1px solid black; \">856829</th><td style=\"text-align: center\">./.</td><td style=\"text-align: center\">./.</td><td style=\"text-align: center\">0/0</td><td style=\"text-align: center\">./.</td><td style=\"text-align: center\">0/0</td><td style=\"text-align: center\">...</td><td style=\"text-align: center\">0/0</td><td style=\"text-align: center\">0/0</td><td style=\"text-align: center\">0/0</td><td style=\"text-align: center\">0/0</td><td style=\"text-align: center\">0/0</td></tr><tr><th style=\"text-align: center; background-color: white; border-right: 1px solid black; \">856830</th><td style=\"text-align: center\">0/0</td><td style=\"text-align: center\">0/0</td><td style=\"text-align: center\">0/0</td><td style=\"text-align: center\">0/0</td><td style=\"text-align: center\">0/0</td><td style=\"text-align: center\">...</td><td style=\"text-align: center\">./.</td><td style=\"text-align: center\">0/0</td><td style=\"text-align: center\">0/0</td><td style=\"text-align: center\">./.</td><td style=\"text-align: center\">0/0</td></tr><tr><th style=\"text-align: center; background-color: white; border-right: 1px solid black; \">856831</th><td style=\"text-align: center\">0/0</td><td style=\"text-align: center\">0/0</td><td style=\"text-align: center\">0/0</td><td style=\"text-align: center\">0/0</td><td style=\"text-align: center\">0/0</td><td style=\"text-align: center\">...</td><td style=\"text-align: center\">./.</td><td style=\"text-align: center\">0/0</td><td style=\"text-align: center\">0/0</td><td style=\"text-align: center\">./.</td><td style=\"text-align: center\">0/0</td></tr></tbody></table></div>"
      ],
      "text/plain": [
       "<GenotypeChunkedArray shape=(856832, 619, 2) dtype=int8 chunks=(1674, 619, 2)\n",
       "   nbytes=1011.6M cbytes=197.6M cratio=5.1\n",
       "   compression=blosc compression_opts={'cname': 'lz4', 'clevel': 5, 'shuffle': 1, 'blocksize': 0}\n",
       "   values=zarr.core.Array>"
      ]
     },
     "execution_count": 27,
     "metadata": {},
     "output_type": "execute_result"
    }
   ],
   "source": [
    "genotypes_subset"
   ]
  },
  {
   "cell_type": "markdown",
   "metadata": {},
   "source": [
    "### grab the allele counts for the populations"
   ]
  },
  {
   "cell_type": "code",
   "execution_count": 32,
   "metadata": {},
   "outputs": [
    {
     "data": {
      "text/html": [
       "<div class=\"allel allel-DisplayAs2D\"><span>&lt;AlleleCountsChunkedArray shape=(856832, 5) dtype=int32 chunks=(26776, 5)\n",
       "   nbytes=16.3M cbytes=3.7M cratio=4.4\n",
       "   compression=blosc compression_opts={'cname': 'lz4', 'clevel': 5, 'shuffle': 1, 'blocksize': 0}\n",
       "   values=zarr.core.Array&gt;</span><table><thead><tr><th></th><th style=\"text-align: center\">0</th><th style=\"text-align: center\">1</th><th style=\"text-align: center\">2</th><th style=\"text-align: center\">3</th><th style=\"text-align: center\">4</th></tr></thead><tbody><tr><th style=\"text-align: center; background-color: white; border-right: 1px solid black; \">0</th><td style=\"text-align: center\">1093</td><td style=\"text-align: center\">  11</td><td style=\"text-align: center\">   0</td><td style=\"text-align: center\">   0</td><td style=\"text-align: center\">   0</td></tr><tr><th style=\"text-align: center; background-color: white; border-right: 1px solid black; \">1</th><td style=\"text-align: center\"> 859</td><td style=\"text-align: center\"> 200</td><td style=\"text-align: center\">  11</td><td style=\"text-align: center\">   0</td><td style=\"text-align: center\">   0</td></tr><tr><th style=\"text-align: center; background-color: white; border-right: 1px solid black; \">2</th><td style=\"text-align: center\">1099</td><td style=\"text-align: center\">   5</td><td style=\"text-align: center\">   0</td><td style=\"text-align: center\">   0</td><td style=\"text-align: center\">   0</td></tr><tr><th style=\"text-align: center; background-color: white; border-right: 1px solid black; \">...</th><td style=\"text-align: center\" colspan=\"6\">...</td></tr><tr><th style=\"text-align: center; background-color: white; border-right: 1px solid black; \">856829</th><td style=\"text-align: center\">946</td><td style=\"text-align: center\">  2</td><td style=\"text-align: center\">  0</td><td style=\"text-align: center\">  0</td><td style=\"text-align: center\">  0</td></tr><tr><th style=\"text-align: center; background-color: white; border-right: 1px solid black; \">856830</th><td style=\"text-align: center\">929</td><td style=\"text-align: center\">  1</td><td style=\"text-align: center\">  0</td><td style=\"text-align: center\">  0</td><td style=\"text-align: center\">  0</td></tr><tr><th style=\"text-align: center; background-color: white; border-right: 1px solid black; \">856831</th><td style=\"text-align: center\">927</td><td style=\"text-align: center\">  1</td><td style=\"text-align: center\">  0</td><td style=\"text-align: center\">  0</td><td style=\"text-align: center\">  0</td></tr></tbody></table></div>"
      ],
      "text/plain": [
       "<AlleleCountsChunkedArray shape=(856832, 5) dtype=int32 chunks=(26776, 5)\n",
       "   nbytes=16.3M cbytes=3.7M cratio=4.4\n",
       "   compression=blosc compression_opts={'cname': 'lz4', 'clevel': 5, 'shuffle': 1, 'blocksize': 0}\n",
       "   values=zarr.core.Array>"
      ]
     },
     "execution_count": 32,
     "metadata": {},
     "output_type": "execute_result"
    }
   ],
   "source": [
    "ac = genotypes_subset.count_alleles()\n",
    "ac"
   ]
  },
  {
   "cell_type": "markdown",
   "metadata": {},
   "source": [
    "### Which ones are biallelic?"
   ]
  },
  {
   "cell_type": "code",
   "execution_count": 33,
   "metadata": {},
   "outputs": [
    {
     "data": {
      "text/plain": [
       "array([[1093,   11],\n",
       "       [1099,    5],\n",
       "       [1020,   56],\n",
       "       ...,\n",
       "       [ 946,    2],\n",
       "       [ 929,    1],\n",
       "       [ 927,    1]], dtype=int32)"
      ]
     },
     "execution_count": 33,
     "metadata": {},
     "output_type": "execute_result"
    }
   ],
   "source": [
    "is_biallelic_01 = ac.is_biallelic_01()[:]\n",
    "ac1 = ac.compress(is_biallelic_01, axis=0)[:, :2]\n",
    "ac1\n",
    "##this part of the code is only for graphing the SFS, is not useful for filtering biallelic sites"
   ]
  },
  {
   "cell_type": "markdown",
   "metadata": {},
   "source": [
    "### Plot the SFS of the derived allele"
   ]
  },
  {
   "cell_type": "code",
   "execution_count": 34,
   "metadata": {},
   "outputs": [
    {
     "data": {
      "text/plain": [
       "<matplotlib.axes._subplots.AxesSubplot at 0x7fd9e011a9d0>"
      ]
     },
     "execution_count": 34,
     "metadata": {},
     "output_type": "execute_result"
    },
    {
     "data": {
      "image/png": "[encoded data removed]",
      "text/plain": [
       "<Figure size 432x288 with 1 Axes>"
      ]
     },
     "metadata": {},
     "output_type": "display_data"
    }
   ],
   "source": [
    "s = allel.sfs_folded(ac1)\n",
    "allel.plot_sfs(s, yscale=\"linear\", n=ac1.sum(axis=1).max())"
   ]
  },
  {
   "cell_type": "markdown",
   "metadata": {},
   "source": [
    "### Select only biallelic variants"
   ]
  },
  {
   "cell_type": "code",
   "execution_count": 35,
   "metadata": {},
   "outputs": [],
   "source": [
    "biallelic = (ac.max_allele() == 1)\n",
    "###This is the filter expression for biallelic sites"
   ]
  },
  {
   "cell_type": "code",
   "execution_count": 38,
   "metadata": {},
   "outputs": [
    {
     "data": {
      "text/plain": [
       "<ChunkedArrayWrapper shape=(856832,) dtype=bool chunks=(214208,)\n",
       "   nbytes=836.8K cbytes=302.5K cratio=2.8\n",
       "   compression=blosc compression_opts={'cname': 'lz4', 'clevel': 5, 'shuffle': 1, 'blocksize': 0}\n",
       "   values=zarr.core.Array>"
      ]
     },
     "execution_count": 38,
     "metadata": {},
     "output_type": "execute_result"
    }
   ],
   "source": [
    "biallelic"
   ]
  },
  {
   "cell_type": "code",
   "execution_count": 36,
   "metadata": {},
   "outputs": [
    {
     "name": "stdout",
     "output_type": "stream",
     "text": [
      "CPU times: user 3.41 s, sys: 187 ms, total: 3.6 s\n",
      "Wall time: 1.11 s\n"
     ]
    },
    {
     "data": {
      "text/html": [
       "<div class=\"allel allel-DisplayAs2D\"><span>&lt;GenotypeChunkedArray shape=(699503, 619, 2) dtype=int8 chunks=(1367, 619, 2)\n",
       "   nbytes=825.9M cbytes=147.0M cratio=5.6\n",
       "   compression=blosc compression_opts={'cname': 'lz4', 'clevel': 5, 'shuffle': 1, 'blocksize': 0}\n",
       "   values=zarr.core.Array&gt;</span><table><thead><tr><th></th><th style=\"text-align: center\">0</th><th style=\"text-align: center\">1</th><th style=\"text-align: center\">2</th><th style=\"text-align: center\">3</th><th style=\"text-align: center\">4</th><th style=\"text-align: center\">...</th><th style=\"text-align: center\">614</th><th style=\"text-align: center\">615</th><th style=\"text-align: center\">616</th><th style=\"text-align: center\">617</th><th style=\"text-align: center\">618</th></tr></thead><tbody><tr><th style=\"text-align: center; background-color: white; border-right: 1px solid black; \">0</th><td style=\"text-align: center\">0/0</td><td style=\"text-align: center\">0/0</td><td style=\"text-align: center\">0/0</td><td style=\"text-align: center\">0/0</td><td style=\"text-align: center\">0/0</td><td style=\"text-align: center\">...</td><td style=\"text-align: center\">0/0</td><td style=\"text-align: center\">0/0</td><td style=\"text-align: center\">0/0</td><td style=\"text-align: center\">0/0</td><td style=\"text-align: center\">0/0</td></tr><tr><th style=\"text-align: center; background-color: white; border-right: 1px solid black; \">1</th><td style=\"text-align: center\">0/0</td><td style=\"text-align: center\">0/0</td><td style=\"text-align: center\">0/0</td><td style=\"text-align: center\">0/0</td><td style=\"text-align: center\">0/0</td><td style=\"text-align: center\">...</td><td style=\"text-align: center\">0/0</td><td style=\"text-align: center\">0/0</td><td style=\"text-align: center\">0/0</td><td style=\"text-align: center\">0/0</td><td style=\"text-align: center\">0/0</td></tr><tr><th style=\"text-align: center; background-color: white; border-right: 1px solid black; \">2</th><td style=\"text-align: center\">0/1</td><td style=\"text-align: center\">1/1</td><td style=\"text-align: center\">0/0</td><td style=\"text-align: center\">0/0</td><td style=\"text-align: center\">0/1</td><td style=\"text-align: center\">...</td><td style=\"text-align: center\">0/0</td><td style=\"text-align: center\">0/0</td><td style=\"text-align: center\">0/0</td><td style=\"text-align: center\">0/0</td><td style=\"text-align: center\">0/0</td></tr><tr><th style=\"text-align: center; background-color: white; border-right: 1px solid black; \">...</th><td style=\"text-align: center\" colspan=\"12\">...</td></tr><tr><th style=\"text-align: center; background-color: white; border-right: 1px solid black; \">699500</th><td style=\"text-align: center\">./.</td><td style=\"text-align: center\">./.</td><td style=\"text-align: center\">0/0</td><td style=\"text-align: center\">./.</td><td style=\"text-align: center\">0/0</td><td style=\"text-align: center\">...</td><td style=\"text-align: center\">0/0</td><td style=\"text-align: center\">0/0</td><td style=\"text-align: center\">0/0</td><td style=\"text-align: center\">0/0</td><td style=\"text-align: center\">0/0</td></tr><tr><th style=\"text-align: center; background-color: white; border-right: 1px solid black; \">699501</th><td style=\"text-align: center\">0/0</td><td style=\"text-align: center\">0/0</td><td style=\"text-align: center\">0/0</td><td style=\"text-align: center\">0/0</td><td style=\"text-align: center\">0/0</td><td style=\"text-align: center\">...</td><td style=\"text-align: center\">./.</td><td style=\"text-align: center\">0/0</td><td style=\"text-align: center\">0/0</td><td style=\"text-align: center\">./.</td><td style=\"text-align: center\">0/0</td></tr><tr><th style=\"text-align: center; background-color: white; border-right: 1px solid black; \">699502</th><td style=\"text-align: center\">0/0</td><td style=\"text-align: center\">0/0</td><td style=\"text-align: center\">0/0</td><td style=\"text-align: center\">0/0</td><td style=\"text-align: center\">0/0</td><td style=\"text-align: center\">...</td><td style=\"text-align: center\">./.</td><td style=\"text-align: center\">0/0</td><td style=\"text-align: center\">0/0</td><td style=\"text-align: center\">./.</td><td style=\"text-align: center\">0/0</td></tr></tbody></table></div>"
      ],
      "text/plain": [
       "<GenotypeChunkedArray shape=(699503, 619, 2) dtype=int8 chunks=(1367, 619, 2)\n",
       "   nbytes=825.9M cbytes=147.0M cratio=5.6\n",
       "   compression=blosc compression_opts={'cname': 'lz4', 'clevel': 5, 'shuffle': 1, 'blocksize': 0}\n",
       "   values=zarr.core.Array>"
      ]
     },
     "execution_count": 36,
     "metadata": {},
     "output_type": "execute_result"
    }
   ],
   "source": [
    "%%time\n",
    "genotypes_subset_2 = genotypes_subset.compress(biallelic)\n",
    "genotypes_subset_2\n",
    "###subset the array genotypes_subset by keeping only biallelic sites. "
   ]
  },
  {
   "cell_type": "code",
   "execution_count": 37,
   "metadata": {},
   "outputs": [
    {
     "data": {
      "text/plain": [
       "699503"
      ]
     },
     "execution_count": 37,
     "metadata": {},
     "output_type": "execute_result"
    }
   ],
   "source": [
    "n_variants = len(genotypes_subset_2)\n",
    "n_variants"
   ]
  },
  {
   "cell_type": "code",
   "execution_count": 38,
   "metadata": {},
   "outputs": [],
   "source": [
    "pc_missing = genotypes_subset_2.count_missing(axis=0)[:] * 100 / n_variants\n",
    "pc_het = genotypes_subset_2.count_het(axis=0)[:] * 100 / n_variants"
   ]
  },
  {
   "cell_type": "code",
   "execution_count": 39,
   "metadata": {},
   "outputs": [
    {
     "data": {
      "text/plain": [
       "array(['AT_PA_5', 'AT_PA_6', 'CH_PA_1', 'CH_PA_2', 'FI_PA_17', 'FI_PA_18',\n",
       "       'FR_PA_21', 'GE_PA_9', 'GE_PA_10', 'GR_PA_7', 'GR_PA_8', 'IT_PA_3',\n",
       "       'IT_PA_4', 'LT_PA_11', 'LT_PA_12', 'NO_PA_13', 'NO_PA_14',\n",
       "       'NO_PA_22', 'Obavata', 'Obovata', 'Omorika', 'PL_PA_25', 'RO_MEGA',\n",
       "       'RO_PA_24', 'RU_PA_19', 'RU_PA_20', 'RU_PA_26', 'SE_PA_15',\n",
       "       'SE_PA_16'], dtype=object)"
      ]
     },
     "execution_count": 39,
     "metadata": {},
     "output_type": "execute_result"
    }
   ],
   "source": [
    "samples.Population.unique()\n",
    "###This identifiers come from the metadata file"
   ]
  },
  {
   "cell_type": "code",
   "execution_count": 44,
   "metadata": {},
   "outputs": [],
   "source": [
    "def plot_genotype_frequency(pc, title):\n",
    "    fig, ax = plt.subplots(figsize=(29, 5))\n",
    "    sns.despine(ax=ax, offset=29)\n",
    "    left = np.arange(len(pc))\n",
    "    palette = sns.color_palette(\"bright\", 29)\n",
    "    pop2color = {'AT_PA_5': palette[0], \n",
    "                 'AT_PA_6': palette[1], \n",
    "                 'CH_PA_1': palette[2], \n",
    "                 'CH_PA_2': palette[3], \n",
    "                 'FI_PA_17': palette[4],\n",
    "                 'FI_PA_18': palette[5], \n",
    "                 'FR_PA_21': palette[6], \n",
    "                 'GE_PA_9': palette[7],\n",
    "                 'GE_PA_10': palette[8],\n",
    "                 'GR_PA_7': palette[9],\n",
    "                 'GR_PA_8': palette[10],\n",
    "                 'IT_PA_3': palette[11], \n",
    "                 'IT_PA_4': palette[12],\n",
    "                 'LT_PA_11': palette[13],\n",
    "                 'LT_PA_12': palette[14],\n",
    "                 'NO_PA_13': palette[15],\n",
    "                 'NO_PA_14': palette[16],\n",
    "                 'NO_PA_22': palette[17],\n",
    "                 'Obavata': palette[18],\n",
    "                 'Obovata': palette[19],\n",
    "                 'Omorika': palette[20],\n",
    "                 'PL_PA_25': palette[21],\n",
    "                 'RO_MEGA': palette[22],\n",
    "                 'RO_PA_24': palette[23],\n",
    "                 'RU_PA_19': palette[24],\n",
    "                 'RU_PA_20': palette[25],\n",
    "                 'RU_PA_26': palette[26],\n",
    "                 'SE_PA_15': palette[27],\n",
    "                 'SE_PA_16': palette[28]}\n",
    "    colors = [pop2color[p] for p in samples.Population]\n",
    "    ax.bar(left, pc, color=colors)\n",
    "    ax.set_xlim(0, len(pc))\n",
    "    ax.set_xlabel('Sample index')\n",
    "    ax.set_ylabel('Percent calls')\n",
    "    ax.set_title(title)\n",
    "    handles = [mpl.patches.Patch(color=palette[0]),\n",
    "               mpl.patches.Patch(color=palette[1]),\n",
    "               mpl.patches.Patch(color=palette[2]),\n",
    "               mpl.patches.Patch(color=palette[3]),\n",
    "               mpl.patches.Patch(color=palette[4]),\n",
    "               mpl.patches.Patch(color=palette[5]),\n",
    "               mpl.patches.Patch(color=palette[6]),\n",
    "               mpl.patches.Patch(color=palette[7]),\n",
    "               mpl.patches.Patch(color=palette[8]),\n",
    "               mpl.patches.Patch(color=palette[9]),\n",
    "               mpl.patches.Patch(color=palette[10]),\n",
    "               mpl.patches.Patch(color=palette[11]),\n",
    "               mpl.patches.Patch(color=palette[12]),\n",
    "               mpl.patches.Patch(color=palette[13]),\n",
    "               mpl.patches.Patch(color=palette[14]),\n",
    "               mpl.patches.Patch(color=palette[15]),\n",
    "               mpl.patches.Patch(color=palette[16]),\n",
    "               mpl.patches.Patch(color=palette[17]),\n",
    "               mpl.patches.Patch(color=palette[18]),\n",
    "               mpl.patches.Patch(color=palette[19]),\n",
    "               mpl.patches.Patch(color=palette[20]),\n",
    "               mpl.patches.Patch(color=palette[21]),\n",
    "               mpl.patches.Patch(color=palette[22]),\n",
    "               mpl.patches.Patch(color=palette[23]),\n",
    "               mpl.patches.Patch(color=palette[24]),\n",
    "               mpl.patches.Patch(color=palette[25]),\n",
    "               mpl.patches.Patch(color=palette[26]),\n",
    "               mpl.patches.Patch(color=palette[27]),\n",
    "               mpl.patches.Patch(color=palette[28])]\n",
    "    ax.legend(handles=handles, labels=['AT_PA_5', 'AT_PA_6', 'CH_PA_1', 'CH_PA_2', 'FI_PA_17', 'FI_PA_18',\n",
    "       'FR_PA_21', 'GE_PA_9', 'GE_PA_10', 'GR_PA_7', 'GR_PA_8', 'IT_PA_3',\n",
    "       'IT_PA_4', 'LT_PA_11', 'LT_PA_12', 'NO_PA_13', 'NO_PA_14',\n",
    "       'NO_PA_22', 'Obavata', 'Obovata', 'Omorika', 'PL_PA_25', 'RO_MEGA',\n",
    "       'RO_PA_24', 'RU_PA_19', 'RU_PA_20', 'RU_PA_26', 'SE_PA_15',\n",
    "       'SE_PA_16'], title='Population',\n",
    "              bbox_to_anchor=(1, 1), loc='upper left')"
   ]
  },
  {
   "cell_type": "code",
   "execution_count": 45,
   "metadata": {},
   "outputs": [
    {
     "data": {
      "image/png": "[encoded data removed]",
      "text/plain": [
       "<Figure size 2088x360 with 1 Axes>"
      ]
     },
     "metadata": {},
     "output_type": "display_data"
    }
   ],
   "source": [
    "plot_genotype_frequency(pc_missing, 'Missing')"
   ]
  },
  {
   "cell_type": "code",
   "execution_count": 46,
   "metadata": {},
   "outputs": [
    {
     "data": {
      "image/png": "[encoded data removed]",
      "text/plain": [
       "<Figure size 2088x360 with 1 Axes>"
      ]
     },
     "metadata": {},
     "output_type": "display_data"
    }
   ],
   "source": [
    "plot_genotype_frequency(pc_het, 'Heterozygosity')"
   ]
  },
  {
   "cell_type": "code",
   "execution_count": 160,
   "metadata": {},
   "outputs": [
    {
     "data": {
      "text/plain": [
       "83"
      ]
     },
     "execution_count": 160,
     "metadata": {},
     "output_type": "execute_result"
    }
   ],
   "source": [
    "np.argsort(pc_missing)[-1]\n",
    "###sample with highest amount of missing data"
   ]
  },
  {
   "cell_type": "code",
   "execution_count": 47,
   "metadata": {},
   "outputs": [
    {
     "data": {
      "text/html": [
       "<div>\n",
       "<style scoped>\n",
       "    .dataframe tbody tr th:only-of-type {\n",
       "        vertical-align: middle;\n",
       "    }\n",
       "\n",
       "    .dataframe tbody tr th {\n",
       "        vertical-align: top;\n",
       "    }\n",
       "\n",
       "    .dataframe thead th {\n",
       "        text-align: right;\n",
       "    }\n",
       "</style>\n",
       "<table border=\"1\" class=\"dataframe\">\n",
       "  <thead>\n",
       "    <tr style=\"text-align: right;\">\n",
       "      <th></th>\n",
       "      <th>ID</th>\n",
       "      <th>Population</th>\n",
       "    </tr>\n",
       "  </thead>\n",
       "  <tbody>\n",
       "    <tr>\n",
       "      <th>0</th>\n",
       "      <td>AT_PA_05_01</td>\n",
       "      <td>AT_PA_5</td>\n",
       "    </tr>\n",
       "    <tr>\n",
       "      <th>1</th>\n",
       "      <td>AT_PA_05_02</td>\n",
       "      <td>AT_PA_5</td>\n",
       "    </tr>\n",
       "    <tr>\n",
       "      <th>2</th>\n",
       "      <td>AT_PA_05_04</td>\n",
       "      <td>AT_PA_5</td>\n",
       "    </tr>\n",
       "    <tr>\n",
       "      <th>3</th>\n",
       "      <td>AT_PA_05_05</td>\n",
       "      <td>AT_PA_5</td>\n",
       "    </tr>\n",
       "    <tr>\n",
       "      <th>4</th>\n",
       "      <td>AT_PA_05_06</td>\n",
       "      <td>AT_PA_5</td>\n",
       "    </tr>\n",
       "    <tr>\n",
       "      <th>...</th>\n",
       "      <td>...</td>\n",
       "      <td>...</td>\n",
       "    </tr>\n",
       "    <tr>\n",
       "      <th>614</th>\n",
       "      <td>SE_PA_16_21</td>\n",
       "      <td>SE_PA_16</td>\n",
       "    </tr>\n",
       "    <tr>\n",
       "      <th>615</th>\n",
       "      <td>SE_PA_16_22</td>\n",
       "      <td>SE_PA_16</td>\n",
       "    </tr>\n",
       "    <tr>\n",
       "      <th>616</th>\n",
       "      <td>SE_PA_16_23</td>\n",
       "      <td>SE_PA_16</td>\n",
       "    </tr>\n",
       "    <tr>\n",
       "      <th>617</th>\n",
       "      <td>SE_PA_16_24</td>\n",
       "      <td>SE_PA_16</td>\n",
       "    </tr>\n",
       "    <tr>\n",
       "      <th>618</th>\n",
       "      <td>SE_PA_16_25</td>\n",
       "      <td>SE_PA_16</td>\n",
       "    </tr>\n",
       "  </tbody>\n",
       "</table>\n",
       "<p>619 rows × 2 columns</p>\n",
       "</div>"
      ],
      "text/plain": [
       "              ID Population\n",
       "0    AT_PA_05_01    AT_PA_5\n",
       "1    AT_PA_05_02    AT_PA_5\n",
       "2    AT_PA_05_04    AT_PA_5\n",
       "3    AT_PA_05_05    AT_PA_5\n",
       "4    AT_PA_05_06    AT_PA_5\n",
       "..           ...        ...\n",
       "614  SE_PA_16_21   SE_PA_16\n",
       "615  SE_PA_16_22   SE_PA_16\n",
       "616  SE_PA_16_23   SE_PA_16\n",
       "617  SE_PA_16_24   SE_PA_16\n",
       "618  SE_PA_16_25   SE_PA_16\n",
       "\n",
       "[619 rows x 2 columns]"
      ]
     },
     "execution_count": 47,
     "metadata": {},
     "output_type": "execute_result"
    }
   ],
   "source": [
    "samples = samples_subset\n",
    "samples"
   ]
  },
  {
   "cell_type": "code",
   "execution_count": 48,
   "metadata": {},
   "outputs": [],
   "source": [
    "populations = samples.Population.unique()"
   ]
  },
  {
   "cell_type": "code",
   "execution_count": 49,
   "metadata": {},
   "outputs": [
    {
     "data": {
      "text/plain": [
       "array(['AT_PA_5', 'AT_PA_6', 'CH_PA_1', 'CH_PA_2', 'FI_PA_17', 'FI_PA_18',\n",
       "       'FR_PA_21', 'GE_PA_9', 'GE_PA_10', 'GR_PA_7', 'GR_PA_8', 'IT_PA_3',\n",
       "       'IT_PA_4', 'LT_PA_11', 'LT_PA_12', 'NO_PA_13', 'NO_PA_14',\n",
       "       'NO_PA_22', 'Obavata', 'Obovata', 'Omorika', 'PL_PA_25', 'RO_MEGA',\n",
       "       'RO_PA_24', 'RU_PA_19', 'RU_PA_20', 'RU_PA_26', 'SE_PA_15',\n",
       "       'SE_PA_16'], dtype=object)"
      ]
     },
     "execution_count": 49,
     "metadata": {},
     "output_type": "execute_result"
    }
   ],
   "source": [
    "populations"
   ]
  },
  {
   "cell_type": "code",
   "execution_count": 50,
   "metadata": {},
   "outputs": [
    {
     "data": {
      "text/html": [
       "<div class=\"allel allel-DisplayAs2D\"><span>&lt;AlleleCountsChunkedArray shape=(699503, 2) dtype=int32 chunks=(43719, 2)\n",
       "   nbytes=5.3M cbytes=1.6M cratio=3.3\n",
       "   compression=blosc compression_opts={'cname': 'lz4', 'clevel': 5, 'shuffle': 1, 'blocksize': 0}\n",
       "   values=zarr.core.Array&gt;</span><table><thead><tr><th></th><th style=\"text-align: center\">0</th><th style=\"text-align: center\">1</th></tr></thead><tbody><tr><th style=\"text-align: center; background-color: white; border-right: 1px solid black; \">0</th><td style=\"text-align: center\">1093</td><td style=\"text-align: center\">  11</td></tr><tr><th style=\"text-align: center; background-color: white; border-right: 1px solid black; \">1</th><td style=\"text-align: center\">1099</td><td style=\"text-align: center\">   5</td></tr><tr><th style=\"text-align: center; background-color: white; border-right: 1px solid black; \">2</th><td style=\"text-align: center\">1020</td><td style=\"text-align: center\">  56</td></tr><tr><th style=\"text-align: center; background-color: white; border-right: 1px solid black; \">...</th><td style=\"text-align: center\" colspan=\"3\">...</td></tr><tr><th style=\"text-align: center; background-color: white; border-right: 1px solid black; \">699500</th><td style=\"text-align: center\">946</td><td style=\"text-align: center\">  2</td></tr><tr><th style=\"text-align: center; background-color: white; border-right: 1px solid black; \">699501</th><td style=\"text-align: center\">929</td><td style=\"text-align: center\">  1</td></tr><tr><th style=\"text-align: center; background-color: white; border-right: 1px solid black; \">699502</th><td style=\"text-align: center\">927</td><td style=\"text-align: center\">  1</td></tr></tbody></table></div>"
      ],
      "text/plain": [
       "<AlleleCountsChunkedArray shape=(699503, 2) dtype=int32 chunks=(43719, 2)\n",
       "   nbytes=5.3M cbytes=1.6M cratio=3.3\n",
       "   compression=blosc compression_opts={'cname': 'lz4', 'clevel': 5, 'shuffle': 1, 'blocksize': 0}\n",
       "   values=zarr.core.Array>"
      ]
     },
     "execution_count": 50,
     "metadata": {},
     "output_type": "execute_result"
    }
   ],
   "source": [
    "ac2 = genotypes_subset_2.count_alleles()\n",
    "ac2"
   ]
  },
  {
   "cell_type": "code",
   "execution_count": 54,
   "metadata": {},
   "outputs": [],
   "source": [
    "palette = sns.color_palette(\"hls\",33)\n",
    "pop_colours = {'AT_PA_5': palette[0], \n",
    "                 'AT_PA_6': palette[1], \n",
    "                 'CH_PA_1': palette[2], \n",
    "                 'CH_PA_2': palette[3], \n",
    "                 'FI_PA_17': palette[4],\n",
    "                 'FI_PA_18': palette[5], \n",
    "                 'FR_PA_21': palette[6], \n",
    "                 'GE_PA_9': palette[7],\n",
    "                 'GE_PA_10': palette[8],\n",
    "                 'GR_PA_7': palette[9],\n",
    "                 'GR_PA_8': palette[10],\n",
    "                 'IT_PA_3': palette[11], \n",
    "                 'IT_PA_4': palette[12],\n",
    "                 'LT_PA_11': palette[13],\n",
    "                 'LT_PA_12': palette[14],\n",
    "                 'NO_PA_13': palette[15],\n",
    "                 'NO_PA_14': palette[16],\n",
    "                 'NO_PA_22': palette[17],\n",
    "                 'Obavata': palette[18],\n",
    "                 'Obovata': palette[19],\n",
    "                 'Omorika': palette[20],\n",
    "                 'PL_PA_25': palette[21],\n",
    "                 'RO_MEGA': palette[22],\n",
    "                 'RO_PA_24': palette[23],\n",
    "                 'RU_PA_19': palette[24],\n",
    "                 'RU_PA_20': palette[25],\n",
    "                 'RU_PA_26': palette[26],\n",
    "                 'SE_PA_15': palette[27],\n",
    "                 'SE_PA_16': palette[28]        \n",
    "    \n",
    "     }"
   ]
  },
  {
   "cell_type": "code",
   "execution_count": 55,
   "metadata": {},
   "outputs": [],
   "source": [
    "def plot_pca_coords(coords, model, pc1, pc2, ax, sample_population):\n",
    "    sns.despine(ax=ax, offset=5)\n",
    "    x = coords[:, pc1]\n",
    "    y = coords[:, pc2]\n",
    "    for pop in populations:\n",
    "        flt = (sample_population == pop)\n",
    "        ax.plot(x[flt], y[flt], marker='o', linestyle=' ', color=pop_colours[pop], \n",
    "                label=pop, markersize=6, mec='k', mew=.5)\n",
    "    ax.set_xlabel('PC%s (%.1f%%)' % (pc1+1, model.explained_variance_ratio_[pc1]*100))\n",
    "    ax.set_ylabel('PC%s (%.1f%%)' % (pc2+1, model.explained_variance_ratio_[pc2]*100))\n",
    "    \n",
    "\n",
    "def fig_pca(coords, model, title, sample_population=None):\n",
    "    if sample_population is None:\n",
    "        sample_population = samples.Population.values\n",
    "    # plot coords for PCs 1 vs 2, 3 vs 4\n",
    "    fig = plt.figure(figsize=(10, 5))\n",
    "    ax = fig.add_subplot(1, 2, 1)\n",
    "    plot_pca_coords(coords, model, 0, 1, ax, sample_population)\n",
    "    ax = fig.add_subplot(1, 2, 2)\n",
    "    plot_pca_coords(coords, model, 2, 3, ax, sample_population)\n",
    "    ax.legend(bbox_to_anchor=(1, 1), loc='upper left')\n",
    "    fig.suptitle(title, y=1.02)\n",
    "    fig.tight_layout()"
   ]
  },
  {
   "cell_type": "code",
   "execution_count": 56,
   "metadata": {},
   "outputs": [
    {
     "data": {
      "text/plain": [
       "<ChunkedArrayWrapper shape=(540545, 619) dtype=int8 chunks=(2112, 619)\n",
       "   nbytes=319.1M cbytes=48.0M cratio=6.7\n",
       "   compression=blosc compression_opts={'cname': 'lz4', 'clevel': 5, 'shuffle': 1, 'blocksize': 0}\n",
       "   values=zarr.core.Array>"
      ]
     },
     "execution_count": 56,
     "metadata": {},
     "output_type": "execute_result"
    }
   ],
   "source": [
    "flt = (ac2[:, :2].min(axis=1) > 1)\n",
    "gf = genotypes_subset_2.compress(flt, axis=0)\n",
    "gn = gf.to_n_alt()\n",
    "gn"
   ]
  },
  {
   "cell_type": "code",
   "execution_count": 57,
   "metadata": {},
   "outputs": [],
   "source": [
    "coords1, model1 = allel.pca(gn, n_components=10, scaler='patterson')"
   ]
  },
  {
   "cell_type": "code",
   "execution_count": 58,
   "metadata": {},
   "outputs": [
    {
     "data": {
      "image/png": "[encoded data removed]",
      "text/plain": [
       "<Figure size 720x360 with 2 Axes>"
      ]
     },
     "metadata": {},
     "output_type": "display_data"
    }
   ],
   "source": [
    "fig_pca(coords1, model1, 'Figure 1. Conventional PCA.')"
   ]
  },
  {
   "cell_type": "code",
   "execution_count": 60,
   "metadata": {},
   "outputs": [
    {
     "data": {
      "text/html": [
       "<div>\n",
       "<style scoped>\n",
       "    .dataframe tbody tr th:only-of-type {\n",
       "        vertical-align: middle;\n",
       "    }\n",
       "\n",
       "    .dataframe tbody tr th {\n",
       "        vertical-align: top;\n",
       "    }\n",
       "\n",
       "    .dataframe thead th {\n",
       "        text-align: right;\n",
       "    }\n",
       "</style>\n",
       "<table border=\"1\" class=\"dataframe\">\n",
       "  <thead>\n",
       "    <tr style=\"text-align: right;\">\n",
       "      <th></th>\n",
       "      <th>ID</th>\n",
       "      <th>Population</th>\n",
       "    </tr>\n",
       "  </thead>\n",
       "  <tbody>\n",
       "    <tr>\n",
       "      <th>455</th>\n",
       "      <td>Omorika_01</td>\n",
       "      <td>Omorika</td>\n",
       "    </tr>\n",
       "    <tr>\n",
       "      <th>456</th>\n",
       "      <td>Omorika_02</td>\n",
       "      <td>Omorika</td>\n",
       "    </tr>\n",
       "    <tr>\n",
       "      <th>568</th>\n",
       "      <td>RU_PA_26_11</td>\n",
       "      <td>RU_PA_26</td>\n",
       "    </tr>\n",
       "  </tbody>\n",
       "</table>\n",
       "</div>"
      ],
      "text/plain": [
       "              ID Population\n",
       "455   Omorika_01    Omorika\n",
       "456   Omorika_02    Omorika\n",
       "568  RU_PA_26_11   RU_PA_26"
      ]
     },
     "execution_count": 60,
     "metadata": {},
     "output_type": "execute_result"
    }
   ],
   "source": [
    "weirdos = coords1[:,0]>800\n",
    "samples[weirdos]\n",
    "###filter samples base in PC2. Expression gives a list samples above 500"
   ]
  },
  {
   "cell_type": "code",
   "execution_count": 61,
   "metadata": {},
   "outputs": [],
   "source": [
    "samples2 = samples[~weirdos]"
   ]
  },
  {
   "cell_type": "code",
   "execution_count": 62,
   "metadata": {},
   "outputs": [
    {
     "data": {
      "text/html": [
       "<div>\n",
       "<style scoped>\n",
       "    .dataframe tbody tr th:only-of-type {\n",
       "        vertical-align: middle;\n",
       "    }\n",
       "\n",
       "    .dataframe tbody tr th {\n",
       "        vertical-align: top;\n",
       "    }\n",
       "\n",
       "    .dataframe thead th {\n",
       "        text-align: right;\n",
       "    }\n",
       "</style>\n",
       "<table border=\"1\" class=\"dataframe\">\n",
       "  <thead>\n",
       "    <tr style=\"text-align: right;\">\n",
       "      <th></th>\n",
       "      <th>ID</th>\n",
       "      <th>Population</th>\n",
       "    </tr>\n",
       "  </thead>\n",
       "  <tbody>\n",
       "    <tr>\n",
       "      <th>0</th>\n",
       "      <td>AT_PA_05_01</td>\n",
       "      <td>AT_PA_5</td>\n",
       "    </tr>\n",
       "    <tr>\n",
       "      <th>1</th>\n",
       "      <td>AT_PA_05_02</td>\n",
       "      <td>AT_PA_5</td>\n",
       "    </tr>\n",
       "    <tr>\n",
       "      <th>2</th>\n",
       "      <td>AT_PA_05_04</td>\n",
       "      <td>AT_PA_5</td>\n",
       "    </tr>\n",
       "    <tr>\n",
       "      <th>3</th>\n",
       "      <td>AT_PA_05_05</td>\n",
       "      <td>AT_PA_5</td>\n",
       "    </tr>\n",
       "    <tr>\n",
       "      <th>4</th>\n",
       "      <td>AT_PA_05_06</td>\n",
       "      <td>AT_PA_5</td>\n",
       "    </tr>\n",
       "    <tr>\n",
       "      <th>...</th>\n",
       "      <td>...</td>\n",
       "      <td>...</td>\n",
       "    </tr>\n",
       "    <tr>\n",
       "      <th>614</th>\n",
       "      <td>SE_PA_16_21</td>\n",
       "      <td>SE_PA_16</td>\n",
       "    </tr>\n",
       "    <tr>\n",
       "      <th>615</th>\n",
       "      <td>SE_PA_16_22</td>\n",
       "      <td>SE_PA_16</td>\n",
       "    </tr>\n",
       "    <tr>\n",
       "      <th>616</th>\n",
       "      <td>SE_PA_16_23</td>\n",
       "      <td>SE_PA_16</td>\n",
       "    </tr>\n",
       "    <tr>\n",
       "      <th>617</th>\n",
       "      <td>SE_PA_16_24</td>\n",
       "      <td>SE_PA_16</td>\n",
       "    </tr>\n",
       "    <tr>\n",
       "      <th>618</th>\n",
       "      <td>SE_PA_16_25</td>\n",
       "      <td>SE_PA_16</td>\n",
       "    </tr>\n",
       "  </tbody>\n",
       "</table>\n",
       "<p>616 rows × 2 columns</p>\n",
       "</div>"
      ],
      "text/plain": [
       "              ID Population\n",
       "0    AT_PA_05_01    AT_PA_5\n",
       "1    AT_PA_05_02    AT_PA_5\n",
       "2    AT_PA_05_04    AT_PA_5\n",
       "3    AT_PA_05_05    AT_PA_5\n",
       "4    AT_PA_05_06    AT_PA_5\n",
       "..           ...        ...\n",
       "614  SE_PA_16_21   SE_PA_16\n",
       "615  SE_PA_16_22   SE_PA_16\n",
       "616  SE_PA_16_23   SE_PA_16\n",
       "617  SE_PA_16_24   SE_PA_16\n",
       "618  SE_PA_16_25   SE_PA_16\n",
       "\n",
       "[616 rows x 2 columns]"
      ]
     },
     "execution_count": 62,
     "metadata": {},
     "output_type": "execute_result"
    }
   ],
   "source": [
    "samples2"
   ]
  },
  {
   "cell_type": "code",
   "execution_count": 63,
   "metadata": {},
   "outputs": [],
   "source": [
    "allT = np.repeat(True, len(genotypes_subset_2))"
   ]
  },
  {
   "cell_type": "code",
   "execution_count": 64,
   "metadata": {},
   "outputs": [],
   "source": [
    "genotypes_subset_3 = genotypes_subset_2.subset(allT, ~weirdos)"
   ]
  },
  {
   "cell_type": "code",
   "execution_count": 65,
   "metadata": {},
   "outputs": [
    {
     "data": {
      "text/html": [
       "<div class=\"allel allel-DisplayAs2D\"><span>&lt;GenotypeChunkedArray shape=(699503, 616, 2) dtype=int8 chunks=(1367, 616, 2)\n",
       "   nbytes=821.9M cbytes=145.9M cratio=5.6\n",
       "   compression=blosc compression_opts={'cname': 'lz4', 'clevel': 5, 'shuffle': 1, 'blocksize': 0}\n",
       "   values=zarr.core.Array&gt;</span><table><thead><tr><th></th><th style=\"text-align: center\">0</th><th style=\"text-align: center\">1</th><th style=\"text-align: center\">2</th><th style=\"text-align: center\">3</th><th style=\"text-align: center\">4</th><th style=\"text-align: center\">...</th><th style=\"text-align: center\">611</th><th style=\"text-align: center\">612</th><th style=\"text-align: center\">613</th><th style=\"text-align: center\">614</th><th style=\"text-align: center\">615</th></tr></thead><tbody><tr><th style=\"text-align: center; background-color: white; border-right: 1px solid black; \">0</th><td style=\"text-align: center\">0/0</td><td style=\"text-align: center\">0/0</td><td style=\"text-align: center\">0/0</td><td style=\"text-align: center\">0/0</td><td style=\"text-align: center\">0/0</td><td style=\"text-align: center\">...</td><td style=\"text-align: center\">0/0</td><td style=\"text-align: center\">0/0</td><td style=\"text-align: center\">0/0</td><td style=\"text-align: center\">0/0</td><td style=\"text-align: center\">0/0</td></tr><tr><th style=\"text-align: center; background-color: white; border-right: 1px solid black; \">1</th><td style=\"text-align: center\">0/0</td><td style=\"text-align: center\">0/0</td><td style=\"text-align: center\">0/0</td><td style=\"text-align: center\">0/0</td><td style=\"text-align: center\">0/0</td><td style=\"text-align: center\">...</td><td style=\"text-align: center\">0/0</td><td style=\"text-align: center\">0/0</td><td style=\"text-align: center\">0/0</td><td style=\"text-align: center\">0/0</td><td style=\"text-align: center\">0/0</td></tr><tr><th style=\"text-align: center; background-color: white; border-right: 1px solid black; \">2</th><td style=\"text-align: center\">0/1</td><td style=\"text-align: center\">1/1</td><td style=\"text-align: center\">0/0</td><td style=\"text-align: center\">0/0</td><td style=\"text-align: center\">0/1</td><td style=\"text-align: center\">...</td><td style=\"text-align: center\">0/0</td><td style=\"text-align: center\">0/0</td><td style=\"text-align: center\">0/0</td><td style=\"text-align: center\">0/0</td><td style=\"text-align: center\">0/0</td></tr><tr><th style=\"text-align: center; background-color: white; border-right: 1px solid black; \">...</th><td style=\"text-align: center\" colspan=\"12\">...</td></tr><tr><th style=\"text-align: center; background-color: white; border-right: 1px solid black; \">699500</th><td style=\"text-align: center\">./.</td><td style=\"text-align: center\">./.</td><td style=\"text-align: center\">0/0</td><td style=\"text-align: center\">./.</td><td style=\"text-align: center\">0/0</td><td style=\"text-align: center\">...</td><td style=\"text-align: center\">0/0</td><td style=\"text-align: center\">0/0</td><td style=\"text-align: center\">0/0</td><td style=\"text-align: center\">0/0</td><td style=\"text-align: center\">0/0</td></tr><tr><th style=\"text-align: center; background-color: white; border-right: 1px solid black; \">699501</th><td style=\"text-align: center\">0/0</td><td style=\"text-align: center\">0/0</td><td style=\"text-align: center\">0/0</td><td style=\"text-align: center\">0/0</td><td style=\"text-align: center\">0/0</td><td style=\"text-align: center\">...</td><td style=\"text-align: center\">./.</td><td style=\"text-align: center\">0/0</td><td style=\"text-align: center\">0/0</td><td style=\"text-align: center\">./.</td><td style=\"text-align: center\">0/0</td></tr><tr><th style=\"text-align: center; background-color: white; border-right: 1px solid black; \">699502</th><td style=\"text-align: center\">0/0</td><td style=\"text-align: center\">0/0</td><td style=\"text-align: center\">0/0</td><td style=\"text-align: center\">0/0</td><td style=\"text-align: center\">0/0</td><td style=\"text-align: center\">...</td><td style=\"text-align: center\">./.</td><td style=\"text-align: center\">0/0</td><td style=\"text-align: center\">0/0</td><td style=\"text-align: center\">./.</td><td style=\"text-align: center\">0/0</td></tr></tbody></table></div>"
      ],
      "text/plain": [
       "<GenotypeChunkedArray shape=(699503, 616, 2) dtype=int8 chunks=(1367, 616, 2)\n",
       "   nbytes=821.9M cbytes=145.9M cratio=5.6\n",
       "   compression=blosc compression_opts={'cname': 'lz4', 'clevel': 5, 'shuffle': 1, 'blocksize': 0}\n",
       "   values=zarr.core.Array>"
      ]
     },
     "execution_count": 65,
     "metadata": {},
     "output_type": "execute_result"
    }
   ],
   "source": [
    "genotypes_subset_3"
   ]
  },
  {
   "cell_type": "code",
   "execution_count": 66,
   "metadata": {},
   "outputs": [],
   "source": [
    "def fig_pca(coords, model, title, sample_population=None):\n",
    "    if sample_population is None:\n",
    "        sample_population = samples2.Population.values\n",
    "    # plot coords for PCs 1 vs 2, 3 vs 4\n",
    "    fig = plt.figure(figsize=(10, 5))\n",
    "    ax = fig.add_subplot(1, 2, 1)\n",
    "    plot_pca_coords(coords, model, 0, 1, ax, sample_population)\n",
    "    ax = fig.add_subplot(1, 2, 2)\n",
    "    plot_pca_coords(coords, model, 2, 3, ax, sample_population)\n",
    "    ax.legend(bbox_to_anchor=(1, 1), loc='upper left')\n",
    "    fig.suptitle(title, y=1.02)\n",
    "    fig.tight_layout()"
   ]
  },
  {
   "cell_type": "code",
   "execution_count": 67,
   "metadata": {},
   "outputs": [
    {
     "data": {
      "text/html": [
       "<div class=\"allel allel-DisplayAs2D\"><span>&lt;AlleleCountsChunkedArray shape=(699503, 2) dtype=int32 chunks=(43719, 2)\n",
       "   nbytes=5.3M cbytes=1.6M cratio=3.3\n",
       "   compression=blosc compression_opts={'cname': 'lz4', 'clevel': 5, 'shuffle': 1, 'blocksize': 0}\n",
       "   values=zarr.core.Array&gt;</span><table><thead><tr><th></th><th style=\"text-align: center\">0</th><th style=\"text-align: center\">1</th></tr></thead><tbody><tr><th style=\"text-align: center; background-color: white; border-right: 1px solid black; \">0</th><td style=\"text-align: center\">1087</td><td style=\"text-align: center\">  11</td></tr><tr><th style=\"text-align: center; background-color: white; border-right: 1px solid black; \">1</th><td style=\"text-align: center\">1097</td><td style=\"text-align: center\">   1</td></tr><tr><th style=\"text-align: center; background-color: white; border-right: 1px solid black; \">2</th><td style=\"text-align: center\">1014</td><td style=\"text-align: center\">  56</td></tr><tr><th style=\"text-align: center; background-color: white; border-right: 1px solid black; \">...</th><td style=\"text-align: center\" colspan=\"3\">...</td></tr><tr><th style=\"text-align: center; background-color: white; border-right: 1px solid black; \">699500</th><td style=\"text-align: center\">940</td><td style=\"text-align: center\">  2</td></tr><tr><th style=\"text-align: center; background-color: white; border-right: 1px solid black; \">699501</th><td style=\"text-align: center\">923</td><td style=\"text-align: center\">  1</td></tr><tr><th style=\"text-align: center; background-color: white; border-right: 1px solid black; \">699502</th><td style=\"text-align: center\">921</td><td style=\"text-align: center\">  1</td></tr></tbody></table></div>"
      ],
      "text/plain": [
       "<AlleleCountsChunkedArray shape=(699503, 2) dtype=int32 chunks=(43719, 2)\n",
       "   nbytes=5.3M cbytes=1.6M cratio=3.3\n",
       "   compression=blosc compression_opts={'cname': 'lz4', 'clevel': 5, 'shuffle': 1, 'blocksize': 0}\n",
       "   values=zarr.core.Array>"
      ]
     },
     "execution_count": 67,
     "metadata": {},
     "output_type": "execute_result"
    }
   ],
   "source": [
    "ac3 = genotypes_subset_3.count_alleles()\n",
    "ac3"
   ]
  },
  {
   "cell_type": "code",
   "execution_count": 68,
   "metadata": {},
   "outputs": [],
   "source": [
    "flt2 = (ac3[:, :2].min(axis=1) > 1)\n",
    "gf2 = genotypes_subset_3.compress(flt2, axis=0)\n",
    "gn2 = gf2.to_n_alt()"
   ]
  },
  {
   "cell_type": "code",
   "execution_count": 69,
   "metadata": {},
   "outputs": [],
   "source": [
    "coords2, model2 = allel.pca(gn2, n_components=10, scaler='patterson')"
   ]
  },
  {
   "cell_type": "code",
   "execution_count": 70,
   "metadata": {},
   "outputs": [
    {
     "data": {
      "image/png": "[encoded data removed]",
      "text/plain": [
       "<Figure size 720x360 with 2 Axes>"
      ]
     },
     "metadata": {},
     "output_type": "display_data"
    }
   ],
   "source": [
    "fig_pca(coords2, model2, 'Figure 1. Conventional PCA.')"
   ]
  },
  {
   "cell_type": "code",
   "execution_count": null,
   "metadata": {},
   "outputs": [],
   "source": []
  }
 ],
 "metadata": {
  "kernelspec": {
   "display_name": "Python 3",
   "language": "python",
   "name": "python3"
  },
  "language_info": {
   "codemirror_mode": {
    "name": "ipython",
    "version": 3
   },
   "file_extension": ".py",
   "mimetype": "text/x-python",
   "name": "python",
   "nbconvert_exporter": "python",
   "pygments_lexer": "ipython3",
   "version": "3.8.3"
  }
 },
 "nbformat": 4,
 "nbformat_minor": 2
}
