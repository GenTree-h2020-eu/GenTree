{
 "cells": [
  {
   "cell_type": "code",
   "execution_count": 3,
   "metadata": {},
   "outputs": [
    {
     "name": "stdout",
     "output_type": "stream",
     "text": [
      "scikit-allel 1.2.1\n"
     ]
    }
   ],
   "source": [
    "import numpy as np\n",
    "import scipy\n",
    "import pandas\n",
    "import matplotlib as mpl\n",
    "import matplotlib.pyplot as plt\n",
    "%matplotlib inline\n",
    "import seaborn as sns\n",
    "sns.set_style('white')\n",
    "sns.set_style('ticks')\n",
    "sns.set_context('notebook')\n",
    "import h5py\n",
    "import allel; print('scikit-allel', allel.__version__)"
   ]
  },
  {
   "cell_type": "code",
   "execution_count": 4,
   "metadata": {},
   "outputs": [],
   "source": [
    "#allel.vcf_to_hdf5('/wrk/Gen_Tree/GenTree_Genome_mapping/Betula_pendula/Bpendula_GM_raw_snps.vcf', '/wrk/Gen_Tree/GenTree_Genome_mapping/Betula_pendula/Bpendula_GM_raw_snps.h5', fields='*', overwrite=True)"
   ]
  },
  {
   "cell_type": "code",
   "execution_count": 4,
   "metadata": {},
   "outputs": [
    {
     "data": {
      "text/plain": [
       "<HDF5 file \"Pnigra_raw_SNPs.h5\" (mode r)>"
      ]
     },
     "execution_count": 4,
     "metadata": {},
     "output_type": "execute_result"
    }
   ],
   "source": [
    "callset_fn = '/media/scervant/Transcend/GenTree_GM/Populus_nigra/Pnigra_raw_SNPs.h5'\n",
    "callset = h5py.File(callset_fn, mode='r')\n",
    "callset"
   ]
  },
  {
   "cell_type": "code",
   "execution_count": 5,
   "metadata": {},
   "outputs": [
    {
     "data": {
      "text/plain": [
       "['calldata', 'samples', 'variants']"
      ]
     },
     "execution_count": 5,
     "metadata": {},
     "output_type": "execute_result"
    }
   ],
   "source": [
    "sorted(callset.keys())"
   ]
  },
  {
   "cell_type": "code",
   "execution_count": 6,
   "metadata": {},
   "outputs": [],
   "source": [
    "calldata = callset['calldata']"
   ]
  },
  {
   "cell_type": "code",
   "execution_count": 7,
   "metadata": {},
   "outputs": [
    {
     "data": {
      "text/plain": [
       "<HDF5 group \"/calldata\" (10 members)>"
      ]
     },
     "execution_count": 7,
     "metadata": {},
     "output_type": "execute_result"
    }
   ],
   "source": [
    "calldata"
   ]
  },
  {
   "cell_type": "code",
   "execution_count": 8,
   "metadata": {},
   "outputs": [
    {
     "data": {
      "text/plain": [
       "['AD', 'DP', 'GQ', 'GT', 'MIN_DP', 'PGT', 'PID', 'PL', 'RGQ', 'SB']"
      ]
     },
     "execution_count": 8,
     "metadata": {},
     "output_type": "execute_result"
    }
   ],
   "source": [
    "list(calldata)"
   ]
  },
  {
   "cell_type": "code",
   "execution_count": 9,
   "metadata": {},
   "outputs": [
    {
     "data": {
      "text/html": [
       "<div class=\"allel allel-DisplayAsTable\"><span>&lt;VariantChunkedTable shape=(553921,) dtype=[('POS', '&lt;i4'), ('REF', 'O'), ('ALT', 'O', (3,)), ('DP', '&lt;i4'), ('QD', '&lt;f4'), ('AN', '&lt;i4'), ('MQ', '&lt;f4'), ('SOR', '&lt;f4'), ('numalt', '&lt;i4'), ('QUAL', '&lt;f4'), ('MQRankSum', '&lt;f4'), ('ReadPosRankSum', '&lt;f4')]\n",
       "   nbytes=38.0M cbytes=13.0M cratio=2.9\n",
       "   values=h5py._hl.group.Group&gt;</span><table><thead><tr><th></th><th style=\"text-align: center\">POS</th><th style=\"text-align: center\">REF</th><th style=\"text-align: center\">ALT</th><th style=\"text-align: center\">DP</th><th style=\"text-align: center\">QD</th><th style=\"text-align: center\">AN</th><th style=\"text-align: center\">MQ</th><th style=\"text-align: center\">SOR</th><th style=\"text-align: center\">numalt</th><th style=\"text-align: center\">QUAL</th><th style=\"text-align: center\">MQRankSum</th><th style=\"text-align: center\">ReadPosRankSum</th></tr></thead><tbody><tr><th style=\"text-align: center; background-color: white; border-right: 1px solid black; \">0</th><td style=\"text-align: center\">156241</td><td style=\"text-align: center\">T</td><td style=\"text-align: center\">['A' '' '']</td><td style=\"text-align: center\">3069</td><td style=\"text-align: center\">18.06</td><td style=\"text-align: center\">1022</td><td style=\"text-align: center\">32.07</td><td style=\"text-align: center\">1.609</td><td style=\"text-align: center\">1</td><td style=\"text-align: center\">18.06</td><td style=\"text-align: center\">nan</td><td style=\"text-align: center\">nan</td></tr><tr><th style=\"text-align: center; background-color: white; border-right: 1px solid black; \">1</th><td style=\"text-align: center\">156244</td><td style=\"text-align: center\">A</td><td style=\"text-align: center\">['T' '' '']</td><td style=\"text-align: center\">3140</td><td style=\"text-align: center\">4.39</td><td style=\"text-align: center\">1030</td><td style=\"text-align: center\">56.92</td><td style=\"text-align: center\">1.39</td><td style=\"text-align: center\">1</td><td style=\"text-align: center\">35.12</td><td style=\"text-align: center\">0.0</td><td style=\"text-align: center\">1.0</td></tr><tr><th style=\"text-align: center; background-color: white; border-right: 1px solid black; \">2</th><td style=\"text-align: center\">156249</td><td style=\"text-align: center\">A</td><td style=\"text-align: center\">['T' '' '']</td><td style=\"text-align: center\">3226</td><td style=\"text-align: center\">21.17</td><td style=\"text-align: center\">1026</td><td style=\"text-align: center\">56.57</td><td style=\"text-align: center\">0.081</td><td style=\"text-align: center\">1</td><td style=\"text-align: center\">1037.45</td><td style=\"text-align: center\">0.0</td><td style=\"text-align: center\">0.0</td></tr><tr><th style=\"text-align: center; background-color: white; border-right: 1px solid black; \">...</th><td style=\"text-align: center\" colspan=\"13\">...</td></tr><tr><th style=\"text-align: center; background-color: white; border-right: 1px solid black; \">553918</th><td style=\"text-align: center\">793634</td><td style=\"text-align: center\">T</td><td style=\"text-align: center\">['C' '' '']</td><td style=\"text-align: center\">2638</td><td style=\"text-align: center\">3.25</td><td style=\"text-align: center\">956</td><td style=\"text-align: center\">42.09</td><td style=\"text-align: center\">0.693</td><td style=\"text-align: center\">1</td><td style=\"text-align: center\">13.02</td><td style=\"text-align: center\">0.0</td><td style=\"text-align: center\">0.0</td></tr><tr><th style=\"text-align: center; background-color: white; border-right: 1px solid black; \">553919</th><td style=\"text-align: center\">793636</td><td style=\"text-align: center\">C</td><td style=\"text-align: center\">['T' '' '']</td><td style=\"text-align: center\">2679</td><td style=\"text-align: center\">10.98</td><td style=\"text-align: center\">954</td><td style=\"text-align: center\">84.54</td><td style=\"text-align: center\">0.211</td><td style=\"text-align: center\">1</td><td style=\"text-align: center\">65.88</td><td style=\"text-align: center\">0.0</td><td style=\"text-align: center\">1.0</td></tr><tr><th style=\"text-align: center; background-color: white; border-right: 1px solid black; \">553920</th><td style=\"text-align: center\">793641</td><td style=\"text-align: center\">C</td><td style=\"text-align: center\">['G' '' '']</td><td style=\"text-align: center\">2675</td><td style=\"text-align: center\">11.06</td><td style=\"text-align: center\">948</td><td style=\"text-align: center\">81.16</td><td style=\"text-align: center\">0.157</td><td style=\"text-align: center\">1</td><td style=\"text-align: center\">66.37</td><td style=\"text-align: center\">0.0</td><td style=\"text-align: center\">1.0</td></tr></tbody></table></div>"
      ],
      "text/plain": [
       "<VariantChunkedTable shape=(553921,) dtype=[('POS', '<i4'), ('REF', 'O'), ('ALT', 'O', (3,)), ('DP', '<i4'), ('QD', '<f4'), ('AN', '<i4'), ('MQ', '<f4'), ('SOR', '<f4'), ('numalt', '<i4'), ('QUAL', '<f4'), ('MQRankSum', '<f4'), ('ReadPosRankSum', '<f4')]\n",
       "   nbytes=38.0M cbytes=13.0M cratio=2.9\n",
       "   values=h5py._hl.group.Group>"
      ]
     },
     "execution_count": 9,
     "metadata": {},
     "output_type": "execute_result"
    }
   ],
   "source": [
    "variants = allel.VariantChunkedTable(callset['variants'], \n",
    "                                     names=['POS', 'REF', 'ALT', 'DP', 'QD', 'AN', 'MQ', 'SOR', 'numalt', 'QUAL', 'MQRankSum', 'ReadPosRankSum'])\n",
    "variants"
   ]
  },
  {
   "cell_type": "code",
   "execution_count": 10,
   "metadata": {},
   "outputs": [],
   "source": [
    "def plot_variant_hist(f, bins=30):\n",
    "    x = variants[f][:]\n",
    "    fig, ax = plt.subplots(figsize=(10, 5))\n",
    "    sns.despine(ax=ax, offset=10)\n",
    "    ax.hist(x, bins=bins)\n",
    "    ax.set_xlabel(f)\n",
    "    ax.set_ylabel('No. variants')\n",
    "    ax.set_title('Variant %s distribution' % f)"
   ]
  },
  {
   "cell_type": "code",
   "execution_count": 11,
   "metadata": {},
   "outputs": [
    {
     "name": "stderr",
     "output_type": "stream",
     "text": [
      "/wrk/Programs/miniconda3/lib/python3.7/site-packages/numpy/lib/histograms.py:829: RuntimeWarning: invalid value encountered in greater_equal\n",
      "  keep = (tmp_a >= first_edge)\n",
      "/wrk/Programs/miniconda3/lib/python3.7/site-packages/numpy/lib/histograms.py:830: RuntimeWarning: invalid value encountered in less_equal\n",
      "  keep &= (tmp_a <= last_edge)\n"
     ]
    },
    {
     "data": {
      "image/png": "[encoded data removed]",
      "text/plain": [
       "<Figure size 720x360 with 1 Axes>"
      ]
     },
     "metadata": {},
     "output_type": "display_data"
    }
   ],
   "source": [
    "plot_variant_hist('MQ')"
   ]
  },
  {
   "cell_type": "code",
   "execution_count": 12,
   "metadata": {},
   "outputs": [
    {
     "data": {
      "image/png": "[encoded data removed]",
      "text/plain": [
       "<Figure size 720x360 with 1 Axes>"
      ]
     },
     "metadata": {},
     "output_type": "display_data"
    }
   ],
   "source": [
    "plot_variant_hist('QD')"
   ]
  },
  {
   "cell_type": "code",
   "execution_count": 13,
   "metadata": {},
   "outputs": [
    {
     "data": {
      "image/png": "[encoded data removed]",
      "text/plain": [
       "<Figure size 720x360 with 1 Axes>"
      ]
     },
     "metadata": {},
     "output_type": "display_data"
    }
   ],
   "source": [
    "plot_variant_hist('SOR')"
   ]
  },
  {
   "cell_type": "code",
   "execution_count": 14,
   "metadata": {},
   "outputs": [
    {
     "data": {
      "image/png": "[encoded data removed]",
      "text/plain": [
       "<Figure size 720x360 with 1 Axes>"
      ]
     },
     "metadata": {},
     "output_type": "display_data"
    }
   ],
   "source": [
    "plot_variant_hist('MQRankSum')"
   ]
  },
  {
   "cell_type": "code",
   "execution_count": 15,
   "metadata": {},
   "outputs": [
    {
     "data": {
      "image/png": "[encoded data removed]",
      "text/plain": [
       "<Figure size 720x360 with 1 Axes>"
      ]
     },
     "metadata": {},
     "output_type": "display_data"
    }
   ],
   "source": [
    "plot_variant_hist('MQRankSum')"
   ]
  },
  {
   "cell_type": "code",
   "execution_count": 16,
   "metadata": {},
   "outputs": [
    {
     "data": {
      "image/png": "[encoded data removed]",
      "text/plain": [
       "<Figure size 720x360 with 1 Axes>"
      ]
     },
     "metadata": {},
     "output_type": "display_data"
    }
   ],
   "source": [
    "plot_variant_hist('ReadPosRankSum')"
   ]
  },
  {
   "cell_type": "markdown",
   "metadata": {},
   "source": [
    "### Filter out positions with DP <10 and QD < 2"
   ]
  },
  {
   "cell_type": "code",
   "execution_count": 17,
   "metadata": {},
   "outputs": [],
   "source": [
    "filter_expression = '(DP > 20) & (QD > 2) & (AN > 576)'\n",
    "###soft filter for removing calls with very little support"
   ]
  },
  {
   "cell_type": "code",
   "execution_count": 18,
   "metadata": {},
   "outputs": [
    {
     "name": "stderr",
     "output_type": "stream",
     "text": [
      "<string>:1: RuntimeWarning: invalid value encountered in greater\n",
      "<string>:1: RuntimeWarning: invalid value encountered in greater\n",
      "<string>:1: RuntimeWarning: invalid value encountered in greater\n",
      "<string>:1: RuntimeWarning: invalid value encountered in greater\n",
      "<string>:1: RuntimeWarning: invalid value encountered in greater\n",
      "<string>:1: RuntimeWarning: invalid value encountered in greater\n",
      "<string>:1: RuntimeWarning: invalid value encountered in greater\n",
      "<string>:1: RuntimeWarning: invalid value encountered in greater\n",
      "<string>:1: RuntimeWarning: invalid value encountered in greater\n"
     ]
    },
    {
     "data": {
      "text/plain": [
       "array([ True,  True,  True, ...,  True,  True,  True])"
      ]
     },
     "execution_count": 18,
     "metadata": {},
     "output_type": "execute_result"
    }
   ],
   "source": [
    "variant_selection = variants.eval(filter_expression)[:]\n",
    "variant_selection"
   ]
  },
  {
   "cell_type": "code",
   "execution_count": 19,
   "metadata": {},
   "outputs": [
    {
     "data": {
      "text/plain": [
       "<HDF5 group \"/calldata\" (10 members)>"
      ]
     },
     "execution_count": 19,
     "metadata": {},
     "output_type": "execute_result"
    }
   ],
   "source": [
    "calldata = callset['calldata']\n",
    "calldata"
   ]
  },
  {
   "cell_type": "code",
   "execution_count": 20,
   "metadata": {},
   "outputs": [
    {
     "data": {
      "text/html": [
       "<div class=\"allel allel-DisplayAs2D\"><span>&lt;GenotypeChunkedArray shape=(553921, 573, 2) dtype=int8 chunks=(65536, 64, 2)\n",
       "   nbytes=605.4M cbytes=56.8M cratio=10.7\n",
       "   compression=gzip compression_opts=1\n",
       "   values=h5py._hl.dataset.Dataset&gt;</span><table><thead><tr><th></th><th style=\"text-align: center\">0</th><th style=\"text-align: center\">1</th><th style=\"text-align: center\">2</th><th style=\"text-align: center\">3</th><th style=\"text-align: center\">4</th><th style=\"text-align: center\">...</th><th style=\"text-align: center\">568</th><th style=\"text-align: center\">569</th><th style=\"text-align: center\">570</th><th style=\"text-align: center\">571</th><th style=\"text-align: center\">572</th></tr></thead><tbody><tr><th style=\"text-align: center; background-color: white; border-right: 1px solid black; \">0</th><td style=\"text-align: center\">0/0</td><td style=\"text-align: center\">0/0</td><td style=\"text-align: center\">0/0</td><td style=\"text-align: center\">0/0</td><td style=\"text-align: center\">0/0</td><td style=\"text-align: center\">...</td><td style=\"text-align: center\">0/0</td><td style=\"text-align: center\">0/0</td><td style=\"text-align: center\">0/0</td><td style=\"text-align: center\">0/0</td><td style=\"text-align: center\">0/0</td></tr><tr><th style=\"text-align: center; background-color: white; border-right: 1px solid black; \">1</th><td style=\"text-align: center\">0/0</td><td style=\"text-align: center\">0/0</td><td style=\"text-align: center\">0/0</td><td style=\"text-align: center\">0/0</td><td style=\"text-align: center\">0/0</td><td style=\"text-align: center\">...</td><td style=\"text-align: center\">0/0</td><td style=\"text-align: center\">0/0</td><td style=\"text-align: center\">0/0</td><td style=\"text-align: center\">0/0</td><td style=\"text-align: center\">0/0</td></tr><tr><th style=\"text-align: center; background-color: white; border-right: 1px solid black; \">2</th><td style=\"text-align: center\">0/0</td><td style=\"text-align: center\">0/0</td><td style=\"text-align: center\">0/0</td><td style=\"text-align: center\">0/0</td><td style=\"text-align: center\">0/0</td><td style=\"text-align: center\">...</td><td style=\"text-align: center\">0/0</td><td style=\"text-align: center\">0/0</td><td style=\"text-align: center\">0/0</td><td style=\"text-align: center\">0/0</td><td style=\"text-align: center\">0/0</td></tr><tr><th style=\"text-align: center; background-color: white; border-right: 1px solid black; \">...</th><td style=\"text-align: center\" colspan=\"12\">...</td></tr><tr><th style=\"text-align: center; background-color: white; border-right: 1px solid black; \">553918</th><td style=\"text-align: center\">0/0</td><td style=\"text-align: center\">0/0</td><td style=\"text-align: center\">0/0</td><td style=\"text-align: center\">0/0</td><td style=\"text-align: center\">0/0</td><td style=\"text-align: center\">...</td><td style=\"text-align: center\">0/0</td><td style=\"text-align: center\">0/0</td><td style=\"text-align: center\">0/0</td><td style=\"text-align: center\">0/0</td><td style=\"text-align: center\">0/0</td></tr><tr><th style=\"text-align: center; background-color: white; border-right: 1px solid black; \">553919</th><td style=\"text-align: center\">0/0</td><td style=\"text-align: center\">0/0</td><td style=\"text-align: center\">0/0</td><td style=\"text-align: center\">0/0</td><td style=\"text-align: center\">0/0</td><td style=\"text-align: center\">...</td><td style=\"text-align: center\">0/0</td><td style=\"text-align: center\">0/0</td><td style=\"text-align: center\">0/0</td><td style=\"text-align: center\">0/0</td><td style=\"text-align: center\">0/0</td></tr><tr><th style=\"text-align: center; background-color: white; border-right: 1px solid black; \">553920</th><td style=\"text-align: center\">0/0</td><td style=\"text-align: center\">0/0</td><td style=\"text-align: center\">0/0</td><td style=\"text-align: center\">0/0</td><td style=\"text-align: center\">0/0</td><td style=\"text-align: center\">...</td><td style=\"text-align: center\">0/0</td><td style=\"text-align: center\">0/0</td><td style=\"text-align: center\">0/0</td><td style=\"text-align: center\">0/0</td><td style=\"text-align: center\">0/0</td></tr></tbody></table></div>"
      ],
      "text/plain": [
       "<GenotypeChunkedArray shape=(553921, 573, 2) dtype=int8 chunks=(65536, 64, 2)\n",
       "   nbytes=605.4M cbytes=56.8M cratio=10.7\n",
       "   compression=gzip compression_opts=1\n",
       "   values=h5py._hl.dataset.Dataset>"
      ]
     },
     "execution_count": 20,
     "metadata": {},
     "output_type": "execute_result"
    }
   ],
   "source": [
    "genotypes = allel.GenotypeChunkedArray(calldata['GT'])\n",
    "genotypes"
   ]
  },
  {
   "cell_type": "code",
   "execution_count": 21,
   "metadata": {},
   "outputs": [
    {
     "data": {
      "text/plain": [
       "['BH_PO_24_02',\n",
       " 'BH_PO_24_04',\n",
       " 'BH_PO_24_05',\n",
       " 'BH_PO_24_07',\n",
       " 'BH_PO_24_08',\n",
       " 'BH_PO_24_09',\n",
       " 'BH_PO_24_10',\n",
       " 'BH_PO_24_11',\n",
       " 'BH_PO_24_12',\n",
       " 'BH_PO_24_14',\n",
       " 'BH_PO_24_15',\n",
       " 'BH_PO_24_16',\n",
       " 'BH_PO_24_17',\n",
       " 'BH_PO_24_18',\n",
       " 'BH_PO_24_19',\n",
       " 'BH_PO_24_20',\n",
       " 'BH_PO_24_21',\n",
       " 'BH_PO_24_28',\n",
       " 'BH_PO_24_30',\n",
       " 'CH_PO_12_01',\n",
       " 'CH_PO_12_02',\n",
       " 'CH_PO_12_03',\n",
       " 'CH_PO_12_04',\n",
       " 'CH_PO_12_05',\n",
       " 'CH_PO_12_06',\n",
       " 'CH_PO_12_07',\n",
       " 'CH_PO_12_08',\n",
       " 'CH_PO_12_09',\n",
       " 'CH_PO_12_10',\n",
       " 'CH_PO_12_11',\n",
       " 'CH_PO_12_12',\n",
       " 'CH_PO_12_13',\n",
       " 'CH_PO_12_14F',\n",
       " 'CH_PO_12_14L',\n",
       " 'CH_PO_12_15',\n",
       " 'CH_PO_12_16F',\n",
       " 'CH_PO_12_17',\n",
       " 'CH_PO_12_18',\n",
       " 'CH_PO_12_19',\n",
       " 'CH_PO_12_20',\n",
       " 'CH_PO_12_21',\n",
       " 'CH_PO_12_22',\n",
       " 'CH_PO_12_23',\n",
       " 'CH_PO_12_24',\n",
       " 'CH_PO_12_25',\n",
       " 'CH_PO_12_26',\n",
       " 'CH_PO_12_27',\n",
       " 'CH_PO_12_28',\n",
       " 'CH_PO_12_29',\n",
       " 'CH_PO_12_30',\n",
       " 'CH_PO_12_31',\n",
       " 'CH_PO_12_32',\n",
       " 'CH_PO_13_01',\n",
       " 'CH_PO_13_02',\n",
       " 'CH_PO_13_03',\n",
       " 'CH_PO_13_04',\n",
       " 'CH_PO_13_05',\n",
       " 'CH_PO_13_06',\n",
       " 'CH_PO_13_07',\n",
       " 'CH_PO_13_08',\n",
       " 'CH_PO_13_09',\n",
       " 'CH_PO_13_10',\n",
       " 'CH_PO_13_11',\n",
       " 'CH_PO_13_12',\n",
       " 'CH_PO_13_13',\n",
       " 'CH_PO_13_14',\n",
       " 'CH_PO_13_15',\n",
       " 'CH_PO_13_16',\n",
       " 'CH_PO_13_17',\n",
       " 'CH_PO_13_18',\n",
       " 'CH_PO_13_19',\n",
       " 'CH_PO_13_20',\n",
       " 'CH_PO_13_21',\n",
       " 'CH_PO_13_22',\n",
       " 'CH_PO_13_23',\n",
       " 'CH_PO_13_24',\n",
       " 'CH_PO_13_25',\n",
       " 'CH_PO_13_26',\n",
       " 'CH_PO_13_27',\n",
       " 'CH_PO_13_28',\n",
       " 'CT_PO_25_01',\n",
       " 'CT_PO_25_02',\n",
       " 'DE_PO_08_01',\n",
       " 'DE_PO_08_02',\n",
       " 'DE_PO_08_03',\n",
       " 'DE_PO_08_04',\n",
       " 'DE_PO_08_05',\n",
       " 'DE_PO_08_06',\n",
       " 'DE_PO_08_07',\n",
       " 'DE_PO_08_08',\n",
       " 'DE_PO_08_09',\n",
       " 'DE_PO_08_10',\n",
       " 'DE_PO_08_11',\n",
       " 'DE_PO_08_12',\n",
       " 'DE_PO_08_13',\n",
       " 'DE_PO_08_14',\n",
       " 'DE_PO_08_15',\n",
       " 'DE_PO_08_16',\n",
       " 'DE_PO_08_18',\n",
       " 'DE_PO_08_19',\n",
       " 'DE_PO_08_20',\n",
       " 'DE_PO_08_21',\n",
       " 'DE_PO_08_22',\n",
       " 'DE_PO_08_23',\n",
       " 'DE_PO_08_24',\n",
       " 'DE_PO_08_25',\n",
       " 'DE_PO_08_26',\n",
       " 'DE_PO_09_01',\n",
       " 'DE_PO_09_02',\n",
       " 'DE_PO_09_03',\n",
       " 'DE_PO_09_04',\n",
       " 'DE_PO_09_05',\n",
       " 'DE_PO_09_06',\n",
       " 'DE_PO_09_07',\n",
       " 'DE_PO_09_09',\n",
       " 'DE_PO_09_10',\n",
       " 'DE_PO_09_11',\n",
       " 'DE_PO_09_12',\n",
       " 'DE_PO_09_13',\n",
       " 'DE_PO_09_14',\n",
       " 'DE_PO_09_15',\n",
       " 'DE_PO_09_16',\n",
       " 'DE_PO_09_17',\n",
       " 'DE_PO_09_18',\n",
       " 'DE_PO_09_19',\n",
       " 'DE_PO_09_20',\n",
       " 'DE_PO_09_21',\n",
       " 'DE_PO_09_22',\n",
       " 'DE_PO_09_23',\n",
       " 'DE_PO_09_24',\n",
       " 'DE_PO_09_25',\n",
       " 'DE_PO_10_01',\n",
       " 'DE_PO_10_02',\n",
       " 'DE_PO_10_03',\n",
       " 'DE_PO_10_04',\n",
       " 'DE_PO_10_05',\n",
       " 'DE_PO_10_06',\n",
       " 'DE_PO_10_07',\n",
       " 'DE_PO_10_08',\n",
       " 'DE_PO_10_09',\n",
       " 'DE_PO_10_10',\n",
       " 'DE_PO_10_11',\n",
       " 'DE_PO_10_12',\n",
       " 'DE_PO_10_13',\n",
       " 'DE_PO_10_14',\n",
       " 'DE_PO_10_15',\n",
       " 'DE_PO_10_16',\n",
       " 'DE_PO_10_17',\n",
       " 'DE_PO_10_18',\n",
       " 'DE_PO_10_19',\n",
       " 'DE_PO_10_20',\n",
       " 'DE_PO_10_21',\n",
       " 'DE_PO_10_22',\n",
       " 'DE_PO_10_23',\n",
       " 'DE_PO_10_24',\n",
       " 'DE_PO_10_25',\n",
       " 'DE_PO_11_01',\n",
       " 'DE_PO_11_02',\n",
       " 'DE_PO_11_03',\n",
       " 'DE_PO_11_04',\n",
       " 'DE_PO_11_05',\n",
       " 'DE_PO_11_06',\n",
       " 'DE_PO_11_07',\n",
       " 'DE_PO_11_08',\n",
       " 'DE_PO_11_09',\n",
       " 'DE_PO_11_10',\n",
       " 'DE_PO_11_11',\n",
       " 'DE_PO_11_12',\n",
       " 'DE_PO_11_13',\n",
       " 'DE_PO_11_14',\n",
       " 'DE_PO_11_15',\n",
       " 'DE_PO_11_16',\n",
       " 'DE_PO_11_17',\n",
       " 'DE_PO_11_18',\n",
       " 'DE_PO_11_19',\n",
       " 'DE_PO_11_20',\n",
       " 'DE_PO_11_21',\n",
       " 'DE_PO_11_22',\n",
       " 'DE_PO_11_23',\n",
       " 'DE_PO_11_24',\n",
       " 'DE_PO_11_25',\n",
       " 'ES_PO_01_02',\n",
       " 'ES_PO_01_03',\n",
       " 'ES_PO_01_06',\n",
       " 'ES_PO_01_08',\n",
       " 'ES_PO_01_09',\n",
       " 'ES_PO_01_10',\n",
       " 'ES_PO_01_11',\n",
       " 'ES_PO_01_12',\n",
       " 'ES_PO_01_14',\n",
       " 'ES_PO_01_15',\n",
       " 'ES_PO_01_16',\n",
       " 'ES_PO_01_17',\n",
       " 'ES_PO_01_19',\n",
       " 'ES_PO_01_21',\n",
       " 'ES_PO_01_22',\n",
       " 'ES_PO_01_23',\n",
       " 'ES_PO_01_24',\n",
       " 'ES_PO_01_25',\n",
       " 'ES_PO_02_01',\n",
       " 'ES_PO_02_02',\n",
       " 'ES_PO_02_03',\n",
       " 'ES_PO_02_04',\n",
       " 'ES_PO_02_06',\n",
       " 'ES_PO_02_07',\n",
       " 'ES_PO_02_08',\n",
       " 'ES_PO_02_09',\n",
       " 'ES_PO_02_10',\n",
       " 'ES_PO_02_11',\n",
       " 'ES_PO_02_12',\n",
       " 'ES_PO_02_13',\n",
       " 'ES_PO_02_14',\n",
       " 'ES_PO_02_16',\n",
       " 'ES_PO_02_17',\n",
       " 'ES_PO_02_18',\n",
       " 'ES_PO_02_19',\n",
       " 'ES_PO_02_20',\n",
       " 'ES_PO_02_21',\n",
       " 'ES_PO_02_22',\n",
       " 'ES_PO_02_23',\n",
       " 'ES_PO_02_25',\n",
       " 'FR_PO_04_04',\n",
       " 'FR_PO_04_06',\n",
       " 'FR_PO_04_07',\n",
       " 'FR_PO_04_08',\n",
       " 'FR_PO_04_10',\n",
       " 'FR_PO_04_11',\n",
       " 'FR_PO_04_13',\n",
       " 'FR_PO_04_16',\n",
       " 'FR_PO_04_17',\n",
       " 'FR_PO_04_19',\n",
       " 'FR_PO_04_20',\n",
       " 'FR_PO_04_22',\n",
       " 'FR_PO_04_23',\n",
       " 'FR_PO_04_26',\n",
       " 'FR_PO_04_28',\n",
       " 'FR_PO_04_30',\n",
       " 'FR_PO_04_33',\n",
       " 'FR_PO_04_34',\n",
       " 'FR_PO_04_36',\n",
       " 'FR_PO_04_40',\n",
       " 'FR_PO_04_41',\n",
       " 'FR_PO_04_44',\n",
       " 'FR_PO_04_49',\n",
       " 'FR_PO_04_50',\n",
       " 'FR_PO_04_52',\n",
       " 'FR_PO_04_54',\n",
       " 'FR_PO_04_55',\n",
       " 'FR_PO_04_56',\n",
       " 'FR_PO_04_57',\n",
       " 'FR_PO_05_01',\n",
       " 'FR_PO_05_05',\n",
       " 'FR_PO_05_11',\n",
       " 'FR_PO_05_13',\n",
       " 'FR_PO_05_19',\n",
       " 'FR_PO_05_22',\n",
       " 'FR_PO_05_23',\n",
       " 'FR_PO_05_28',\n",
       " 'FR_PO_05_29',\n",
       " 'FR_PO_05_36',\n",
       " 'FR_PO_05_37',\n",
       " 'FR_PO_05_38',\n",
       " 'FR_PO_05_39',\n",
       " 'FR_PO_05_40',\n",
       " 'FR_PO_05_41',\n",
       " 'FR_PO_05_42',\n",
       " 'FR_PO_05_43',\n",
       " 'FR_PO_05_44',\n",
       " 'FR_PO_05_45',\n",
       " 'FR_PO_05_46',\n",
       " 'FR_PO_05_47',\n",
       " 'FR_PO_05_48',\n",
       " 'FR_PO_05_49',\n",
       " 'FR_PO_05_50',\n",
       " 'FR_PO_05_51',\n",
       " 'FR_PO_05_52',\n",
       " 'FR_PO_05_53',\n",
       " 'FR_PO_05_54',\n",
       " 'FR_PO_06_01',\n",
       " 'FR_PO_06_03',\n",
       " 'FR_PO_06_04',\n",
       " 'FR_PO_06_05',\n",
       " 'FR_PO_06_06',\n",
       " 'FR_PO_06_07',\n",
       " 'FR_PO_06_09',\n",
       " 'FR_PO_06_10',\n",
       " 'FR_PO_06_11',\n",
       " 'FR_PO_06_13',\n",
       " 'FR_PO_06_14',\n",
       " 'FR_PO_06_17',\n",
       " 'FR_PO_06_18',\n",
       " 'FR_PO_06_20',\n",
       " 'FR_PO_06_21',\n",
       " 'FR_PO_06_22',\n",
       " 'FR_PO_06_24',\n",
       " 'FR_PO_06_25',\n",
       " 'FR_PO_06_26',\n",
       " 'FR_PO_06_27',\n",
       " 'FR_PO_06_28',\n",
       " 'FR_PO_06_29',\n",
       " 'FR_PO_06_34',\n",
       " 'FR_PO_06_35',\n",
       " 'FR_PO_06_36',\n",
       " 'FR_PO_06_37',\n",
       " 'FR_PO_06_38',\n",
       " 'FR_PO_06_45',\n",
       " 'FR_PO_07_01',\n",
       " 'FR_PO_07_02',\n",
       " 'FR_PO_07_03',\n",
       " 'FR_PO_07_04',\n",
       " 'FR_PO_07_05',\n",
       " 'FR_PO_07_06',\n",
       " 'FR_PO_07_07',\n",
       " 'FR_PO_07_08',\n",
       " 'FR_PO_07_09',\n",
       " 'FR_PO_07_10',\n",
       " 'FR_PO_07_11',\n",
       " 'FR_PO_07_12',\n",
       " 'FR_PO_07_13',\n",
       " 'FR_PO_07_14',\n",
       " 'FR_PO_07_15',\n",
       " 'FR_PO_07_16',\n",
       " 'FR_PO_07_17',\n",
       " 'FR_PO_07_18',\n",
       " 'FR_PO_07_19',\n",
       " 'FR_PO_07_20',\n",
       " 'FR_PO_07_21',\n",
       " 'FR_PO_07_22',\n",
       " 'FR_PO_07_23',\n",
       " 'FR_PO_07_24',\n",
       " 'FR_PO_07_25',\n",
       " 'FR_PO_07_26',\n",
       " 'FR_PO_07_27',\n",
       " 'FR_PO_07_28',\n",
       " 'FR_PO_07_29',\n",
       " 'FR_PO_07_30',\n",
       " 'FR_PO_20_01',\n",
       " 'FR_PO_20_04',\n",
       " 'FR_PO_20_05',\n",
       " 'FR_PO_20_06',\n",
       " 'FR_PO_20_08',\n",
       " 'FR_PO_20_10',\n",
       " 'FR_PO_20_14',\n",
       " 'FR_PO_20_18',\n",
       " 'FR_PO_20_23',\n",
       " 'FR_PO_20_24',\n",
       " 'FR_PO_20_25',\n",
       " 'FR_PO_20_30',\n",
       " 'FR_PO_20_35',\n",
       " 'FR_PO_20_36',\n",
       " 'FR_PO_20_37',\n",
       " 'FR_PO_20_38',\n",
       " 'FR_PO_20_39',\n",
       " 'FR_PO_20_40',\n",
       " 'FR_PO_20_41',\n",
       " 'FR_PO_20_42',\n",
       " 'FR_PO_20_43',\n",
       " 'FR_PO_20_44',\n",
       " 'FR_PO_20_45',\n",
       " 'FR_PO_20_46',\n",
       " 'FR_PO_20_47',\n",
       " 'FR_PO_21_01',\n",
       " 'FR_PO_21_02',\n",
       " 'FR_PO_21_03',\n",
       " 'FR_PO_21_04',\n",
       " 'FR_PO_21_05',\n",
       " 'FR_PO_21_06',\n",
       " 'FR_PO_21_07',\n",
       " 'FR_PO_21_08',\n",
       " 'FR_PO_21_09',\n",
       " 'FR_PO_21_10',\n",
       " 'FR_PO_21_11',\n",
       " 'FR_PO_21_12',\n",
       " 'FR_PO_21_13',\n",
       " 'FR_PO_21_14',\n",
       " 'FR_PO_21_15',\n",
       " 'FR_PO_21_16',\n",
       " 'FR_PO_21_17',\n",
       " 'FR_PO_21_18',\n",
       " 'FR_PO_21_19',\n",
       " 'FR_PO_21_20',\n",
       " 'FR_PO_21_21',\n",
       " 'FR_PO_21_22',\n",
       " 'FR_PO_21_23',\n",
       " 'FR_PO_21_24',\n",
       " 'FR_PO_21_25',\n",
       " 'FR_PO_21_26',\n",
       " 'FR_PO_21_27',\n",
       " 'FR_PO_21_28',\n",
       " 'FR_PO_22_01',\n",
       " 'FR_PO_22_02',\n",
       " 'FR_PO_22_03',\n",
       " 'FR_PO_22_04',\n",
       " 'FR_PO_22_05',\n",
       " 'FR_PO_22_10',\n",
       " 'FR_PO_22_12',\n",
       " 'FR_PO_22_13',\n",
       " 'FR_PO_22_14',\n",
       " 'FR_PO_22_15',\n",
       " 'FR_PO_22_20',\n",
       " 'FR_PO_22_21',\n",
       " 'FR_PO_22_22',\n",
       " 'FR_PO_22_23',\n",
       " 'FR_PO_22_24',\n",
       " 'GB_PO_19_104',\n",
       " 'GB_PO_19_105',\n",
       " 'GB_PO_19_23',\n",
       " 'GB_PO_19_25',\n",
       " 'GB_PO_19_28',\n",
       " 'GB_PO_19_30',\n",
       " 'GB_PO_19_32',\n",
       " 'GB_PO_19_35',\n",
       " 'GB_PO_19_37',\n",
       " 'GB_PO_19_41',\n",
       " 'GB_PO_19_43',\n",
       " 'GB_PO_19_44',\n",
       " 'GB_PO_19_46',\n",
       " 'GB_PO_19_47',\n",
       " 'GB_PO_19_49',\n",
       " 'GB_PO_19_54',\n",
       " 'GB_PO_19_56',\n",
       " 'GB_PO_19_57',\n",
       " 'GB_PO_19_59',\n",
       " 'GB_PO_19_60',\n",
       " 'GB_PO_19_62',\n",
       " 'GB_PO_19_66',\n",
       " 'GB_PO_19_67',\n",
       " 'GB_PO_19_69',\n",
       " 'GB_PO_19_70',\n",
       " 'GB_PO_19_73',\n",
       " 'GB_PO_19_74',\n",
       " 'GB_PO_19_75',\n",
       " 'GB_PO_19_77',\n",
       " 'GB_PO_19_78',\n",
       " 'GB_PO_19_79',\n",
       " 'GB_PO_19_81',\n",
       " 'GB_PO_19_86',\n",
       " 'GB_PO_19_87',\n",
       " 'GB_PO_19_90',\n",
       " 'GB_PO_19_91',\n",
       " 'GB_PO_19_92',\n",
       " 'GR_PO_18_01',\n",
       " 'GR_PO_18_02',\n",
       " 'GR_PO_18_05',\n",
       " 'GR_PO_18_06',\n",
       " 'GR_PO_18_08',\n",
       " 'GR_PO_18_09',\n",
       " 'GR_PO_18_13',\n",
       " 'GR_PO_18_14',\n",
       " 'GR_PO_18_15',\n",
       " 'GR_PO_18_16',\n",
       " 'GR_PO_18_19',\n",
       " 'GR_PO_18_24',\n",
       " 'GR_PO_18_25',\n",
       " 'IT_PO_14_01',\n",
       " 'IT_PO_14_02',\n",
       " 'IT_PO_14_03',\n",
       " 'IT_PO_14_04',\n",
       " 'IT_PO_14_05',\n",
       " 'IT_PO_14_06',\n",
       " 'IT_PO_14_07',\n",
       " 'IT_PO_14_08',\n",
       " 'IT_PO_14_09',\n",
       " 'IT_PO_14_10',\n",
       " 'IT_PO_14_11',\n",
       " 'IT_PO_14_12',\n",
       " 'IT_PO_14_14',\n",
       " 'IT_PO_14_15',\n",
       " 'IT_PO_14_16',\n",
       " 'IT_PO_14_17',\n",
       " 'IT_PO_14_18',\n",
       " 'IT_PO_14_19',\n",
       " 'IT_PO_14_20',\n",
       " 'IT_PO_14_21',\n",
       " 'IT_PO_14_23',\n",
       " 'IT_PO_14_24',\n",
       " 'IT_PO_14_25',\n",
       " 'IT_PO_15_01',\n",
       " 'IT_PO_15_02',\n",
       " 'IT_PO_15_03',\n",
       " 'IT_PO_15_04',\n",
       " 'IT_PO_15_05',\n",
       " 'IT_PO_15_06',\n",
       " 'IT_PO_15_08',\n",
       " 'IT_PO_15_09',\n",
       " 'IT_PO_15_11',\n",
       " 'IT_PO_15_12',\n",
       " 'IT_PO_15_13',\n",
       " 'IT_PO_15_14',\n",
       " 'IT_PO_15_15',\n",
       " 'IT_PO_15_16',\n",
       " 'IT_PO_15_19',\n",
       " 'IT_PO_15_20',\n",
       " 'IT_PO_15_22',\n",
       " 'IT_PO_15_23',\n",
       " 'IT_PO_15_24',\n",
       " 'IT_PO_15_25',\n",
       " 'IT_PO_16_01',\n",
       " 'IT_PO_16_02',\n",
       " 'IT_PO_16_03',\n",
       " 'IT_PO_16_04',\n",
       " 'IT_PO_16_05',\n",
       " 'IT_PO_16_06',\n",
       " 'IT_PO_16_07',\n",
       " 'IT_PO_16_08',\n",
       " 'IT_PO_16_09',\n",
       " 'IT_PO_16_10',\n",
       " 'IT_PO_16_11',\n",
       " 'IT_PO_16_12',\n",
       " 'IT_PO_16_13',\n",
       " 'IT_PO_16_14',\n",
       " 'IT_PO_16_15',\n",
       " 'IT_PO_16_16',\n",
       " 'IT_PO_16_17',\n",
       " 'IT_PO_16_18',\n",
       " 'IT_PO_16_19',\n",
       " 'IT_PO_16_20',\n",
       " 'IT_PO_16_21',\n",
       " 'IT_PO_16_22',\n",
       " 'IT_PO_16_23',\n",
       " 'IT_PO_16_24',\n",
       " 'IT_PO_16_25',\n",
       " 'IT_PO_17_01',\n",
       " 'IT_PO_17_02',\n",
       " 'IT_PO_17_03',\n",
       " 'IT_PO_17_04',\n",
       " 'IT_PO_17_05',\n",
       " 'IT_PO_17_06',\n",
       " 'IT_PO_17_07',\n",
       " 'IT_PO_17_08',\n",
       " 'IT_PO_17_09',\n",
       " 'IT_PO_17_10',\n",
       " 'IT_PO_17_11',\n",
       " 'IT_PO_17_12',\n",
       " 'IT_PO_17_13',\n",
       " 'IT_PO_17_14',\n",
       " 'IT_PO_17_15',\n",
       " 'IT_PO_17_16',\n",
       " 'IT_PO_17_17',\n",
       " 'IT_PO_17_18',\n",
       " 'IT_PO_17_19',\n",
       " 'IT_PO_17_20',\n",
       " 'IT_PO_17_21',\n",
       " 'IT_PO_17_22',\n",
       " 'IT_PO_17_23',\n",
       " 'IT_PO_17_24',\n",
       " 'IT_PO_17_25',\n",
       " 'MR_PO_23_04',\n",
       " 'MR_PO_23_05',\n",
       " 'MR_PO_23_09',\n",
       " 'MR_PO_23_12',\n",
       " 'MR_PO_23_14',\n",
       " 'MR_PO_23_21',\n",
       " 'MR_PO_23_23',\n",
       " 'MR_PO_23_24',\n",
       " 'MR_PO_23_32',\n",
       " 'MR_PO_23_33',\n",
       " 'MR_PO_23_37',\n",
       " 'MR_PO_23_39',\n",
       " 'MR_PO_23_40',\n",
       " 'MR_PO_23_42',\n",
       " 'MR_PO_23_43',\n",
       " 'MR_PO_23_45',\n",
       " 'MR_PO_23_48',\n",
       " 'MR_PO_23_50',\n",
       " 'MR_PO_23_51',\n",
       " 'MR_PO_23_52',\n",
       " 'MR_PO_23_55',\n",
       " 'MR_PO_23_57',\n",
       " 'MR_PO_23_59',\n",
       " 'MR_PO_23_60',\n",
       " 'MR_PO_23_62',\n",
       " 'MR_PO_23_66']"
      ]
     },
     "execution_count": 21,
     "metadata": {},
     "output_type": "execute_result"
    }
   ],
   "source": [
    "samples = callset['samples']\n",
    "samples = list(samples)\n",
    "samples"
   ]
  },
  {
   "cell_type": "code",
   "execution_count": 22,
   "metadata": {},
   "outputs": [
    {
     "data": {
      "text/html": [
       "<div>\n",
       "<style scoped>\n",
       "    .dataframe tbody tr th:only-of-type {\n",
       "        vertical-align: middle;\n",
       "    }\n",
       "\n",
       "    .dataframe tbody tr th {\n",
       "        vertical-align: top;\n",
       "    }\n",
       "\n",
       "    .dataframe thead th {\n",
       "        text-align: right;\n",
       "    }\n",
       "</style>\n",
       "<table border=\"1\" class=\"dataframe\">\n",
       "  <thead>\n",
       "    <tr style=\"text-align: right;\">\n",
       "      <th></th>\n",
       "      <th>ID</th>\n",
       "      <th>Population</th>\n",
       "    </tr>\n",
       "  </thead>\n",
       "  <tbody>\n",
       "    <tr>\n",
       "      <th>0</th>\n",
       "      <td>BH_PO_24_02</td>\n",
       "      <td>BH_PO_24</td>\n",
       "    </tr>\n",
       "    <tr>\n",
       "      <th>1</th>\n",
       "      <td>BH_PO_24_04</td>\n",
       "      <td>BH_PO_24</td>\n",
       "    </tr>\n",
       "    <tr>\n",
       "      <th>2</th>\n",
       "      <td>BH_PO_24_05</td>\n",
       "      <td>BH_PO_24</td>\n",
       "    </tr>\n",
       "    <tr>\n",
       "      <th>3</th>\n",
       "      <td>BH_PO_24_07</td>\n",
       "      <td>BH_PO_24</td>\n",
       "    </tr>\n",
       "    <tr>\n",
       "      <th>4</th>\n",
       "      <td>BH_PO_24_08</td>\n",
       "      <td>BH_PO_24</td>\n",
       "    </tr>\n",
       "    <tr>\n",
       "      <th>...</th>\n",
       "      <td>...</td>\n",
       "      <td>...</td>\n",
       "    </tr>\n",
       "    <tr>\n",
       "      <th>568</th>\n",
       "      <td>MR_PO_23_57</td>\n",
       "      <td>MR_PO_23</td>\n",
       "    </tr>\n",
       "    <tr>\n",
       "      <th>569</th>\n",
       "      <td>MR_PO_23_59</td>\n",
       "      <td>MR_PO_23</td>\n",
       "    </tr>\n",
       "    <tr>\n",
       "      <th>570</th>\n",
       "      <td>MR_PO_23_60</td>\n",
       "      <td>MR_PO_23</td>\n",
       "    </tr>\n",
       "    <tr>\n",
       "      <th>571</th>\n",
       "      <td>MR_PO_23_62</td>\n",
       "      <td>MR_PO_23</td>\n",
       "    </tr>\n",
       "    <tr>\n",
       "      <th>572</th>\n",
       "      <td>MR_PO_23_66</td>\n",
       "      <td>MR_PO_23</td>\n",
       "    </tr>\n",
       "  </tbody>\n",
       "</table>\n",
       "<p>573 rows × 2 columns</p>\n",
       "</div>"
      ],
      "text/plain": [
       "              ID Population\n",
       "0    BH_PO_24_02   BH_PO_24\n",
       "1    BH_PO_24_04   BH_PO_24\n",
       "2    BH_PO_24_05   BH_PO_24\n",
       "3    BH_PO_24_07   BH_PO_24\n",
       "4    BH_PO_24_08   BH_PO_24\n",
       "..           ...        ...\n",
       "568  MR_PO_23_57   MR_PO_23\n",
       "569  MR_PO_23_59   MR_PO_23\n",
       "570  MR_PO_23_60   MR_PO_23\n",
       "571  MR_PO_23_62   MR_PO_23\n",
       "572  MR_PO_23_66   MR_PO_23\n",
       "\n",
       "[573 rows x 2 columns]"
      ]
     },
     "execution_count": 22,
     "metadata": {},
     "output_type": "execute_result"
    }
   ],
   "source": [
    "samples_fn = '/wrk/Gen_Tree/GenTree_Genome_mapping/Populus_nigra/Pnigra_GM_raw_snps_samples.txt'\n",
    "samples = pandas.read_csv(samples_fn, sep='\\t')\n",
    "samples"
   ]
  },
  {
   "cell_type": "code",
   "execution_count": 23,
   "metadata": {},
   "outputs": [
    {
     "data": {
      "text/plain": [
       "GB_PO_19    37\n",
       "CH_PO_12    33\n",
       "FR_PO_7     30\n",
       "FR_PO_4     29\n",
       "CH_PO_13    28\n",
       "FR_PO_6     28\n",
       "FR_PO_5     28\n",
       "FR_PO_21    28\n",
       "MR_PO_23    26\n",
       "DE_PO_8     25\n",
       "IT_PO_17    25\n",
       "IT_PO_16    25\n",
       "DE_PO_10    25\n",
       "FR_PO_20    25\n",
       "DE_PO_11    25\n",
       "DE_PO_9     24\n",
       "IT_PO_14    23\n",
       "ES_PO_2     22\n",
       "IT_PO_15    20\n",
       "BH_PO_24    19\n",
       "ES_PO_1     18\n",
       "FR_PO_22    15\n",
       "GR_PO_18    13\n",
       "CT_PO_25     2\n",
       "Name: Population, dtype: int64"
      ]
     },
     "execution_count": 23,
     "metadata": {},
     "output_type": "execute_result"
    }
   ],
   "source": [
    "samples.Population.value_counts()"
   ]
  },
  {
   "cell_type": "code",
   "execution_count": 24,
   "metadata": {},
   "outputs": [
    {
     "data": {
      "text/plain": [
       "array([ True,  True,  True,  True,  True])"
      ]
     },
     "execution_count": 24,
     "metadata": {},
     "output_type": "execute_result"
    }
   ],
   "source": [
    "sample_selection = samples.Population.isin({'BH_PO_24', 'CH_PO_12', 'CH_PO_13', 'CT_PO_25', 'DE_PO_8',\n",
    "       'DE_PO_9', 'DE_PO_10', 'DE_PO_11', 'ES_PO_1', 'ES_PO_2', 'FR_PO_4',\n",
    "       'FR_PO_5', 'FR_PO_6', 'FR_PO_7', 'FR_PO_20', 'FR_PO_21',\n",
    "       'FR_PO_22', 'GB_PO_19', 'GR_PO_18', 'IT_PO_14', 'IT_PO_15',\n",
    "       'IT_PO_16', 'IT_PO_17', 'MR_PO_23'}).values\n",
    "sample_selection[:5]"
   ]
  },
  {
   "cell_type": "code",
   "execution_count": 25,
   "metadata": {},
   "outputs": [
    {
     "data": {
      "text/html": [
       "<div>\n",
       "<style scoped>\n",
       "    .dataframe tbody tr th:only-of-type {\n",
       "        vertical-align: middle;\n",
       "    }\n",
       "\n",
       "    .dataframe tbody tr th {\n",
       "        vertical-align: top;\n",
       "    }\n",
       "\n",
       "    .dataframe thead th {\n",
       "        text-align: right;\n",
       "    }\n",
       "</style>\n",
       "<table border=\"1\" class=\"dataframe\">\n",
       "  <thead>\n",
       "    <tr style=\"text-align: right;\">\n",
       "      <th></th>\n",
       "      <th>ID</th>\n",
       "      <th>Population</th>\n",
       "    </tr>\n",
       "  </thead>\n",
       "  <tbody>\n",
       "    <tr>\n",
       "      <th>0</th>\n",
       "      <td>BH_PO_24_02</td>\n",
       "      <td>BH_PO_24</td>\n",
       "    </tr>\n",
       "    <tr>\n",
       "      <th>1</th>\n",
       "      <td>BH_PO_24_04</td>\n",
       "      <td>BH_PO_24</td>\n",
       "    </tr>\n",
       "    <tr>\n",
       "      <th>2</th>\n",
       "      <td>BH_PO_24_05</td>\n",
       "      <td>BH_PO_24</td>\n",
       "    </tr>\n",
       "    <tr>\n",
       "      <th>3</th>\n",
       "      <td>BH_PO_24_07</td>\n",
       "      <td>BH_PO_24</td>\n",
       "    </tr>\n",
       "    <tr>\n",
       "      <th>4</th>\n",
       "      <td>BH_PO_24_08</td>\n",
       "      <td>BH_PO_24</td>\n",
       "    </tr>\n",
       "    <tr>\n",
       "      <th>...</th>\n",
       "      <td>...</td>\n",
       "      <td>...</td>\n",
       "    </tr>\n",
       "    <tr>\n",
       "      <th>568</th>\n",
       "      <td>MR_PO_23_57</td>\n",
       "      <td>MR_PO_23</td>\n",
       "    </tr>\n",
       "    <tr>\n",
       "      <th>569</th>\n",
       "      <td>MR_PO_23_59</td>\n",
       "      <td>MR_PO_23</td>\n",
       "    </tr>\n",
       "    <tr>\n",
       "      <th>570</th>\n",
       "      <td>MR_PO_23_60</td>\n",
       "      <td>MR_PO_23</td>\n",
       "    </tr>\n",
       "    <tr>\n",
       "      <th>571</th>\n",
       "      <td>MR_PO_23_62</td>\n",
       "      <td>MR_PO_23</td>\n",
       "    </tr>\n",
       "    <tr>\n",
       "      <th>572</th>\n",
       "      <td>MR_PO_23_66</td>\n",
       "      <td>MR_PO_23</td>\n",
       "    </tr>\n",
       "  </tbody>\n",
       "</table>\n",
       "<p>573 rows × 2 columns</p>\n",
       "</div>"
      ],
      "text/plain": [
       "              ID Population\n",
       "0    BH_PO_24_02   BH_PO_24\n",
       "1    BH_PO_24_04   BH_PO_24\n",
       "2    BH_PO_24_05   BH_PO_24\n",
       "3    BH_PO_24_07   BH_PO_24\n",
       "4    BH_PO_24_08   BH_PO_24\n",
       "..           ...        ...\n",
       "568  MR_PO_23_57   MR_PO_23\n",
       "569  MR_PO_23_59   MR_PO_23\n",
       "570  MR_PO_23_60   MR_PO_23\n",
       "571  MR_PO_23_62   MR_PO_23\n",
       "572  MR_PO_23_66   MR_PO_23\n",
       "\n",
       "[573 rows x 2 columns]"
      ]
     },
     "execution_count": 25,
     "metadata": {},
     "output_type": "execute_result"
    }
   ],
   "source": [
    "samples_subset = samples[sample_selection]\n",
    "samples_subset.reset_index(drop=True, inplace=True)\n",
    "samples_subset"
   ]
  },
  {
   "cell_type": "code",
   "execution_count": 26,
   "metadata": {},
   "outputs": [
    {
     "name": "stdout",
     "output_type": "stream",
     "text": [
      "CPU times: user 5.66 s, sys: 114 ms, total: 5.77 s\n",
      "Wall time: 6.86 s\n"
     ]
    }
   ],
   "source": [
    "%%time\n",
    "genotypes_subset = genotypes.subset(variant_selection, sample_selection)"
   ]
  },
  {
   "cell_type": "code",
   "execution_count": 27,
   "metadata": {},
   "outputs": [
    {
     "data": {
      "text/html": [
       "<div class=\"allel allel-DisplayAs2D\"><span>&lt;GenotypeChunkedArray shape=(504641, 573, 2) dtype=int8 chunks=(1972, 573, 2)\n",
       "   nbytes=551.5M cbytes=107.5M cratio=5.1\n",
       "   compression=blosc compression_opts={'cname': 'lz4', 'clevel': 5, 'shuffle': 1, 'blocksize': 0}\n",
       "   values=zarr.core.Array&gt;</span><table><thead><tr><th></th><th style=\"text-align: center\">0</th><th style=\"text-align: center\">1</th><th style=\"text-align: center\">2</th><th style=\"text-align: center\">3</th><th style=\"text-align: center\">4</th><th style=\"text-align: center\">...</th><th style=\"text-align: center\">568</th><th style=\"text-align: center\">569</th><th style=\"text-align: center\">570</th><th style=\"text-align: center\">571</th><th style=\"text-align: center\">572</th></tr></thead><tbody><tr><th style=\"text-align: center; background-color: white; border-right: 1px solid black; \">0</th><td style=\"text-align: center\">0/0</td><td style=\"text-align: center\">0/0</td><td style=\"text-align: center\">0/0</td><td style=\"text-align: center\">0/0</td><td style=\"text-align: center\">0/0</td><td style=\"text-align: center\">...</td><td style=\"text-align: center\">0/0</td><td style=\"text-align: center\">0/0</td><td style=\"text-align: center\">0/0</td><td style=\"text-align: center\">0/0</td><td style=\"text-align: center\">0/0</td></tr><tr><th style=\"text-align: center; background-color: white; border-right: 1px solid black; \">1</th><td style=\"text-align: center\">0/0</td><td style=\"text-align: center\">0/0</td><td style=\"text-align: center\">0/0</td><td style=\"text-align: center\">0/0</td><td style=\"text-align: center\">0/0</td><td style=\"text-align: center\">...</td><td style=\"text-align: center\">0/0</td><td style=\"text-align: center\">0/0</td><td style=\"text-align: center\">0/0</td><td style=\"text-align: center\">0/0</td><td style=\"text-align: center\">0/0</td></tr><tr><th style=\"text-align: center; background-color: white; border-right: 1px solid black; \">2</th><td style=\"text-align: center\">0/0</td><td style=\"text-align: center\">0/0</td><td style=\"text-align: center\">0/0</td><td style=\"text-align: center\">0/0</td><td style=\"text-align: center\">0/0</td><td style=\"text-align: center\">...</td><td style=\"text-align: center\">0/0</td><td style=\"text-align: center\">0/0</td><td style=\"text-align: center\">0/0</td><td style=\"text-align: center\">0/0</td><td style=\"text-align: center\">0/0</td></tr><tr><th style=\"text-align: center; background-color: white; border-right: 1px solid black; \">...</th><td style=\"text-align: center\" colspan=\"12\">...</td></tr><tr><th style=\"text-align: center; background-color: white; border-right: 1px solid black; \">504638</th><td style=\"text-align: center\">0/0</td><td style=\"text-align: center\">0/0</td><td style=\"text-align: center\">0/0</td><td style=\"text-align: center\">0/0</td><td style=\"text-align: center\">0/0</td><td style=\"text-align: center\">...</td><td style=\"text-align: center\">0/0</td><td style=\"text-align: center\">0/0</td><td style=\"text-align: center\">0/0</td><td style=\"text-align: center\">0/0</td><td style=\"text-align: center\">0/0</td></tr><tr><th style=\"text-align: center; background-color: white; border-right: 1px solid black; \">504639</th><td style=\"text-align: center\">0/0</td><td style=\"text-align: center\">0/0</td><td style=\"text-align: center\">0/0</td><td style=\"text-align: center\">0/0</td><td style=\"text-align: center\">0/0</td><td style=\"text-align: center\">...</td><td style=\"text-align: center\">0/0</td><td style=\"text-align: center\">0/0</td><td style=\"text-align: center\">0/0</td><td style=\"text-align: center\">0/0</td><td style=\"text-align: center\">0/0</td></tr><tr><th style=\"text-align: center; background-color: white; border-right: 1px solid black; \">504640</th><td style=\"text-align: center\">0/0</td><td style=\"text-align: center\">0/0</td><td style=\"text-align: center\">0/0</td><td style=\"text-align: center\">0/0</td><td style=\"text-align: center\">0/0</td><td style=\"text-align: center\">...</td><td style=\"text-align: center\">0/0</td><td style=\"text-align: center\">0/0</td><td style=\"text-align: center\">0/0</td><td style=\"text-align: center\">0/0</td><td style=\"text-align: center\">0/0</td></tr></tbody></table></div>"
      ],
      "text/plain": [
       "<GenotypeChunkedArray shape=(504641, 573, 2) dtype=int8 chunks=(1972, 573, 2)\n",
       "   nbytes=551.5M cbytes=107.5M cratio=5.1\n",
       "   compression=blosc compression_opts={'cname': 'lz4', 'clevel': 5, 'shuffle': 1, 'blocksize': 0}\n",
       "   values=zarr.core.Array>"
      ]
     },
     "execution_count": 27,
     "metadata": {},
     "output_type": "execute_result"
    }
   ],
   "source": [
    "genotypes_subset"
   ]
  },
  {
   "cell_type": "code",
   "execution_count": 28,
   "metadata": {},
   "outputs": [
    {
     "data": {
      "text/html": [
       "<div class=\"allel allel-DisplayAs2D\"><span>&lt;AlleleCountsChunkedArray shape=(504641, 5) dtype=int32 chunks=(31541, 5)\n",
       "   nbytes=9.6M cbytes=2.6M cratio=3.8\n",
       "   compression=blosc compression_opts={'cname': 'lz4', 'clevel': 5, 'shuffle': 1, 'blocksize': 0}\n",
       "   values=zarr.core.Array&gt;</span><table><thead><tr><th></th><th style=\"text-align: center\">0</th><th style=\"text-align: center\">1</th><th style=\"text-align: center\">2</th><th style=\"text-align: center\">3</th><th style=\"text-align: center\">4</th></tr></thead><tbody><tr><th style=\"text-align: center; background-color: white; border-right: 1px solid black; \">0</th><td style=\"text-align: center\">1020</td><td style=\"text-align: center\">   2</td><td style=\"text-align: center\">   0</td><td style=\"text-align: center\">   0</td><td style=\"text-align: center\">   0</td></tr><tr><th style=\"text-align: center; background-color: white; border-right: 1px solid black; \">1</th><td style=\"text-align: center\">1029</td><td style=\"text-align: center\">   1</td><td style=\"text-align: center\">   0</td><td style=\"text-align: center\">   0</td><td style=\"text-align: center\">   0</td></tr><tr><th style=\"text-align: center; background-color: white; border-right: 1px solid black; \">2</th><td style=\"text-align: center\">1017</td><td style=\"text-align: center\">   9</td><td style=\"text-align: center\">   0</td><td style=\"text-align: center\">   0</td><td style=\"text-align: center\">   0</td></tr><tr><th style=\"text-align: center; background-color: white; border-right: 1px solid black; \">...</th><td style=\"text-align: center\" colspan=\"6\">...</td></tr><tr><th style=\"text-align: center; background-color: white; border-right: 1px solid black; \">504638</th><td style=\"text-align: center\">955</td><td style=\"text-align: center\">  1</td><td style=\"text-align: center\">  0</td><td style=\"text-align: center\">  0</td><td style=\"text-align: center\">  0</td></tr><tr><th style=\"text-align: center; background-color: white; border-right: 1px solid black; \">504639</th><td style=\"text-align: center\">950</td><td style=\"text-align: center\">  4</td><td style=\"text-align: center\">  0</td><td style=\"text-align: center\">  0</td><td style=\"text-align: center\">  0</td></tr><tr><th style=\"text-align: center; background-color: white; border-right: 1px solid black; \">504640</th><td style=\"text-align: center\">944</td><td style=\"text-align: center\">  4</td><td style=\"text-align: center\">  0</td><td style=\"text-align: center\">  0</td><td style=\"text-align: center\">  0</td></tr></tbody></table></div>"
      ],
      "text/plain": [
       "<AlleleCountsChunkedArray shape=(504641, 5) dtype=int32 chunks=(31541, 5)\n",
       "   nbytes=9.6M cbytes=2.6M cratio=3.8\n",
       "   compression=blosc compression_opts={'cname': 'lz4', 'clevel': 5, 'shuffle': 1, 'blocksize': 0}\n",
       "   values=zarr.core.Array>"
      ]
     },
     "execution_count": 28,
     "metadata": {},
     "output_type": "execute_result"
    }
   ],
   "source": [
    "ac = genotypes_subset.count_alleles()\n",
    "ac"
   ]
  },
  {
   "cell_type": "markdown",
   "metadata": {},
   "source": [
    "### Which ones are biallelic?"
   ]
  },
  {
   "cell_type": "code",
   "execution_count": 29,
   "metadata": {},
   "outputs": [
    {
     "data": {
      "text/plain": [
       "array([[1020,    2],\n",
       "       [1029,    1],\n",
       "       [1017,    9],\n",
       "       ...,\n",
       "       [ 955,    1],\n",
       "       [ 950,    4],\n",
       "       [ 944,    4]], dtype=int32)"
      ]
     },
     "execution_count": 29,
     "metadata": {},
     "output_type": "execute_result"
    }
   ],
   "source": [
    "is_biallelic_01 = ac.is_biallelic_01()[:]\n",
    "ac1 = ac.compress(is_biallelic_01, axis=0)[:, :2]\n",
    "ac1\n",
    "##this part of the code is only for graphing the SFS, is not useful for filtering biallelic sites"
   ]
  },
  {
   "cell_type": "markdown",
   "metadata": {},
   "source": [
    "### Plot the SFS of the derived allele"
   ]
  },
  {
   "cell_type": "code",
   "execution_count": 30,
   "metadata": {},
   "outputs": [
    {
     "data": {
      "text/plain": [
       "<matplotlib.axes._subplots.AxesSubplot at 0x7fa0952c2650>"
      ]
     },
     "execution_count": 30,
     "metadata": {},
     "output_type": "execute_result"
    },
    {
     "data": {
      "image/png": "[encoded data removed]",
      "text/plain": [
       "<Figure size 432x288 with 1 Axes>"
      ]
     },
     "metadata": {},
     "output_type": "display_data"
    }
   ],
   "source": [
    "s = allel.sfs_folded(ac1)\n",
    "allel.plot_sfs(s, yscale=\"linear\", n=ac1.sum(axis=1).max())"
   ]
  },
  {
   "cell_type": "markdown",
   "metadata": {},
   "source": [
    "### Select only biallelic variants"
   ]
  },
  {
   "cell_type": "code",
   "execution_count": 31,
   "metadata": {},
   "outputs": [],
   "source": [
    "biallelic = (ac.max_allele() == 1)\n",
    "###This is the filter expression for biallelic sites"
   ]
  },
  {
   "cell_type": "code",
   "execution_count": 32,
   "metadata": {},
   "outputs": [
    {
     "data": {
      "text/plain": [
       "<ChunkedArrayWrapper shape=(504641,) dtype=bool chunks=(252321,)\n",
       "   nbytes=492.8K cbytes=120.5K cratio=4.1\n",
       "   compression=blosc compression_opts={'cname': 'lz4', 'clevel': 5, 'shuffle': 1, 'blocksize': 0}\n",
       "   values=zarr.core.Array>"
      ]
     },
     "execution_count": 32,
     "metadata": {},
     "output_type": "execute_result"
    }
   ],
   "source": [
    "biallelic"
   ]
  },
  {
   "cell_type": "code",
   "execution_count": 33,
   "metadata": {},
   "outputs": [
    {
     "name": "stdout",
     "output_type": "stream",
     "text": [
      "CPU times: user 1.97 s, sys: 52.5 ms, total: 2.03 s\n",
      "Wall time: 634 ms\n"
     ]
    },
    {
     "data": {
      "text/html": [
       "<div class=\"allel allel-DisplayAs2D\"><span>&lt;GenotypeChunkedArray shape=(456781, 573, 2) dtype=int8 chunks=(1785, 573, 2)\n",
       "   nbytes=499.2M cbytes=91.3M cratio=5.5\n",
       "   compression=blosc compression_opts={'cname': 'lz4', 'clevel': 5, 'shuffle': 1, 'blocksize': 0}\n",
       "   values=zarr.core.Array&gt;</span><table><thead><tr><th></th><th style=\"text-align: center\">0</th><th style=\"text-align: center\">1</th><th style=\"text-align: center\">2</th><th style=\"text-align: center\">3</th><th style=\"text-align: center\">4</th><th style=\"text-align: center\">...</th><th style=\"text-align: center\">568</th><th style=\"text-align: center\">569</th><th style=\"text-align: center\">570</th><th style=\"text-align: center\">571</th><th style=\"text-align: center\">572</th></tr></thead><tbody><tr><th style=\"text-align: center; background-color: white; border-right: 1px solid black; \">0</th><td style=\"text-align: center\">0/0</td><td style=\"text-align: center\">0/0</td><td style=\"text-align: center\">0/0</td><td style=\"text-align: center\">0/0</td><td style=\"text-align: center\">0/0</td><td style=\"text-align: center\">...</td><td style=\"text-align: center\">0/0</td><td style=\"text-align: center\">0/0</td><td style=\"text-align: center\">0/0</td><td style=\"text-align: center\">0/0</td><td style=\"text-align: center\">0/0</td></tr><tr><th style=\"text-align: center; background-color: white; border-right: 1px solid black; \">1</th><td style=\"text-align: center\">0/0</td><td style=\"text-align: center\">0/0</td><td style=\"text-align: center\">0/0</td><td style=\"text-align: center\">0/0</td><td style=\"text-align: center\">0/0</td><td style=\"text-align: center\">...</td><td style=\"text-align: center\">0/0</td><td style=\"text-align: center\">0/0</td><td style=\"text-align: center\">0/0</td><td style=\"text-align: center\">0/0</td><td style=\"text-align: center\">0/0</td></tr><tr><th style=\"text-align: center; background-color: white; border-right: 1px solid black; \">2</th><td style=\"text-align: center\">0/0</td><td style=\"text-align: center\">0/0</td><td style=\"text-align: center\">0/0</td><td style=\"text-align: center\">0/0</td><td style=\"text-align: center\">0/0</td><td style=\"text-align: center\">...</td><td style=\"text-align: center\">0/0</td><td style=\"text-align: center\">0/0</td><td style=\"text-align: center\">0/0</td><td style=\"text-align: center\">0/0</td><td style=\"text-align: center\">0/0</td></tr><tr><th style=\"text-align: center; background-color: white; border-right: 1px solid black; \">...</th><td style=\"text-align: center\" colspan=\"12\">...</td></tr><tr><th style=\"text-align: center; background-color: white; border-right: 1px solid black; \">456778</th><td style=\"text-align: center\">0/0</td><td style=\"text-align: center\">0/0</td><td style=\"text-align: center\">0/0</td><td style=\"text-align: center\">0/0</td><td style=\"text-align: center\">0/0</td><td style=\"text-align: center\">...</td><td style=\"text-align: center\">0/0</td><td style=\"text-align: center\">0/0</td><td style=\"text-align: center\">0/0</td><td style=\"text-align: center\">0/0</td><td style=\"text-align: center\">0/0</td></tr><tr><th style=\"text-align: center; background-color: white; border-right: 1px solid black; \">456779</th><td style=\"text-align: center\">0/0</td><td style=\"text-align: center\">0/0</td><td style=\"text-align: center\">0/0</td><td style=\"text-align: center\">0/0</td><td style=\"text-align: center\">0/0</td><td style=\"text-align: center\">...</td><td style=\"text-align: center\">0/0</td><td style=\"text-align: center\">0/0</td><td style=\"text-align: center\">0/0</td><td style=\"text-align: center\">0/0</td><td style=\"text-align: center\">0/0</td></tr><tr><th style=\"text-align: center; background-color: white; border-right: 1px solid black; \">456780</th><td style=\"text-align: center\">0/0</td><td style=\"text-align: center\">0/0</td><td style=\"text-align: center\">0/0</td><td style=\"text-align: center\">0/0</td><td style=\"text-align: center\">0/0</td><td style=\"text-align: center\">...</td><td style=\"text-align: center\">0/0</td><td style=\"text-align: center\">0/0</td><td style=\"text-align: center\">0/0</td><td style=\"text-align: center\">0/0</td><td style=\"text-align: center\">0/0</td></tr></tbody></table></div>"
      ],
      "text/plain": [
       "<GenotypeChunkedArray shape=(456781, 573, 2) dtype=int8 chunks=(1785, 573, 2)\n",
       "   nbytes=499.2M cbytes=91.3M cratio=5.5\n",
       "   compression=blosc compression_opts={'cname': 'lz4', 'clevel': 5, 'shuffle': 1, 'blocksize': 0}\n",
       "   values=zarr.core.Array>"
      ]
     },
     "execution_count": 33,
     "metadata": {},
     "output_type": "execute_result"
    }
   ],
   "source": [
    "%%time\n",
    "genotypes_subset_2 = genotypes_subset.compress(biallelic)\n",
    "genotypes_subset_2\n",
    "###subset the array genotypes_subset by keeping only biallelic sites. "
   ]
  },
  {
   "cell_type": "code",
   "execution_count": 34,
   "metadata": {},
   "outputs": [
    {
     "data": {
      "text/html": [
       "<div class=\"allel allel-DisplayAs2D\"><span>&lt;GenotypeChunkedArray shape=(456781, 573, 2) dtype=int8 chunks=(1785, 573, 2)\n",
       "   nbytes=499.2M cbytes=91.3M cratio=5.5\n",
       "   compression=blosc compression_opts={'cname': 'lz4', 'clevel': 5, 'shuffle': 1, 'blocksize': 0}\n",
       "   values=zarr.core.Array&gt;</span><table><thead><tr><th></th><th style=\"text-align: center\">0</th><th style=\"text-align: center\">1</th><th style=\"text-align: center\">2</th><th style=\"text-align: center\">3</th><th style=\"text-align: center\">4</th><th style=\"text-align: center\">...</th><th style=\"text-align: center\">568</th><th style=\"text-align: center\">569</th><th style=\"text-align: center\">570</th><th style=\"text-align: center\">571</th><th style=\"text-align: center\">572</th></tr></thead><tbody><tr><th style=\"text-align: center; background-color: white; border-right: 1px solid black; \">0</th><td style=\"text-align: center\">0/0</td><td style=\"text-align: center\">0/0</td><td style=\"text-align: center\">0/0</td><td style=\"text-align: center\">0/0</td><td style=\"text-align: center\">0/0</td><td style=\"text-align: center\">...</td><td style=\"text-align: center\">0/0</td><td style=\"text-align: center\">0/0</td><td style=\"text-align: center\">0/0</td><td style=\"text-align: center\">0/0</td><td style=\"text-align: center\">0/0</td></tr><tr><th style=\"text-align: center; background-color: white; border-right: 1px solid black; \">1</th><td style=\"text-align: center\">0/0</td><td style=\"text-align: center\">0/0</td><td style=\"text-align: center\">0/0</td><td style=\"text-align: center\">0/0</td><td style=\"text-align: center\">0/0</td><td style=\"text-align: center\">...</td><td style=\"text-align: center\">0/0</td><td style=\"text-align: center\">0/0</td><td style=\"text-align: center\">0/0</td><td style=\"text-align: center\">0/0</td><td style=\"text-align: center\">0/0</td></tr><tr><th style=\"text-align: center; background-color: white; border-right: 1px solid black; \">2</th><td style=\"text-align: center\">0/0</td><td style=\"text-align: center\">0/0</td><td style=\"text-align: center\">0/0</td><td style=\"text-align: center\">0/0</td><td style=\"text-align: center\">0/0</td><td style=\"text-align: center\">...</td><td style=\"text-align: center\">0/0</td><td style=\"text-align: center\">0/0</td><td style=\"text-align: center\">0/0</td><td style=\"text-align: center\">0/0</td><td style=\"text-align: center\">0/0</td></tr><tr><th style=\"text-align: center; background-color: white; border-right: 1px solid black; \">...</th><td style=\"text-align: center\" colspan=\"12\">...</td></tr><tr><th style=\"text-align: center; background-color: white; border-right: 1px solid black; \">456778</th><td style=\"text-align: center\">0/0</td><td style=\"text-align: center\">0/0</td><td style=\"text-align: center\">0/0</td><td style=\"text-align: center\">0/0</td><td style=\"text-align: center\">0/0</td><td style=\"text-align: center\">...</td><td style=\"text-align: center\">0/0</td><td style=\"text-align: center\">0/0</td><td style=\"text-align: center\">0/0</td><td style=\"text-align: center\">0/0</td><td style=\"text-align: center\">0/0</td></tr><tr><th style=\"text-align: center; background-color: white; border-right: 1px solid black; \">456779</th><td style=\"text-align: center\">0/0</td><td style=\"text-align: center\">0/0</td><td style=\"text-align: center\">0/0</td><td style=\"text-align: center\">0/0</td><td style=\"text-align: center\">0/0</td><td style=\"text-align: center\">...</td><td style=\"text-align: center\">0/0</td><td style=\"text-align: center\">0/0</td><td style=\"text-align: center\">0/0</td><td style=\"text-align: center\">0/0</td><td style=\"text-align: center\">0/0</td></tr><tr><th style=\"text-align: center; background-color: white; border-right: 1px solid black; \">456780</th><td style=\"text-align: center\">0/0</td><td style=\"text-align: center\">0/0</td><td style=\"text-align: center\">0/0</td><td style=\"text-align: center\">0/0</td><td style=\"text-align: center\">0/0</td><td style=\"text-align: center\">...</td><td style=\"text-align: center\">0/0</td><td style=\"text-align: center\">0/0</td><td style=\"text-align: center\">0/0</td><td style=\"text-align: center\">0/0</td><td style=\"text-align: center\">0/0</td></tr></tbody></table></div>"
      ],
      "text/plain": [
       "<GenotypeChunkedArray shape=(456781, 573, 2) dtype=int8 chunks=(1785, 573, 2)\n",
       "   nbytes=499.2M cbytes=91.3M cratio=5.5\n",
       "   compression=blosc compression_opts={'cname': 'lz4', 'clevel': 5, 'shuffle': 1, 'blocksize': 0}\n",
       "   values=zarr.core.Array>"
      ]
     },
     "execution_count": 34,
     "metadata": {},
     "output_type": "execute_result"
    }
   ],
   "source": [
    "genotypes_subset_2\n",
    "###this subset contains the SNPs left after filtering by DP>20, QD>2, and only keeping biallelic sites"
   ]
  },
  {
   "cell_type": "code",
   "execution_count": 35,
   "metadata": {},
   "outputs": [
    {
     "data": {
      "text/plain": [
       "456781"
      ]
     },
     "execution_count": 35,
     "metadata": {},
     "output_type": "execute_result"
    }
   ],
   "source": [
    "n_variants = len(genotypes_subset_2)\n",
    "n_variants"
   ]
  },
  {
   "cell_type": "code",
   "execution_count": 36,
   "metadata": {},
   "outputs": [],
   "source": [
    "pc_missing = genotypes_subset_2.count_missing(axis=0)[:] * 100 / n_variants\n",
    "pc_het = genotypes_subset_2.count_het(axis=0)[:] * 100 / n_variants"
   ]
  },
  {
   "cell_type": "code",
   "execution_count": 37,
   "metadata": {},
   "outputs": [
    {
     "data": {
      "text/html": [
       "<div>\n",
       "<style scoped>\n",
       "    .dataframe tbody tr th:only-of-type {\n",
       "        vertical-align: middle;\n",
       "    }\n",
       "\n",
       "    .dataframe tbody tr th {\n",
       "        vertical-align: top;\n",
       "    }\n",
       "\n",
       "    .dataframe thead th {\n",
       "        text-align: right;\n",
       "    }\n",
       "</style>\n",
       "<table border=\"1\" class=\"dataframe\">\n",
       "  <thead>\n",
       "    <tr style=\"text-align: right;\">\n",
       "      <th></th>\n",
       "      <th>ID</th>\n",
       "      <th>Population</th>\n",
       "    </tr>\n",
       "  </thead>\n",
       "  <tbody>\n",
       "    <tr>\n",
       "      <th>0</th>\n",
       "      <td>BH_PO_24_02</td>\n",
       "      <td>BH_PO_24</td>\n",
       "    </tr>\n",
       "    <tr>\n",
       "      <th>1</th>\n",
       "      <td>BH_PO_24_04</td>\n",
       "      <td>BH_PO_24</td>\n",
       "    </tr>\n",
       "    <tr>\n",
       "      <th>2</th>\n",
       "      <td>BH_PO_24_05</td>\n",
       "      <td>BH_PO_24</td>\n",
       "    </tr>\n",
       "    <tr>\n",
       "      <th>3</th>\n",
       "      <td>BH_PO_24_07</td>\n",
       "      <td>BH_PO_24</td>\n",
       "    </tr>\n",
       "    <tr>\n",
       "      <th>4</th>\n",
       "      <td>BH_PO_24_08</td>\n",
       "      <td>BH_PO_24</td>\n",
       "    </tr>\n",
       "    <tr>\n",
       "      <th>...</th>\n",
       "      <td>...</td>\n",
       "      <td>...</td>\n",
       "    </tr>\n",
       "    <tr>\n",
       "      <th>568</th>\n",
       "      <td>MR_PO_23_57</td>\n",
       "      <td>MR_PO_23</td>\n",
       "    </tr>\n",
       "    <tr>\n",
       "      <th>569</th>\n",
       "      <td>MR_PO_23_59</td>\n",
       "      <td>MR_PO_23</td>\n",
       "    </tr>\n",
       "    <tr>\n",
       "      <th>570</th>\n",
       "      <td>MR_PO_23_60</td>\n",
       "      <td>MR_PO_23</td>\n",
       "    </tr>\n",
       "    <tr>\n",
       "      <th>571</th>\n",
       "      <td>MR_PO_23_62</td>\n",
       "      <td>MR_PO_23</td>\n",
       "    </tr>\n",
       "    <tr>\n",
       "      <th>572</th>\n",
       "      <td>MR_PO_23_66</td>\n",
       "      <td>MR_PO_23</td>\n",
       "    </tr>\n",
       "  </tbody>\n",
       "</table>\n",
       "<p>573 rows × 2 columns</p>\n",
       "</div>"
      ],
      "text/plain": [
       "              ID Population\n",
       "0    BH_PO_24_02   BH_PO_24\n",
       "1    BH_PO_24_04   BH_PO_24\n",
       "2    BH_PO_24_05   BH_PO_24\n",
       "3    BH_PO_24_07   BH_PO_24\n",
       "4    BH_PO_24_08   BH_PO_24\n",
       "..           ...        ...\n",
       "568  MR_PO_23_57   MR_PO_23\n",
       "569  MR_PO_23_59   MR_PO_23\n",
       "570  MR_PO_23_60   MR_PO_23\n",
       "571  MR_PO_23_62   MR_PO_23\n",
       "572  MR_PO_23_66   MR_PO_23\n",
       "\n",
       "[573 rows x 2 columns]"
      ]
     },
     "execution_count": 37,
     "metadata": {},
     "output_type": "execute_result"
    }
   ],
   "source": [
    "samples"
   ]
  },
  {
   "cell_type": "code",
   "execution_count": 42,
   "metadata": {},
   "outputs": [
    {
     "data": {
      "text/plain": [
       "array(['BH_PO_24', 'CH_PO_12', 'CH_PO_13', 'CT_PO_25', 'DE_PO_8',\n",
       "       'DE_PO_9', 'DE_PO_10', 'DE_PO_11', 'ES_PO_1', 'ES_PO_2', 'FR_PO_4',\n",
       "       'FR_PO_5', 'FR_PO_6', 'FR_PO_7', 'FR_PO_20', 'FR_PO_21',\n",
       "       'FR_PO_22', 'GB_PO_19', 'GR_PO_18', 'IT_PO_14', 'IT_PO_15',\n",
       "       'IT_PO_16', 'IT_PO_17', 'MR_PO_23'], dtype=object)"
      ]
     },
     "execution_count": 42,
     "metadata": {},
     "output_type": "execute_result"
    }
   ],
   "source": [
    "samples.Population.unique()\n",
    "###This identifiers come from the metadata file"
   ]
  },
  {
   "cell_type": "code",
   "execution_count": 43,
   "metadata": {},
   "outputs": [],
   "source": [
    "def plot_genotype_frequency(pc, title):\n",
    "    fig, ax = plt.subplots(figsize=(24, 5))\n",
    "    sns.despine(ax=ax, offset=24)\n",
    "    left = np.arange(len(pc))\n",
    "    palette = sns.color_palette(\"bright\", 28)\n",
    "    pop2color = {'BH_PO_24': palette[0],\n",
    "                 'CH_PO_12': palette[1],\n",
    "                 'CH_PO_13': palette[2],\n",
    "                 'CT_PO_25': palette[3],\n",
    "                 'DE_PO_8': palette[4],\n",
    "                 'DE_PO_9': palette[5],\n",
    "                 'DE_PO_10': palette[6],\n",
    "                 'DE_PO_11': palette[8],\n",
    "                 'ES_PO_1': palette[9],\n",
    "                 'ES_PO_2': palette[10],\n",
    "                 'FR_PO_4': palette[11],\n",
    "                 'FR_PO_5': palette[12],\n",
    "                 'FR_PO_6': palette[13],\n",
    "                 'FR_PO_7': palette[14],\n",
    "                 'FR_PO_20': palette[15],\n",
    "                 'FR_PO_21': palette[16],\n",
    "                 'FR_PO_22': palette[17],\n",
    "                 'GB_PO_19': palette[18],\n",
    "                 'GR_PO_18': palette[19],\n",
    "                 'IT_PO_14': palette[23],\n",
    "                 'IT_PO_15': palette[24],\n",
    "                 'IT_PO_16': palette[25],\n",
    "                 'IT_PO_17': palette[26],\n",
    "                 'MR_PO_23': palette[27]}\n",
    "    colors = [pop2color[p] for p in samples.Population]\n",
    "    ax.bar(left, pc, color=colors)\n",
    "    ax.set_xlim(0, len(pc))\n",
    "    ax.set_xlabel('Sample index')\n",
    "    ax.set_ylabel('Percent calls')\n",
    "    ax.set_title(title)\n",
    "    handles = [mpl.patches.Patch(color=palette[0]),\n",
    "               mpl.patches.Patch(color=palette[1]),\n",
    "               mpl.patches.Patch(color=palette[2]),\n",
    "               mpl.patches.Patch(color=palette[3]),\n",
    "               mpl.patches.Patch(color=palette[4]),\n",
    "               mpl.patches.Patch(color=palette[5]),\n",
    "               mpl.patches.Patch(color=palette[6]),\n",
    "               mpl.patches.Patch(color=palette[8]),\n",
    "               mpl.patches.Patch(color=palette[9]),\n",
    "               mpl.patches.Patch(color=palette[10]),\n",
    "               mpl.patches.Patch(color=palette[11]),\n",
    "               mpl.patches.Patch(color=palette[12]),\n",
    "               mpl.patches.Patch(color=palette[13]),\n",
    "               mpl.patches.Patch(color=palette[14]),\n",
    "               mpl.patches.Patch(color=palette[15]),\n",
    "               mpl.patches.Patch(color=palette[16]),\n",
    "               mpl.patches.Patch(color=palette[17]),\n",
    "               mpl.patches.Patch(color=palette[18]),\n",
    "               mpl.patches.Patch(color=palette[19]),\n",
    "               mpl.patches.Patch(color=palette[23]),\n",
    "               mpl.patches.Patch(color=palette[24]),\n",
    "               mpl.patches.Patch(color=palette[25]),\n",
    "               mpl.patches.Patch(color=palette[26]),\n",
    "               mpl.patches.Patch(color=palette[27])]\n",
    "    ax.legend(handles=handles, labels=['BH-PO-24', 'CH-PO-12', 'CH-PO-13', 'CT-PO-25', 'DE-PO-8',\n",
    "       'DE-PO-9', 'DE-PO-10', 'DE-PO-11', 'ES-PO-1',\n",
    "       'ES-PO-2', 'FR-PO-4', 'FR-PO-5', 'FR-PO-6', 'FR-PO-7', 'FR-PO-20',\n",
    "       'FR-PO-21', 'FR-PO-22', 'GB-PO-19', 'GR-PO-18', 'IT-PO-14',\n",
    "       'IT-PO-15', 'IT-PO-16', 'IT-PO-17', 'MR-PO-23'], title='Population',\n",
    "              bbox_to_anchor=(1, 1), loc='upper left')"
   ]
  },
  {
   "cell_type": "code",
   "execution_count": 44,
   "metadata": {},
   "outputs": [
    {
     "data": {
      "image/png": "[encoded data removed]",
      "text/plain": [
       "<Figure size 1728x360 with 1 Axes>"
      ]
     },
     "metadata": {},
     "output_type": "display_data"
    }
   ],
   "source": [
    "plot_genotype_frequency(pc_missing, 'Missing')"
   ]
  },
  {
   "cell_type": "code",
   "execution_count": 45,
   "metadata": {},
   "outputs": [
    {
     "data": {
      "image/png": "[encoded data removed]",
      "text/plain": [
       "<Figure size 1728x360 with 1 Axes>"
      ]
     },
     "metadata": {},
     "output_type": "display_data"
    }
   ],
   "source": [
    "plot_genotype_frequency(pc_het, 'Heterozygosity')"
   ]
  },
  {
   "cell_type": "code",
   "execution_count": 39,
   "metadata": {},
   "outputs": [
    {
     "data": {
      "text/plain": [
       "456"
      ]
     },
     "execution_count": 39,
     "metadata": {},
     "output_type": "execute_result"
    }
   ],
   "source": [
    "np.argsort(pc_missing)[-1]\n",
    "###sample with highest amount of missing data"
   ]
  },
  {
   "cell_type": "code",
   "execution_count": 40,
   "metadata": {},
   "outputs": [
    {
     "data": {
      "text/html": [
       "<div>\n",
       "<style scoped>\n",
       "    .dataframe tbody tr th:only-of-type {\n",
       "        vertical-align: middle;\n",
       "    }\n",
       "\n",
       "    .dataframe tbody tr th {\n",
       "        vertical-align: top;\n",
       "    }\n",
       "\n",
       "    .dataframe thead th {\n",
       "        text-align: right;\n",
       "    }\n",
       "</style>\n",
       "<table border=\"1\" class=\"dataframe\">\n",
       "  <thead>\n",
       "    <tr style=\"text-align: right;\">\n",
       "      <th></th>\n",
       "      <th>ID</th>\n",
       "      <th>Population</th>\n",
       "    </tr>\n",
       "  </thead>\n",
       "  <tbody>\n",
       "    <tr>\n",
       "      <th>0</th>\n",
       "      <td>BH_PO_24_02</td>\n",
       "      <td>BH_PO_24</td>\n",
       "    </tr>\n",
       "    <tr>\n",
       "      <th>1</th>\n",
       "      <td>BH_PO_24_04</td>\n",
       "      <td>BH_PO_24</td>\n",
       "    </tr>\n",
       "    <tr>\n",
       "      <th>2</th>\n",
       "      <td>BH_PO_24_05</td>\n",
       "      <td>BH_PO_24</td>\n",
       "    </tr>\n",
       "    <tr>\n",
       "      <th>3</th>\n",
       "      <td>BH_PO_24_07</td>\n",
       "      <td>BH_PO_24</td>\n",
       "    </tr>\n",
       "    <tr>\n",
       "      <th>4</th>\n",
       "      <td>BH_PO_24_08</td>\n",
       "      <td>BH_PO_24</td>\n",
       "    </tr>\n",
       "    <tr>\n",
       "      <th>...</th>\n",
       "      <td>...</td>\n",
       "      <td>...</td>\n",
       "    </tr>\n",
       "    <tr>\n",
       "      <th>568</th>\n",
       "      <td>MR_PO_23_57</td>\n",
       "      <td>MR_PO_23</td>\n",
       "    </tr>\n",
       "    <tr>\n",
       "      <th>569</th>\n",
       "      <td>MR_PO_23_59</td>\n",
       "      <td>MR_PO_23</td>\n",
       "    </tr>\n",
       "    <tr>\n",
       "      <th>570</th>\n",
       "      <td>MR_PO_23_60</td>\n",
       "      <td>MR_PO_23</td>\n",
       "    </tr>\n",
       "    <tr>\n",
       "      <th>571</th>\n",
       "      <td>MR_PO_23_62</td>\n",
       "      <td>MR_PO_23</td>\n",
       "    </tr>\n",
       "    <tr>\n",
       "      <th>572</th>\n",
       "      <td>MR_PO_23_66</td>\n",
       "      <td>MR_PO_23</td>\n",
       "    </tr>\n",
       "  </tbody>\n",
       "</table>\n",
       "<p>573 rows × 2 columns</p>\n",
       "</div>"
      ],
      "text/plain": [
       "              ID Population\n",
       "0    BH_PO_24_02   BH_PO_24\n",
       "1    BH_PO_24_04   BH_PO_24\n",
       "2    BH_PO_24_05   BH_PO_24\n",
       "3    BH_PO_24_07   BH_PO_24\n",
       "4    BH_PO_24_08   BH_PO_24\n",
       "..           ...        ...\n",
       "568  MR_PO_23_57   MR_PO_23\n",
       "569  MR_PO_23_59   MR_PO_23\n",
       "570  MR_PO_23_60   MR_PO_23\n",
       "571  MR_PO_23_62   MR_PO_23\n",
       "572  MR_PO_23_66   MR_PO_23\n",
       "\n",
       "[573 rows x 2 columns]"
      ]
     },
     "execution_count": 40,
     "metadata": {},
     "output_type": "execute_result"
    }
   ],
   "source": [
    "samples = samples_subset\n",
    "samples"
   ]
  },
  {
   "cell_type": "code",
   "execution_count": 41,
   "metadata": {},
   "outputs": [],
   "source": [
    "populations = samples.Population.unique()"
   ]
  },
  {
   "cell_type": "code",
   "execution_count": 42,
   "metadata": {},
   "outputs": [
    {
     "data": {
      "text/plain": [
       "array(['BH_PO_24', 'CH_PO_12', 'CH_PO_13', 'CT_PO_25', 'DE_PO_8',\n",
       "       'DE_PO_9', 'DE_PO_10', 'DE_PO_11', 'ES_PO_1', 'ES_PO_2', 'FR_PO_4',\n",
       "       'FR_PO_5', 'FR_PO_6', 'FR_PO_7', 'FR_PO_20', 'FR_PO_21',\n",
       "       'FR_PO_22', 'GB_PO_19', 'GR_PO_18', 'IT_PO_14', 'IT_PO_15',\n",
       "       'IT_PO_16', 'IT_PO_17', 'MR_PO_23'], dtype=object)"
      ]
     },
     "execution_count": 42,
     "metadata": {},
     "output_type": "execute_result"
    }
   ],
   "source": [
    "populations"
   ]
  },
  {
   "cell_type": "code",
   "execution_count": 43,
   "metadata": {},
   "outputs": [
    {
     "data": {
      "text/html": [
       "<div class=\"allel allel-DisplayAs2D\"><span>&lt;AlleleCountsChunkedArray shape=(456781, 2) dtype=int32 chunks=(57098, 2)\n",
       "   nbytes=3.5M cbytes=1.3M cratio=2.8\n",
       "   compression=blosc compression_opts={'cname': 'lz4', 'clevel': 5, 'shuffle': 1, 'blocksize': 0}\n",
       "   values=zarr.core.Array&gt;</span><table><thead><tr><th></th><th style=\"text-align: center\">0</th><th style=\"text-align: center\">1</th></tr></thead><tbody><tr><th style=\"text-align: center; background-color: white; border-right: 1px solid black; \">0</th><td style=\"text-align: center\">1020</td><td style=\"text-align: center\">   2</td></tr><tr><th style=\"text-align: center; background-color: white; border-right: 1px solid black; \">1</th><td style=\"text-align: center\">1029</td><td style=\"text-align: center\">   1</td></tr><tr><th style=\"text-align: center; background-color: white; border-right: 1px solid black; \">2</th><td style=\"text-align: center\">1017</td><td style=\"text-align: center\">   9</td></tr><tr><th style=\"text-align: center; background-color: white; border-right: 1px solid black; \">...</th><td style=\"text-align: center\" colspan=\"3\">...</td></tr><tr><th style=\"text-align: center; background-color: white; border-right: 1px solid black; \">456778</th><td style=\"text-align: center\">955</td><td style=\"text-align: center\">  1</td></tr><tr><th style=\"text-align: center; background-color: white; border-right: 1px solid black; \">456779</th><td style=\"text-align: center\">950</td><td style=\"text-align: center\">  4</td></tr><tr><th style=\"text-align: center; background-color: white; border-right: 1px solid black; \">456780</th><td style=\"text-align: center\">944</td><td style=\"text-align: center\">  4</td></tr></tbody></table></div>"
      ],
      "text/plain": [
       "<AlleleCountsChunkedArray shape=(456781, 2) dtype=int32 chunks=(57098, 2)\n",
       "   nbytes=3.5M cbytes=1.3M cratio=2.8\n",
       "   compression=blosc compression_opts={'cname': 'lz4', 'clevel': 5, 'shuffle': 1, 'blocksize': 0}\n",
       "   values=zarr.core.Array>"
      ]
     },
     "execution_count": 43,
     "metadata": {},
     "output_type": "execute_result"
    }
   ],
   "source": [
    "ac2 = genotypes_subset_2.count_alleles()\n",
    "ac2"
   ]
  },
  {
   "cell_type": "code",
   "execution_count": 45,
   "metadata": {},
   "outputs": [],
   "source": [
    "palette = sns.color_palette(\"hls\",30)\n",
    "pop_colours = {        \n",
    "    'BH_PO_24': palette[0],\n",
    "                 'CH_PO_12': palette[1],\n",
    "                 'CH_PO_13': palette[2],\n",
    "                 'CT_PO_25': palette[3],\n",
    "                 'DE_PO_8': palette[4],\n",
    "                 'DE_PO_9': palette[5],\n",
    "                 'DE_PO_10': palette[6],\n",
    "                 'DE_PO_10_E': palette[7],\n",
    "                 'DE_PO_11': palette[8],\n",
    "                 'ES_PO_1': palette[9],\n",
    "                 'ES_PO_2': palette[10],\n",
    "                 'FR_PO_4': palette[11],\n",
    "                 'FR_PO_5': palette[12],\n",
    "                 'FR_PO_6': palette[13],\n",
    "                 'FR_PO_7': palette[14],\n",
    "                 'FR_PO_20': palette[15],\n",
    "                 'FR_PO_21': palette[16],\n",
    "                 'FR_PO_22': palette[17],\n",
    "                 'GB_PO_19': palette[18],\n",
    "                 'GR_PO_18': palette[19],\n",
    "                 'IT_PO_14': palette[23],\n",
    "                 'IT_PO_15': palette[24],\n",
    "                 'IT_PO_16': palette[25],\n",
    "                 'IT_PO_17': palette[26],\n",
    "                 'MR_PO_23': palette[27]\n",
    "     }"
   ]
  },
  {
   "cell_type": "code",
   "execution_count": 46,
   "metadata": {},
   "outputs": [],
   "source": [
    "def plot_pca_coords(coords, model, pc1, pc2, ax, sample_population):\n",
    "    sns.despine(ax=ax, offset=5)\n",
    "    x = coords[:, pc1]\n",
    "    y = coords[:, pc2]\n",
    "    for pop in populations:\n",
    "        flt = (sample_population == pop)\n",
    "        ax.plot(x[flt], y[flt], marker='o', linestyle=' ', color=pop_colours[pop], \n",
    "                label=pop, markersize=6, mec='k', mew=.5)\n",
    "    ax.set_xlabel('PC%s (%.1f%%)' % (pc1+1, model.explained_variance_ratio_[pc1]*100))\n",
    "    ax.set_ylabel('PC%s (%.1f%%)' % (pc2+1, model.explained_variance_ratio_[pc2]*100))\n",
    "    \n",
    "\n",
    "def fig_pca(coords, model, title, sample_population=None):\n",
    "    if sample_population is None:\n",
    "        sample_population = samples.Population.values\n",
    "    # plot coords for PCs 1 vs 2, 3 vs 4\n",
    "    fig = plt.figure(figsize=(10, 5))\n",
    "    ax = fig.add_subplot(1, 2, 1)\n",
    "    plot_pca_coords(coords, model, 0, 1, ax, sample_population)\n",
    "    ax = fig.add_subplot(1, 2, 2)\n",
    "    plot_pca_coords(coords, model, 2, 3, ax, sample_population)\n",
    "    ax.legend(bbox_to_anchor=(1, 1), loc='upper left')\n",
    "    fig.suptitle(title, y=1.02)\n",
    "    fig.tight_layout()"
   ]
  },
  {
   "cell_type": "code",
   "execution_count": 47,
   "metadata": {},
   "outputs": [
    {
     "data": {
      "text/plain": [
       "<ChunkedArrayWrapper shape=(368107, 573) dtype=int8 chunks=(2876, 573)\n",
       "   nbytes=201.2M cbytes=30.3M cratio=6.6\n",
       "   compression=blosc compression_opts={'cname': 'lz4', 'clevel': 5, 'shuffle': 1, 'blocksize': 0}\n",
       "   values=zarr.core.Array>"
      ]
     },
     "execution_count": 47,
     "metadata": {},
     "output_type": "execute_result"
    }
   ],
   "source": [
    "flt = (ac2[:, :2].min(axis=1) > 1)\n",
    "gf = genotypes_subset_2.compress(flt, axis=0)\n",
    "gn = gf.to_n_alt()\n",
    "gn"
   ]
  },
  {
   "cell_type": "code",
   "execution_count": 48,
   "metadata": {},
   "outputs": [],
   "source": [
    "coords1, model1 = allel.pca(gn, n_components=10, scaler='patterson')"
   ]
  },
  {
   "cell_type": "code",
   "execution_count": 49,
   "metadata": {},
   "outputs": [
    {
     "data": {
      "image/png": "[encoded data removed]",
      "text/plain": [
       "<Figure size 720x360 with 2 Axes>"
      ]
     },
     "metadata": {},
     "output_type": "display_data"
    }
   ],
   "source": [
    "fig_pca(coords1, model1, 'Figure 1. Conventional PCA.')"
   ]
  },
  {
   "cell_type": "code",
   "execution_count": 51,
   "metadata": {},
   "outputs": [
    {
     "data": {
      "text/html": [
       "<div>\n",
       "<style scoped>\n",
       "    .dataframe tbody tr th:only-of-type {\n",
       "        vertical-align: middle;\n",
       "    }\n",
       "\n",
       "    .dataframe tbody tr th {\n",
       "        vertical-align: top;\n",
       "    }\n",
       "\n",
       "    .dataframe thead th {\n",
       "        text-align: right;\n",
       "    }\n",
       "</style>\n",
       "<table border=\"1\" class=\"dataframe\">\n",
       "  <thead>\n",
       "    <tr style=\"text-align: right;\">\n",
       "      <th></th>\n",
       "      <th>ID</th>\n",
       "      <th>Population</th>\n",
       "    </tr>\n",
       "  </thead>\n",
       "  <tbody>\n",
       "    <tr>\n",
       "      <th>71</th>\n",
       "      <td>CH_PO_13_20</td>\n",
       "      <td>CH_PO_13</td>\n",
       "    </tr>\n",
       "    <tr>\n",
       "      <th>81</th>\n",
       "      <td>CT_PO_25_02</td>\n",
       "      <td>CT_PO_25</td>\n",
       "    </tr>\n",
       "    <tr>\n",
       "      <th>383</th>\n",
       "      <td>FR_PO_21_23</td>\n",
       "      <td>FR_PO_21</td>\n",
       "    </tr>\n",
       "    <tr>\n",
       "      <th>435</th>\n",
       "      <td>GB_PO_19_81</td>\n",
       "      <td>GB_PO_19</td>\n",
       "    </tr>\n",
       "    <tr>\n",
       "      <th>441</th>\n",
       "      <td>GR_PO_18_01</td>\n",
       "      <td>GR_PO_18</td>\n",
       "    </tr>\n",
       "    <tr>\n",
       "      <th>442</th>\n",
       "      <td>GR_PO_18_02</td>\n",
       "      <td>GR_PO_18</td>\n",
       "    </tr>\n",
       "    <tr>\n",
       "      <th>443</th>\n",
       "      <td>GR_PO_18_05</td>\n",
       "      <td>GR_PO_18</td>\n",
       "    </tr>\n",
       "    <tr>\n",
       "      <th>444</th>\n",
       "      <td>GR_PO_18_06</td>\n",
       "      <td>GR_PO_18</td>\n",
       "    </tr>\n",
       "    <tr>\n",
       "      <th>445</th>\n",
       "      <td>GR_PO_18_08</td>\n",
       "      <td>GR_PO_18</td>\n",
       "    </tr>\n",
       "    <tr>\n",
       "      <th>446</th>\n",
       "      <td>GR_PO_18_09</td>\n",
       "      <td>GR_PO_18</td>\n",
       "    </tr>\n",
       "    <tr>\n",
       "      <th>447</th>\n",
       "      <td>GR_PO_18_13</td>\n",
       "      <td>GR_PO_18</td>\n",
       "    </tr>\n",
       "    <tr>\n",
       "      <th>448</th>\n",
       "      <td>GR_PO_18_14</td>\n",
       "      <td>GR_PO_18</td>\n",
       "    </tr>\n",
       "    <tr>\n",
       "      <th>449</th>\n",
       "      <td>GR_PO_18_15</td>\n",
       "      <td>GR_PO_18</td>\n",
       "    </tr>\n",
       "    <tr>\n",
       "      <th>450</th>\n",
       "      <td>GR_PO_18_16</td>\n",
       "      <td>GR_PO_18</td>\n",
       "    </tr>\n",
       "    <tr>\n",
       "      <th>451</th>\n",
       "      <td>GR_PO_18_19</td>\n",
       "      <td>GR_PO_18</td>\n",
       "    </tr>\n",
       "    <tr>\n",
       "      <th>452</th>\n",
       "      <td>GR_PO_18_24</td>\n",
       "      <td>GR_PO_18</td>\n",
       "    </tr>\n",
       "    <tr>\n",
       "      <th>453</th>\n",
       "      <td>GR_PO_18_25</td>\n",
       "      <td>GR_PO_18</td>\n",
       "    </tr>\n",
       "    <tr>\n",
       "      <th>456</th>\n",
       "      <td>IT_PO_14_03</td>\n",
       "      <td>IT_PO_14</td>\n",
       "    </tr>\n",
       "    <tr>\n",
       "      <th>466</th>\n",
       "      <td>IT_PO_14_14</td>\n",
       "      <td>IT_PO_14</td>\n",
       "    </tr>\n",
       "    <tr>\n",
       "      <th>468</th>\n",
       "      <td>IT_PO_14_16</td>\n",
       "      <td>IT_PO_14</td>\n",
       "    </tr>\n",
       "    <tr>\n",
       "      <th>469</th>\n",
       "      <td>IT_PO_14_17</td>\n",
       "      <td>IT_PO_14</td>\n",
       "    </tr>\n",
       "    <tr>\n",
       "      <th>470</th>\n",
       "      <td>IT_PO_14_18</td>\n",
       "      <td>IT_PO_14</td>\n",
       "    </tr>\n",
       "    <tr>\n",
       "      <th>472</th>\n",
       "      <td>IT_PO_14_20</td>\n",
       "      <td>IT_PO_14</td>\n",
       "    </tr>\n",
       "    <tr>\n",
       "      <th>473</th>\n",
       "      <td>IT_PO_14_21</td>\n",
       "      <td>IT_PO_14</td>\n",
       "    </tr>\n",
       "    <tr>\n",
       "      <th>477</th>\n",
       "      <td>IT_PO_15_01</td>\n",
       "      <td>IT_PO_15</td>\n",
       "    </tr>\n",
       "    <tr>\n",
       "      <th>483</th>\n",
       "      <td>IT_PO_15_08</td>\n",
       "      <td>IT_PO_15</td>\n",
       "    </tr>\n",
       "    <tr>\n",
       "      <th>485</th>\n",
       "      <td>IT_PO_15_11</td>\n",
       "      <td>IT_PO_15</td>\n",
       "    </tr>\n",
       "    <tr>\n",
       "      <th>490</th>\n",
       "      <td>IT_PO_15_16</td>\n",
       "      <td>IT_PO_15</td>\n",
       "    </tr>\n",
       "    <tr>\n",
       "      <th>491</th>\n",
       "      <td>IT_PO_15_19</td>\n",
       "      <td>IT_PO_15</td>\n",
       "    </tr>\n",
       "    <tr>\n",
       "      <th>492</th>\n",
       "      <td>IT_PO_15_20</td>\n",
       "      <td>IT_PO_15</td>\n",
       "    </tr>\n",
       "    <tr>\n",
       "      <th>522</th>\n",
       "      <td>IT_PO_17_01</td>\n",
       "      <td>IT_PO_17</td>\n",
       "    </tr>\n",
       "    <tr>\n",
       "      <th>543</th>\n",
       "      <td>IT_PO_17_22</td>\n",
       "      <td>IT_PO_17</td>\n",
       "    </tr>\n",
       "  </tbody>\n",
       "</table>\n",
       "</div>"
      ],
      "text/plain": [
       "              ID Population\n",
       "71   CH_PO_13_20   CH_PO_13\n",
       "81   CT_PO_25_02   CT_PO_25\n",
       "383  FR_PO_21_23   FR_PO_21\n",
       "435  GB_PO_19_81   GB_PO_19\n",
       "441  GR_PO_18_01   GR_PO_18\n",
       "442  GR_PO_18_02   GR_PO_18\n",
       "443  GR_PO_18_05   GR_PO_18\n",
       "444  GR_PO_18_06   GR_PO_18\n",
       "445  GR_PO_18_08   GR_PO_18\n",
       "446  GR_PO_18_09   GR_PO_18\n",
       "447  GR_PO_18_13   GR_PO_18\n",
       "448  GR_PO_18_14   GR_PO_18\n",
       "449  GR_PO_18_15   GR_PO_18\n",
       "450  GR_PO_18_16   GR_PO_18\n",
       "451  GR_PO_18_19   GR_PO_18\n",
       "452  GR_PO_18_24   GR_PO_18\n",
       "453  GR_PO_18_25   GR_PO_18\n",
       "456  IT_PO_14_03   IT_PO_14\n",
       "466  IT_PO_14_14   IT_PO_14\n",
       "468  IT_PO_14_16   IT_PO_14\n",
       "469  IT_PO_14_17   IT_PO_14\n",
       "470  IT_PO_14_18   IT_PO_14\n",
       "472  IT_PO_14_20   IT_PO_14\n",
       "473  IT_PO_14_21   IT_PO_14\n",
       "477  IT_PO_15_01   IT_PO_15\n",
       "483  IT_PO_15_08   IT_PO_15\n",
       "485  IT_PO_15_11   IT_PO_15\n",
       "490  IT_PO_15_16   IT_PO_15\n",
       "491  IT_PO_15_19   IT_PO_15\n",
       "492  IT_PO_15_20   IT_PO_15\n",
       "522  IT_PO_17_01   IT_PO_17\n",
       "543  IT_PO_17_22   IT_PO_17"
      ]
     },
     "execution_count": 51,
     "metadata": {},
     "output_type": "execute_result"
    }
   ],
   "source": [
    "weirdos = coords1[:,0]>600\n",
    "samples[weirdos]\n",
    "###filter samples base in PC2. Expression gives a list samples above 500"
   ]
  },
  {
   "cell_type": "code",
   "execution_count": 52,
   "metadata": {},
   "outputs": [],
   "source": [
    "samples2 = samples[~weirdos]"
   ]
  },
  {
   "cell_type": "code",
   "execution_count": 53,
   "metadata": {},
   "outputs": [
    {
     "data": {
      "text/html": [
       "<div>\n",
       "<style scoped>\n",
       "    .dataframe tbody tr th:only-of-type {\n",
       "        vertical-align: middle;\n",
       "    }\n",
       "\n",
       "    .dataframe tbody tr th {\n",
       "        vertical-align: top;\n",
       "    }\n",
       "\n",
       "    .dataframe thead th {\n",
       "        text-align: right;\n",
       "    }\n",
       "</style>\n",
       "<table border=\"1\" class=\"dataframe\">\n",
       "  <thead>\n",
       "    <tr style=\"text-align: right;\">\n",
       "      <th></th>\n",
       "      <th>ID</th>\n",
       "      <th>Population</th>\n",
       "    </tr>\n",
       "  </thead>\n",
       "  <tbody>\n",
       "    <tr>\n",
       "      <th>0</th>\n",
       "      <td>BH_PO_24_02</td>\n",
       "      <td>BH_PO_24</td>\n",
       "    </tr>\n",
       "    <tr>\n",
       "      <th>1</th>\n",
       "      <td>BH_PO_24_04</td>\n",
       "      <td>BH_PO_24</td>\n",
       "    </tr>\n",
       "    <tr>\n",
       "      <th>2</th>\n",
       "      <td>BH_PO_24_05</td>\n",
       "      <td>BH_PO_24</td>\n",
       "    </tr>\n",
       "    <tr>\n",
       "      <th>3</th>\n",
       "      <td>BH_PO_24_07</td>\n",
       "      <td>BH_PO_24</td>\n",
       "    </tr>\n",
       "    <tr>\n",
       "      <th>4</th>\n",
       "      <td>BH_PO_24_08</td>\n",
       "      <td>BH_PO_24</td>\n",
       "    </tr>\n",
       "    <tr>\n",
       "      <th>...</th>\n",
       "      <td>...</td>\n",
       "      <td>...</td>\n",
       "    </tr>\n",
       "    <tr>\n",
       "      <th>568</th>\n",
       "      <td>MR_PO_23_57</td>\n",
       "      <td>MR_PO_23</td>\n",
       "    </tr>\n",
       "    <tr>\n",
       "      <th>569</th>\n",
       "      <td>MR_PO_23_59</td>\n",
       "      <td>MR_PO_23</td>\n",
       "    </tr>\n",
       "    <tr>\n",
       "      <th>570</th>\n",
       "      <td>MR_PO_23_60</td>\n",
       "      <td>MR_PO_23</td>\n",
       "    </tr>\n",
       "    <tr>\n",
       "      <th>571</th>\n",
       "      <td>MR_PO_23_62</td>\n",
       "      <td>MR_PO_23</td>\n",
       "    </tr>\n",
       "    <tr>\n",
       "      <th>572</th>\n",
       "      <td>MR_PO_23_66</td>\n",
       "      <td>MR_PO_23</td>\n",
       "    </tr>\n",
       "  </tbody>\n",
       "</table>\n",
       "<p>541 rows × 2 columns</p>\n",
       "</div>"
      ],
      "text/plain": [
       "              ID Population\n",
       "0    BH_PO_24_02   BH_PO_24\n",
       "1    BH_PO_24_04   BH_PO_24\n",
       "2    BH_PO_24_05   BH_PO_24\n",
       "3    BH_PO_24_07   BH_PO_24\n",
       "4    BH_PO_24_08   BH_PO_24\n",
       "..           ...        ...\n",
       "568  MR_PO_23_57   MR_PO_23\n",
       "569  MR_PO_23_59   MR_PO_23\n",
       "570  MR_PO_23_60   MR_PO_23\n",
       "571  MR_PO_23_62   MR_PO_23\n",
       "572  MR_PO_23_66   MR_PO_23\n",
       "\n",
       "[541 rows x 2 columns]"
      ]
     },
     "execution_count": 53,
     "metadata": {},
     "output_type": "execute_result"
    }
   ],
   "source": [
    "samples2"
   ]
  },
  {
   "cell_type": "code",
   "execution_count": 54,
   "metadata": {},
   "outputs": [],
   "source": [
    "allT = np.repeat(True, len(genotypes_subset_2))"
   ]
  },
  {
   "cell_type": "code",
   "execution_count": 55,
   "metadata": {},
   "outputs": [],
   "source": [
    "genotypes_subset_3 = genotypes_subset_2.subset(allT, ~weirdos)"
   ]
  },
  {
   "cell_type": "code",
   "execution_count": 56,
   "metadata": {},
   "outputs": [
    {
     "data": {
      "text/html": [
       "<div class=\"allel allel-DisplayAs2D\"><span>&lt;GenotypeChunkedArray shape=(456781, 541, 2) dtype=int8 chunks=(1785, 541, 2)\n",
       "   nbytes=471.3M cbytes=76.4M cratio=6.2\n",
       "   compression=blosc compression_opts={'cname': 'lz4', 'clevel': 5, 'shuffle': 1, 'blocksize': 0}\n",
       "   values=zarr.core.Array&gt;</span><table><thead><tr><th></th><th style=\"text-align: center\">0</th><th style=\"text-align: center\">1</th><th style=\"text-align: center\">2</th><th style=\"text-align: center\">3</th><th style=\"text-align: center\">4</th><th style=\"text-align: center\">...</th><th style=\"text-align: center\">536</th><th style=\"text-align: center\">537</th><th style=\"text-align: center\">538</th><th style=\"text-align: center\">539</th><th style=\"text-align: center\">540</th></tr></thead><tbody><tr><th style=\"text-align: center; background-color: white; border-right: 1px solid black; \">0</th><td style=\"text-align: center\">0/0</td><td style=\"text-align: center\">0/0</td><td style=\"text-align: center\">0/0</td><td style=\"text-align: center\">0/0</td><td style=\"text-align: center\">0/0</td><td style=\"text-align: center\">...</td><td style=\"text-align: center\">0/0</td><td style=\"text-align: center\">0/0</td><td style=\"text-align: center\">0/0</td><td style=\"text-align: center\">0/0</td><td style=\"text-align: center\">0/0</td></tr><tr><th style=\"text-align: center; background-color: white; border-right: 1px solid black; \">1</th><td style=\"text-align: center\">0/0</td><td style=\"text-align: center\">0/0</td><td style=\"text-align: center\">0/0</td><td style=\"text-align: center\">0/0</td><td style=\"text-align: center\">0/0</td><td style=\"text-align: center\">...</td><td style=\"text-align: center\">0/0</td><td style=\"text-align: center\">0/0</td><td style=\"text-align: center\">0/0</td><td style=\"text-align: center\">0/0</td><td style=\"text-align: center\">0/0</td></tr><tr><th style=\"text-align: center; background-color: white; border-right: 1px solid black; \">2</th><td style=\"text-align: center\">0/0</td><td style=\"text-align: center\">0/0</td><td style=\"text-align: center\">0/0</td><td style=\"text-align: center\">0/0</td><td style=\"text-align: center\">0/0</td><td style=\"text-align: center\">...</td><td style=\"text-align: center\">0/0</td><td style=\"text-align: center\">0/0</td><td style=\"text-align: center\">0/0</td><td style=\"text-align: center\">0/0</td><td style=\"text-align: center\">0/0</td></tr><tr><th style=\"text-align: center; background-color: white; border-right: 1px solid black; \">...</th><td style=\"text-align: center\" colspan=\"12\">...</td></tr><tr><th style=\"text-align: center; background-color: white; border-right: 1px solid black; \">456778</th><td style=\"text-align: center\">0/0</td><td style=\"text-align: center\">0/0</td><td style=\"text-align: center\">0/0</td><td style=\"text-align: center\">0/0</td><td style=\"text-align: center\">0/0</td><td style=\"text-align: center\">...</td><td style=\"text-align: center\">0/0</td><td style=\"text-align: center\">0/0</td><td style=\"text-align: center\">0/0</td><td style=\"text-align: center\">0/0</td><td style=\"text-align: center\">0/0</td></tr><tr><th style=\"text-align: center; background-color: white; border-right: 1px solid black; \">456779</th><td style=\"text-align: center\">0/0</td><td style=\"text-align: center\">0/0</td><td style=\"text-align: center\">0/0</td><td style=\"text-align: center\">0/0</td><td style=\"text-align: center\">0/0</td><td style=\"text-align: center\">...</td><td style=\"text-align: center\">0/0</td><td style=\"text-align: center\">0/0</td><td style=\"text-align: center\">0/0</td><td style=\"text-align: center\">0/0</td><td style=\"text-align: center\">0/0</td></tr><tr><th style=\"text-align: center; background-color: white; border-right: 1px solid black; \">456780</th><td style=\"text-align: center\">0/0</td><td style=\"text-align: center\">0/0</td><td style=\"text-align: center\">0/0</td><td style=\"text-align: center\">0/0</td><td style=\"text-align: center\">0/0</td><td style=\"text-align: center\">...</td><td style=\"text-align: center\">0/0</td><td style=\"text-align: center\">0/0</td><td style=\"text-align: center\">0/0</td><td style=\"text-align: center\">0/0</td><td style=\"text-align: center\">0/0</td></tr></tbody></table></div>"
      ],
      "text/plain": [
       "<GenotypeChunkedArray shape=(456781, 541, 2) dtype=int8 chunks=(1785, 541, 2)\n",
       "   nbytes=471.3M cbytes=76.4M cratio=6.2\n",
       "   compression=blosc compression_opts={'cname': 'lz4', 'clevel': 5, 'shuffle': 1, 'blocksize': 0}\n",
       "   values=zarr.core.Array>"
      ]
     },
     "execution_count": 56,
     "metadata": {},
     "output_type": "execute_result"
    }
   ],
   "source": [
    "genotypes_subset_3"
   ]
  },
  {
   "cell_type": "code",
   "execution_count": 57,
   "metadata": {},
   "outputs": [],
   "source": [
    "def fig_pca(coords, model, title, sample_population=None):\n",
    "    if sample_population is None:\n",
    "        sample_population = samples2.Population.values\n",
    "    # plot coords for PCs 1 vs 2, 3 vs 4\n",
    "    fig = plt.figure(figsize=(10, 5))\n",
    "    ax = fig.add_subplot(1, 2, 1)\n",
    "    plot_pca_coords(coords, model, 0, 1, ax, sample_population)\n",
    "    ax = fig.add_subplot(1, 2, 2)\n",
    "    plot_pca_coords(coords, model, 2, 3, ax, sample_population)\n",
    "    ax.legend(bbox_to_anchor=(1, 1), loc='upper left')\n",
    "    fig.suptitle(title, y=1.02)\n",
    "    fig.tight_layout()"
   ]
  },
  {
   "cell_type": "code",
   "execution_count": 58,
   "metadata": {},
   "outputs": [
    {
     "data": {
      "text/html": [
       "<div class=\"allel allel-DisplayAs2D\"><span>&lt;AlleleCountsChunkedArray shape=(456781, 2) dtype=int32 chunks=(57098, 2)\n",
       "   nbytes=3.5M cbytes=1.3M cratio=2.8\n",
       "   compression=blosc compression_opts={'cname': 'lz4', 'clevel': 5, 'shuffle': 1, 'blocksize': 0}\n",
       "   values=zarr.core.Array&gt;</span><table><thead><tr><th></th><th style=\"text-align: center\">0</th><th style=\"text-align: center\">1</th></tr></thead><tbody><tr><th style=\"text-align: center; background-color: white; border-right: 1px solid black; \">0</th><td style=\"text-align: center\">972</td><td style=\"text-align: center\">  2</td></tr><tr><th style=\"text-align: center; background-color: white; border-right: 1px solid black; \">1</th><td style=\"text-align: center\">981</td><td style=\"text-align: center\">  1</td></tr><tr><th style=\"text-align: center; background-color: white; border-right: 1px solid black; \">2</th><td style=\"text-align: center\">969</td><td style=\"text-align: center\">  9</td></tr><tr><th style=\"text-align: center; background-color: white; border-right: 1px solid black; \">...</th><td style=\"text-align: center\" colspan=\"3\">...</td></tr><tr><th style=\"text-align: center; background-color: white; border-right: 1px solid black; \">456778</th><td style=\"text-align: center\">919</td><td style=\"text-align: center\">  1</td></tr><tr><th style=\"text-align: center; background-color: white; border-right: 1px solid black; \">456779</th><td style=\"text-align: center\">914</td><td style=\"text-align: center\">  4</td></tr><tr><th style=\"text-align: center; background-color: white; border-right: 1px solid black; \">456780</th><td style=\"text-align: center\">908</td><td style=\"text-align: center\">  4</td></tr></tbody></table></div>"
      ],
      "text/plain": [
       "<AlleleCountsChunkedArray shape=(456781, 2) dtype=int32 chunks=(57098, 2)\n",
       "   nbytes=3.5M cbytes=1.3M cratio=2.8\n",
       "   compression=blosc compression_opts={'cname': 'lz4', 'clevel': 5, 'shuffle': 1, 'blocksize': 0}\n",
       "   values=zarr.core.Array>"
      ]
     },
     "execution_count": 58,
     "metadata": {},
     "output_type": "execute_result"
    }
   ],
   "source": [
    "ac3 = genotypes_subset_3.count_alleles()\n",
    "ac3"
   ]
  },
  {
   "cell_type": "code",
   "execution_count": 59,
   "metadata": {},
   "outputs": [],
   "source": [
    "flt2 = (ac3[:, :2].min(axis=1) > 1)\n",
    "gf2 = genotypes_subset_3.compress(flt2, axis=0)\n",
    "gn2 = gf2.to_n_alt()"
   ]
  },
  {
   "cell_type": "code",
   "execution_count": 60,
   "metadata": {},
   "outputs": [],
   "source": [
    "coords2, model2 = allel.pca(gn2, n_components=10, scaler='patterson')"
   ]
  },
  {
   "cell_type": "code",
   "execution_count": 61,
   "metadata": {},
   "outputs": [
    {
     "data": {
      "image/png": "[encoded data removed]",
      "text/plain": [
       "<Figure size 720x360 with 2 Axes>"
      ]
     },
     "metadata": {},
     "output_type": "display_data"
    }
   ],
   "source": [
    "fig_pca(coords2, model2, 'Figure 1. Conventional PCA.')"
   ]
  },
  {
   "cell_type": "code",
   "execution_count": 62,
   "metadata": {},
   "outputs": [
    {
     "data": {
      "text/html": [
       "<div>\n",
       "<style scoped>\n",
       "    .dataframe tbody tr th:only-of-type {\n",
       "        vertical-align: middle;\n",
       "    }\n",
       "\n",
       "    .dataframe tbody tr th {\n",
       "        vertical-align: top;\n",
       "    }\n",
       "\n",
       "    .dataframe thead th {\n",
       "        text-align: right;\n",
       "    }\n",
       "</style>\n",
       "<table border=\"1\" class=\"dataframe\">\n",
       "  <thead>\n",
       "    <tr style=\"text-align: right;\">\n",
       "      <th></th>\n",
       "      <th>ID</th>\n",
       "      <th>Population</th>\n",
       "    </tr>\n",
       "  </thead>\n",
       "  <tbody>\n",
       "    <tr>\n",
       "      <th>95</th>\n",
       "      <td>DE_PO_08_14</td>\n",
       "      <td>DE_PO_8</td>\n",
       "    </tr>\n",
       "    <tr>\n",
       "      <th>148</th>\n",
       "      <td>DE_PO_10_18</td>\n",
       "      <td>DE_PO_10</td>\n",
       "    </tr>\n",
       "    <tr>\n",
       "      <th>507</th>\n",
       "      <td>IT_PO_16_11</td>\n",
       "      <td>IT_PO_16</td>\n",
       "    </tr>\n",
       "    <tr>\n",
       "      <th>536</th>\n",
       "      <td>IT_PO_17_15</td>\n",
       "      <td>IT_PO_17</td>\n",
       "    </tr>\n",
       "  </tbody>\n",
       "</table>\n",
       "</div>"
      ],
      "text/plain": [
       "              ID Population\n",
       "95   DE_PO_08_14    DE_PO_8\n",
       "148  DE_PO_10_18   DE_PO_10\n",
       "507  IT_PO_16_11   IT_PO_16\n",
       "536  IT_PO_17_15   IT_PO_17"
      ]
     },
     "execution_count": 62,
     "metadata": {},
     "output_type": "execute_result"
    }
   ],
   "source": [
    "weirdos2 = coords2[:,1]<-650\n",
    "samples2[weirdos2]"
   ]
  },
  {
   "cell_type": "code",
   "execution_count": 63,
   "metadata": {},
   "outputs": [
    {
     "data": {
      "text/html": [
       "<div>\n",
       "<style scoped>\n",
       "    .dataframe tbody tr th:only-of-type {\n",
       "        vertical-align: middle;\n",
       "    }\n",
       "\n",
       "    .dataframe tbody tr th {\n",
       "        vertical-align: top;\n",
       "    }\n",
       "\n",
       "    .dataframe thead th {\n",
       "        text-align: right;\n",
       "    }\n",
       "</style>\n",
       "<table border=\"1\" class=\"dataframe\">\n",
       "  <thead>\n",
       "    <tr style=\"text-align: right;\">\n",
       "      <th></th>\n",
       "      <th>ID</th>\n",
       "      <th>Population</th>\n",
       "    </tr>\n",
       "  </thead>\n",
       "  <tbody>\n",
       "    <tr>\n",
       "      <th>0</th>\n",
       "      <td>BH_PO_24_02</td>\n",
       "      <td>BH_PO_24</td>\n",
       "    </tr>\n",
       "    <tr>\n",
       "      <th>1</th>\n",
       "      <td>BH_PO_24_04</td>\n",
       "      <td>BH_PO_24</td>\n",
       "    </tr>\n",
       "    <tr>\n",
       "      <th>2</th>\n",
       "      <td>BH_PO_24_05</td>\n",
       "      <td>BH_PO_24</td>\n",
       "    </tr>\n",
       "    <tr>\n",
       "      <th>3</th>\n",
       "      <td>BH_PO_24_07</td>\n",
       "      <td>BH_PO_24</td>\n",
       "    </tr>\n",
       "    <tr>\n",
       "      <th>4</th>\n",
       "      <td>BH_PO_24_08</td>\n",
       "      <td>BH_PO_24</td>\n",
       "    </tr>\n",
       "    <tr>\n",
       "      <th>...</th>\n",
       "      <td>...</td>\n",
       "      <td>...</td>\n",
       "    </tr>\n",
       "    <tr>\n",
       "      <th>568</th>\n",
       "      <td>MR_PO_23_57</td>\n",
       "      <td>MR_PO_23</td>\n",
       "    </tr>\n",
       "    <tr>\n",
       "      <th>569</th>\n",
       "      <td>MR_PO_23_59</td>\n",
       "      <td>MR_PO_23</td>\n",
       "    </tr>\n",
       "    <tr>\n",
       "      <th>570</th>\n",
       "      <td>MR_PO_23_60</td>\n",
       "      <td>MR_PO_23</td>\n",
       "    </tr>\n",
       "    <tr>\n",
       "      <th>571</th>\n",
       "      <td>MR_PO_23_62</td>\n",
       "      <td>MR_PO_23</td>\n",
       "    </tr>\n",
       "    <tr>\n",
       "      <th>572</th>\n",
       "      <td>MR_PO_23_66</td>\n",
       "      <td>MR_PO_23</td>\n",
       "    </tr>\n",
       "  </tbody>\n",
       "</table>\n",
       "<p>537 rows × 2 columns</p>\n",
       "</div>"
      ],
      "text/plain": [
       "              ID Population\n",
       "0    BH_PO_24_02   BH_PO_24\n",
       "1    BH_PO_24_04   BH_PO_24\n",
       "2    BH_PO_24_05   BH_PO_24\n",
       "3    BH_PO_24_07   BH_PO_24\n",
       "4    BH_PO_24_08   BH_PO_24\n",
       "..           ...        ...\n",
       "568  MR_PO_23_57   MR_PO_23\n",
       "569  MR_PO_23_59   MR_PO_23\n",
       "570  MR_PO_23_60   MR_PO_23\n",
       "571  MR_PO_23_62   MR_PO_23\n",
       "572  MR_PO_23_66   MR_PO_23\n",
       "\n",
       "[537 rows x 2 columns]"
      ]
     },
     "execution_count": 63,
     "metadata": {},
     "output_type": "execute_result"
    }
   ],
   "source": [
    "samples3 = samples2[~weirdos2]\n",
    "samples3"
   ]
  },
  {
   "cell_type": "code",
   "execution_count": 64,
   "metadata": {},
   "outputs": [
    {
     "data": {
      "text/html": [
       "<div class=\"allel allel-DisplayAs2D\"><span>&lt;GenotypeChunkedArray shape=(456781, 537, 2) dtype=int8 chunks=(1785, 537, 2)\n",
       "   nbytes=467.9M cbytes=73.7M cratio=6.4\n",
       "   compression=blosc compression_opts={'cname': 'lz4', 'clevel': 5, 'shuffle': 1, 'blocksize': 0}\n",
       "   values=zarr.core.Array&gt;</span><table><thead><tr><th></th><th style=\"text-align: center\">0</th><th style=\"text-align: center\">1</th><th style=\"text-align: center\">2</th><th style=\"text-align: center\">3</th><th style=\"text-align: center\">4</th><th style=\"text-align: center\">...</th><th style=\"text-align: center\">532</th><th style=\"text-align: center\">533</th><th style=\"text-align: center\">534</th><th style=\"text-align: center\">535</th><th style=\"text-align: center\">536</th></tr></thead><tbody><tr><th style=\"text-align: center; background-color: white; border-right: 1px solid black; \">0</th><td style=\"text-align: center\">0/0</td><td style=\"text-align: center\">0/0</td><td style=\"text-align: center\">0/0</td><td style=\"text-align: center\">0/0</td><td style=\"text-align: center\">0/0</td><td style=\"text-align: center\">...</td><td style=\"text-align: center\">0/0</td><td style=\"text-align: center\">0/0</td><td style=\"text-align: center\">0/0</td><td style=\"text-align: center\">0/0</td><td style=\"text-align: center\">0/0</td></tr><tr><th style=\"text-align: center; background-color: white; border-right: 1px solid black; \">1</th><td style=\"text-align: center\">0/0</td><td style=\"text-align: center\">0/0</td><td style=\"text-align: center\">0/0</td><td style=\"text-align: center\">0/0</td><td style=\"text-align: center\">0/0</td><td style=\"text-align: center\">...</td><td style=\"text-align: center\">0/0</td><td style=\"text-align: center\">0/0</td><td style=\"text-align: center\">0/0</td><td style=\"text-align: center\">0/0</td><td style=\"text-align: center\">0/0</td></tr><tr><th style=\"text-align: center; background-color: white; border-right: 1px solid black; \">2</th><td style=\"text-align: center\">0/0</td><td style=\"text-align: center\">0/0</td><td style=\"text-align: center\">0/0</td><td style=\"text-align: center\">0/0</td><td style=\"text-align: center\">0/0</td><td style=\"text-align: center\">...</td><td style=\"text-align: center\">0/0</td><td style=\"text-align: center\">0/0</td><td style=\"text-align: center\">0/0</td><td style=\"text-align: center\">0/0</td><td style=\"text-align: center\">0/0</td></tr><tr><th style=\"text-align: center; background-color: white; border-right: 1px solid black; \">...</th><td style=\"text-align: center\" colspan=\"12\">...</td></tr><tr><th style=\"text-align: center; background-color: white; border-right: 1px solid black; \">456778</th><td style=\"text-align: center\">0/0</td><td style=\"text-align: center\">0/0</td><td style=\"text-align: center\">0/0</td><td style=\"text-align: center\">0/0</td><td style=\"text-align: center\">0/0</td><td style=\"text-align: center\">...</td><td style=\"text-align: center\">0/0</td><td style=\"text-align: center\">0/0</td><td style=\"text-align: center\">0/0</td><td style=\"text-align: center\">0/0</td><td style=\"text-align: center\">0/0</td></tr><tr><th style=\"text-align: center; background-color: white; border-right: 1px solid black; \">456779</th><td style=\"text-align: center\">0/0</td><td style=\"text-align: center\">0/0</td><td style=\"text-align: center\">0/0</td><td style=\"text-align: center\">0/0</td><td style=\"text-align: center\">0/0</td><td style=\"text-align: center\">...</td><td style=\"text-align: center\">0/0</td><td style=\"text-align: center\">0/0</td><td style=\"text-align: center\">0/0</td><td style=\"text-align: center\">0/0</td><td style=\"text-align: center\">0/0</td></tr><tr><th style=\"text-align: center; background-color: white; border-right: 1px solid black; \">456780</th><td style=\"text-align: center\">0/0</td><td style=\"text-align: center\">0/0</td><td style=\"text-align: center\">0/0</td><td style=\"text-align: center\">0/0</td><td style=\"text-align: center\">0/0</td><td style=\"text-align: center\">...</td><td style=\"text-align: center\">0/0</td><td style=\"text-align: center\">0/0</td><td style=\"text-align: center\">0/0</td><td style=\"text-align: center\">0/0</td><td style=\"text-align: center\">0/0</td></tr></tbody></table></div>"
      ],
      "text/plain": [
       "<GenotypeChunkedArray shape=(456781, 537, 2) dtype=int8 chunks=(1785, 537, 2)\n",
       "   nbytes=467.9M cbytes=73.7M cratio=6.4\n",
       "   compression=blosc compression_opts={'cname': 'lz4', 'clevel': 5, 'shuffle': 1, 'blocksize': 0}\n",
       "   values=zarr.core.Array>"
      ]
     },
     "execution_count": 64,
     "metadata": {},
     "output_type": "execute_result"
    }
   ],
   "source": [
    "allT = np.repeat(True, len(genotypes_subset_3))\n",
    "genotypes_subset_4 = genotypes_subset_3.subset(allT, ~weirdos2)\n",
    "genotypes_subset_4"
   ]
  },
  {
   "cell_type": "code",
   "execution_count": 65,
   "metadata": {},
   "outputs": [
    {
     "data": {
      "text/html": [
       "<div class=\"allel allel-DisplayAs2D\"><span>&lt;AlleleCountsChunkedArray shape=(456781, 2) dtype=int32 chunks=(57098, 2)\n",
       "   nbytes=3.5M cbytes=1.3M cratio=2.8\n",
       "   compression=blosc compression_opts={'cname': 'lz4', 'clevel': 5, 'shuffle': 1, 'blocksize': 0}\n",
       "   values=zarr.core.Array&gt;</span><table><thead><tr><th></th><th style=\"text-align: center\">0</th><th style=\"text-align: center\">1</th></tr></thead><tbody><tr><th style=\"text-align: center; background-color: white; border-right: 1px solid black; \">0</th><td style=\"text-align: center\">972</td><td style=\"text-align: center\">  2</td></tr><tr><th style=\"text-align: center; background-color: white; border-right: 1px solid black; \">1</th><td style=\"text-align: center\">981</td><td style=\"text-align: center\">  1</td></tr><tr><th style=\"text-align: center; background-color: white; border-right: 1px solid black; \">2</th><td style=\"text-align: center\">969</td><td style=\"text-align: center\">  9</td></tr><tr><th style=\"text-align: center; background-color: white; border-right: 1px solid black; \">...</th><td style=\"text-align: center\" colspan=\"3\">...</td></tr><tr><th style=\"text-align: center; background-color: white; border-right: 1px solid black; \">456778</th><td style=\"text-align: center\">915</td><td style=\"text-align: center\">  1</td></tr><tr><th style=\"text-align: center; background-color: white; border-right: 1px solid black; \">456779</th><td style=\"text-align: center\">910</td><td style=\"text-align: center\">  4</td></tr><tr><th style=\"text-align: center; background-color: white; border-right: 1px solid black; \">456780</th><td style=\"text-align: center\">904</td><td style=\"text-align: center\">  4</td></tr></tbody></table></div>"
      ],
      "text/plain": [
       "<AlleleCountsChunkedArray shape=(456781, 2) dtype=int32 chunks=(57098, 2)\n",
       "   nbytes=3.5M cbytes=1.3M cratio=2.8\n",
       "   compression=blosc compression_opts={'cname': 'lz4', 'clevel': 5, 'shuffle': 1, 'blocksize': 0}\n",
       "   values=zarr.core.Array>"
      ]
     },
     "execution_count": 65,
     "metadata": {},
     "output_type": "execute_result"
    }
   ],
   "source": [
    "ac4 = genotypes_subset_4.count_alleles()\n",
    "ac4"
   ]
  },
  {
   "cell_type": "code",
   "execution_count": 66,
   "metadata": {},
   "outputs": [],
   "source": [
    "def fig_pca(coords, model, title, sample_population=None):\n",
    "    if sample_population is None:\n",
    "        sample_population = samples3.Population.values\n",
    "    # plot coords for PCs 1 vs 2, 3 vs 4\n",
    "    fig = plt.figure(figsize=(10, 5))\n",
    "    ax = fig.add_subplot(1, 2, 1)\n",
    "    plot_pca_coords(coords, model, 0, 1, ax, sample_population)\n",
    "    ax = fig.add_subplot(1, 2, 2)\n",
    "    plot_pca_coords(coords, model, 2, 3, ax, sample_population)\n",
    "    ax.legend(bbox_to_anchor=(1, 1), loc='upper left')\n",
    "    fig.suptitle(title, y=1.02)\n",
    "    fig.tight_layout()\n",
    "    \n",
    "###Check that you have assigned the corresponding population list on the sample_population definition"
   ]
  },
  {
   "cell_type": "code",
   "execution_count": 67,
   "metadata": {},
   "outputs": [],
   "source": [
    "ac = genotypes_subset_4.count_alleles()\n",
    "flt4 = (ac[:, :2].min(axis=1) > 1)\n",
    "gf4 = genotypes_subset_4.compress(flt4, axis=0)\n",
    "gn = gf4.to_n_alt()\n",
    "\n",
    "###Keeping track of the genotypes subsettings is hard!!! "
   ]
  },
  {
   "cell_type": "code",
   "execution_count": 68,
   "metadata": {},
   "outputs": [],
   "source": [
    "coords3, model3 = allel.pca(gn, n_components=10, scaler='patterson')\n",
    "###modify the number of coords and model according to the number of graphs you have generated"
   ]
  },
  {
   "cell_type": "code",
   "execution_count": 69,
   "metadata": {},
   "outputs": [
    {
     "data": {
      "image/png": "[encoded data removed]",
      "text/plain": [
       "<Figure size 720x360 with 2 Axes>"
      ]
     },
     "metadata": {},
     "output_type": "display_data"
    }
   ],
   "source": [
    "fig_pca(coords3, model3, 'Figure 1. Conventional PCA.')"
   ]
  },
  {
   "cell_type": "code",
   "execution_count": 196,
   "metadata": {},
   "outputs": [
    {
     "data": {
      "text/html": [
       "<div>\n",
       "<style scoped>\n",
       "    .dataframe tbody tr th:only-of-type {\n",
       "        vertical-align: middle;\n",
       "    }\n",
       "\n",
       "    .dataframe tbody tr th {\n",
       "        vertical-align: top;\n",
       "    }\n",
       "\n",
       "    .dataframe thead th {\n",
       "        text-align: right;\n",
       "    }\n",
       "</style>\n",
       "<table border=\"1\" class=\"dataframe\">\n",
       "  <thead>\n",
       "    <tr style=\"text-align: right;\">\n",
       "      <th></th>\n",
       "      <th>ID</th>\n",
       "      <th>Population</th>\n",
       "    </tr>\n",
       "  </thead>\n",
       "  <tbody>\n",
       "    <tr>\n",
       "      <th>12</th>\n",
       "      <td>YT-1045</td>\n",
       "      <td>YT</td>\n",
       "    </tr>\n",
       "    <tr>\n",
       "      <th>24</th>\n",
       "      <td>FI-BP-20-01</td>\n",
       "      <td>FI-BP-20</td>\n",
       "    </tr>\n",
       "    <tr>\n",
       "      <th>29</th>\n",
       "      <td>LT-BP-11-08</td>\n",
       "      <td>LT-BP-11</td>\n",
       "    </tr>\n",
       "    <tr>\n",
       "      <th>42</th>\n",
       "      <td>ES-BP-01-15</td>\n",
       "      <td>ES-BP-1</td>\n",
       "    </tr>\n",
       "    <tr>\n",
       "      <th>45</th>\n",
       "      <td>FI-BBU</td>\n",
       "      <td>FI-BBU</td>\n",
       "    </tr>\n",
       "    <tr>\n",
       "      <th>53</th>\n",
       "      <td>LT-BP-12-16</td>\n",
       "      <td>LT-BP-12</td>\n",
       "    </tr>\n",
       "    <tr>\n",
       "      <th>66</th>\n",
       "      <td>ES-BP-01-06</td>\n",
       "      <td>ES-BP-1</td>\n",
       "    </tr>\n",
       "    <tr>\n",
       "      <th>74</th>\n",
       "      <td>NO-BP-15-17</td>\n",
       "      <td>NO-BP-15</td>\n",
       "    </tr>\n",
       "    <tr>\n",
       "      <th>89</th>\n",
       "      <td>ES-BP-01-02</td>\n",
       "      <td>ES-BP-1</td>\n",
       "    </tr>\n",
       "    <tr>\n",
       "      <th>98</th>\n",
       "      <td>FR-BP-21-06</td>\n",
       "      <td>FR-BP-21</td>\n",
       "    </tr>\n",
       "    <tr>\n",
       "      <th>113</th>\n",
       "      <td>FR-BP-04-05</td>\n",
       "      <td>FR-BP-4</td>\n",
       "    </tr>\n",
       "    <tr>\n",
       "      <th>118</th>\n",
       "      <td>ES-BP-01-23</td>\n",
       "      <td>ES-BP-1</td>\n",
       "    </tr>\n",
       "    <tr>\n",
       "      <th>144</th>\n",
       "      <td>ES-BP-01-08</td>\n",
       "      <td>ES-BP-1</td>\n",
       "    </tr>\n",
       "    <tr>\n",
       "      <th>173</th>\n",
       "      <td>ES-BP-01-05</td>\n",
       "      <td>ES-BP-1</td>\n",
       "    </tr>\n",
       "    <tr>\n",
       "      <th>225</th>\n",
       "      <td>YT-1031</td>\n",
       "      <td>YT</td>\n",
       "    </tr>\n",
       "    <tr>\n",
       "      <th>227</th>\n",
       "      <td>ES-BP-01-17</td>\n",
       "      <td>ES-BP-1</td>\n",
       "    </tr>\n",
       "    <tr>\n",
       "      <th>241</th>\n",
       "      <td>YT-245</td>\n",
       "      <td>YT</td>\n",
       "    </tr>\n",
       "    <tr>\n",
       "      <th>261</th>\n",
       "      <td>ES-BP-01-16</td>\n",
       "      <td>ES-BP-1</td>\n",
       "    </tr>\n",
       "    <tr>\n",
       "      <th>280</th>\n",
       "      <td>ES-BP-01-10</td>\n",
       "      <td>ES-BP-1</td>\n",
       "    </tr>\n",
       "    <tr>\n",
       "      <th>287</th>\n",
       "      <td>FI-BP-19-04</td>\n",
       "      <td>FI-BP-19</td>\n",
       "    </tr>\n",
       "    <tr>\n",
       "      <th>294</th>\n",
       "      <td>FI-BP-19-02</td>\n",
       "      <td>FI-BP-19</td>\n",
       "    </tr>\n",
       "    <tr>\n",
       "      <th>307</th>\n",
       "      <td>ES-BP-01-01</td>\n",
       "      <td>ES-BP-1</td>\n",
       "    </tr>\n",
       "    <tr>\n",
       "      <th>312</th>\n",
       "      <td>LT-BP-11-19</td>\n",
       "      <td>LT-BP-11</td>\n",
       "    </tr>\n",
       "    <tr>\n",
       "      <th>315</th>\n",
       "      <td>YT-1035</td>\n",
       "      <td>YT</td>\n",
       "    </tr>\n",
       "    <tr>\n",
       "      <th>328</th>\n",
       "      <td>YT-1032</td>\n",
       "      <td>YT</td>\n",
       "    </tr>\n",
       "    <tr>\n",
       "      <th>333</th>\n",
       "      <td>ES-BP-01-13</td>\n",
       "      <td>ES-BP-1</td>\n",
       "    </tr>\n",
       "    <tr>\n",
       "      <th>336</th>\n",
       "      <td>ES-BP-01-11</td>\n",
       "      <td>ES-BP-1</td>\n",
       "    </tr>\n",
       "    <tr>\n",
       "      <th>353</th>\n",
       "      <td>YT-239</td>\n",
       "      <td>YT</td>\n",
       "    </tr>\n",
       "    <tr>\n",
       "      <th>368</th>\n",
       "      <td>ES-BP-01-09</td>\n",
       "      <td>ES-BP-1</td>\n",
       "    </tr>\n",
       "    <tr>\n",
       "      <th>377</th>\n",
       "      <td>YT-1042</td>\n",
       "      <td>YT</td>\n",
       "    </tr>\n",
       "    <tr>\n",
       "      <th>381</th>\n",
       "      <td>YT-1033</td>\n",
       "      <td>YT</td>\n",
       "    </tr>\n",
       "    <tr>\n",
       "      <th>382</th>\n",
       "      <td>ES-BP-01-04</td>\n",
       "      <td>ES-BP-1</td>\n",
       "    </tr>\n",
       "    <tr>\n",
       "      <th>391</th>\n",
       "      <td>ES-BP-01-14</td>\n",
       "      <td>ES-BP-1</td>\n",
       "    </tr>\n",
       "    <tr>\n",
       "      <th>404</th>\n",
       "      <td>ES-BP-01-20</td>\n",
       "      <td>ES-BP-1</td>\n",
       "    </tr>\n",
       "    <tr>\n",
       "      <th>408</th>\n",
       "      <td>NO-BP-15-11</td>\n",
       "      <td>NO-BP-15</td>\n",
       "    </tr>\n",
       "    <tr>\n",
       "      <th>411</th>\n",
       "      <td>LT-BP-12-06</td>\n",
       "      <td>LT-BP-12</td>\n",
       "    </tr>\n",
       "    <tr>\n",
       "      <th>419</th>\n",
       "      <td>ES-BP-01-18</td>\n",
       "      <td>ES-BP-1</td>\n",
       "    </tr>\n",
       "    <tr>\n",
       "      <th>430</th>\n",
       "      <td>ES-BP-01-22</td>\n",
       "      <td>ES-BP-1</td>\n",
       "    </tr>\n",
       "    <tr>\n",
       "      <th>435</th>\n",
       "      <td>ES-BP-01-19</td>\n",
       "      <td>ES-BP-1</td>\n",
       "    </tr>\n",
       "    <tr>\n",
       "      <th>440</th>\n",
       "      <td>FI-BP-19-06</td>\n",
       "      <td>FI-BP-19</td>\n",
       "    </tr>\n",
       "    <tr>\n",
       "      <th>485</th>\n",
       "      <td>LT-BP-11-24</td>\n",
       "      <td>LT-BP-11</td>\n",
       "    </tr>\n",
       "    <tr>\n",
       "      <th>493</th>\n",
       "      <td>ES-BP-01-07</td>\n",
       "      <td>ES-BP-1</td>\n",
       "    </tr>\n",
       "    <tr>\n",
       "      <th>494</th>\n",
       "      <td>YT-249</td>\n",
       "      <td>YT</td>\n",
       "    </tr>\n",
       "    <tr>\n",
       "      <th>504</th>\n",
       "      <td>ES-BP-01-21</td>\n",
       "      <td>ES-BP-1</td>\n",
       "    </tr>\n",
       "    <tr>\n",
       "      <th>509</th>\n",
       "      <td>ES-BP-01-12</td>\n",
       "      <td>ES-BP-1</td>\n",
       "    </tr>\n",
       "    <tr>\n",
       "      <th>531</th>\n",
       "      <td>ES-BP-01-03</td>\n",
       "      <td>ES-BP-1</td>\n",
       "    </tr>\n",
       "    <tr>\n",
       "      <th>542</th>\n",
       "      <td>ES-BP-01-24</td>\n",
       "      <td>ES-BP-1</td>\n",
       "    </tr>\n",
       "    <tr>\n",
       "      <th>547</th>\n",
       "      <td>SE-BP-18-12</td>\n",
       "      <td>SE-BP-18</td>\n",
       "    </tr>\n",
       "    <tr>\n",
       "      <th>550</th>\n",
       "      <td>ES-BP-01-25</td>\n",
       "      <td>ES-BP-1</td>\n",
       "    </tr>\n",
       "    <tr>\n",
       "      <th>554</th>\n",
       "      <td>YT-238</td>\n",
       "      <td>YT</td>\n",
       "    </tr>\n",
       "    <tr>\n",
       "      <th>562</th>\n",
       "      <td>YT-1039</td>\n",
       "      <td>YT</td>\n",
       "    </tr>\n",
       "    <tr>\n",
       "      <th>564</th>\n",
       "      <td>NO-BP-15-18</td>\n",
       "      <td>NO-BP-15</td>\n",
       "    </tr>\n",
       "    <tr>\n",
       "      <th>569</th>\n",
       "      <td>YT-250</td>\n",
       "      <td>YT</td>\n",
       "    </tr>\n",
       "    <tr>\n",
       "      <th>570</th>\n",
       "      <td>NO-BP-15-20</td>\n",
       "      <td>NO-BP-15</td>\n",
       "    </tr>\n",
       "  </tbody>\n",
       "</table>\n",
       "</div>"
      ],
      "text/plain": [
       "              ID Population\n",
       "12       YT-1045         YT\n",
       "24   FI-BP-20-01   FI-BP-20\n",
       "29   LT-BP-11-08   LT-BP-11\n",
       "42   ES-BP-01-15    ES-BP-1\n",
       "45        FI-BBU     FI-BBU\n",
       "53   LT-BP-12-16   LT-BP-12\n",
       "66   ES-BP-01-06    ES-BP-1\n",
       "74   NO-BP-15-17   NO-BP-15\n",
       "89   ES-BP-01-02    ES-BP-1\n",
       "98   FR-BP-21-06   FR-BP-21\n",
       "113  FR-BP-04-05    FR-BP-4\n",
       "118  ES-BP-01-23    ES-BP-1\n",
       "144  ES-BP-01-08    ES-BP-1\n",
       "173  ES-BP-01-05    ES-BP-1\n",
       "225      YT-1031         YT\n",
       "227  ES-BP-01-17    ES-BP-1\n",
       "241       YT-245         YT\n",
       "261  ES-BP-01-16    ES-BP-1\n",
       "280  ES-BP-01-10    ES-BP-1\n",
       "287  FI-BP-19-04   FI-BP-19\n",
       "294  FI-BP-19-02   FI-BP-19\n",
       "307  ES-BP-01-01    ES-BP-1\n",
       "312  LT-BP-11-19   LT-BP-11\n",
       "315      YT-1035         YT\n",
       "328      YT-1032         YT\n",
       "333  ES-BP-01-13    ES-BP-1\n",
       "336  ES-BP-01-11    ES-BP-1\n",
       "353       YT-239         YT\n",
       "368  ES-BP-01-09    ES-BP-1\n",
       "377      YT-1042         YT\n",
       "381      YT-1033         YT\n",
       "382  ES-BP-01-04    ES-BP-1\n",
       "391  ES-BP-01-14    ES-BP-1\n",
       "404  ES-BP-01-20    ES-BP-1\n",
       "408  NO-BP-15-11   NO-BP-15\n",
       "411  LT-BP-12-06   LT-BP-12\n",
       "419  ES-BP-01-18    ES-BP-1\n",
       "430  ES-BP-01-22    ES-BP-1\n",
       "435  ES-BP-01-19    ES-BP-1\n",
       "440  FI-BP-19-06   FI-BP-19\n",
       "485  LT-BP-11-24   LT-BP-11\n",
       "493  ES-BP-01-07    ES-BP-1\n",
       "494       YT-249         YT\n",
       "504  ES-BP-01-21    ES-BP-1\n",
       "509  ES-BP-01-12    ES-BP-1\n",
       "531  ES-BP-01-03    ES-BP-1\n",
       "542  ES-BP-01-24    ES-BP-1\n",
       "547  SE-BP-18-12   SE-BP-18\n",
       "550  ES-BP-01-25    ES-BP-1\n",
       "554       YT-238         YT\n",
       "562      YT-1039         YT\n",
       "564  NO-BP-15-18   NO-BP-15\n",
       "569       YT-250         YT\n",
       "570  NO-BP-15-20   NO-BP-15"
      ]
     },
     "execution_count": 196,
     "metadata": {},
     "output_type": "execute_result"
    }
   ],
   "source": [
    "BETULA TEMPLATE FROM HERE ONWARDS\n",
    "\n",
    "\n",
    "\n",
    "\n",
    "#weirdos3 = coords3[:,0]>100\n",
    "#samples3[weirdos3]\n",
    "###NOTICE filter over PC1 axes [:,0]\n",
    "### Filter over PC2 [:,1]"
   ]
  },
  {
   "cell_type": "code",
   "execution_count": 197,
   "metadata": {},
   "outputs": [
    {
     "data": {
      "text/html": [
       "<div>\n",
       "<style scoped>\n",
       "    .dataframe tbody tr th:only-of-type {\n",
       "        vertical-align: middle;\n",
       "    }\n",
       "\n",
       "    .dataframe tbody tr th {\n",
       "        vertical-align: top;\n",
       "    }\n",
       "\n",
       "    .dataframe thead th {\n",
       "        text-align: right;\n",
       "    }\n",
       "</style>\n",
       "<table border=\"1\" class=\"dataframe\">\n",
       "  <thead>\n",
       "    <tr style=\"text-align: right;\">\n",
       "      <th></th>\n",
       "      <th>ID</th>\n",
       "      <th>Population</th>\n",
       "    </tr>\n",
       "  </thead>\n",
       "  <tbody>\n",
       "    <tr>\n",
       "      <th>0</th>\n",
       "      <td>CH-BP-05-01</td>\n",
       "      <td>CH-BP-5</td>\n",
       "    </tr>\n",
       "    <tr>\n",
       "      <th>1</th>\n",
       "      <td>DE-BP-10-13</td>\n",
       "      <td>DE-BP-10</td>\n",
       "    </tr>\n",
       "    <tr>\n",
       "      <th>2</th>\n",
       "      <td>GB-BP-14-27</td>\n",
       "      <td>GB-BP-14</td>\n",
       "    </tr>\n",
       "    <tr>\n",
       "      <th>3</th>\n",
       "      <td>NO-BP-15-06</td>\n",
       "      <td>NO-BP-15</td>\n",
       "    </tr>\n",
       "    <tr>\n",
       "      <th>4</th>\n",
       "      <td>IT-BP-08-02</td>\n",
       "      <td>IT-BP-8</td>\n",
       "    </tr>\n",
       "    <tr>\n",
       "      <th>...</th>\n",
       "      <td>...</td>\n",
       "      <td>...</td>\n",
       "    </tr>\n",
       "    <tr>\n",
       "      <th>571</th>\n",
       "      <td>DE-BP-09-08</td>\n",
       "      <td>DE-BP-9</td>\n",
       "    </tr>\n",
       "    <tr>\n",
       "      <th>572</th>\n",
       "      <td>IT-BP-08-17</td>\n",
       "      <td>IT-BP-8</td>\n",
       "    </tr>\n",
       "    <tr>\n",
       "      <th>573</th>\n",
       "      <td>CH-BP-05-15</td>\n",
       "      <td>CH-BP-5</td>\n",
       "    </tr>\n",
       "    <tr>\n",
       "      <th>574</th>\n",
       "      <td>CH-BP-05-09</td>\n",
       "      <td>CH-BP-5</td>\n",
       "    </tr>\n",
       "    <tr>\n",
       "      <th>575</th>\n",
       "      <td>GB-BP-13-13</td>\n",
       "      <td>GB-BP-13</td>\n",
       "    </tr>\n",
       "  </tbody>\n",
       "</table>\n",
       "<p>517 rows × 2 columns</p>\n",
       "</div>"
      ],
      "text/plain": [
       "              ID Population\n",
       "0    CH-BP-05-01    CH-BP-5\n",
       "1    DE-BP-10-13   DE-BP-10\n",
       "2    GB-BP-14-27   GB-BP-14\n",
       "3    NO-BP-15-06   NO-BP-15\n",
       "4    IT-BP-08-02    IT-BP-8\n",
       "..           ...        ...\n",
       "571  DE-BP-09-08    DE-BP-9\n",
       "572  IT-BP-08-17    IT-BP-8\n",
       "573  CH-BP-05-15    CH-BP-5\n",
       "574  CH-BP-05-09    CH-BP-5\n",
       "575  GB-BP-13-13   GB-BP-13\n",
       "\n",
       "[517 rows x 2 columns]"
      ]
     },
     "execution_count": 197,
     "metadata": {},
     "output_type": "execute_result"
    }
   ],
   "source": [
    "samples4 = samples3[~weirdos3]\n",
    "samples4"
   ]
  },
  {
   "cell_type": "code",
   "execution_count": 198,
   "metadata": {},
   "outputs": [
    {
     "data": {
      "text/html": [
       "<div class=\"allel allel-DisplayAs2D\"><span>&lt;GenotypeChunkedArray shape=(690551, 517, 2) dtype=int8 chunks=(2698, 517, 2)\n",
       "   nbytes=681.0M cbytes=75.0M cratio=9.1\n",
       "   compression=blosc compression_opts={'cname': 'lz4', 'clevel': 5, 'shuffle': 1, 'blocksize': 0}\n",
       "   values=zarr.core.Array&gt;</span><table><thead><tr><th></th><th style=\"text-align: center\">0</th><th style=\"text-align: center\">1</th><th style=\"text-align: center\">2</th><th style=\"text-align: center\">3</th><th style=\"text-align: center\">4</th><th style=\"text-align: center\">...</th><th style=\"text-align: center\">512</th><th style=\"text-align: center\">513</th><th style=\"text-align: center\">514</th><th style=\"text-align: center\">515</th><th style=\"text-align: center\">516</th></tr></thead><tbody><tr><th style=\"text-align: center; background-color: white; border-right: 1px solid black; \">0</th><td style=\"text-align: center\">0/0</td><td style=\"text-align: center\">0/0</td><td style=\"text-align: center\">0/0</td><td style=\"text-align: center\">0/0</td><td style=\"text-align: center\">0/0</td><td style=\"text-align: center\">...</td><td style=\"text-align: center\">0/0</td><td style=\"text-align: center\">0/0</td><td style=\"text-align: center\">0/0</td><td style=\"text-align: center\">0/0</td><td style=\"text-align: center\">0/0</td></tr><tr><th style=\"text-align: center; background-color: white; border-right: 1px solid black; \">1</th><td style=\"text-align: center\">0/0</td><td style=\"text-align: center\">0/0</td><td style=\"text-align: center\">0/0</td><td style=\"text-align: center\">0/0</td><td style=\"text-align: center\">0/0</td><td style=\"text-align: center\">...</td><td style=\"text-align: center\">0/0</td><td style=\"text-align: center\">0/0</td><td style=\"text-align: center\">0/0</td><td style=\"text-align: center\">0/0</td><td style=\"text-align: center\">0/0</td></tr><tr><th style=\"text-align: center; background-color: white; border-right: 1px solid black; \">2</th><td style=\"text-align: center\">0/0</td><td style=\"text-align: center\">0/0</td><td style=\"text-align: center\">0/0</td><td style=\"text-align: center\">0/0</td><td style=\"text-align: center\">0/0</td><td style=\"text-align: center\">...</td><td style=\"text-align: center\">0/0</td><td style=\"text-align: center\">0/0</td><td style=\"text-align: center\">0/0</td><td style=\"text-align: center\">0/0</td><td style=\"text-align: center\">0/0</td></tr><tr><th style=\"text-align: center; background-color: white; border-right: 1px solid black; \">...</th><td style=\"text-align: center\" colspan=\"12\">...</td></tr><tr><th style=\"text-align: center; background-color: white; border-right: 1px solid black; \">690548</th><td style=\"text-align: center\">0/0</td><td style=\"text-align: center\">0/0</td><td style=\"text-align: center\">0/0</td><td style=\"text-align: center\">0/0</td><td style=\"text-align: center\">0/0</td><td style=\"text-align: center\">...</td><td style=\"text-align: center\">0/0</td><td style=\"text-align: center\">0/0</td><td style=\"text-align: center\">0/0</td><td style=\"text-align: center\">0/0</td><td style=\"text-align: center\">0/0</td></tr><tr><th style=\"text-align: center; background-color: white; border-right: 1px solid black; \">690549</th><td style=\"text-align: center\">0/0</td><td style=\"text-align: center\">0/0</td><td style=\"text-align: center\">0/0</td><td style=\"text-align: center\">0/0</td><td style=\"text-align: center\">0/0</td><td style=\"text-align: center\">...</td><td style=\"text-align: center\">0/0</td><td style=\"text-align: center\">0/0</td><td style=\"text-align: center\">0/0</td><td style=\"text-align: center\">0/0</td><td style=\"text-align: center\">0/0</td></tr><tr><th style=\"text-align: center; background-color: white; border-right: 1px solid black; \">690550</th><td style=\"text-align: center\">0/0</td><td style=\"text-align: center\">0/0</td><td style=\"text-align: center\">0/0</td><td style=\"text-align: center\">0/0</td><td style=\"text-align: center\">0/0</td><td style=\"text-align: center\">...</td><td style=\"text-align: center\">0/0</td><td style=\"text-align: center\">0/0</td><td style=\"text-align: center\">0/0</td><td style=\"text-align: center\">0/0</td><td style=\"text-align: center\">0/0</td></tr></tbody></table></div>"
      ],
      "text/plain": [
       "<GenotypeChunkedArray shape=(690551, 517, 2) dtype=int8 chunks=(2698, 517, 2)\n",
       "   nbytes=681.0M cbytes=75.0M cratio=9.1\n",
       "   compression=blosc compression_opts={'cname': 'lz4', 'clevel': 5, 'shuffle': 1, 'blocksize': 0}\n",
       "   values=zarr.core.Array>"
      ]
     },
     "execution_count": 198,
     "metadata": {},
     "output_type": "execute_result"
    }
   ],
   "source": [
    "allT = np.repeat(True, len(genotypes_subset_4))\n",
    "genotypes_subset_5 = genotypes_subset_4.subset(allT, ~weirdos3)\n",
    "genotypes_subset_5"
   ]
  },
  {
   "cell_type": "code",
   "execution_count": 199,
   "metadata": {},
   "outputs": [],
   "source": [
    "ac5 = genotypes_subset_5.count_alleles()\n",
    "flt5 = (ac5[:, :2].min(axis=1) > 1)\n",
    "gf5 = genotypes_subset_5.compress(flt5, axis=0)\n",
    "gn = gf5.to_n_alt()"
   ]
  },
  {
   "cell_type": "code",
   "execution_count": 200,
   "metadata": {},
   "outputs": [],
   "source": [
    "coords4, model4 = allel.pca(gn, n_components=10, scaler='patterson')"
   ]
  },
  {
   "cell_type": "code",
   "execution_count": 201,
   "metadata": {},
   "outputs": [],
   "source": [
    "def fig_pca(coords, model, title, sample_population=None):\n",
    "    if sample_population is None:\n",
    "        sample_population = samples4.Population.values\n",
    "    # plot coords for PCs 1 vs 2, 3 vs 4\n",
    "    fig = plt.figure(figsize=(10, 5))\n",
    "    ax = fig.add_subplot(1, 2, 1)\n",
    "    plot_pca_coords(coords, model, 0, 1, ax, sample_population)\n",
    "    ax = fig.add_subplot(1, 2, 2)\n",
    "    plot_pca_coords(coords, model, 2, 3, ax, sample_population)\n",
    "    ax.legend(bbox_to_anchor=(1, 1), loc='upper left')\n",
    "    fig.suptitle(title, y=1.02)\n",
    "    fig.tight_layout()"
   ]
  },
  {
   "cell_type": "code",
   "execution_count": 202,
   "metadata": {},
   "outputs": [
    {
     "data": {
      "image/png": "[encoded data removed]",
      "text/plain": [
       "<Figure size 720x360 with 2 Axes>"
      ]
     },
     "metadata": {},
     "output_type": "display_data"
    }
   ],
   "source": [
    "fig_pca(coords4, model4, 'Figure 1. Conventional PCA.')"
   ]
  },
  {
   "cell_type": "raw",
   "metadata": {},
   "source": [
    "### Check the % of variance explained by the PCA, 0.9 and 0.8% may not be significant enough to \n",
    "###subset once more the samples"
   ]
  }
 ],
 "metadata": {
  "kernelspec": {
   "display_name": "Python 3",
   "language": "python",
   "name": "python3"
  },
  "language_info": {
   "codemirror_mode": {
    "name": "ipython",
    "version": 3
   },
   "file_extension": ".py",
   "mimetype": "text/x-python",
   "name": "python",
   "nbconvert_exporter": "python",
   "pygments_lexer": "ipython3",
   "version": "3.8.3"
  }
 },
 "nbformat": 4,
 "nbformat_minor": 2
}
